{
 "cells": [
  {
   "cell_type": "markdown",
   "metadata": {
    "collapsed": false
   },
   "source": []
  },
  {
   "cell_type": "code",
   "execution_count": 4,
   "metadata": {
    "collapsed": true
   },
   "outputs": [],
   "source": [
    "from n2p2.auto_sf.sfparamgen import SymFuncParamGenerator"
   ]
  },
  {
   "cell_type": "code",
   "execution_count": 5,
   "metadata": {
    "collapsed": false,
    "pycharm": {
     "name": "#%%\n"
    }
   },
   "outputs": [
    {
     "name": "stdout",
     "output_type": "stream",
     "text": [
      "symfunction_short Si 2 Si 1.492E+01 1.000E+00 1.000E+01\n",
      "symfunction_short Si 2 Si 9.411E+00 1.259E+00 1.000E+01\n",
      "symfunction_short Si 2 Si 5.938E+00 1.585E+00 1.000E+01\n",
      "symfunction_short Si 2 Si 3.747E+00 1.995E+00 1.000E+01\n",
      "symfunction_short Si 2 Si 2.364E+00 2.512E+00 1.000E+01\n",
      "symfunction_short Si 2 Si 1.492E+00 3.162E+00 1.000E+01\n",
      "symfunction_short Si 2 Si 9.411E-01 3.981E+00 1.000E+01\n",
      "symfunction_short Si 2 Si 5.938E-01 5.012E+00 1.000E+01\n",
      "symfunction_short Si 2 Si 3.747E-01 6.310E+00 1.000E+01\n",
      "symfunction_short Si 2 Si 2.364E-01 7.943E+00 1.000E+01\n",
      "\n",
      "symfunction_short Si 2 Si 1.492E+01 1.000E+00 1.000E+01\n",
      "symfunction_short Si 2 Si 9.411E+00 1.259E+00 1.000E+01\n",
      "symfunction_short Si 2 Si 5.938E+00 1.585E+00 1.000E+01\n",
      "symfunction_short Si 2 Si 3.747E+00 1.995E+00 1.000E+01\n",
      "symfunction_short Si 2 Si 2.364E+00 2.512E+00 1.000E+01\n",
      "symfunction_short Si 2 Si 1.492E+00 3.162E+00 1.000E+01\n",
      "symfunction_short Si 2 Si 9.411E-01 3.981E+00 1.000E+01\n",
      "symfunction_short Si 2 Si 5.938E-01 5.012E+00 1.000E+01\n",
      "symfunction_short Si 2 Si 3.747E-01 6.310E+00 1.000E+01\n",
      "symfunction_short Si 2 Si 2.364E-01 7.943E+00 1.000E+01\n",
      "\n",
      "symfunction_short Si 2 Si 1.492E+01 1.000E+00 1.000E+01\n",
      "symfunction_short Si 2 Si 9.411E+00 1.259E+00 1.000E+01\n",
      "symfunction_short Si 2 Si 5.938E+00 1.585E+00 1.000E+01\n",
      "symfunction_short Si 2 Si 3.747E+00 1.995E+00 1.000E+01\n",
      "symfunction_short Si 2 Si 2.364E+00 2.512E+00 1.000E+01\n",
      "symfunction_short Si 2 Si 1.492E+00 3.162E+00 1.000E+01\n",
      "symfunction_short Si 2 Si 9.411E-01 3.981E+00 1.000E+01\n",
      "symfunction_short Si 2 Si 5.938E-01 5.012E+00 1.000E+01\n",
      "symfunction_short Si 2 Si 3.747E-01 6.310E+00 1.000E+01\n",
      "symfunction_short Si 2 Si 2.364E-01 7.943E+00 1.000E+01\n",
      "\n",
      "symfunction_short Si 2 Si 1.492E+01 1.000E+00 1.000E+01\n",
      "symfunction_short Si 2 Si 9.411E+00 1.259E+00 1.000E+01\n",
      "symfunction_short Si 2 Si 5.938E+00 1.585E+00 1.000E+01\n",
      "symfunction_short Si 2 Si 3.747E+00 1.995E+00 1.000E+01\n",
      "symfunction_short Si 2 Si 2.364E+00 2.512E+00 1.000E+01\n",
      "symfunction_short Si 2 Si 1.492E+00 3.162E+00 1.000E+01\n",
      "symfunction_short Si 2 Si 9.411E-01 3.981E+00 1.000E+01\n",
      "symfunction_short Si 2 Si 5.938E-01 5.012E+00 1.000E+01\n",
      "symfunction_short Si 2 Si 3.747E-01 6.310E+00 1.000E+01\n",
      "symfunction_short Si 2 Si 2.364E-01 7.943E+00 1.000E+01\n",
      "\n"
     ]
    }
   ],
   "source": [
    "myGenerator = SymFuncParamGenerator(elements=['Si', 'Si'], r_cutoff = 10)\n",
    "myGenerator.symfunc_type = 'radial'\n",
    "myGenerator.generate_radial_params(rule='imbalzano2018', mode='shift', nb_param_pairs=10)\n",
    "# myGenerator.write_settings_overview()\n",
    "myGenerator.write_parameter_strings()"
   ]
  },
  {
   "cell_type": "code",
   "execution_count": 2,
   "metadata": {
    "collapsed": false,
    "pycharm": {
     "name": "#%%\n"
    }
   },
   "outputs": [],
   "source": []
  },
  {
   "cell_type": "code",
   "execution_count": 2,
   "metadata": {
    "collapsed": false,
    "pycharm": {
     "name": "#%%\n"
    }
   },
   "outputs": [],
   "source": []
  },
  {
   "cell_type": "code",
   "execution_count": 4,
   "metadata": {
    "collapsed": false,
    "pycharm": {
     "name": "#%%\n"
    }
   },
   "outputs": [
    {
     "name": "stdout",
     "output_type": "stream",
     "text": [
      "#########################################################################\n",
      "# Wide angular symmetry function set, for elements ['Si', 'O']\n",
      "#########################################################################\n",
      "# r_cutoff       = 10\n",
      "# The following settings were used for generating sets\n",
      "# of values for the radial parameters r_shift and eta:\n",
      "# rule           = imbalzano2018\n",
      "# mode           = center\n",
      "# nb_param_pairs = 2\n",
      "# Sets of values for parameters:\n",
      "# r_shift_grid   = [0. 0.]\n",
      "# eta_grid       = [0.01 0.01]\n",
      "# lambdas        = [-1.  1.]\n",
      "# zetas          = [1. 6.]\n",
      "\n",
      "symfunction_short Si 9 Si Si 1.000E-02 -1 1.000E+00 1.000E+01 0.000E+00\n",
      "symfunction_short Si 9 Si Si 1.000E-02  1 1.000E+00 1.000E+01 0.000E+00\n",
      "symfunction_short Si 9 Si Si 1.000E-02 -1 6.000E+00 1.000E+01 0.000E+00\n",
      "symfunction_short Si 9 Si Si 1.000E-02  1 6.000E+00 1.000E+01 0.000E+00\n",
      "symfunction_short Si 9 Si Si 1.000E-02 -1 1.000E+00 1.000E+01 0.000E+00\n",
      "symfunction_short Si 9 Si Si 1.000E-02  1 1.000E+00 1.000E+01 0.000E+00\n",
      "symfunction_short Si 9 Si Si 1.000E-02 -1 6.000E+00 1.000E+01 0.000E+00\n",
      "symfunction_short Si 9 Si Si 1.000E-02  1 6.000E+00 1.000E+01 0.000E+00\n",
      "\n",
      "symfunction_short Si 9 Si O  1.000E-02 -1 1.000E+00 1.000E+01 0.000E+00\n",
      "symfunction_short Si 9 Si O  1.000E-02  1 1.000E+00 1.000E+01 0.000E+00\n",
      "symfunction_short Si 9 Si O  1.000E-02 -1 6.000E+00 1.000E+01 0.000E+00\n",
      "symfunction_short Si 9 Si O  1.000E-02  1 6.000E+00 1.000E+01 0.000E+00\n",
      "symfunction_short Si 9 Si O  1.000E-02 -1 1.000E+00 1.000E+01 0.000E+00\n",
      "symfunction_short Si 9 Si O  1.000E-02  1 1.000E+00 1.000E+01 0.000E+00\n",
      "symfunction_short Si 9 Si O  1.000E-02 -1 6.000E+00 1.000E+01 0.000E+00\n",
      "symfunction_short Si 9 Si O  1.000E-02  1 6.000E+00 1.000E+01 0.000E+00\n",
      "\n",
      "symfunction_short Si 9 O  O  1.000E-02 -1 1.000E+00 1.000E+01 0.000E+00\n",
      "symfunction_short Si 9 O  O  1.000E-02  1 1.000E+00 1.000E+01 0.000E+00\n",
      "symfunction_short Si 9 O  O  1.000E-02 -1 6.000E+00 1.000E+01 0.000E+00\n",
      "symfunction_short Si 9 O  O  1.000E-02  1 6.000E+00 1.000E+01 0.000E+00\n",
      "symfunction_short Si 9 O  O  1.000E-02 -1 1.000E+00 1.000E+01 0.000E+00\n",
      "symfunction_short Si 9 O  O  1.000E-02  1 1.000E+00 1.000E+01 0.000E+00\n",
      "symfunction_short Si 9 O  O  1.000E-02 -1 6.000E+00 1.000E+01 0.000E+00\n",
      "symfunction_short Si 9 O  O  1.000E-02  1 6.000E+00 1.000E+01 0.000E+00\n",
      "\n",
      "symfunction_short O  9 Si Si 1.000E-02 -1 1.000E+00 1.000E+01 0.000E+00\n",
      "symfunction_short O  9 Si Si 1.000E-02  1 1.000E+00 1.000E+01 0.000E+00\n",
      "symfunction_short O  9 Si Si 1.000E-02 -1 6.000E+00 1.000E+01 0.000E+00\n",
      "symfunction_short O  9 Si Si 1.000E-02  1 6.000E+00 1.000E+01 0.000E+00\n",
      "symfunction_short O  9 Si Si 1.000E-02 -1 1.000E+00 1.000E+01 0.000E+00\n",
      "symfunction_short O  9 Si Si 1.000E-02  1 1.000E+00 1.000E+01 0.000E+00\n",
      "symfunction_short O  9 Si Si 1.000E-02 -1 6.000E+00 1.000E+01 0.000E+00\n",
      "symfunction_short O  9 Si Si 1.000E-02  1 6.000E+00 1.000E+01 0.000E+00\n",
      "\n",
      "symfunction_short O  9 Si O  1.000E-02 -1 1.000E+00 1.000E+01 0.000E+00\n",
      "symfunction_short O  9 Si O  1.000E-02  1 1.000E+00 1.000E+01 0.000E+00\n",
      "symfunction_short O  9 Si O  1.000E-02 -1 6.000E+00 1.000E+01 0.000E+00\n",
      "symfunction_short O  9 Si O  1.000E-02  1 6.000E+00 1.000E+01 0.000E+00\n",
      "symfunction_short O  9 Si O  1.000E-02 -1 1.000E+00 1.000E+01 0.000E+00\n",
      "symfunction_short O  9 Si O  1.000E-02  1 1.000E+00 1.000E+01 0.000E+00\n",
      "symfunction_short O  9 Si O  1.000E-02 -1 6.000E+00 1.000E+01 0.000E+00\n",
      "symfunction_short O  9 Si O  1.000E-02  1 6.000E+00 1.000E+01 0.000E+00\n",
      "\n",
      "symfunction_short O  9 O  O  1.000E-02 -1 1.000E+00 1.000E+01 0.000E+00\n",
      "symfunction_short O  9 O  O  1.000E-02  1 1.000E+00 1.000E+01 0.000E+00\n",
      "symfunction_short O  9 O  O  1.000E-02 -1 6.000E+00 1.000E+01 0.000E+00\n",
      "symfunction_short O  9 O  O  1.000E-02  1 6.000E+00 1.000E+01 0.000E+00\n",
      "symfunction_short O  9 O  O  1.000E-02 -1 1.000E+00 1.000E+01 0.000E+00\n",
      "symfunction_short O  9 O  O  1.000E-02  1 1.000E+00 1.000E+01 0.000E+00\n",
      "symfunction_short O  9 O  O  1.000E-02 -1 6.000E+00 1.000E+01 0.000E+00\n",
      "symfunction_short O  9 O  O  1.000E-02  1 6.000E+00 1.000E+01 0.000E+00\n",
      "\n"
     ]
    }
   ],
   "source": [
    "myGenerator = SymFuncParamGenerator(elements=['Si', 'O'], r_cutoff = 10)\n",
    "myGenerator.symfunc_type = 'angular_wide'\n",
    "myGenerator.zetas = [1.0, 6]\n",
    "myGenerator.generate_radial_params(rule='imbalzano2018', mode='center', nb_param_pairs=2, r_lower=3)\n",
    "myGenerator.write_settings_overview()\n",
    "myGenerator.write_parameter_strings()\n",
    "with open('/Users/y1u0d2/Desktop/Lab/wip/test.txt', 'w') as f:\n",
    "    myGenerator.write_settings_overview(fileobj=f)\n",
    "    myGenerator.write_parameter_strings(fileobj=f)"
   ]
  },
  {
   "cell_type": "markdown",
   "metadata": {
    "collapsed": false
   },
   "source": []
  },
  {
   "cell_type": "code",
   "execution_count": 9,
   "metadata": {
    "collapsed": false,
    "pycharm": {
     "name": "#%%\n"
    }
   },
   "outputs": [
    {
     "name": "stdout",
     "output_type": "stream",
     "text": [
      "0.0000679283\n"
     ]
    }
   ],
   "source": [
    "from decimal import Decimal\n",
    "a = 6.792826e-05\n",
    "print(\"{0:.10f}\".format(Decimal(a)))"
   ]
  },
  {
   "cell_type": "code",
   "execution_count": null,
   "metadata": {
    "collapsed": false,
    "pycharm": {
     "name": "#%%\n"
    }
   },
   "outputs": [],
   "source": []
  }
 ],
 "metadata": {
  "kernelspec": {
   "display_name": "Python 3.10.4 ('ml')",
   "language": "python",
   "name": "python3"
  },
  "language_info": {
   "codemirror_mode": {
    "name": "ipython",
    "version": 3
   },
   "file_extension": ".py",
   "mimetype": "text/x-python",
   "name": "python",
   "nbconvert_exporter": "python",
   "pygments_lexer": "ipython3",
   "version": "3.10.4"
  },
  "vscode": {
   "interpreter": {
    "hash": "523738ac47dcf7681d48eb184ac702eac622ded297e68c9c931bbc5de5caff01"
   }
  }
 },
 "nbformat": 4,
 "nbformat_minor": 0
}
