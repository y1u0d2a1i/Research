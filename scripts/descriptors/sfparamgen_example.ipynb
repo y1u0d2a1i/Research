{
 "cells": [
  {
   "cell_type": "markdown",
   "source": [],
   "metadata": {
    "collapsed": false
   }
  },
  {
   "cell_type": "code",
   "execution_count": 1,
   "metadata": {
    "collapsed": true
   },
   "outputs": [],
   "source": [
    "from n2p2.auto_sf.sfparamgen import SymFuncParamGenerator"
   ]
  },
  {
   "cell_type": "code",
   "execution_count": 2,
   "outputs": [
    {
     "name": "stdout",
     "output_type": "stream",
     "text": [
      "#########################################################################\n",
      "# Radial symmetry function set, for elements ['Si', 'O']\n",
      "#########################################################################\n",
      "# r_cutoff       = 10.0\n",
      "# The following settings were used for generating sets\n",
      "# of values for the radial parameters r_shift and eta:\n",
      "# rule           = imbalzano2018\n",
      "# mode           = shift\n",
      "# nb_param_pairs = 7\n",
      "# Sets of values for parameters:\n",
      "# r_shift_grid   = [1.4286 1.8864 2.4909 3.2892 4.3433 5.7351 7.5731]\n",
      "# eta_grid       = [4.7712 2.7363 1.5693 0.9    0.5162 0.296  0.1698]\n",
      "\n",
      "symfunction_short Si 2 Si 4.771E+00 1.429E+00 1.000E+01\n",
      "symfunction_short Si 2 Si 2.736E+00 1.886E+00 1.000E+01\n",
      "symfunction_short Si 2 Si 1.569E+00 2.491E+00 1.000E+01\n",
      "symfunction_short Si 2 Si 9.000E-01 3.289E+00 1.000E+01\n",
      "symfunction_short Si 2 Si 5.162E-01 4.343E+00 1.000E+01\n",
      "symfunction_short Si 2 Si 2.960E-01 5.735E+00 1.000E+01\n",
      "symfunction_short Si 2 Si 1.698E-01 7.573E+00 1.000E+01\n",
      "\n",
      "symfunction_short Si 2 O  4.771E+00 1.429E+00 1.000E+01\n",
      "symfunction_short Si 2 O  2.736E+00 1.886E+00 1.000E+01\n",
      "symfunction_short Si 2 O  1.569E+00 2.491E+00 1.000E+01\n",
      "symfunction_short Si 2 O  9.000E-01 3.289E+00 1.000E+01\n",
      "symfunction_short Si 2 O  5.162E-01 4.343E+00 1.000E+01\n",
      "symfunction_short Si 2 O  2.960E-01 5.735E+00 1.000E+01\n",
      "symfunction_short Si 2 O  1.698E-01 7.573E+00 1.000E+01\n",
      "\n",
      "symfunction_short O  2 Si 4.771E+00 1.429E+00 1.000E+01\n",
      "symfunction_short O  2 Si 2.736E+00 1.886E+00 1.000E+01\n",
      "symfunction_short O  2 Si 1.569E+00 2.491E+00 1.000E+01\n",
      "symfunction_short O  2 Si 9.000E-01 3.289E+00 1.000E+01\n",
      "symfunction_short O  2 Si 5.162E-01 4.343E+00 1.000E+01\n",
      "symfunction_short O  2 Si 2.960E-01 5.735E+00 1.000E+01\n",
      "symfunction_short O  2 Si 1.698E-01 7.573E+00 1.000E+01\n",
      "\n",
      "symfunction_short O  2 O  4.771E+00 1.429E+00 1.000E+01\n",
      "symfunction_short O  2 O  2.736E+00 1.886E+00 1.000E+01\n",
      "symfunction_short O  2 O  1.569E+00 2.491E+00 1.000E+01\n",
      "symfunction_short O  2 O  9.000E-01 3.289E+00 1.000E+01\n",
      "symfunction_short O  2 O  5.162E-01 4.343E+00 1.000E+01\n",
      "symfunction_short O  2 O  2.960E-01 5.735E+00 1.000E+01\n",
      "symfunction_short O  2 O  1.698E-01 7.573E+00 1.000E+01\n",
      "\n"
     ]
    }
   ],
   "source": [
    "myGenerator = SymFuncParamGenerator(elements=['Si', 'O'], r_cutoff = 10.)\n",
    "myGenerator.symfunc_type = 'radial'\n",
    "myGenerator.generate_radial_params(rule='imbalzano2018', mode='shift', nb_param_pairs=7)\n",
    "myGenerator.write_settings_overview()\n",
    "myGenerator.write_parameter_strings()"
   ],
   "metadata": {
    "collapsed": false,
    "pycharm": {
     "name": "#%%\n"
    }
   }
  },
  {
   "cell_type": "code",
   "execution_count": 2,
   "outputs": [],
   "source": [],
   "metadata": {
    "collapsed": false,
    "pycharm": {
     "name": "#%%\n"
    }
   }
  },
  {
   "cell_type": "code",
   "execution_count": 2,
   "outputs": [],
   "source": [],
   "metadata": {
    "collapsed": false,
    "pycharm": {
     "name": "#%%\n"
    }
   }
  },
  {
   "cell_type": "code",
   "execution_count": 4,
   "outputs": [
    {
     "name": "stdout",
     "output_type": "stream",
     "text": [
      "#########################################################################\n",
      "# Wide angular symmetry function set, for elements ['Si', 'O']\n",
      "#########################################################################\n",
      "# r_cutoff       = 10\n",
      "# The following settings were used for generating sets\n",
      "# of values for the radial parameters r_shift and eta:\n",
      "# rule           = imbalzano2018\n",
      "# mode           = center\n",
      "# nb_param_pairs = 2\n",
      "# Sets of values for parameters:\n",
      "# r_shift_grid   = [0. 0.]\n",
      "# eta_grid       = [0.01 0.01]\n",
      "# lambdas        = [-1.  1.]\n",
      "# zetas          = [1. 6.]\n",
      "\n",
      "symfunction_short Si 9 Si Si 1.000E-02 -1 1.000E+00 1.000E+01 0.000E+00\n",
      "symfunction_short Si 9 Si Si 1.000E-02  1 1.000E+00 1.000E+01 0.000E+00\n",
      "symfunction_short Si 9 Si Si 1.000E-02 -1 6.000E+00 1.000E+01 0.000E+00\n",
      "symfunction_short Si 9 Si Si 1.000E-02  1 6.000E+00 1.000E+01 0.000E+00\n",
      "symfunction_short Si 9 Si Si 1.000E-02 -1 1.000E+00 1.000E+01 0.000E+00\n",
      "symfunction_short Si 9 Si Si 1.000E-02  1 1.000E+00 1.000E+01 0.000E+00\n",
      "symfunction_short Si 9 Si Si 1.000E-02 -1 6.000E+00 1.000E+01 0.000E+00\n",
      "symfunction_short Si 9 Si Si 1.000E-02  1 6.000E+00 1.000E+01 0.000E+00\n",
      "\n",
      "symfunction_short Si 9 Si O  1.000E-02 -1 1.000E+00 1.000E+01 0.000E+00\n",
      "symfunction_short Si 9 Si O  1.000E-02  1 1.000E+00 1.000E+01 0.000E+00\n",
      "symfunction_short Si 9 Si O  1.000E-02 -1 6.000E+00 1.000E+01 0.000E+00\n",
      "symfunction_short Si 9 Si O  1.000E-02  1 6.000E+00 1.000E+01 0.000E+00\n",
      "symfunction_short Si 9 Si O  1.000E-02 -1 1.000E+00 1.000E+01 0.000E+00\n",
      "symfunction_short Si 9 Si O  1.000E-02  1 1.000E+00 1.000E+01 0.000E+00\n",
      "symfunction_short Si 9 Si O  1.000E-02 -1 6.000E+00 1.000E+01 0.000E+00\n",
      "symfunction_short Si 9 Si O  1.000E-02  1 6.000E+00 1.000E+01 0.000E+00\n",
      "\n",
      "symfunction_short Si 9 O  O  1.000E-02 -1 1.000E+00 1.000E+01 0.000E+00\n",
      "symfunction_short Si 9 O  O  1.000E-02  1 1.000E+00 1.000E+01 0.000E+00\n",
      "symfunction_short Si 9 O  O  1.000E-02 -1 6.000E+00 1.000E+01 0.000E+00\n",
      "symfunction_short Si 9 O  O  1.000E-02  1 6.000E+00 1.000E+01 0.000E+00\n",
      "symfunction_short Si 9 O  O  1.000E-02 -1 1.000E+00 1.000E+01 0.000E+00\n",
      "symfunction_short Si 9 O  O  1.000E-02  1 1.000E+00 1.000E+01 0.000E+00\n",
      "symfunction_short Si 9 O  O  1.000E-02 -1 6.000E+00 1.000E+01 0.000E+00\n",
      "symfunction_short Si 9 O  O  1.000E-02  1 6.000E+00 1.000E+01 0.000E+00\n",
      "\n",
      "symfunction_short O  9 Si Si 1.000E-02 -1 1.000E+00 1.000E+01 0.000E+00\n",
      "symfunction_short O  9 Si Si 1.000E-02  1 1.000E+00 1.000E+01 0.000E+00\n",
      "symfunction_short O  9 Si Si 1.000E-02 -1 6.000E+00 1.000E+01 0.000E+00\n",
      "symfunction_short O  9 Si Si 1.000E-02  1 6.000E+00 1.000E+01 0.000E+00\n",
      "symfunction_short O  9 Si Si 1.000E-02 -1 1.000E+00 1.000E+01 0.000E+00\n",
      "symfunction_short O  9 Si Si 1.000E-02  1 1.000E+00 1.000E+01 0.000E+00\n",
      "symfunction_short O  9 Si Si 1.000E-02 -1 6.000E+00 1.000E+01 0.000E+00\n",
      "symfunction_short O  9 Si Si 1.000E-02  1 6.000E+00 1.000E+01 0.000E+00\n",
      "\n",
      "symfunction_short O  9 Si O  1.000E-02 -1 1.000E+00 1.000E+01 0.000E+00\n",
      "symfunction_short O  9 Si O  1.000E-02  1 1.000E+00 1.000E+01 0.000E+00\n",
      "symfunction_short O  9 Si O  1.000E-02 -1 6.000E+00 1.000E+01 0.000E+00\n",
      "symfunction_short O  9 Si O  1.000E-02  1 6.000E+00 1.000E+01 0.000E+00\n",
      "symfunction_short O  9 Si O  1.000E-02 -1 1.000E+00 1.000E+01 0.000E+00\n",
      "symfunction_short O  9 Si O  1.000E-02  1 1.000E+00 1.000E+01 0.000E+00\n",
      "symfunction_short O  9 Si O  1.000E-02 -1 6.000E+00 1.000E+01 0.000E+00\n",
      "symfunction_short O  9 Si O  1.000E-02  1 6.000E+00 1.000E+01 0.000E+00\n",
      "\n",
      "symfunction_short O  9 O  O  1.000E-02 -1 1.000E+00 1.000E+01 0.000E+00\n",
      "symfunction_short O  9 O  O  1.000E-02  1 1.000E+00 1.000E+01 0.000E+00\n",
      "symfunction_short O  9 O  O  1.000E-02 -1 6.000E+00 1.000E+01 0.000E+00\n",
      "symfunction_short O  9 O  O  1.000E-02  1 6.000E+00 1.000E+01 0.000E+00\n",
      "symfunction_short O  9 O  O  1.000E-02 -1 1.000E+00 1.000E+01 0.000E+00\n",
      "symfunction_short O  9 O  O  1.000E-02  1 1.000E+00 1.000E+01 0.000E+00\n",
      "symfunction_short O  9 O  O  1.000E-02 -1 6.000E+00 1.000E+01 0.000E+00\n",
      "symfunction_short O  9 O  O  1.000E-02  1 6.000E+00 1.000E+01 0.000E+00\n",
      "\n"
     ]
    }
   ],
   "source": [
    "myGenerator = SymFuncParamGenerator(elements=['Si', 'O'], r_cutoff = 10)\n",
    "myGenerator.symfunc_type = 'angular_wide'\n",
    "myGenerator.zetas = [1.0, 6]\n",
    "myGenerator.generate_radial_params(rule='imbalzano2018', mode='center', nb_param_pairs=2, r_lower=3)\n",
    "myGenerator.write_settings_overview()\n",
    "myGenerator.write_parameter_strings()\n",
    "with open('/Users/y1u0d2/Desktop/Lab/wip/test.txt', 'w') as f:\n",
    "    myGenerator.write_settings_overview(fileobj=f)\n",
    "    myGenerator.write_parameter_strings(fileobj=f)"
   ],
   "metadata": {
    "collapsed": false,
    "pycharm": {
     "name": "#%%\n"
    }
   }
  },
  {
   "cell_type": "markdown",
   "source": [],
   "metadata": {
    "collapsed": false
   }
  },
  {
   "cell_type": "code",
   "execution_count": 9,
   "outputs": [
    {
     "name": "stdout",
     "output_type": "stream",
     "text": [
      "0.0000679283\n"
     ]
    }
   ],
   "source": [
    "from decimal import Decimal\n",
    "a = 6.792826e-05\n",
    "print(\"{0:.10f}\".format(Decimal(a)))"
   ],
   "metadata": {
    "collapsed": false,
    "pycharm": {
     "name": "#%%\n"
    }
   }
  },
  {
   "cell_type": "code",
   "execution_count": null,
   "outputs": [],
   "source": [],
   "metadata": {
    "collapsed": false,
    "pycharm": {
     "name": "#%%\n"
    }
   }
  }
 ],
 "metadata": {
  "kernelspec": {
   "display_name": "Python 3",
   "language": "python",
   "name": "python3"
  },
  "language_info": {
   "codemirror_mode": {
    "name": "ipython",
    "version": 2
   },
   "file_extension": ".py",
   "mimetype": "text/x-python",
   "name": "python",
   "nbconvert_exporter": "python",
   "pygments_lexer": "ipython2",
   "version": "2.7.6"
  }
 },
 "nbformat": 4,
 "nbformat_minor": 0
}