{
 "cells": [
  {
   "cell_type": "markdown",
   "source": [],
   "metadata": {
    "collapsed": false
   }
  },
  {
   "cell_type": "code",
   "execution_count": 2,
   "metadata": {
    "collapsed": true
   },
   "outputs": [],
   "source": [
    "from n2p2.auto_sf.sfparamgen import SymFuncParamGenerator"
   ]
  },
  {
   "cell_type": "code",
   "execution_count": 3,
   "outputs": [
    {
     "name": "stdout",
     "output_type": "stream",
     "text": [
      "symfunction_short Si 2 Si 4.771E+00 1.429E+00 1.000E+01\n",
      "symfunction_short Si 2 Si 2.736E+00 1.886E+00 1.000E+01\n",
      "symfunction_short Si 2 Si 1.569E+00 2.491E+00 1.000E+01\n",
      "symfunction_short Si 2 Si 9.000E-01 3.289E+00 1.000E+01\n",
      "symfunction_short Si 2 Si 5.162E-01 4.343E+00 1.000E+01\n",
      "symfunction_short Si 2 Si 2.960E-01 5.735E+00 1.000E+01\n",
      "symfunction_short Si 2 Si 1.698E-01 7.573E+00 1.000E+01\n",
      "\n",
      "symfunction_short Si 2 O  4.771E+00 1.429E+00 1.000E+01\n",
      "symfunction_short Si 2 O  2.736E+00 1.886E+00 1.000E+01\n",
      "symfunction_short Si 2 O  1.569E+00 2.491E+00 1.000E+01\n",
      "symfunction_short Si 2 O  9.000E-01 3.289E+00 1.000E+01\n",
      "symfunction_short Si 2 O  5.162E-01 4.343E+00 1.000E+01\n",
      "symfunction_short Si 2 O  2.960E-01 5.735E+00 1.000E+01\n",
      "symfunction_short Si 2 O  1.698E-01 7.573E+00 1.000E+01\n",
      "\n",
      "symfunction_short O  2 Si 4.771E+00 1.429E+00 1.000E+01\n",
      "symfunction_short O  2 Si 2.736E+00 1.886E+00 1.000E+01\n",
      "symfunction_short O  2 Si 1.569E+00 2.491E+00 1.000E+01\n",
      "symfunction_short O  2 Si 9.000E-01 3.289E+00 1.000E+01\n",
      "symfunction_short O  2 Si 5.162E-01 4.343E+00 1.000E+01\n",
      "symfunction_short O  2 Si 2.960E-01 5.735E+00 1.000E+01\n",
      "symfunction_short O  2 Si 1.698E-01 7.573E+00 1.000E+01\n",
      "\n",
      "symfunction_short O  2 O  4.771E+00 1.429E+00 1.000E+01\n",
      "symfunction_short O  2 O  2.736E+00 1.886E+00 1.000E+01\n",
      "symfunction_short O  2 O  1.569E+00 2.491E+00 1.000E+01\n",
      "symfunction_short O  2 O  9.000E-01 3.289E+00 1.000E+01\n",
      "symfunction_short O  2 O  5.162E-01 4.343E+00 1.000E+01\n",
      "symfunction_short O  2 O  2.960E-01 5.735E+00 1.000E+01\n",
      "symfunction_short O  2 O  1.698E-01 7.573E+00 1.000E+01\n",
      "\n"
     ]
    }
   ],
   "source": [
    "myGenerator = SymFuncParamGenerator(elements=['Si', 'O'], r_cutoff = 10.)\n",
    "myGenerator.symfunc_type = 'radial'\n",
    "myGenerator.generate_radial_params(rule='imbalzano2018', mode='shift', nb_param_pairs=7)\n",
    "myGenerator.write_parameter_strings()"
   ],
   "metadata": {
    "collapsed": false,
    "pycharm": {
     "name": "#%%\n"
    }
   }
  },
  {
   "cell_type": "code",
   "execution_count": 3,
   "outputs": [],
   "source": [],
   "metadata": {
    "collapsed": false,
    "pycharm": {
     "name": "#%%\n"
    }
   }
  },
  {
   "cell_type": "code",
   "execution_count": 3,
   "outputs": [],
   "source": [],
   "metadata": {
    "collapsed": false,
    "pycharm": {
     "name": "#%%\n"
    }
   }
  },
  {
   "cell_type": "code",
   "execution_count": 4,
   "outputs": [
    {
     "name": "stdout",
     "output_type": "stream",
     "text": [
      "#########################################################################\n",
      "# Narrow angular symmetry function set, for elements ['Si', 'O']\n",
      "#########################################################################\n",
      "# r_cutoff       = 5\n",
      "# The following settings were used for generating sets\n",
      "# of values for the radial parameters r_shift and eta:\n",
      "# rule           = imbalzano2018\n",
      "# mode           = center\n",
      "# nb_param_pairs = 2\n",
      "# Sets of values for parameters:\n",
      "# r_shift_grid   = [0. 0.]\n",
      "# eta_grid       = [0.04 0.04]\n",
      "# lambdas        = [-1.  1.]\n",
      "# zetas          = [1. 6.]\n",
      "\n",
      "symfunction_short Si 3 Si Si 4.000E-02 -1 1.000E+00 5.000E+00 0.000E+00\n",
      "symfunction_short Si 3 Si Si 4.000E-02  1 1.000E+00 5.000E+00 0.000E+00\n",
      "symfunction_short Si 3 Si Si 4.000E-02 -1 6.000E+00 5.000E+00 0.000E+00\n",
      "symfunction_short Si 3 Si Si 4.000E-02  1 6.000E+00 5.000E+00 0.000E+00\n",
      "symfunction_short Si 3 Si Si 4.000E-02 -1 1.000E+00 5.000E+00 0.000E+00\n",
      "symfunction_short Si 3 Si Si 4.000E-02  1 1.000E+00 5.000E+00 0.000E+00\n",
      "symfunction_short Si 3 Si Si 4.000E-02 -1 6.000E+00 5.000E+00 0.000E+00\n",
      "symfunction_short Si 3 Si Si 4.000E-02  1 6.000E+00 5.000E+00 0.000E+00\n",
      "\n",
      "symfunction_short Si 3 Si O  4.000E-02 -1 1.000E+00 5.000E+00 0.000E+00\n",
      "symfunction_short Si 3 Si O  4.000E-02  1 1.000E+00 5.000E+00 0.000E+00\n",
      "symfunction_short Si 3 Si O  4.000E-02 -1 6.000E+00 5.000E+00 0.000E+00\n",
      "symfunction_short Si 3 Si O  4.000E-02  1 6.000E+00 5.000E+00 0.000E+00\n",
      "symfunction_short Si 3 Si O  4.000E-02 -1 1.000E+00 5.000E+00 0.000E+00\n",
      "symfunction_short Si 3 Si O  4.000E-02  1 1.000E+00 5.000E+00 0.000E+00\n",
      "symfunction_short Si 3 Si O  4.000E-02 -1 6.000E+00 5.000E+00 0.000E+00\n",
      "symfunction_short Si 3 Si O  4.000E-02  1 6.000E+00 5.000E+00 0.000E+00\n",
      "\n",
      "symfunction_short Si 3 O  O  4.000E-02 -1 1.000E+00 5.000E+00 0.000E+00\n",
      "symfunction_short Si 3 O  O  4.000E-02  1 1.000E+00 5.000E+00 0.000E+00\n",
      "symfunction_short Si 3 O  O  4.000E-02 -1 6.000E+00 5.000E+00 0.000E+00\n",
      "symfunction_short Si 3 O  O  4.000E-02  1 6.000E+00 5.000E+00 0.000E+00\n",
      "symfunction_short Si 3 O  O  4.000E-02 -1 1.000E+00 5.000E+00 0.000E+00\n",
      "symfunction_short Si 3 O  O  4.000E-02  1 1.000E+00 5.000E+00 0.000E+00\n",
      "symfunction_short Si 3 O  O  4.000E-02 -1 6.000E+00 5.000E+00 0.000E+00\n",
      "symfunction_short Si 3 O  O  4.000E-02  1 6.000E+00 5.000E+00 0.000E+00\n",
      "\n",
      "symfunction_short O  3 Si Si 4.000E-02 -1 1.000E+00 5.000E+00 0.000E+00\n",
      "symfunction_short O  3 Si Si 4.000E-02  1 1.000E+00 5.000E+00 0.000E+00\n",
      "symfunction_short O  3 Si Si 4.000E-02 -1 6.000E+00 5.000E+00 0.000E+00\n",
      "symfunction_short O  3 Si Si 4.000E-02  1 6.000E+00 5.000E+00 0.000E+00\n",
      "symfunction_short O  3 Si Si 4.000E-02 -1 1.000E+00 5.000E+00 0.000E+00\n",
      "symfunction_short O  3 Si Si 4.000E-02  1 1.000E+00 5.000E+00 0.000E+00\n",
      "symfunction_short O  3 Si Si 4.000E-02 -1 6.000E+00 5.000E+00 0.000E+00\n",
      "symfunction_short O  3 Si Si 4.000E-02  1 6.000E+00 5.000E+00 0.000E+00\n",
      "\n",
      "symfunction_short O  3 Si O  4.000E-02 -1 1.000E+00 5.000E+00 0.000E+00\n",
      "symfunction_short O  3 Si O  4.000E-02  1 1.000E+00 5.000E+00 0.000E+00\n",
      "symfunction_short O  3 Si O  4.000E-02 -1 6.000E+00 5.000E+00 0.000E+00\n",
      "symfunction_short O  3 Si O  4.000E-02  1 6.000E+00 5.000E+00 0.000E+00\n",
      "symfunction_short O  3 Si O  4.000E-02 -1 1.000E+00 5.000E+00 0.000E+00\n",
      "symfunction_short O  3 Si O  4.000E-02  1 1.000E+00 5.000E+00 0.000E+00\n",
      "symfunction_short O  3 Si O  4.000E-02 -1 6.000E+00 5.000E+00 0.000E+00\n",
      "symfunction_short O  3 Si O  4.000E-02  1 6.000E+00 5.000E+00 0.000E+00\n",
      "\n",
      "symfunction_short O  3 O  O  4.000E-02 -1 1.000E+00 5.000E+00 0.000E+00\n",
      "symfunction_short O  3 O  O  4.000E-02  1 1.000E+00 5.000E+00 0.000E+00\n",
      "symfunction_short O  3 O  O  4.000E-02 -1 6.000E+00 5.000E+00 0.000E+00\n",
      "symfunction_short O  3 O  O  4.000E-02  1 6.000E+00 5.000E+00 0.000E+00\n",
      "symfunction_short O  3 O  O  4.000E-02 -1 1.000E+00 5.000E+00 0.000E+00\n",
      "symfunction_short O  3 O  O  4.000E-02  1 1.000E+00 5.000E+00 0.000E+00\n",
      "symfunction_short O  3 O  O  4.000E-02 -1 6.000E+00 5.000E+00 0.000E+00\n",
      "symfunction_short O  3 O  O  4.000E-02  1 6.000E+00 5.000E+00 0.000E+00\n",
      "\n"
     ]
    },
    {
     "name": "stderr",
     "output_type": "stream",
     "text": [
      "/Users/y1u0d2/Desktop/Project/Research/n2p2/auto_sf/sfparamgen.py:330: UserWarning: The argument r_lower to method generate_radial_params will be ignored, since it is unused when calling the method with rule=\"imbalzano2018\".\n",
      "  warnings.warn(f'The argument r_lower to method'\n"
     ]
    }
   ],
   "source": [
    "myGenerator = SymFuncParamGenerator(elements=['Si', 'O'], r_cutoff = 5)\n",
    "myGenerator.symfunc_type = 'angular_narrow'\n",
    "myGenerator.zetas = [1.0, 6]\n",
    "myGenerator.generate_radial_params(rule='imbalzano2018', mode='center', nb_param_pairs=2, r_lower=3)\n",
    "myGenerator.write_settings_overview()\n",
    "myGenerator.write_parameter_strings()\n",
    "with open('/Users/y1u0d2/Desktop/Lab/wip/test.txt', 'w') as f:\n",
    "    myGenerator.write_settings_overview(fileobj=f)\n",
    "    myGenerator.write_parameter_strings(fileobj=f)"
   ],
   "metadata": {
    "collapsed": false,
    "pycharm": {
     "name": "#%%\n"
    }
   }
  },
  {
   "cell_type": "markdown",
   "source": [],
   "metadata": {
    "collapsed": false
   }
  },
  {
   "cell_type": "code",
   "execution_count": 8,
   "outputs": [],
   "source": [],
   "metadata": {
    "collapsed": false,
    "pycharm": {
     "name": "#%%\n"
    }
   }
  }
 ],
 "metadata": {
  "kernelspec": {
   "display_name": "Python 3",
   "language": "python",
   "name": "python3"
  },
  "language_info": {
   "codemirror_mode": {
    "name": "ipython",
    "version": 2
   },
   "file_extension": ".py",
   "mimetype": "text/x-python",
   "name": "python",
   "nbconvert_exporter": "python",
   "pygments_lexer": "ipython2",
   "version": "2.7.6"
  }
 },
 "nbformat": 4,
 "nbformat_minor": 0
}