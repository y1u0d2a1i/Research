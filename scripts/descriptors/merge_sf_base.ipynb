{
 "cells": [
  {
   "cell_type": "code",
   "execution_count": 8,
   "metadata": {
    "collapsed": true
   },
   "outputs": [],
   "source": [
    "import pandas as pd\n",
    "from rdf.merge_rdf_base import MergeBase\n",
    "\n",
    "sf_path = '/Users/y1u0d2/Desktop/Lab/result/sf/sf_csv/atom/concat_atom/concat_Si.csv'\n",
    "csv_path= '/Users/y1u0d2/Desktop/Lab/result/sf/sf_csv/atom/'"
   ]
  },
  {
   "cell_type": "code",
   "execution_count": 9,
   "outputs": [
    {
     "name": "stdout",
     "output_type": "stream",
     "text": [
      "stishovite 1 700 700\n",
      "alpha-critobalite 1 1150 1150\n",
      "beta-trydymite 1 1250 1250\n",
      "alpha-quartz 1 1100 1100\n",
      "coesite 1 1200 1200\n",
      "hex-trydymite 1 1000 1000\n",
      "Fdd2-beta-critobalite 1 1350 1350\n",
      "beta-quartz 1 800 800\n"
     ]
    }
   ],
   "source": [
    "obj = MergeBase()\n",
    "obj.merge_base(sf_path,is_save=True,save_dir=csv_path,save_file_name='concat_Si')"
   ],
   "metadata": {
    "collapsed": false,
    "pycharm": {
     "name": "#%%\n"
    }
   }
  },
  {
   "cell_type": "code",
   "execution_count": null,
   "outputs": [],
   "source": [],
   "metadata": {
    "collapsed": false,
    "pycharm": {
     "name": "#%%\n"
    }
   }
  }
 ],
 "metadata": {
  "kernelspec": {
   "display_name": "Python 3",
   "language": "python",
   "name": "python3"
  },
  "language_info": {
   "codemirror_mode": {
    "name": "ipython",
    "version": 2
   },
   "file_extension": ".py",
   "mimetype": "text/x-python",
   "name": "python",
   "nbconvert_exporter": "python",
   "pygments_lexer": "ipython2",
   "version": "2.7.6"
  }
 },
 "nbformat": 4,
 "nbformat_minor": 0
}