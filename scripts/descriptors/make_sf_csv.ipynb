{
 "cells": [
  {
   "cell_type": "code",
   "execution_count": 58,
   "metadata": {
    "collapsed": true
   },
   "outputs": [],
   "source": [
    "import pandas as pd\n",
    "import glob\n",
    "\n",
    "csv_path = '/Users/y1u0d2/desktop/Lab/result/rdf/rdf_result/format/all'"
   ]
  },
  {
   "cell_type": "code",
   "execution_count": 59,
   "outputs": [],
   "source": [
    "files = glob.glob(f'{csv_path}/*')\n",
    "file = files[0]"
   ],
   "metadata": {
    "collapsed": false,
    "pycharm": {
     "name": "#%%\n"
    }
   }
  },
  {
   "cell_type": "code",
   "execution_count": 60,
   "outputs": [
    {
     "name": "stdout",
     "output_type": "stream",
     "text": [
      "float違う\n",
      "float違う\n",
      "float違う\n",
      "float違う\n",
      "float違う\n"
     ]
    }
   ],
   "source": [
    "df = pd.read_csv(file)\n",
    "df_sf = pd.DataFrame(df.another_atom)\n",
    "df_sf['center_atom'] = df.center_atom\n",
    "df_sf['structure_idx'] = df.structure_idx\n",
    "df_sf['structure'] = df.name_of_structure\n",
    "\n",
    "arr = []\n",
    "# 開始取得\n",
    "for i, column in enumerate(df.columns):\n",
    "    try:\n",
    "        tmp = float(column)\n",
    "        arr.append(i)\n",
    "    except Exception as e:\n",
    "        continue\n",
    "start = arr[0]\n",
    "end = arr[-1]"
   ],
   "metadata": {
    "collapsed": false,
    "pycharm": {
     "name": "#%%\n"
    }
   }
  },
  {
   "cell_type": "code",
   "execution_count": 61,
   "outputs": [],
   "source": [
    "for num_column in df.columns[start:end+1]:\n",
    "    df[num_column] = df[num_column] * 1000\n",
    "df_sf['sum'] = df.iloc[:,start:end+1].sum(axis=1)"
   ],
   "metadata": {
    "collapsed": false,
    "pycharm": {
     "name": "#%%\n"
    }
   }
  },
  {
   "cell_type": "code",
   "execution_count": 56,
   "outputs": [],
   "source": [],
   "metadata": {
    "collapsed": false,
    "pycharm": {
     "name": "#%%\n"
    }
   }
  },
  {
   "cell_type": "code",
   "execution_count": 62,
   "outputs": [
    {
     "data": {
      "text/plain": "     another_atom center_atom  structure_idx    structure            sum\n0               O           O            421   stishovite  199470.519121\n1               O           O            347   stishovite  202458.708182\n2               O           O            353   stishovite  156613.510097\n3               O           O            435   stishovite  199606.179503\n4               O           O            409   stishovite  199302.731731\n...           ...         ...            ...          ...            ...\n8545            O           O            626  beta-quartz   60643.798174\n8546            O           O            140  beta-quartz   86366.743201\n8547            O           O            168  beta-quartz   76120.111370\n8548            O           O            197  beta-quartz   76005.568127\n8549            O           O            183  beta-quartz   76043.885457\n\n[8550 rows x 5 columns]",
      "text/html": "<div>\n<style scoped>\n    .dataframe tbody tr th:only-of-type {\n        vertical-align: middle;\n    }\n\n    .dataframe tbody tr th {\n        vertical-align: top;\n    }\n\n    .dataframe thead th {\n        text-align: right;\n    }\n</style>\n<table border=\"1\" class=\"dataframe\">\n  <thead>\n    <tr style=\"text-align: right;\">\n      <th></th>\n      <th>another_atom</th>\n      <th>center_atom</th>\n      <th>structure_idx</th>\n      <th>structure</th>\n      <th>sum</th>\n    </tr>\n  </thead>\n  <tbody>\n    <tr>\n      <th>0</th>\n      <td>O</td>\n      <td>O</td>\n      <td>421</td>\n      <td>stishovite</td>\n      <td>199470.519121</td>\n    </tr>\n    <tr>\n      <th>1</th>\n      <td>O</td>\n      <td>O</td>\n      <td>347</td>\n      <td>stishovite</td>\n      <td>202458.708182</td>\n    </tr>\n    <tr>\n      <th>2</th>\n      <td>O</td>\n      <td>O</td>\n      <td>353</td>\n      <td>stishovite</td>\n      <td>156613.510097</td>\n    </tr>\n    <tr>\n      <th>3</th>\n      <td>O</td>\n      <td>O</td>\n      <td>435</td>\n      <td>stishovite</td>\n      <td>199606.179503</td>\n    </tr>\n    <tr>\n      <th>4</th>\n      <td>O</td>\n      <td>O</td>\n      <td>409</td>\n      <td>stishovite</td>\n      <td>199302.731731</td>\n    </tr>\n    <tr>\n      <th>...</th>\n      <td>...</td>\n      <td>...</td>\n      <td>...</td>\n      <td>...</td>\n      <td>...</td>\n    </tr>\n    <tr>\n      <th>8545</th>\n      <td>O</td>\n      <td>O</td>\n      <td>626</td>\n      <td>beta-quartz</td>\n      <td>60643.798174</td>\n    </tr>\n    <tr>\n      <th>8546</th>\n      <td>O</td>\n      <td>O</td>\n      <td>140</td>\n      <td>beta-quartz</td>\n      <td>86366.743201</td>\n    </tr>\n    <tr>\n      <th>8547</th>\n      <td>O</td>\n      <td>O</td>\n      <td>168</td>\n      <td>beta-quartz</td>\n      <td>76120.111370</td>\n    </tr>\n    <tr>\n      <th>8548</th>\n      <td>O</td>\n      <td>O</td>\n      <td>197</td>\n      <td>beta-quartz</td>\n      <td>76005.568127</td>\n    </tr>\n    <tr>\n      <th>8549</th>\n      <td>O</td>\n      <td>O</td>\n      <td>183</td>\n      <td>beta-quartz</td>\n      <td>76043.885457</td>\n    </tr>\n  </tbody>\n</table>\n<p>8550 rows × 5 columns</p>\n</div>"
     },
     "execution_count": 62,
     "metadata": {},
     "output_type": "execute_result"
    }
   ],
   "source": [
    "df_sf"
   ],
   "metadata": {
    "collapsed": false,
    "pycharm": {
     "name": "#%%\n"
    }
   }
  },
  {
   "cell_type": "code",
   "execution_count": 63,
   "outputs": [],
   "source": [
    "sf_path = '/Users/y1u0d2/Desktop/Lab/result/sf/sf_O-O.csv'\n",
    "df = pd.read_csv(sf_path)\n"
   ],
   "metadata": {
    "collapsed": false,
    "pycharm": {
     "name": "#%%\n"
    }
   }
  },
  {
   "cell_type": "code",
   "execution_count": 64,
   "outputs": [
    {
     "data": {
      "text/plain": "     another_atom center_atom  structure_idx    structure  \\\n0               O           O            421   stishovite   \n1               O           O            347   stishovite   \n2               O           O            353   stishovite   \n3               O           O            435   stishovite   \n4               O           O            409   stishovite   \n...           ...         ...            ...          ...   \n8545            O           O            626  beta-quartz   \n8546            O           O            140  beta-quartz   \n8547            O           O            168  beta-quartz   \n8548            O           O            197  beta-quartz   \n8549            O           O            183  beta-quartz   \n\n      sf_O-O_e-41.43_rs-0.6  sf_O-O_e-26.14_rs-0.7554  \\\n0              2.699542e-42              1.889485e-63   \n1              2.975202e-32              1.399045e-47   \n2              1.103767e-53              1.326065e-81   \n3              4.418162e-42              3.092395e-63   \n4              5.268537e-43              3.687596e-64   \n...                     ...                       ...   \n8545           2.976850e-67             7.075051e-103   \n8546           6.842771e-54              8.220903e-82   \n8547           7.221885e-67             1.716418e-102   \n8548           2.663372e-54              3.199775e-82   \n8549           1.297205e-54              1.558462e-82   \n\n      sf_O-O_e-16.49_rs-0.9509  sf_O-O_e-10.41_rs-1.197  \\\n0                 2.601077e-73             2.861999e-77   \n1                 2.526112e-54             9.346100e-57   \n2                 3.552413e-95            4.894930e-101   \n3                 4.257011e-73             4.684046e-77   \n4                 5.076368e-74             5.585596e-78   \n...                        ...                      ...   \n8545             9.409180e-121            6.832886e-129   \n8546              2.202309e-95            3.034598e-101   \n8547             2.282682e-120            1.657669e-128   \n8548              8.571918e-96            1.181139e-101   \n8549              4.174984e-96            5.752781e-102   \n\n      sf_O-O_e-6.567_rs-1.507  sf_O-O_e-4.143_rs-1.897  \\\n0                1.813066e-78             1.075136e-78   \n1                2.435542e-57             1.872028e-57   \n2               4.355673e-103            1.405728e-103   \n3                2.967325e-78             1.759605e-78   \n4                3.538454e-79             2.098280e-79   \n...                       ...                      ...   \n8545            4.931943e-132            6.107702e-133   \n8546            2.700287e-103            8.714771e-104   \n8547            1.196497e-131            1.481738e-132   \n8548            1.051017e-103            3.392000e-104   \n8549            5.119017e-104            1.652086e-104   \n\n      sf_O-O_e-2.614_rs-2.389  sf_O-O_e-1.649_rs-3.007  \\\n0                6.399094e-79             1.249698e-79   \n1                7.967462e-58             8.520246e-59   \n2               9.361395e-104            2.892176e-104   \n3                1.047297e-78             2.045298e-79   \n4                1.248873e-79             2.438962e-80   \n...                       ...                      ...   \n8545            3.639091e-133            1.539829e-133   \n8546            5.803570e-104            1.792996e-104   \n8547            8.828490e-133            3.735649e-133   \n8548            2.258890e-104            6.978776e-105   \n8549            1.100201e-104            3.399038e-105   \n\n      sf_O-O_e-1.041_rs-3.786  sf_O-O_e-0.6567_rs-4.766  \n0                4.956257e-81              3.560742e-83  \n1                1.700900e-60              6.244581e-63  \n2               2.075296e-105             2.742550e-107  \n3                8.111580e-81              5.827632e-83  \n4                9.672836e-82              6.949292e-84  \n...                       ...                       ...  \n8545            1.819587e-134             4.155428e-136  \n8546            1.286574e-105             1.700236e-107  \n8547            4.414346e-134             1.008113e-135  \n8548            5.007656e-106             6.617730e-108  \n8549            2.438997e-106             3.223190e-108  \n\n[8550 rows x 14 columns]",
      "text/html": "<div>\n<style scoped>\n    .dataframe tbody tr th:only-of-type {\n        vertical-align: middle;\n    }\n\n    .dataframe tbody tr th {\n        vertical-align: top;\n    }\n\n    .dataframe thead th {\n        text-align: right;\n    }\n</style>\n<table border=\"1\" class=\"dataframe\">\n  <thead>\n    <tr style=\"text-align: right;\">\n      <th></th>\n      <th>another_atom</th>\n      <th>center_atom</th>\n      <th>structure_idx</th>\n      <th>structure</th>\n      <th>sf_O-O_e-41.43_rs-0.6</th>\n      <th>sf_O-O_e-26.14_rs-0.7554</th>\n      <th>sf_O-O_e-16.49_rs-0.9509</th>\n      <th>sf_O-O_e-10.41_rs-1.197</th>\n      <th>sf_O-O_e-6.567_rs-1.507</th>\n      <th>sf_O-O_e-4.143_rs-1.897</th>\n      <th>sf_O-O_e-2.614_rs-2.389</th>\n      <th>sf_O-O_e-1.649_rs-3.007</th>\n      <th>sf_O-O_e-1.041_rs-3.786</th>\n      <th>sf_O-O_e-0.6567_rs-4.766</th>\n    </tr>\n  </thead>\n  <tbody>\n    <tr>\n      <th>0</th>\n      <td>O</td>\n      <td>O</td>\n      <td>421</td>\n      <td>stishovite</td>\n      <td>2.699542e-42</td>\n      <td>1.889485e-63</td>\n      <td>2.601077e-73</td>\n      <td>2.861999e-77</td>\n      <td>1.813066e-78</td>\n      <td>1.075136e-78</td>\n      <td>6.399094e-79</td>\n      <td>1.249698e-79</td>\n      <td>4.956257e-81</td>\n      <td>3.560742e-83</td>\n    </tr>\n    <tr>\n      <th>1</th>\n      <td>O</td>\n      <td>O</td>\n      <td>347</td>\n      <td>stishovite</td>\n      <td>2.975202e-32</td>\n      <td>1.399045e-47</td>\n      <td>2.526112e-54</td>\n      <td>9.346100e-57</td>\n      <td>2.435542e-57</td>\n      <td>1.872028e-57</td>\n      <td>7.967462e-58</td>\n      <td>8.520246e-59</td>\n      <td>1.700900e-60</td>\n      <td>6.244581e-63</td>\n    </tr>\n    <tr>\n      <th>2</th>\n      <td>O</td>\n      <td>O</td>\n      <td>353</td>\n      <td>stishovite</td>\n      <td>1.103767e-53</td>\n      <td>1.326065e-81</td>\n      <td>3.552413e-95</td>\n      <td>4.894930e-101</td>\n      <td>4.355673e-103</td>\n      <td>1.405728e-103</td>\n      <td>9.361395e-104</td>\n      <td>2.892176e-104</td>\n      <td>2.075296e-105</td>\n      <td>2.742550e-107</td>\n    </tr>\n    <tr>\n      <th>3</th>\n      <td>O</td>\n      <td>O</td>\n      <td>435</td>\n      <td>stishovite</td>\n      <td>4.418162e-42</td>\n      <td>3.092395e-63</td>\n      <td>4.257011e-73</td>\n      <td>4.684046e-77</td>\n      <td>2.967325e-78</td>\n      <td>1.759605e-78</td>\n      <td>1.047297e-78</td>\n      <td>2.045298e-79</td>\n      <td>8.111580e-81</td>\n      <td>5.827632e-83</td>\n    </tr>\n    <tr>\n      <th>4</th>\n      <td>O</td>\n      <td>O</td>\n      <td>409</td>\n      <td>stishovite</td>\n      <td>5.268537e-43</td>\n      <td>3.687596e-64</td>\n      <td>5.076368e-74</td>\n      <td>5.585596e-78</td>\n      <td>3.538454e-79</td>\n      <td>2.098280e-79</td>\n      <td>1.248873e-79</td>\n      <td>2.438962e-80</td>\n      <td>9.672836e-82</td>\n      <td>6.949292e-84</td>\n    </tr>\n    <tr>\n      <th>...</th>\n      <td>...</td>\n      <td>...</td>\n      <td>...</td>\n      <td>...</td>\n      <td>...</td>\n      <td>...</td>\n      <td>...</td>\n      <td>...</td>\n      <td>...</td>\n      <td>...</td>\n      <td>...</td>\n      <td>...</td>\n      <td>...</td>\n      <td>...</td>\n    </tr>\n    <tr>\n      <th>8545</th>\n      <td>O</td>\n      <td>O</td>\n      <td>626</td>\n      <td>beta-quartz</td>\n      <td>2.976850e-67</td>\n      <td>7.075051e-103</td>\n      <td>9.409180e-121</td>\n      <td>6.832886e-129</td>\n      <td>4.931943e-132</td>\n      <td>6.107702e-133</td>\n      <td>3.639091e-133</td>\n      <td>1.539829e-133</td>\n      <td>1.819587e-134</td>\n      <td>4.155428e-136</td>\n    </tr>\n    <tr>\n      <th>8546</th>\n      <td>O</td>\n      <td>O</td>\n      <td>140</td>\n      <td>beta-quartz</td>\n      <td>6.842771e-54</td>\n      <td>8.220903e-82</td>\n      <td>2.202309e-95</td>\n      <td>3.034598e-101</td>\n      <td>2.700287e-103</td>\n      <td>8.714771e-104</td>\n      <td>5.803570e-104</td>\n      <td>1.792996e-104</td>\n      <td>1.286574e-105</td>\n      <td>1.700236e-107</td>\n    </tr>\n    <tr>\n      <th>8547</th>\n      <td>O</td>\n      <td>O</td>\n      <td>168</td>\n      <td>beta-quartz</td>\n      <td>7.221885e-67</td>\n      <td>1.716418e-102</td>\n      <td>2.282682e-120</td>\n      <td>1.657669e-128</td>\n      <td>1.196497e-131</td>\n      <td>1.481738e-132</td>\n      <td>8.828490e-133</td>\n      <td>3.735649e-133</td>\n      <td>4.414346e-134</td>\n      <td>1.008113e-135</td>\n    </tr>\n    <tr>\n      <th>8548</th>\n      <td>O</td>\n      <td>O</td>\n      <td>197</td>\n      <td>beta-quartz</td>\n      <td>2.663372e-54</td>\n      <td>3.199775e-82</td>\n      <td>8.571918e-96</td>\n      <td>1.181139e-101</td>\n      <td>1.051017e-103</td>\n      <td>3.392000e-104</td>\n      <td>2.258890e-104</td>\n      <td>6.978776e-105</td>\n      <td>5.007656e-106</td>\n      <td>6.617730e-108</td>\n    </tr>\n    <tr>\n      <th>8549</th>\n      <td>O</td>\n      <td>O</td>\n      <td>183</td>\n      <td>beta-quartz</td>\n      <td>1.297205e-54</td>\n      <td>1.558462e-82</td>\n      <td>4.174984e-96</td>\n      <td>5.752781e-102</td>\n      <td>5.119017e-104</td>\n      <td>1.652086e-104</td>\n      <td>1.100201e-104</td>\n      <td>3.399038e-105</td>\n      <td>2.438997e-106</td>\n      <td>3.223190e-108</td>\n    </tr>\n  </tbody>\n</table>\n<p>8550 rows × 14 columns</p>\n</div>"
     },
     "execution_count": 64,
     "metadata": {},
     "output_type": "execute_result"
    }
   ],
   "source": [
    "df"
   ],
   "metadata": {
    "collapsed": false,
    "pycharm": {
     "name": "#%%\n"
    }
   }
  },
  {
   "cell_type": "code",
   "execution_count": null,
   "outputs": [],
   "source": [],
   "metadata": {
    "collapsed": false,
    "pycharm": {
     "name": "#%%\n"
    }
   }
  }
 ],
 "metadata": {
  "kernelspec": {
   "display_name": "Python 3",
   "language": "python",
   "name": "python3"
  },
  "language_info": {
   "codemirror_mode": {
    "name": "ipython",
    "version": 2
   },
   "file_extension": ".py",
   "mimetype": "text/x-python",
   "name": "python",
   "nbconvert_exporter": "python",
   "pygments_lexer": "ipython2",
   "version": "2.7.6"
  }
 },
 "nbformat": 4,
 "nbformat_minor": 0
}