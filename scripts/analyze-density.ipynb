{
 "cells": [
  {
   "cell_type": "code",
   "execution_count": 1,
   "metadata": {
    "collapsed": true
   },
   "outputs": [
    {
     "data": {
      "text/plain": [
       "['/Users/y1u0d2/desktop/Lab/Program/python/RDF/20211031/density/stishovite',\n",
       " '/Users/y1u0d2/desktop/Lab/Program/python/RDF/20211031/density/alpha-critobalite',\n",
       " '/Users/y1u0d2/desktop/Lab/Program/python/RDF/20211031/density/beta-trydymite',\n",
       " '/Users/y1u0d2/desktop/Lab/Program/python/RDF/20211031/density/alpha-quartz',\n",
       " '/Users/y1u0d2/desktop/Lab/Program/python/RDF/20211031/density/coesite',\n",
       " '/Users/y1u0d2/desktop/Lab/Program/python/RDF/20211031/density/hex-trydymite',\n",
       " '/Users/y1u0d2/desktop/Lab/Program/python/RDF/20211031/density/Fdd2-beta-critobalite',\n",
       " '/Users/y1u0d2/desktop/Lab/Program/python/RDF/20211031/density/beta-quartz']"
      ]
     },
     "execution_count": 1,
     "metadata": {},
     "output_type": "execute_result"
    }
   ],
   "source": [
    "import pandas as pd\n",
    "import numpy as np\n",
    "import matplotlib.pyplot as plt\n",
    "import glob\n",
    "from pymatgen.core import Structure\n",
    "from pymatgen.core.periodic_table import Element\n",
    "path = '/Users/y1u0d2/desktop/Lab/Program/python/RDF/20211031/density'\n",
    "dirs = glob.glob(f'{path}/*')\n",
    "dirs"
   ]
  },
  {
   "cell_type": "code",
   "execution_count": 1,
   "metadata": {
    "collapsed": false,
    "pycharm": {
     "name": "#%%\n"
    }
   },
   "outputs": [],
   "source": []
  },
  {
   "cell_type": "code",
   "execution_count": 2,
   "metadata": {
    "collapsed": false,
    "pycharm": {
     "name": "#%%\n"
    }
   },
   "outputs": [
    {
     "name": "stdout",
     "output_type": "stream",
     "text": [
      "['stishovite'] ['O'] ['Si'] 0.043935871492882916\n",
      "['stishovite'] ['Si'] ['Si'] 0.044043326342159995\n",
      "['stishovite'] ['O'] ['O'] 0.08845934050939376\n",
      "['stishovite'] ['Si'] ['O'] 0.0878717429857681\n",
      "['alpha-critobalite'] ['O'] ['Si'] 0.023291107271329117\n",
      "['alpha-critobalite'] ['Si'] ['Si'] 0.02332315738631928\n",
      "['alpha-critobalite'] ['O'] ['O'] 0.046457212558853725\n",
      "['alpha-critobalite'] ['Si'] ['O'] 0.04658221454266067\n",
      "['beta-trydymite'] ['O'] ['Si'] 0.023892366582777554\n",
      "['beta-trydymite'] ['Si'] ['Si'] 0.023818357765852404\n",
      "['beta-trydymite'] ['O'] ['O'] 0.0477914884086969\n",
      "['beta-trydymite'] ['Si'] ['O'] 0.04778473316555756\n",
      "['alpha-quartz'] ['O'] ['Si'] 0.02801945547829938\n",
      "['alpha-quartz'] ['Si'] ['Si'] 0.02782532127961775\n",
      "['alpha-quartz'] ['O'] ['O'] 0.055773679511875035\n",
      "['alpha-quartz'] ['Si'] ['O'] 0.05603891095660061\n",
      "['coesite'] ['O'] ['Si'] 0.030075292231684772\n",
      "['coesite'] ['Si'] ['Si'] 0.029832429893639816\n",
      "['coesite'] ['O'] ['O'] 0.05999985883763499\n",
      "['coesite'] ['Si'] ['O'] 0.06015058446337072\n",
      "['hex-trydymite'] ['O'] ['Si'] 0.01965692639527476\n",
      "['hex-trydymite'] ['Si'] ['Si'] 0.01962603265243318\n",
      "['hex-trydymite'] ['O'] ['O'] 0.03913551967681667\n",
      "['hex-trydymite'] ['Si'] ['O'] 0.0393138527905519\n",
      "['Fdd2-beta-critobalite'] ['O'] ['Si'] 0.024791452505062105\n",
      "['Fdd2-beta-critobalite'] ['Si'] ['Si'] 0.024676764339641246\n",
      "['Fdd2-beta-critobalite'] ['O'] ['O'] 0.04931672655478716\n",
      "['Fdd2-beta-critobalite'] ['Si'] ['O'] 0.0495829050101266\n",
      "['beta-quartz'] ['O'] ['Si'] 0.0259353590097771\n",
      "['beta-quartz'] ['Si'] ['Si'] 0.026248584779723864\n",
      "['beta-quartz'] ['O'] ['O'] 0.05184462692448648\n",
      "['beta-quartz'] ['Si'] ['O'] 0.05187071801955605\n"
     ]
    }
   ],
   "source": [
    "data_O_O = []\n",
    "data_Si_O = []\n",
    "data_O_Si = []\n",
    "data_Si_Si = []\n",
    "def append_each_bond(data_center_atom, data_another_atom, density,center_atom, another_atom, arr):\n",
    "    if data_center_atom == center_atom and data_another_atom == another_atom:\n",
    "        arr.append(density)\n",
    "    return arr\n",
    "\n",
    "\n",
    "for directory in dirs:\n",
    "    files = glob.glob(f'{directory}/*')\n",
    "    for file in files:\n",
    "        data = pd.read_csv(file)\n",
    "        structure = data['name_of_structure'].unique()\n",
    "        center_atom = data['center atom'].unique()\n",
    "        another_atom = data['another atom'].unique()\n",
    "        data['new_density'] = data['density'] * data['num center atom']\n",
    "        # 密度平均 * 原子数\n",
    "        # density = data['new_density'].mean() * data['num center atom'].unique()\n",
    "        density = data['new_density'].mean()\n",
    "        # density = density[0]\n",
    "        print(structure,center_atom,another_atom,density)\n",
    "        append_each_bond(center_atom,another_atom,density,'O','O',data_O_O)\n",
    "        append_each_bond(center_atom,another_atom,density,'O','Si',data_O_Si)\n",
    "        append_each_bond(center_atom,another_atom,density,'Si','O',data_Si_O)\n",
    "        append_each_bond(center_atom,another_atom,density,'Si','Si',data_Si_Si)"
   ]
  },
  {
   "cell_type": "code",
   "execution_count": 3,
   "metadata": {
    "collapsed": false,
    "pycharm": {
     "name": "#%%\n"
    }
   },
   "outputs": [
    {
     "name": "stdout",
     "output_type": "stream",
     "text": [
      "0.05484730662281809\n",
      "0.027449728870885964\n",
      "0.05489945774177402\n",
      "0.027424246804923443\n"
     ]
    }
   ],
   "source": [
    "data_O_O = np.array(data_O_O)\n",
    "data_O_Si = np.array(data_O_Si)\n",
    "data_Si_O = np.array(data_Si_O)\n",
    "data_Si_Si = np.array(data_Si_Si)\n",
    "\n",
    "# print((3.749 / (4* np.pi *0.2)) / (data_O_O.mean()))\n",
    "# print((1.889 / (4* np.pi *0.2)) / (data_O_Si.mean()))\n",
    "# print((1.889 / (4* np.pi *0.2)) / (data_Si_O.mean()))\n",
    "# print((0.934 / (4* np.pi *0.2)) / (data_Si_Si.mean()))\n",
    "# print((3.749 / (4* np.pi *0.2)))\n",
    "# print((1.889 / (4* np.pi *0.2)))\n",
    "# print((1.889 / (4* np.pi *0.2)))\n",
    "# print((0.934 / (4* np.pi *0.2)))\n",
    "print(data_O_O.mean())\n",
    "print(data_O_Si.mean())\n",
    "print(data_Si_O.mean())\n",
    "print(data_Si_Si.mean())"
   ]
  },
  {
   "cell_type": "code",
   "execution_count": 3,
   "metadata": {
    "collapsed": false,
    "pycharm": {
     "name": "#%%\n"
    }
   },
   "outputs": [],
   "source": []
  },
  {
   "cell_type": "code",
   "execution_count": 3,
   "metadata": {
    "collapsed": false,
    "pycharm": {
     "name": "#%%\n"
    }
   },
   "outputs": [],
   "source": []
  },
  {
   "cell_type": "code",
   "execution_count": 3,
   "metadata": {
    "collapsed": false,
    "pycharm": {
     "name": "#%%\n"
    }
   },
   "outputs": [],
   "source": []
  },
  {
   "cell_type": "code",
   "execution_count": 3,
   "metadata": {
    "collapsed": false,
    "pycharm": {
     "name": "#%%\n"
    }
   },
   "outputs": [],
   "source": []
  }
 ],
 "metadata": {
  "interpreter": {
   "hash": "ccff423ae5a2b006e9683486a01421a2d9d5778ada47770c936eb3fc7123a662"
  },
  "kernelspec": {
   "display_name": "Python 3.9.7 64-bit ('machine-learning': conda)",
   "name": "python3"
  },
  "language_info": {
   "codemirror_mode": {
    "name": "ipython",
    "version": 3
   },
   "file_extension": ".py",
   "mimetype": "text/x-python",
   "name": "python",
   "nbconvert_exporter": "python",
   "pygments_lexer": "ipython3",
   "version": "3.9.7"
  }
 },
 "nbformat": 4,
 "nbformat_minor": 0
}
