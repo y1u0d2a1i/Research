{
 "cells": [
  {
   "cell_type": "code",
   "execution_count": 1,
   "metadata": {
    "collapsed": true
   },
   "outputs": [
    {
     "data": {
      "text/plain": "['/Users/y1u0d2/desktop/Lab/Program/python/RDF/20211031/density/stishovite',\n '/Users/y1u0d2/desktop/Lab/Program/python/RDF/20211031/density/alpha-critobalite',\n '/Users/y1u0d2/desktop/Lab/Program/python/RDF/20211031/density/beta-trydymite',\n '/Users/y1u0d2/desktop/Lab/Program/python/RDF/20211031/density/alpha-quartz',\n '/Users/y1u0d2/desktop/Lab/Program/python/RDF/20211031/density/coesite',\n '/Users/y1u0d2/desktop/Lab/Program/python/RDF/20211031/density/hex-trydymite',\n '/Users/y1u0d2/desktop/Lab/Program/python/RDF/20211031/density/Fdd2-beta-critobalite',\n '/Users/y1u0d2/desktop/Lab/Program/python/RDF/20211031/density/beta-quartz']"
     },
     "execution_count": 1,
     "metadata": {},
     "output_type": "execute_result"
    }
   ],
   "source": [
    "import pandas as pd\n",
    "import numpy as np\n",
    "import matplotlib.pyplot as plt\n",
    "import glob\n",
    "from pymatgen.core import Structure\n",
    "from pymatgen.core.periodic_table import Element\n",
    "path = '/Users/y1u0d2/desktop/Lab/Program/python/RDF/20211031/density'\n",
    "dirs = glob.glob(f'{path}/*')\n",
    "dirs"
   ]
  },
  {
   "cell_type": "code",
   "execution_count": 1,
   "outputs": [],
   "source": [],
   "metadata": {
    "collapsed": false,
    "pycharm": {
     "name": "#%%\n"
    }
   }
  },
  {
   "cell_type": "code",
   "execution_count": 2,
   "outputs": [
    {
     "name": "stdout",
     "output_type": "stream",
     "text": [
      "['stishovite'] ['O'] ['Si'] [1.40594789]\n",
      "['stishovite'] ['Si'] ['Si'] [0.70469322]\n",
      "['stishovite'] ['O'] ['O'] [2.8306989]\n",
      "['stishovite'] ['Si'] ['O'] [1.40594789]\n",
      "['alpha-critobalite'] ['O'] ['Si'] [0.74531543]\n",
      "['alpha-critobalite'] ['Si'] ['Si'] [0.37317052]\n",
      "['alpha-critobalite'] ['O'] ['O'] [1.4866308]\n",
      "['alpha-critobalite'] ['Si'] ['O'] [0.74531543]\n",
      "['beta-trydymite'] ['O'] ['Si'] [0.76455573]\n",
      "['beta-trydymite'] ['Si'] ['Si'] [0.38109372]\n",
      "['beta-trydymite'] ['O'] ['O'] [1.52932763]\n",
      "['beta-trydymite'] ['Si'] ['O'] [0.76455573]\n",
      "['alpha-quartz'] ['O'] ['Si'] [0.67246693]\n",
      "['alpha-quartz'] ['Si'] ['Si'] [0.33390386]\n",
      "['alpha-quartz'] ['O'] ['O'] [1.33856831]\n",
      "['alpha-quartz'] ['Si'] ['O'] [0.67246693]\n",
      "['coesite'] ['O'] ['Si'] [0.48120468]\n",
      "['coesite'] ['Si'] ['Si'] [0.23865944]\n",
      "['coesite'] ['O'] ['O'] [0.95999774]\n",
      "['coesite'] ['Si'] ['O'] [0.48120468]\n",
      "['hex-trydymite'] ['O'] ['Si'] [0.62902164]\n",
      "['hex-trydymite'] ['Si'] ['Si'] [0.31401652]\n",
      "['hex-trydymite'] ['O'] ['O'] [1.25233663]\n",
      "['hex-trydymite'] ['Si'] ['O'] [0.62902164]\n",
      "['Fdd2-beta-critobalite'] ['O'] ['Si'] [0.79332648]\n",
      "['Fdd2-beta-critobalite'] ['Si'] ['Si'] [0.39482823]\n",
      "['Fdd2-beta-critobalite'] ['O'] ['O'] [1.57813525]\n",
      "['Fdd2-beta-critobalite'] ['Si'] ['O'] [0.79332648]\n",
      "['beta-quartz'] ['O'] ['Si'] [0.62244862]\n",
      "['beta-quartz'] ['Si'] ['Si'] [0.31498302]\n",
      "['beta-quartz'] ['O'] ['O'] [1.24427105]\n",
      "['beta-quartz'] ['Si'] ['O'] [0.62244862]\n"
     ]
    }
   ],
   "source": [
    "data_O_O = []\n",
    "data_Si_O = []\n",
    "data_O_Si = []\n",
    "data_Si_Si = []\n",
    "def append_each_bond(data_center_atom, data_another_atom, density,center_atom, another_atom, arr):\n",
    "    if data_center_atom == center_atom and data_another_atom == another_atom:\n",
    "        arr.append(density)\n",
    "    return arr\n",
    "\n",
    "\n",
    "for directory in dirs:\n",
    "    files = glob.glob(f'{directory}/*')\n",
    "    for file in files:\n",
    "        data = pd.read_csv(file)\n",
    "        structure = data['name_of_structure'].unique()\n",
    "        center_atom = data['center atom'].unique()\n",
    "        another_atom = data['another atom'].unique()\n",
    "        data['new_density'] = data['density'] * data['num center atom']\n",
    "        density = data['new_density'].mean() * data['num center atom'].unique()\n",
    "        # density = data['new_density'].mean()\n",
    "        # density = density[0]\n",
    "        print(structure,center_atom,another_atom,density)\n",
    "        append_each_bond(center_atom,another_atom,density,'O','O',data_O_O)\n",
    "        append_each_bond(center_atom,another_atom,density,'O','Si',data_O_Si)\n",
    "        append_each_bond(center_atom,another_atom,density,'Si','O',data_Si_O)\n",
    "        append_each_bond(center_atom,another_atom,density,'Si','Si',data_Si_Si)"
   ],
   "metadata": {
    "collapsed": false,
    "pycharm": {
     "name": "#%%\n"
    }
   }
  },
  {
   "cell_type": "code",
   "execution_count": 3,
   "outputs": [
    {
     "name": "stdout",
     "output_type": "stream",
     "text": [
      "0.9765524173779175\n",
      "0.9834136600555516\n",
      "0.9834136600555122\n",
      "0.9730524390451106\n",
      "1.491679704128789\n",
      "0.7516092187514758\n",
      "0.7516092187514758\n",
      "0.37162679211957567\n"
     ]
    }
   ],
   "source": [
    "data_O_O = np.array(data_O_O)\n",
    "data_O_Si = np.array(data_O_Si)\n",
    "data_Si_O = np.array(data_Si_O)\n",
    "data_Si_Si = np.array(data_Si_Si)\n",
    "\n",
    "print((3.749 / (4* np.pi *0.2)) / (data_O_O.mean()))\n",
    "print((1.889 / (4* np.pi *0.2)) / (data_O_Si.mean()))\n",
    "print((1.889 / (4* np.pi *0.2)) / (data_Si_O.mean()))\n",
    "print((0.934 / (4* np.pi *0.2)) / (data_Si_Si.mean()))\n",
    "print((3.749 / (4* np.pi *0.2)))\n",
    "print((1.889 / (4* np.pi *0.2)))\n",
    "print((1.889 / (4* np.pi *0.2)))\n",
    "print((0.934 / (4* np.pi *0.2)))\n",
    "# print(data_O_O.mean())\n",
    "# print(data_O_Si.mean())\n",
    "# print(data_Si_O.mean())\n",
    "# print(data_Si_Si.mean())"
   ],
   "metadata": {
    "collapsed": false,
    "pycharm": {
     "name": "#%%\n"
    }
   }
  },
  {
   "cell_type": "code",
   "execution_count": 3,
   "outputs": [],
   "source": [],
   "metadata": {
    "collapsed": false,
    "pycharm": {
     "name": "#%%\n"
    }
   }
  },
  {
   "cell_type": "code",
   "execution_count": 3,
   "outputs": [],
   "source": [],
   "metadata": {
    "collapsed": false,
    "pycharm": {
     "name": "#%%\n"
    }
   }
  },
  {
   "cell_type": "code",
   "execution_count": 3,
   "outputs": [],
   "source": [],
   "metadata": {
    "collapsed": false,
    "pycharm": {
     "name": "#%%\n"
    }
   }
  },
  {
   "cell_type": "code",
   "execution_count": 3,
   "outputs": [],
   "source": [],
   "metadata": {
    "collapsed": false,
    "pycharm": {
     "name": "#%%\n"
    }
   }
  }
 ],
 "metadata": {
  "kernelspec": {
   "display_name": "Python 3",
   "language": "python",
   "name": "python3"
  },
  "language_info": {
   "codemirror_mode": {
    "name": "ipython",
    "version": 2
   },
   "file_extension": ".py",
   "mimetype": "text/x-python",
   "name": "python",
   "nbconvert_exporter": "python",
   "pygments_lexer": "ipython2",
   "version": "2.7.6"
  }
 },
 "nbformat": 4,
 "nbformat_minor": 0
}