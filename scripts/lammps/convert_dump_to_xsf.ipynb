{
 "cells": [
  {
   "cell_type": "code",
   "execution_count": 1,
   "metadata": {
    "collapsed": true
   },
   "outputs": [
    {
     "name": "stdout",
     "output_type": "stream",
     "text": [
      "/Users/y1u0d2/desktop/Lab/result/lammps/structure-optimization/04/alpha-critobalite/data_alpha-critobalite_46.xsf\n",
      "/Users/y1u0d2/desktop/Lab/result/lammps/structure-optimization/04/alpha-critobalite/data_alpha-critobalite_666.xsf\n",
      "/Users/y1u0d2/desktop/Lab/result/lammps/structure-optimization/04/alpha-critobalite/data_alpha-critobalite_840.xsf\n",
      "/Users/y1u0d2/desktop/Lab/result/lammps/structure-optimization/04/alpha-critobalite/data_alpha-critobalite_894.xsf\n",
      "/Users/y1u0d2/desktop/Lab/result/lammps/structure-optimization/04/alpha-critobalite/data_alpha-critobalite_1056.xsf\n",
      "/Users/y1u0d2/desktop/Lab/result/lammps/structure-optimization/04/alpha-critobalite/data_alpha-critobalite_446.xsf\n",
      "/Users/y1u0d2/desktop/Lab/result/lammps/structure-optimization/04/alpha-critobalite/data_alpha-critobalite_132.xsf\n",
      "/Users/y1u0d2/desktop/Lab/result/lammps/structure-optimization/04/alpha-critobalite/data_alpha-critobalite_278.xsf\n",
      "/Users/y1u0d2/desktop/Lab/result/lammps/structure-optimization/04/alpha-critobalite/data_alpha-critobalite_1013.xsf\n",
      "/Users/y1u0d2/desktop/Lab/result/lammps/structure-optimization/04/alpha-critobalite/data_alpha-critobalite_637.xsf\n"
     ]
    }
   ],
   "source": [
    "# convert last timestep structure to xsf file\n",
    "from utils.constants.constants import Constants\n",
    "from _ovito.compare_rdf import rdf_from_dump\n",
    "import glob\n",
    "\n",
    "structures = Constants.structures()\n",
    "root_dir = '/Users/y1u0d2/desktop/Lab/result/lammps/structure-optimization/04'\n",
    "structures = Constants.structures()\n",
    "for structure in structures[0:1]:\n",
    "    dirs = glob.glob(f'{root_dir}/{structure}/*')\n",
    "    for _dir in dirs:\n",
    "        print(_dir)\n",
    "        rdf_from_dump(\n",
    "            path_to_dump=f'{_dir}/traj.dump',\n",
    "            save_dir=_dir,\n",
    "            rcut=15,\n",
    "            bins=100\n",
    "        )"
   ]
  },
  {
   "cell_type": "code",
   "execution_count": 30,
   "outputs": [],
   "source": [
    "import os\n",
    "import csv\n",
    "from ovito.io import import_file, export_file\n",
    "from ovito.modifiers import CoordinationAnalysisModifier\n",
    "from utils.constants.constants import Constants\n",
    "\n",
    "def get_last_frame_xsf_file(_dir):\n",
    "    pipeline = import_file(f'{_dir}/traj.dump')\n",
    "    frame = pipeline.source.num_frames\n",
    "    # export_file(pipeline, f\"{_dir}/output.dump\", \"lammps/dump\", frame=frame)\n",
    "    export_file(pipeline, f\"{_dir}/output.xyz\", \"xyz\", columns =\n",
    "      [\"Particle Type\", \"Position.X\", \"Position.Y\", \"Position.Z\"],\n",
    "                frame=frame\n",
    "    )\n",
    "    def get_lattice_arr(lattice_line):\n",
    "        lattice = lattice_line.split(' Origin')[0].split('\"')[1].split(' ')\n",
    "        lattice_arr = []\n",
    "        arr = []\n",
    "        for i, elm in enumerate(lattice):\n",
    "            arr.append(elm)\n",
    "            if (i+1) % 3 == 0:\n",
    "                lattice_arr.append(arr)\n",
    "                arr = []\n",
    "        return lattice_arr\n",
    "\n",
    "    with open(f'{_dir}/output.xyz', 'r') as f:\n",
    "        l_strip = [s.strip() for s in f.readlines()]\n",
    "        natom = l_strip[0]\n",
    "        lattice = get_lattice_arr(l_strip[1])\n",
    "        coord = l_strip[2:]\n",
    "        with open(f'{_dir}/last_structure.xsf', 'w') as lf:\n",
    "            lf.write('CRYSTAL\\n')\n",
    "            lf.write('PRIMVEC\\n')\n",
    "            for l in lattice:\n",
    "              lf.write(f'{\" \".join(l)}\\n')\n",
    "            lf.write('PRIMCOORD\\n')\n",
    "            lf.write(f' {natom} 1\\n')\n",
    "            for l in coord:\n",
    "                lf.write(f'{l}\\n')"
   ],
   "metadata": {
    "collapsed": false,
    "pycharm": {
     "name": "#%%\n"
    }
   }
  },
  {
   "cell_type": "code",
   "execution_count": 32,
   "outputs": [
    {
     "name": "stdout",
     "output_type": "stream",
     "text": [
      "/Users/y1u0d2/desktop/Lab/result/lammps/structure-optimization/04/alpha-critobalite/data_alpha-critobalite_46.xsf\n",
      "/Users/y1u0d2/desktop/Lab/result/lammps/structure-optimization/04/alpha-critobalite/data_alpha-critobalite_666.xsf\n",
      "/Users/y1u0d2/desktop/Lab/result/lammps/structure-optimization/04/alpha-critobalite/data_alpha-critobalite_840.xsf\n",
      "/Users/y1u0d2/desktop/Lab/result/lammps/structure-optimization/04/alpha-critobalite/data_alpha-critobalite_894.xsf\n",
      "/Users/y1u0d2/desktop/Lab/result/lammps/structure-optimization/04/alpha-critobalite/data_alpha-critobalite_1056.xsf\n",
      "/Users/y1u0d2/desktop/Lab/result/lammps/structure-optimization/04/alpha-critobalite/data_alpha-critobalite_446.xsf\n",
      "/Users/y1u0d2/desktop/Lab/result/lammps/structure-optimization/04/alpha-critobalite/data_alpha-critobalite_132.xsf\n",
      "/Users/y1u0d2/desktop/Lab/result/lammps/structure-optimization/04/alpha-critobalite/data_alpha-critobalite_278.xsf\n",
      "/Users/y1u0d2/desktop/Lab/result/lammps/structure-optimization/04/alpha-critobalite/data_alpha-critobalite_1013.xsf\n",
      "/Users/y1u0d2/desktop/Lab/result/lammps/structure-optimization/04/alpha-critobalite/data_alpha-critobalite_637.xsf\n",
      "/Users/y1u0d2/desktop/Lab/result/lammps/structure-optimization/04/alpha-quartz/data_alpha-quartz_965.xsf\n",
      "/Users/y1u0d2/desktop/Lab/result/lammps/structure-optimization/04/alpha-quartz/data_alpha-quartz_1015.xsf\n",
      "/Users/y1u0d2/desktop/Lab/result/lammps/structure-optimization/04/alpha-quartz/data_alpha-quartz_326.xsf\n",
      "/Users/y1u0d2/desktop/Lab/result/lammps/structure-optimization/04/alpha-quartz/data_alpha-quartz_939.xsf\n",
      "/Users/y1u0d2/desktop/Lab/result/lammps/structure-optimization/04/alpha-quartz/data_alpha-quartz_257.xsf\n",
      "/Users/y1u0d2/desktop/Lab/result/lammps/structure-optimization/04/alpha-quartz/data_alpha-quartz_846.xsf\n",
      "/Users/y1u0d2/desktop/Lab/result/lammps/structure-optimization/04/alpha-quartz/data_alpha-quartz_629.xsf\n",
      "/Users/y1u0d2/desktop/Lab/result/lammps/structure-optimization/04/alpha-quartz/data_alpha-quartz_415.xsf\n",
      "/Users/y1u0d2/desktop/Lab/result/lammps/structure-optimization/04/alpha-quartz/data_alpha-quartz_176.xsf\n",
      "/Users/y1u0d2/desktop/Lab/result/lammps/structure-optimization/04/alpha-quartz/data_alpha-quartz_229.xsf\n",
      "/Users/y1u0d2/desktop/Lab/result/lammps/structure-optimization/04/beta-quartz/data_beta-quartz_213.xsf\n",
      "/Users/y1u0d2/desktop/Lab/result/lammps/structure-optimization/04/beta-quartz/data_beta-quartz_2.xsf\n",
      "/Users/y1u0d2/desktop/Lab/result/lammps/structure-optimization/04/beta-quartz/data_beta-quartz_333.xsf\n",
      "/Users/y1u0d2/desktop/Lab/result/lammps/structure-optimization/04/beta-quartz/data_beta-quartz_125.xsf\n",
      "/Users/y1u0d2/desktop/Lab/result/lammps/structure-optimization/04/beta-quartz/data_beta-quartz_337.xsf\n",
      "/Users/y1u0d2/desktop/Lab/result/lammps/structure-optimization/04/beta-quartz/data_beta-quartz_76.xsf\n",
      "/Users/y1u0d2/desktop/Lab/result/lammps/structure-optimization/04/beta-quartz/data_beta-quartz_227.xsf\n",
      "/Users/y1u0d2/desktop/Lab/result/lammps/structure-optimization/04/beta-quartz/data_beta-quartz_553.xsf\n",
      "/Users/y1u0d2/desktop/Lab/result/lammps/structure-optimization/04/beta-quartz/data_beta-quartz_14.xsf\n",
      "/Users/y1u0d2/desktop/Lab/result/lammps/structure-optimization/04/beta-quartz/data_beta-quartz_424.xsf\n",
      "/Users/y1u0d2/desktop/Lab/result/lammps/structure-optimization/04/beta-trydymite/data_beta-trydymite_47.xsf\n",
      "/Users/y1u0d2/desktop/Lab/result/lammps/structure-optimization/04/beta-trydymite/data_beta-trydymite_401.xsf\n",
      "/Users/y1u0d2/desktop/Lab/result/lammps/structure-optimization/04/beta-trydymite/data_beta-trydymite_616.xsf\n",
      "/Users/y1u0d2/desktop/Lab/result/lammps/structure-optimization/04/beta-trydymite/data_beta-trydymite_567.xsf\n",
      "/Users/y1u0d2/desktop/Lab/result/lammps/structure-optimization/04/beta-trydymite/data_beta-trydymite_27.xsf\n",
      "/Users/y1u0d2/desktop/Lab/result/lammps/structure-optimization/04/beta-trydymite/data_beta-trydymite_18.xsf\n",
      "/Users/y1u0d2/desktop/Lab/result/lammps/structure-optimization/04/beta-trydymite/data_beta-trydymite_151.xsf\n",
      "/Users/y1u0d2/desktop/Lab/result/lammps/structure-optimization/04/beta-trydymite/data_beta-trydymite_792.xsf\n",
      "/Users/y1u0d2/desktop/Lab/result/lammps/structure-optimization/04/beta-trydymite/data_beta-trydymite_1090.xsf\n",
      "/Users/y1u0d2/desktop/Lab/result/lammps/structure-optimization/04/beta-trydymite/data_beta-trydymite_1081.xsf\n",
      "/Users/y1u0d2/desktop/Lab/result/lammps/structure-optimization/04/coesite/data_coesite_946.xsf\n",
      "/Users/y1u0d2/desktop/Lab/result/lammps/structure-optimization/04/coesite/data_coesite_969.xsf\n",
      "/Users/y1u0d2/desktop/Lab/result/lammps/structure-optimization/04/coesite/data_coesite_189.xsf\n",
      "/Users/y1u0d2/desktop/Lab/result/lammps/structure-optimization/04/coesite/data_coesite_770.xsf\n",
      "/Users/y1u0d2/desktop/Lab/result/lammps/structure-optimization/04/coesite/data_coesite_457.xsf\n",
      "/Users/y1u0d2/desktop/Lab/result/lammps/structure-optimization/04/coesite/data_coesite_730.xsf\n",
      "/Users/y1u0d2/desktop/Lab/result/lammps/structure-optimization/04/coesite/data_coesite_31.xsf\n",
      "/Users/y1u0d2/desktop/Lab/result/lammps/structure-optimization/04/coesite/data_coesite_592.xsf\n",
      "/Users/y1u0d2/desktop/Lab/result/lammps/structure-optimization/04/coesite/data_coesite_394.xsf\n",
      "/Users/y1u0d2/desktop/Lab/result/lammps/structure-optimization/04/Fdd2-beta-critobalite/data_Fdd2-beta-critobalite_108.xsf\n",
      "/Users/y1u0d2/desktop/Lab/result/lammps/structure-optimization/04/Fdd2-beta-critobalite/data_Fdd2-beta-critobalite_1273.xsf\n",
      "/Users/y1u0d2/desktop/Lab/result/lammps/structure-optimization/04/Fdd2-beta-critobalite/data_Fdd2-beta-critobalite_227.xsf\n",
      "/Users/y1u0d2/desktop/Lab/result/lammps/structure-optimization/04/Fdd2-beta-critobalite/data_Fdd2-beta-critobalite_613.xsf\n",
      "/Users/y1u0d2/desktop/Lab/result/lammps/structure-optimization/04/Fdd2-beta-critobalite/data_Fdd2-beta-critobalite_400.xsf\n",
      "/Users/y1u0d2/desktop/Lab/result/lammps/structure-optimization/04/Fdd2-beta-critobalite/data_Fdd2-beta-critobalite_1080.xsf\n",
      "/Users/y1u0d2/desktop/Lab/result/lammps/structure-optimization/04/Fdd2-beta-critobalite/data_Fdd2-beta-critobalite_464.xsf\n",
      "/Users/y1u0d2/desktop/Lab/result/lammps/structure-optimization/04/Fdd2-beta-critobalite/data_Fdd2-beta-critobalite_504.xsf\n",
      "/Users/y1u0d2/desktop/Lab/result/lammps/structure-optimization/04/Fdd2-beta-critobalite/data_Fdd2-beta-critobalite_471.xsf\n",
      "/Users/y1u0d2/desktop/Lab/result/lammps/structure-optimization/04/Fdd2-beta-critobalite/data_Fdd2-beta-critobalite_1034.xsf\n",
      "/Users/y1u0d2/desktop/Lab/result/lammps/structure-optimization/04/hex-trydymite/data_hex-trydymite_598.xsf\n",
      "/Users/y1u0d2/desktop/Lab/result/lammps/structure-optimization/04/hex-trydymite/data_hex-trydymite_148.xsf\n",
      "/Users/y1u0d2/desktop/Lab/result/lammps/structure-optimization/04/hex-trydymite/data_hex-trydymite_362.xsf\n",
      "/Users/y1u0d2/desktop/Lab/result/lammps/structure-optimization/04/hex-trydymite/data_hex-trydymite_840.xsf\n",
      "/Users/y1u0d2/desktop/Lab/result/lammps/structure-optimization/04/hex-trydymite/data_hex-trydymite_927.xsf\n",
      "/Users/y1u0d2/desktop/Lab/result/lammps/structure-optimization/04/hex-trydymite/data_hex-trydymite_720.xsf\n",
      "/Users/y1u0d2/desktop/Lab/result/lammps/structure-optimization/04/hex-trydymite/data_hex-trydymite_333.xsf\n",
      "/Users/y1u0d2/desktop/Lab/result/lammps/structure-optimization/04/hex-trydymite/data_hex-trydymite_778.xsf\n",
      "/Users/y1u0d2/desktop/Lab/result/lammps/structure-optimization/04/hex-trydymite/data_hex-trydymite_237.xsf\n",
      "/Users/y1u0d2/desktop/Lab/result/lammps/structure-optimization/04/hex-trydymite/data_hex-trydymite_46.xsf\n",
      "/Users/y1u0d2/desktop/Lab/result/lammps/structure-optimization/04/stishovite/data_stishovite_543.xsf\n",
      "/Users/y1u0d2/desktop/Lab/result/lammps/structure-optimization/04/stishovite/data_stishovite_591.xsf\n",
      "/Users/y1u0d2/desktop/Lab/result/lammps/structure-optimization/04/stishovite/data_stishovite_481.xsf\n",
      "/Users/y1u0d2/desktop/Lab/result/lammps/structure-optimization/04/stishovite/data_stishovite_297.xsf\n",
      "/Users/y1u0d2/desktop/Lab/result/lammps/structure-optimization/04/stishovite/data_stishovite_528.xsf\n",
      "/Users/y1u0d2/desktop/Lab/result/lammps/structure-optimization/04/stishovite/data_stishovite_46.xsf\n",
      "/Users/y1u0d2/desktop/Lab/result/lammps/structure-optimization/04/stishovite/data_stishovite_128.xsf\n",
      "/Users/y1u0d2/desktop/Lab/result/lammps/structure-optimization/04/stishovite/data_stishovite_670.xsf\n",
      "/Users/y1u0d2/desktop/Lab/result/lammps/structure-optimization/04/stishovite/data_stishovite_659.xsf\n",
      "/Users/y1u0d2/desktop/Lab/result/lammps/structure-optimization/04/stishovite/data_stishovite_31.xsf\n"
     ]
    }
   ],
   "source": [
    "root_dir = '/Users/y1u0d2/desktop/Lab/result/lammps/structure-optimization/04'\n",
    "for structure in structures:\n",
    "    dirs = glob.glob(f'{root_dir}/{structure}/*.xsf')\n",
    "    for _dir in dirs:\n",
    "        print(_dir)\n",
    "        get_last_frame_xsf_file(_dir)"
   ],
   "metadata": {
    "collapsed": false,
    "pycharm": {
     "name": "#%%\n"
    }
   }
  },
  {
   "cell_type": "code",
   "execution_count": 29,
   "outputs": [],
   "source": [],
   "metadata": {
    "collapsed": false,
    "pycharm": {
     "name": "#%%\n"
    }
   }
  },
  {
   "cell_type": "code",
   "execution_count": null,
   "outputs": [],
   "source": [],
   "metadata": {
    "collapsed": false,
    "pycharm": {
     "name": "#%%\n"
    }
   }
  }
 ],
 "metadata": {
  "kernelspec": {
   "display_name": "Python 3",
   "language": "python",
   "name": "python3"
  },
  "language_info": {
   "codemirror_mode": {
    "name": "ipython",
    "version": 2
   },
   "file_extension": ".py",
   "mimetype": "text/x-python",
   "name": "python",
   "nbconvert_exporter": "python",
   "pygments_lexer": "ipython2",
   "version": "2.7.6"
  }
 },
 "nbformat": 4,
 "nbformat_minor": 0
}