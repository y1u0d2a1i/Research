{
 "cells": [
  {
   "cell_type": "code",
   "execution_count": 4,
   "metadata": {
    "collapsed": true
   },
   "outputs": [],
   "source": [
    "from _lammps.get_thermo_from_log import get_thermo_csv_from_log\n",
    "import glob\n",
    "import pandas as pd\n",
    "\n",
    "path_to_target = '/Users/y1u0d2/desktop/Lab/result/lammps/structure-optimization/03'\n",
    "dirs = glob.glob(f'{path_to_target}/SiO2*')"
   ]
  },
  {
   "cell_type": "code",
   "execution_count": 30,
   "outputs": [],
   "source": [
    "def get_lattice_series_from_thermo_csv(_dir):\n",
    "    id = _dir.split('/')[-1].split('_')[1]\n",
    "    csv_f = glob.glob(f'{_dir}/thermo*.csv')[0]\n",
    "    df = pd.read_csv(csv_f)\n",
    "    loc_cella = df.columns.get_loc('Cella')\n",
    "    # 最終行のlattice部分取得\n",
    "    l_series = df.iloc[len(df)-1:len(df),loc_cella:loc_cella+6].copy()\n",
    "    l_series.insert(0, 'id', id)\n",
    "    return l_series\n",
    "\n",
    "df = get_lattice_series_from_thermo_csv(dirs[0])\n",
    "for _dir in dirs[1:]:\n",
    "    tmp_df = get_lattice_series_from_thermo_csv(_dir)\n",
    "    df = pd.concat([df,tmp_df])"
   ],
   "metadata": {
    "collapsed": false,
    "pycharm": {
     "name": "#%%\n"
    }
   }
  },
  {
   "cell_type": "code",
   "execution_count": 31,
   "outputs": [
    {
     "data": {
      "text/plain": "          id     Cella     Cellb     Cellc  CellAlpha   CellBeta  CellGamma\n11   mp-7087  5.223803  5.223803  8.526388  90.000000   90.00000  120.00000\n10   mp-8352  5.223529  5.223529  5.223529  60.000000   60.00000   60.00000\n16   mp-6947  4.172114  4.172114  2.654647  90.000000   90.00000   90.00000\n35  mp-11684  7.120175  7.120175  7.120548  75.504013  104.49599   60.15839\n50   mp-6930  4.890480  4.890480  5.368203  90.000000   90.00000  120.00000\n12   mp-6922  5.049568  5.049568  5.528474  90.000000   90.00000  120.00000\n72   mp-7648  5.105056  5.105056  8.135501  90.000000   90.00000  121.78020\n38   mp-6945  4.967489  4.967489  6.934944  90.000000   90.00000   90.00000",
      "text/html": "<div>\n<style scoped>\n    .dataframe tbody tr th:only-of-type {\n        vertical-align: middle;\n    }\n\n    .dataframe tbody tr th {\n        vertical-align: top;\n    }\n\n    .dataframe thead th {\n        text-align: right;\n    }\n</style>\n<table border=\"1\" class=\"dataframe\">\n  <thead>\n    <tr style=\"text-align: right;\">\n      <th></th>\n      <th>id</th>\n      <th>Cella</th>\n      <th>Cellb</th>\n      <th>Cellc</th>\n      <th>CellAlpha</th>\n      <th>CellBeta</th>\n      <th>CellGamma</th>\n    </tr>\n  </thead>\n  <tbody>\n    <tr>\n      <th>11</th>\n      <td>mp-7087</td>\n      <td>5.223803</td>\n      <td>5.223803</td>\n      <td>8.526388</td>\n      <td>90.000000</td>\n      <td>90.00000</td>\n      <td>120.00000</td>\n    </tr>\n    <tr>\n      <th>10</th>\n      <td>mp-8352</td>\n      <td>5.223529</td>\n      <td>5.223529</td>\n      <td>5.223529</td>\n      <td>60.000000</td>\n      <td>60.00000</td>\n      <td>60.00000</td>\n    </tr>\n    <tr>\n      <th>16</th>\n      <td>mp-6947</td>\n      <td>4.172114</td>\n      <td>4.172114</td>\n      <td>2.654647</td>\n      <td>90.000000</td>\n      <td>90.00000</td>\n      <td>90.00000</td>\n    </tr>\n    <tr>\n      <th>35</th>\n      <td>mp-11684</td>\n      <td>7.120175</td>\n      <td>7.120175</td>\n      <td>7.120548</td>\n      <td>75.504013</td>\n      <td>104.49599</td>\n      <td>60.15839</td>\n    </tr>\n    <tr>\n      <th>50</th>\n      <td>mp-6930</td>\n      <td>4.890480</td>\n      <td>4.890480</td>\n      <td>5.368203</td>\n      <td>90.000000</td>\n      <td>90.00000</td>\n      <td>120.00000</td>\n    </tr>\n    <tr>\n      <th>12</th>\n      <td>mp-6922</td>\n      <td>5.049568</td>\n      <td>5.049568</td>\n      <td>5.528474</td>\n      <td>90.000000</td>\n      <td>90.00000</td>\n      <td>120.00000</td>\n    </tr>\n    <tr>\n      <th>72</th>\n      <td>mp-7648</td>\n      <td>5.105056</td>\n      <td>5.105056</td>\n      <td>8.135501</td>\n      <td>90.000000</td>\n      <td>90.00000</td>\n      <td>121.78020</td>\n    </tr>\n    <tr>\n      <th>38</th>\n      <td>mp-6945</td>\n      <td>4.967489</td>\n      <td>4.967489</td>\n      <td>6.934944</td>\n      <td>90.000000</td>\n      <td>90.00000</td>\n      <td>90.00000</td>\n    </tr>\n  </tbody>\n</table>\n</div>"
     },
     "execution_count": 31,
     "metadata": {},
     "output_type": "execute_result"
    }
   ],
   "source": [
    "df"
   ],
   "metadata": {
    "collapsed": false,
    "pycharm": {
     "name": "#%%\n"
    }
   }
  },
  {
   "cell_type": "code",
   "execution_count": null,
   "outputs": [],
   "source": [],
   "metadata": {
    "collapsed": false,
    "pycharm": {
     "name": "#%%\n"
    }
   }
  }
 ],
 "metadata": {
  "kernelspec": {
   "display_name": "Python 3",
   "language": "python",
   "name": "python3"
  },
  "language_info": {
   "codemirror_mode": {
    "name": "ipython",
    "version": 2
   },
   "file_extension": ".py",
   "mimetype": "text/x-python",
   "name": "python",
   "nbconvert_exporter": "python",
   "pygments_lexer": "ipython2",
   "version": "2.7.6"
  }
 },
 "nbformat": 4,
 "nbformat_minor": 0
}