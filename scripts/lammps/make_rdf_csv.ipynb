{
 "cells": [
  {
   "cell_type": "code",
   "execution_count": 68,
   "metadata": {
    "collapsed": true
   },
   "outputs": [],
   "source": [
    "import pandas as pd\n",
    "import glob\n",
    "from utils.constants.constants import Constants\n",
    "\n",
    "structures = Constants.structures()"
   ]
  },
  {
   "cell_type": "code",
   "execution_count": 81,
   "outputs": [],
   "source": [
    "root_path = '/Users/y1u0d2/desktop/Lab/result/lammps/structure-optimization/04'\n",
    "\n",
    "def format_rdf_df(rdf_df, idx, structure):\n",
    "    df = rdf_df.T\n",
    "    df.rename(index={'8-8':'O-O', '8-14':'O-Si', '14-14':'Si-Si'}, inplace=True)\n",
    "    df.insert(0, 'idx', idx)\n",
    "    df.insert(0, 'structure', structure)\n",
    "    df.insert(0, 'bond', df.index)\n",
    "    df.reset_index(drop=True, inplace=True)\n",
    "    return df\n",
    "\n",
    "for i,structure in enumerate(structures):\n",
    "    dirs = glob.glob(f'{root_path}/{structure}/*')\n",
    "    for j,_dir in enumerate(dirs):\n",
    "        structure = _dir.split('/')[-1].split('_')[1]\n",
    "        idx = _dir.split('/')[-1].split('_')[-1].split('.')[0]\n",
    "        rdf_df = pd.read_csv(f'{_dir}/rdf.csv', index_col='distance')\n",
    "        if i==0 and j==0:\n",
    "            df = format_rdf_df(rdf_df, idx=idx, structure=structure)\n",
    "            continue\n",
    "        tmp_df = format_rdf_df(rdf_df, idx=idx, structure=structure)\n",
    "        df = pd.concat([df,tmp_df])\n",
    "df.reset_index(drop=True, inplace=True)\n",
    "df.to_csv(f'{root_path}/rdf.csv', index=False)"
   ],
   "metadata": {
    "collapsed": false,
    "pycharm": {
     "name": "#%%\n"
    }
   }
  },
  {
   "cell_type": "code",
   "execution_count": 80,
   "outputs": [
    {
     "data": {
      "text/plain": "distance   bond          structure  idx  0.075  0.225  0.375  0.525  0.675  \\\n0           O-O  alpha-critobalite   46    0.0    0.0    0.0    0.0    0.0   \n1          O-Si  alpha-critobalite   46    0.0    0.0    0.0    0.0    0.0   \n2         Si-Si  alpha-critobalite   46    0.0    0.0    0.0    0.0    0.0   \n3           O-O  alpha-critobalite  666    0.0    0.0    0.0    0.0    0.0   \n4          O-Si  alpha-critobalite  666    0.0    0.0    0.0    0.0    0.0   \n..          ...                ...  ...    ...    ...    ...    ...    ...   \n232        O-Si         stishovite  659    0.0    0.0    0.0    0.0    0.0   \n233       Si-Si         stishovite  659    0.0    0.0    0.0    0.0    0.0   \n234         O-O         stishovite   31    0.0    0.0    0.0    0.0    0.0   \n235        O-Si         stishovite   31    0.0    0.0    0.0    0.0    0.0   \n236       Si-Si         stishovite   31    0.0    0.0    0.0    0.0    0.0   \n\ndistance  0.825  0.975  ...    13.575    13.725    13.875    14.025    14.175  \\\n0           0.0    0.0  ...  0.877503  1.536862  2.036695  1.719330  1.034111   \n1           0.0    0.0  ...  1.118108  0.798430  0.754164  1.436458  1.561984   \n2           0.0    0.0  ...  0.471776  0.350755  2.095402  2.952474  2.042262   \n3           0.0    0.0  ...  0.024148  0.708700  2.547308  1.692240  1.962247   \n4           0.0    0.0  ...  0.661663  1.847344  0.221907  0.312205  2.693107   \n..          ...    ...  ...       ...       ...       ...       ...       ...   \n232         0.0    0.0  ...  0.839974  1.334830  0.773669  0.601570  1.123029   \n233         0.0    0.0  ...  1.134898  2.629486  0.000000  0.000000  1.759869   \n234         0.0    0.0  ...  1.293847  1.104404  0.967327  0.847714  1.039274   \n235         0.0    0.0  ...  1.314988  0.841746  1.054346  1.178481  0.870586   \n236         0.0    0.0  ...  1.555999  0.959632  0.947090  0.871482  1.644225   \n\ndistance    14.325    14.475    14.625    14.775    14.925  \n0         0.423669  0.381739  0.959259  1.286363  1.131841  \n1         0.860047  1.033185  1.345402  0.856248  0.917181  \n2         2.236971  1.609942  0.406466  0.015930  0.749356  \n3         0.654913  0.250617  0.016644  1.426952  1.622161  \n4         1.223083  0.063716  1.635299  1.687881  0.047946  \n..             ...       ...       ...       ...       ...  \n232       1.024202  1.008010  0.825010  1.266878  0.877109  \n233       0.569932  0.807721  2.302952  1.285787  0.376786  \n234       1.325189  0.901813  0.994518  1.044029  0.745063  \n235       1.034710  1.074737  0.883409  0.803100  0.886730  \n236       1.556812  0.282630  0.313291  0.728144  1.476134  \n\n[237 rows x 103 columns]",
      "text/html": "<div>\n<style scoped>\n    .dataframe tbody tr th:only-of-type {\n        vertical-align: middle;\n    }\n\n    .dataframe tbody tr th {\n        vertical-align: top;\n    }\n\n    .dataframe thead th {\n        text-align: right;\n    }\n</style>\n<table border=\"1\" class=\"dataframe\">\n  <thead>\n    <tr style=\"text-align: right;\">\n      <th>distance</th>\n      <th>bond</th>\n      <th>structure</th>\n      <th>idx</th>\n      <th>0.075</th>\n      <th>0.225</th>\n      <th>0.375</th>\n      <th>0.525</th>\n      <th>0.675</th>\n      <th>0.825</th>\n      <th>0.975</th>\n      <th>...</th>\n      <th>13.575</th>\n      <th>13.725</th>\n      <th>13.875</th>\n      <th>14.025</th>\n      <th>14.175</th>\n      <th>14.325</th>\n      <th>14.475</th>\n      <th>14.625</th>\n      <th>14.775</th>\n      <th>14.925</th>\n    </tr>\n  </thead>\n  <tbody>\n    <tr>\n      <th>0</th>\n      <td>O-O</td>\n      <td>alpha-critobalite</td>\n      <td>46</td>\n      <td>0.0</td>\n      <td>0.0</td>\n      <td>0.0</td>\n      <td>0.0</td>\n      <td>0.0</td>\n      <td>0.0</td>\n      <td>0.0</td>\n      <td>...</td>\n      <td>0.877503</td>\n      <td>1.536862</td>\n      <td>2.036695</td>\n      <td>1.719330</td>\n      <td>1.034111</td>\n      <td>0.423669</td>\n      <td>0.381739</td>\n      <td>0.959259</td>\n      <td>1.286363</td>\n      <td>1.131841</td>\n    </tr>\n    <tr>\n      <th>1</th>\n      <td>O-Si</td>\n      <td>alpha-critobalite</td>\n      <td>46</td>\n      <td>0.0</td>\n      <td>0.0</td>\n      <td>0.0</td>\n      <td>0.0</td>\n      <td>0.0</td>\n      <td>0.0</td>\n      <td>0.0</td>\n      <td>...</td>\n      <td>1.118108</td>\n      <td>0.798430</td>\n      <td>0.754164</td>\n      <td>1.436458</td>\n      <td>1.561984</td>\n      <td>0.860047</td>\n      <td>1.033185</td>\n      <td>1.345402</td>\n      <td>0.856248</td>\n      <td>0.917181</td>\n    </tr>\n    <tr>\n      <th>2</th>\n      <td>Si-Si</td>\n      <td>alpha-critobalite</td>\n      <td>46</td>\n      <td>0.0</td>\n      <td>0.0</td>\n      <td>0.0</td>\n      <td>0.0</td>\n      <td>0.0</td>\n      <td>0.0</td>\n      <td>0.0</td>\n      <td>...</td>\n      <td>0.471776</td>\n      <td>0.350755</td>\n      <td>2.095402</td>\n      <td>2.952474</td>\n      <td>2.042262</td>\n      <td>2.236971</td>\n      <td>1.609942</td>\n      <td>0.406466</td>\n      <td>0.015930</td>\n      <td>0.749356</td>\n    </tr>\n    <tr>\n      <th>3</th>\n      <td>O-O</td>\n      <td>alpha-critobalite</td>\n      <td>666</td>\n      <td>0.0</td>\n      <td>0.0</td>\n      <td>0.0</td>\n      <td>0.0</td>\n      <td>0.0</td>\n      <td>0.0</td>\n      <td>0.0</td>\n      <td>...</td>\n      <td>0.024148</td>\n      <td>0.708700</td>\n      <td>2.547308</td>\n      <td>1.692240</td>\n      <td>1.962247</td>\n      <td>0.654913</td>\n      <td>0.250617</td>\n      <td>0.016644</td>\n      <td>1.426952</td>\n      <td>1.622161</td>\n    </tr>\n    <tr>\n      <th>4</th>\n      <td>O-Si</td>\n      <td>alpha-critobalite</td>\n      <td>666</td>\n      <td>0.0</td>\n      <td>0.0</td>\n      <td>0.0</td>\n      <td>0.0</td>\n      <td>0.0</td>\n      <td>0.0</td>\n      <td>0.0</td>\n      <td>...</td>\n      <td>0.661663</td>\n      <td>1.847344</td>\n      <td>0.221907</td>\n      <td>0.312205</td>\n      <td>2.693107</td>\n      <td>1.223083</td>\n      <td>0.063716</td>\n      <td>1.635299</td>\n      <td>1.687881</td>\n      <td>0.047946</td>\n    </tr>\n    <tr>\n      <th>...</th>\n      <td>...</td>\n      <td>...</td>\n      <td>...</td>\n      <td>...</td>\n      <td>...</td>\n      <td>...</td>\n      <td>...</td>\n      <td>...</td>\n      <td>...</td>\n      <td>...</td>\n      <td>...</td>\n      <td>...</td>\n      <td>...</td>\n      <td>...</td>\n      <td>...</td>\n      <td>...</td>\n      <td>...</td>\n      <td>...</td>\n      <td>...</td>\n      <td>...</td>\n      <td>...</td>\n    </tr>\n    <tr>\n      <th>232</th>\n      <td>O-Si</td>\n      <td>stishovite</td>\n      <td>659</td>\n      <td>0.0</td>\n      <td>0.0</td>\n      <td>0.0</td>\n      <td>0.0</td>\n      <td>0.0</td>\n      <td>0.0</td>\n      <td>0.0</td>\n      <td>...</td>\n      <td>0.839974</td>\n      <td>1.334830</td>\n      <td>0.773669</td>\n      <td>0.601570</td>\n      <td>1.123029</td>\n      <td>1.024202</td>\n      <td>1.008010</td>\n      <td>0.825010</td>\n      <td>1.266878</td>\n      <td>0.877109</td>\n    </tr>\n    <tr>\n      <th>233</th>\n      <td>Si-Si</td>\n      <td>stishovite</td>\n      <td>659</td>\n      <td>0.0</td>\n      <td>0.0</td>\n      <td>0.0</td>\n      <td>0.0</td>\n      <td>0.0</td>\n      <td>0.0</td>\n      <td>0.0</td>\n      <td>...</td>\n      <td>1.134898</td>\n      <td>2.629486</td>\n      <td>0.000000</td>\n      <td>0.000000</td>\n      <td>1.759869</td>\n      <td>0.569932</td>\n      <td>0.807721</td>\n      <td>2.302952</td>\n      <td>1.285787</td>\n      <td>0.376786</td>\n    </tr>\n    <tr>\n      <th>234</th>\n      <td>O-O</td>\n      <td>stishovite</td>\n      <td>31</td>\n      <td>0.0</td>\n      <td>0.0</td>\n      <td>0.0</td>\n      <td>0.0</td>\n      <td>0.0</td>\n      <td>0.0</td>\n      <td>0.0</td>\n      <td>...</td>\n      <td>1.293847</td>\n      <td>1.104404</td>\n      <td>0.967327</td>\n      <td>0.847714</td>\n      <td>1.039274</td>\n      <td>1.325189</td>\n      <td>0.901813</td>\n      <td>0.994518</td>\n      <td>1.044029</td>\n      <td>0.745063</td>\n    </tr>\n    <tr>\n      <th>235</th>\n      <td>O-Si</td>\n      <td>stishovite</td>\n      <td>31</td>\n      <td>0.0</td>\n      <td>0.0</td>\n      <td>0.0</td>\n      <td>0.0</td>\n      <td>0.0</td>\n      <td>0.0</td>\n      <td>0.0</td>\n      <td>...</td>\n      <td>1.314988</td>\n      <td>0.841746</td>\n      <td>1.054346</td>\n      <td>1.178481</td>\n      <td>0.870586</td>\n      <td>1.034710</td>\n      <td>1.074737</td>\n      <td>0.883409</td>\n      <td>0.803100</td>\n      <td>0.886730</td>\n    </tr>\n    <tr>\n      <th>236</th>\n      <td>Si-Si</td>\n      <td>stishovite</td>\n      <td>31</td>\n      <td>0.0</td>\n      <td>0.0</td>\n      <td>0.0</td>\n      <td>0.0</td>\n      <td>0.0</td>\n      <td>0.0</td>\n      <td>0.0</td>\n      <td>...</td>\n      <td>1.555999</td>\n      <td>0.959632</td>\n      <td>0.947090</td>\n      <td>0.871482</td>\n      <td>1.644225</td>\n      <td>1.556812</td>\n      <td>0.282630</td>\n      <td>0.313291</td>\n      <td>0.728144</td>\n      <td>1.476134</td>\n    </tr>\n  </tbody>\n</table>\n<p>237 rows × 103 columns</p>\n</div>"
     },
     "execution_count": 80,
     "metadata": {},
     "output_type": "execute_result"
    }
   ],
   "source": [
    "df"
   ],
   "metadata": {
    "collapsed": false,
    "pycharm": {
     "name": "#%%\n"
    }
   }
  },
  {
   "cell_type": "code",
   "execution_count": 7,
   "outputs": [],
   "source": [
    "# create all dft rdf csv\n",
    "import glob\n",
    "import pandas as pd\n",
    "\n",
    "root_dir = '/Users/y1u0d2/desktop/Lab/data/stable-structure/rdf_csv'\n",
    "\n",
    "def format_rdf_df(rdf_df, structure):\n",
    "    df = rdf_df.T\n",
    "    # df.rename(index={'8-8':'O-O', '8-14':'O-Si', '14-14':'Si-Si'}, inplace=True)\n",
    "    df.insert(0, 'structure', structure)\n",
    "    df.insert(0, 'bond', df.index)\n",
    "    df.reset_index(drop=True, inplace=True)\n",
    "    return df\n",
    "\n",
    "files = glob.glob(f'{root_dir}/*.xsf.csv')\n",
    "df = pd.read_csv(files[0], index_col='distance')\n",
    "structure = files[0].split('/')[-1].split('_')[1]\n",
    "df = format_rdf_df(df, structure)\n",
    "for file in files[1:]:\n",
    "    structure = file.split('/')[-1].split('_')[1]\n",
    "    rdf_df = pd.read_csv(file, index_col='distance')\n",
    "    tmp_df = format_rdf_df(rdf_df, structure=structure)\n",
    "    df = pd.concat([df,tmp_df])\n",
    "df.reset_index(drop=True, inplace=True)\n",
    "df.to_csv(f'{root_dir}/rdf.csv', index=False)"
   ],
   "metadata": {
    "collapsed": false,
    "pycharm": {
     "name": "#%%\n"
    }
   }
  },
  {
   "cell_type": "code",
   "execution_count": 66,
   "outputs": [],
   "source": [],
   "metadata": {
    "collapsed": false,
    "pycharm": {
     "name": "#%%\n"
    }
   }
  },
  {
   "cell_type": "code",
   "execution_count": 66,
   "outputs": [],
   "source": [],
   "metadata": {
    "collapsed": false,
    "pycharm": {
     "name": "#%%\n"
    }
   }
  },
  {
   "cell_type": "code",
   "execution_count": 66,
   "outputs": [],
   "source": [],
   "metadata": {
    "collapsed": false,
    "pycharm": {
     "name": "#%%\n"
    }
   }
  },
  {
   "cell_type": "code",
   "execution_count": 66,
   "outputs": [],
   "source": [],
   "metadata": {
    "collapsed": false,
    "pycharm": {
     "name": "#%%\n"
    }
   }
  }
 ],
 "metadata": {
  "kernelspec": {
   "display_name": "Python 3",
   "language": "python",
   "name": "python3"
  },
  "language_info": {
   "codemirror_mode": {
    "name": "ipython",
    "version": 2
   },
   "file_extension": ".py",
   "mimetype": "text/x-python",
   "name": "python",
   "nbconvert_exporter": "python",
   "pygments_lexer": "ipython2",
   "version": "2.7.6"
  }
 },
 "nbformat": 4,
 "nbformat_minor": 0
}