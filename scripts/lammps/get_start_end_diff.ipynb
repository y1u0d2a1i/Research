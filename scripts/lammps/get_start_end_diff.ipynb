{
 "cells": [
  {
   "cell_type": "code",
   "execution_count": 1,
   "metadata": {
    "collapsed": true
   },
   "outputs": [],
   "source": [
    "import glob\n",
    "import os\n",
    "import pandas as pd\n",
    "import matplotlib.pyplot as plt\n",
    "\n",
    "from _lammps.get_thermo_from_log import get_lattice_start_end_series_from_thermo_csv\n",
    "from utils.constants.constants import Constants\n",
    "\n",
    "root_dir = '/Users/y1u0d2/desktop/Lab/result/lammps/structure-optimization/04'\n",
    "structures = Constants.structures()"
   ]
  },
  {
   "cell_type": "code",
   "execution_count": 2,
   "outputs": [],
   "source": [
    "# create all lattice_start_end csv\n",
    "# for i, structure in enumerate(structures):\n",
    "#     dirs = glob.glob(f'{root_dir}/{structure}/*')\n",
    "#     for j, _dir in enumerate(dirs):\n",
    "#         print(_dir)\n",
    "#         if i == 0 and j == 0:\n",
    "#             df = get_lattice_start_end_series_from_thermo_csv(dirs[0])\n",
    "#             continue\n",
    "#         tmp_df = get_lattice_start_end_series_from_thermo_csv(_dir)\n",
    "#         df = pd.concat([df, tmp_df])\n",
    "# df.to_csv(f'{root_dir}/lattice_s_e.csv', index=False)"
   ],
   "metadata": {
    "collapsed": false,
    "pycharm": {
     "name": "#%%\n"
    }
   }
  },
  {
   "cell_type": "code",
   "execution_count": 3,
   "outputs": [],
   "source": [
    "structure_df = pd.read_csv(os.path.join(root_dir, 'last_structure_info.csv'))\n",
    "lattice_df = pd.read_csv(os.path.join(root_dir, 'lattice_s_e.csv'))"
   ],
   "metadata": {
    "collapsed": false,
    "pycharm": {
     "name": "#%%\n"
    }
   }
  },
  {
   "cell_type": "code",
   "execution_count": 4,
   "outputs": [],
   "source": [
    "# calc volume diff ratio\n",
    "structure_df['Vol_diff'] = (abs(structure_df.Vol_s - structure_df.Volume) / structure_df.Volume) * 100"
   ],
   "metadata": {
    "collapsed": false,
    "pycharm": {
     "name": "#%%\n"
    }
   }
  },
  {
   "cell_type": "code",
   "execution_count": 5,
   "outputs": [],
   "source": [
    "def calc_diff_ratio(column, df):\n",
    "    df[f'{column}_diff'] = (abs(df[column] - df[f'{column}_s']) / df[column]) * 100\n",
    "    return df\n",
    "TARGET_COLUMNS = ['CellAlpha', 'CellBeta', 'CellGamma']\n",
    "for column in TARGET_COLUMNS:\n",
    "    lattice_df = calc_diff_ratio(column, lattice_df)\n",
    "lattice_df['Angle_diff_ave'] = (lattice_df['CellAlpha_diff'] + lattice_df['CellBeta_diff'] + lattice_df['CellGamma_diff']) / 3"
   ],
   "metadata": {
    "collapsed": false,
    "pycharm": {
     "name": "#%%\n"
    }
   }
  },
  {
   "cell_type": "code",
   "execution_count": 6,
   "outputs": [
    {
     "data": {
      "text/plain": "            structure   idx  Angle_diff_ave\n0   alpha-critobalite    46             0.0\n1   alpha-critobalite   666             0.0\n2   alpha-critobalite   840             0.0\n3   alpha-critobalite   894             0.0\n4   alpha-critobalite  1056             0.0\n..                ...   ...             ...\n74         stishovite    46             0.0\n75         stishovite   128             0.0\n76         stishovite   670             0.0\n77         stishovite   659             0.0\n78         stishovite    31             0.0\n\n[79 rows x 3 columns]",
      "text/html": "<div>\n<style scoped>\n    .dataframe tbody tr th:only-of-type {\n        vertical-align: middle;\n    }\n\n    .dataframe tbody tr th {\n        vertical-align: top;\n    }\n\n    .dataframe thead th {\n        text-align: right;\n    }\n</style>\n<table border=\"1\" class=\"dataframe\">\n  <thead>\n    <tr style=\"text-align: right;\">\n      <th></th>\n      <th>structure</th>\n      <th>idx</th>\n      <th>Angle_diff_ave</th>\n    </tr>\n  </thead>\n  <tbody>\n    <tr>\n      <th>0</th>\n      <td>alpha-critobalite</td>\n      <td>46</td>\n      <td>0.0</td>\n    </tr>\n    <tr>\n      <th>1</th>\n      <td>alpha-critobalite</td>\n      <td>666</td>\n      <td>0.0</td>\n    </tr>\n    <tr>\n      <th>2</th>\n      <td>alpha-critobalite</td>\n      <td>840</td>\n      <td>0.0</td>\n    </tr>\n    <tr>\n      <th>3</th>\n      <td>alpha-critobalite</td>\n      <td>894</td>\n      <td>0.0</td>\n    </tr>\n    <tr>\n      <th>4</th>\n      <td>alpha-critobalite</td>\n      <td>1056</td>\n      <td>0.0</td>\n    </tr>\n    <tr>\n      <th>...</th>\n      <td>...</td>\n      <td>...</td>\n      <td>...</td>\n    </tr>\n    <tr>\n      <th>74</th>\n      <td>stishovite</td>\n      <td>46</td>\n      <td>0.0</td>\n    </tr>\n    <tr>\n      <th>75</th>\n      <td>stishovite</td>\n      <td>128</td>\n      <td>0.0</td>\n    </tr>\n    <tr>\n      <th>76</th>\n      <td>stishovite</td>\n      <td>670</td>\n      <td>0.0</td>\n    </tr>\n    <tr>\n      <th>77</th>\n      <td>stishovite</td>\n      <td>659</td>\n      <td>0.0</td>\n    </tr>\n    <tr>\n      <th>78</th>\n      <td>stishovite</td>\n      <td>31</td>\n      <td>0.0</td>\n    </tr>\n  </tbody>\n</table>\n<p>79 rows × 3 columns</p>\n</div>"
     },
     "execution_count": 6,
     "metadata": {},
     "output_type": "execute_result"
    }
   ],
   "source": [
    "lattice_df_ave = lattice_df.copy()\n",
    "for column in lattice_df_ave.columns:\n",
    "    if 'Cell' in column:\n",
    "        lattice_df_ave.drop(column, axis=1 ,inplace=True)\n",
    "lattice_df_ave"
   ],
   "metadata": {
    "collapsed": false,
    "pycharm": {
     "name": "#%%\n"
    }
   }
  },
  {
   "cell_type": "code",
   "execution_count": 7,
   "outputs": [],
   "source": [
    "df = pd.merge(structure_df, lattice_df_ave, on=['structure', 'idx'])"
   ],
   "metadata": {
    "collapsed": false,
    "pycharm": {
     "name": "#%%\n"
    }
   }
  },
  {
   "cell_type": "code",
   "execution_count": 8,
   "outputs": [],
   "source": [
    "max_df = df.groupby('structure').max()\n",
    "min_df = df.groupby('structure').min()"
   ],
   "metadata": {
    "collapsed": false,
    "pycharm": {
     "name": "#%%\n"
    }
   }
  },
  {
   "cell_type": "code",
   "execution_count": 9,
   "outputs": [],
   "source": [
    "max_df = max_df.reset_index()\n",
    "max_df.drop(['idx','Vol_s','natom','TotEng','Temp','Lx','Volume','Eng_a'], axis=1, inplace=True)\n",
    "max_df.rename(columns={\n",
    "    'Vol_diff':'Vol_diff_max',\n",
    "    'Angle_diff_ave':'Angle_diff_ave_max'\n",
    "}, inplace=True)\n",
    "\n",
    "min_df = min_df.reset_index()\n",
    "min_df.drop(['idx','Vol_s','natom','TotEng','Temp','Lx','Volume','Eng_a'], axis=1, inplace=True)\n",
    "min_df.rename(columns={\n",
    "    'Vol_diff':'Vol_diff_min',\n",
    "    'Angle_diff_ave':'Angle_diff_ave_min',\n",
    "}, inplace=True)\n",
    "min_max_df = pd.merge(max_df, min_df, on='structure')"
   ],
   "metadata": {
    "collapsed": false,
    "pycharm": {
     "name": "#%%\n"
    }
   }
  },
  {
   "cell_type": "code",
   "execution_count": 10,
   "outputs": [],
   "source": [
    "min_max_df.to_csv(os.path.join(root_dir,'min_max.csv'), index=False)"
   ],
   "metadata": {
    "collapsed": false,
    "pycharm": {
     "name": "#%%\n"
    }
   }
  },
  {
   "cell_type": "code",
   "execution_count": 13,
   "outputs": [],
   "source": [
    "all_in_df = pd.merge(structure_df, lattice_df, on=['idx', 'structure'])"
   ],
   "metadata": {
    "collapsed": false,
    "pycharm": {
     "name": "#%%\n"
    }
   }
  },
  {
   "cell_type": "code",
   "execution_count": 14,
   "outputs": [
    {
     "data": {
      "text/plain": "            structure   idx      Vol_s  natom     TotEng  Temp         Lx  \\\n0   alpha-critobalite    46  839.05543     48 -27524.045     0  10.146854   \n1   alpha-critobalite   666  858.95660     48 -27523.579     0  10.445963   \n2   alpha-critobalite   840  980.63842     48 -27524.087     0  10.134698   \n3   alpha-critobalite   894  881.57394     48 -27524.143     0  10.090845   \n4   alpha-critobalite  1056  562.08280     48 -27524.092     0   9.901927   \n..                ...   ...        ...    ...        ...   ...        ...   \n74         stishovite    46  375.99897     48 -27524.847     0   8.328915   \n75         stishovite   128  361.81364     48 -27524.848     0   8.301646   \n76         stishovite   670  331.97743     48 -27524.756     0   8.264810   \n77         stishovite   659  331.97743     48 -27524.756     0   8.265356   \n78         stishovite    31  375.99897     48 -27524.848     0   8.329043   \n\n       Volume     Eng_a   Vol_diff  ...    Cella_s    Cellb_s   Cellc_s  \\\n0   738.42174 -573.4176  13.628213  ...  10.588314  10.588314  7.484056   \n1   805.66794 -573.4079   6.614221  ...  10.671370  10.671370  7.542770   \n2   736.08170 -573.4185  33.224127  ...  11.151632  11.151632  7.885551   \n3   726.40068 -573.4196  21.361938  ...  10.763538  10.763538  7.609369   \n4   657.56220 -573.4186  14.520208  ...   9.397396   9.397396  6.364807   \n..        ...       ...        ...  ...        ...        ...       ...   \n74  369.07808 -573.4343   1.875183  ...   8.380654   8.380654  5.353414   \n75  368.14179 -573.4343   1.718944  ...   8.253804   8.253804  5.311004   \n76  366.91403 -573.4324   9.521740  ...   7.993696   7.993696  5.195332   \n77  366.98672 -573.4324   9.539661  ...   7.993696   7.993696  5.195332   \n78  369.09508 -573.4343   1.870491  ...   8.380654   8.380654  5.353414   \n\n    CellAlpha_s  CellBeta_s  CellGamma_s  CellAlpha_diff  CellBeta_diff  \\\n0          90.0        90.0         90.0             0.0            0.0   \n1          90.0        90.0         90.0             0.0            0.0   \n2          90.0        90.0         90.0             0.0            0.0   \n3          90.0        90.0         90.0             0.0            0.0   \n4          90.0        90.0         90.0             0.0            0.0   \n..          ...         ...          ...             ...            ...   \n74         90.0        90.0         90.0             0.0            0.0   \n75         90.0        90.0         90.0             0.0            0.0   \n76         90.0        90.0         90.0             0.0            0.0   \n77         90.0        90.0         90.0             0.0            0.0   \n78         90.0        90.0         90.0             0.0            0.0   \n\n    CellGamma_diff  Angle_diff_ave  \n0              0.0             0.0  \n1              0.0             0.0  \n2              0.0             0.0  \n3              0.0             0.0  \n4              0.0             0.0  \n..             ...             ...  \n74             0.0             0.0  \n75             0.0             0.0  \n76             0.0             0.0  \n77             0.0             0.0  \n78             0.0             0.0  \n\n[79 rows x 26 columns]",
      "text/html": "<div>\n<style scoped>\n    .dataframe tbody tr th:only-of-type {\n        vertical-align: middle;\n    }\n\n    .dataframe tbody tr th {\n        vertical-align: top;\n    }\n\n    .dataframe thead th {\n        text-align: right;\n    }\n</style>\n<table border=\"1\" class=\"dataframe\">\n  <thead>\n    <tr style=\"text-align: right;\">\n      <th></th>\n      <th>structure</th>\n      <th>idx</th>\n      <th>Vol_s</th>\n      <th>natom</th>\n      <th>TotEng</th>\n      <th>Temp</th>\n      <th>Lx</th>\n      <th>Volume</th>\n      <th>Eng_a</th>\n      <th>Vol_diff</th>\n      <th>...</th>\n      <th>Cella_s</th>\n      <th>Cellb_s</th>\n      <th>Cellc_s</th>\n      <th>CellAlpha_s</th>\n      <th>CellBeta_s</th>\n      <th>CellGamma_s</th>\n      <th>CellAlpha_diff</th>\n      <th>CellBeta_diff</th>\n      <th>CellGamma_diff</th>\n      <th>Angle_diff_ave</th>\n    </tr>\n  </thead>\n  <tbody>\n    <tr>\n      <th>0</th>\n      <td>alpha-critobalite</td>\n      <td>46</td>\n      <td>839.05543</td>\n      <td>48</td>\n      <td>-27524.045</td>\n      <td>0</td>\n      <td>10.146854</td>\n      <td>738.42174</td>\n      <td>-573.4176</td>\n      <td>13.628213</td>\n      <td>...</td>\n      <td>10.588314</td>\n      <td>10.588314</td>\n      <td>7.484056</td>\n      <td>90.0</td>\n      <td>90.0</td>\n      <td>90.0</td>\n      <td>0.0</td>\n      <td>0.0</td>\n      <td>0.0</td>\n      <td>0.0</td>\n    </tr>\n    <tr>\n      <th>1</th>\n      <td>alpha-critobalite</td>\n      <td>666</td>\n      <td>858.95660</td>\n      <td>48</td>\n      <td>-27523.579</td>\n      <td>0</td>\n      <td>10.445963</td>\n      <td>805.66794</td>\n      <td>-573.4079</td>\n      <td>6.614221</td>\n      <td>...</td>\n      <td>10.671370</td>\n      <td>10.671370</td>\n      <td>7.542770</td>\n      <td>90.0</td>\n      <td>90.0</td>\n      <td>90.0</td>\n      <td>0.0</td>\n      <td>0.0</td>\n      <td>0.0</td>\n      <td>0.0</td>\n    </tr>\n    <tr>\n      <th>2</th>\n      <td>alpha-critobalite</td>\n      <td>840</td>\n      <td>980.63842</td>\n      <td>48</td>\n      <td>-27524.087</td>\n      <td>0</td>\n      <td>10.134698</td>\n      <td>736.08170</td>\n      <td>-573.4185</td>\n      <td>33.224127</td>\n      <td>...</td>\n      <td>11.151632</td>\n      <td>11.151632</td>\n      <td>7.885551</td>\n      <td>90.0</td>\n      <td>90.0</td>\n      <td>90.0</td>\n      <td>0.0</td>\n      <td>0.0</td>\n      <td>0.0</td>\n      <td>0.0</td>\n    </tr>\n    <tr>\n      <th>3</th>\n      <td>alpha-critobalite</td>\n      <td>894</td>\n      <td>881.57394</td>\n      <td>48</td>\n      <td>-27524.143</td>\n      <td>0</td>\n      <td>10.090845</td>\n      <td>726.40068</td>\n      <td>-573.4196</td>\n      <td>21.361938</td>\n      <td>...</td>\n      <td>10.763538</td>\n      <td>10.763538</td>\n      <td>7.609369</td>\n      <td>90.0</td>\n      <td>90.0</td>\n      <td>90.0</td>\n      <td>0.0</td>\n      <td>0.0</td>\n      <td>0.0</td>\n      <td>0.0</td>\n    </tr>\n    <tr>\n      <th>4</th>\n      <td>alpha-critobalite</td>\n      <td>1056</td>\n      <td>562.08280</td>\n      <td>48</td>\n      <td>-27524.092</td>\n      <td>0</td>\n      <td>9.901927</td>\n      <td>657.56220</td>\n      <td>-573.4186</td>\n      <td>14.520208</td>\n      <td>...</td>\n      <td>9.397396</td>\n      <td>9.397396</td>\n      <td>6.364807</td>\n      <td>90.0</td>\n      <td>90.0</td>\n      <td>90.0</td>\n      <td>0.0</td>\n      <td>0.0</td>\n      <td>0.0</td>\n      <td>0.0</td>\n    </tr>\n    <tr>\n      <th>...</th>\n      <td>...</td>\n      <td>...</td>\n      <td>...</td>\n      <td>...</td>\n      <td>...</td>\n      <td>...</td>\n      <td>...</td>\n      <td>...</td>\n      <td>...</td>\n      <td>...</td>\n      <td>...</td>\n      <td>...</td>\n      <td>...</td>\n      <td>...</td>\n      <td>...</td>\n      <td>...</td>\n      <td>...</td>\n      <td>...</td>\n      <td>...</td>\n      <td>...</td>\n      <td>...</td>\n    </tr>\n    <tr>\n      <th>74</th>\n      <td>stishovite</td>\n      <td>46</td>\n      <td>375.99897</td>\n      <td>48</td>\n      <td>-27524.847</td>\n      <td>0</td>\n      <td>8.328915</td>\n      <td>369.07808</td>\n      <td>-573.4343</td>\n      <td>1.875183</td>\n      <td>...</td>\n      <td>8.380654</td>\n      <td>8.380654</td>\n      <td>5.353414</td>\n      <td>90.0</td>\n      <td>90.0</td>\n      <td>90.0</td>\n      <td>0.0</td>\n      <td>0.0</td>\n      <td>0.0</td>\n      <td>0.0</td>\n    </tr>\n    <tr>\n      <th>75</th>\n      <td>stishovite</td>\n      <td>128</td>\n      <td>361.81364</td>\n      <td>48</td>\n      <td>-27524.848</td>\n      <td>0</td>\n      <td>8.301646</td>\n      <td>368.14179</td>\n      <td>-573.4343</td>\n      <td>1.718944</td>\n      <td>...</td>\n      <td>8.253804</td>\n      <td>8.253804</td>\n      <td>5.311004</td>\n      <td>90.0</td>\n      <td>90.0</td>\n      <td>90.0</td>\n      <td>0.0</td>\n      <td>0.0</td>\n      <td>0.0</td>\n      <td>0.0</td>\n    </tr>\n    <tr>\n      <th>76</th>\n      <td>stishovite</td>\n      <td>670</td>\n      <td>331.97743</td>\n      <td>48</td>\n      <td>-27524.756</td>\n      <td>0</td>\n      <td>8.264810</td>\n      <td>366.91403</td>\n      <td>-573.4324</td>\n      <td>9.521740</td>\n      <td>...</td>\n      <td>7.993696</td>\n      <td>7.993696</td>\n      <td>5.195332</td>\n      <td>90.0</td>\n      <td>90.0</td>\n      <td>90.0</td>\n      <td>0.0</td>\n      <td>0.0</td>\n      <td>0.0</td>\n      <td>0.0</td>\n    </tr>\n    <tr>\n      <th>77</th>\n      <td>stishovite</td>\n      <td>659</td>\n      <td>331.97743</td>\n      <td>48</td>\n      <td>-27524.756</td>\n      <td>0</td>\n      <td>8.265356</td>\n      <td>366.98672</td>\n      <td>-573.4324</td>\n      <td>9.539661</td>\n      <td>...</td>\n      <td>7.993696</td>\n      <td>7.993696</td>\n      <td>5.195332</td>\n      <td>90.0</td>\n      <td>90.0</td>\n      <td>90.0</td>\n      <td>0.0</td>\n      <td>0.0</td>\n      <td>0.0</td>\n      <td>0.0</td>\n    </tr>\n    <tr>\n      <th>78</th>\n      <td>stishovite</td>\n      <td>31</td>\n      <td>375.99897</td>\n      <td>48</td>\n      <td>-27524.848</td>\n      <td>0</td>\n      <td>8.329043</td>\n      <td>369.09508</td>\n      <td>-573.4343</td>\n      <td>1.870491</td>\n      <td>...</td>\n      <td>8.380654</td>\n      <td>8.380654</td>\n      <td>5.353414</td>\n      <td>90.0</td>\n      <td>90.0</td>\n      <td>90.0</td>\n      <td>0.0</td>\n      <td>0.0</td>\n      <td>0.0</td>\n      <td>0.0</td>\n    </tr>\n  </tbody>\n</table>\n<p>79 rows × 26 columns</p>\n</div>"
     },
     "execution_count": 14,
     "metadata": {},
     "output_type": "execute_result"
    }
   ],
   "source": [
    "all_in_df.groupby"
   ],
   "metadata": {
    "collapsed": false,
    "pycharm": {
     "name": "#%%\n"
    }
   }
  },
  {
   "cell_type": "code",
   "execution_count": null,
   "outputs": [],
   "source": [],
   "metadata": {
    "collapsed": false,
    "pycharm": {
     "name": "#%%\n"
    }
   }
  }
 ],
 "metadata": {
  "kernelspec": {
   "display_name": "Python 3",
   "language": "python",
   "name": "python3"
  },
  "language_info": {
   "codemirror_mode": {
    "name": "ipython",
    "version": 2
   },
   "file_extension": ".py",
   "mimetype": "text/x-python",
   "name": "python",
   "nbconvert_exporter": "python",
   "pygments_lexer": "ipython2",
   "version": "2.7.6"
  }
 },
 "nbformat": 4,
 "nbformat_minor": 0
}