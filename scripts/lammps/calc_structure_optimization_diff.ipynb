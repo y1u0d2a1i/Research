{
 "cells": [
  {
   "cell_type": "code",
   "execution_count": 191,
   "metadata": {
    "collapsed": true
   },
   "outputs": [],
   "source": [
    "import pandas as pd\n",
    "\n",
    "dft_data_path = '/Users/y1u0d2/desktop/Lab/data/stable-structure/'\n",
    "nn_data_path = '/Users/y1u0d2/desktop/Lab/result/lammps/structure-optimization/10'"
   ]
  },
  {
   "cell_type": "code",
   "execution_count": 192,
   "outputs": [],
   "source": [
    "dft_lattice = pd.read_csv(f'{dft_data_path}/lattice_info.csv')\n",
    "dft_rdf = pd.read_csv(f'{dft_data_path}/rdf.csv')\n",
    "nn_lattice = pd.read_csv(f'{nn_data_path}/lattice.csv')\n",
    "nn_rdf = pd.read_csv(f'{nn_data_path}/rdf.csv')\n",
    "nn_lattice.rename(columns={'Cella':'a', 'Cellb':'b', 'Cellc':'c', 'CellAlpha':'alpha', 'CellBeta':'beta', 'CellGamma':'gamma'}, inplace=True)"
   ],
   "metadata": {
    "collapsed": false,
    "pycharm": {
     "name": "#%%\n"
    }
   }
  },
  {
   "cell_type": "code",
   "execution_count": 173,
   "outputs": [],
   "source": [
    "def get_lattice_length_diff_df(index, dft_lattice, nn_lattice):\n",
    "    nn_lattice_row = nn_lattice.iloc[index,:]\n",
    "    structure = nn_lattice_row.structure\n",
    "    idx = nn_lattice_row.idx\n",
    "    dft_lattice_row_index = dft_lattice.reset_index().query(f'structure == \"{nn_lattice_row.structure}\"').index[0]\n",
    "    dft_lattice_row = dft_lattice.iloc[dft_lattice_row_index,:]\n",
    "    lattice_diff_sum = ((nn_lattice_row[2:5] - dft_lattice_row[1:4])**2).sum()\n",
    "    diff_series = pd.Series([structure,idx,lattice_diff_sum],index=['structure', 'idx', 'lattice_length_diff'])\n",
    "    return pd.DataFrame([diff_series])\n",
    "\n",
    "lattice_diff_df = get_lattice_length_diff_df(0, dft_lattice, nn_lattice)\n",
    "for i in range(len(nn_lattice)-1):\n",
    "    tmp_diff_df = get_lattice_length_diff_df(i+1, dft_lattice, nn_lattice)\n",
    "    lattice_diff_df = pd.concat([lattice_diff_df, tmp_diff_df])"
   ],
   "metadata": {
    "collapsed": false,
    "pycharm": {
     "name": "#%%\n"
    }
   }
  },
  {
   "cell_type": "code",
   "execution_count": 174,
   "outputs": [
    {
     "name": "stdout",
     "output_type": "stream",
     "text": [
      "alpha    90.0\n",
      "beta     90.0\n",
      "gamma    90.0\n",
      "Name: 0, dtype: object\n",
      "alpha    90.0\n",
      "beta     90.0\n",
      "gamma    90.0\n",
      "Name: 1, dtype: object\n",
      "alpha    90.0\n",
      "beta     90.0\n",
      "gamma    90.0\n",
      "Name: 2, dtype: object\n",
      "alpha    90.0\n",
      "beta     90.0\n",
      "gamma    90.0\n",
      "Name: 3, dtype: object\n",
      "alpha    90.0\n",
      "beta     90.0\n",
      "gamma    90.0\n",
      "Name: 4, dtype: object\n",
      "alpha    90.0\n",
      "beta     90.0\n",
      "gamma    90.0\n",
      "Name: 5, dtype: object\n",
      "alpha    90.0\n",
      "beta     90.0\n",
      "gamma    90.0\n",
      "Name: 6, dtype: object\n",
      "alpha    90.0\n",
      "beta     90.0\n",
      "gamma    90.0\n",
      "Name: 7, dtype: object\n",
      "alpha    90.0\n",
      "beta     90.0\n",
      "gamma    90.0\n",
      "Name: 8, dtype: object\n",
      "alpha    90.0\n",
      "beta     90.0\n",
      "gamma    90.0\n",
      "Name: 9, dtype: object\n",
      "alpha     90.0\n",
      "beta      90.0\n",
      "gamma    120.0\n",
      "Name: 10, dtype: object\n",
      "alpha         90.0\n",
      "beta          90.0\n",
      "gamma    120.00001\n",
      "Name: 11, dtype: object\n",
      "alpha     90.0\n",
      "beta      90.0\n",
      "gamma    120.0\n",
      "Name: 12, dtype: object\n",
      "alpha     90.0\n",
      "beta      90.0\n",
      "gamma    120.0\n",
      "Name: 13, dtype: object\n",
      "alpha         90.0\n",
      "beta          90.0\n",
      "gamma    119.99999\n",
      "Name: 14, dtype: object\n",
      "alpha         90.0\n",
      "beta          90.0\n",
      "gamma    120.00001\n",
      "Name: 15, dtype: object\n",
      "alpha         90.0\n",
      "beta          90.0\n",
      "gamma    119.99999\n",
      "Name: 16, dtype: object\n",
      "alpha         90.0\n",
      "beta          90.0\n",
      "gamma    120.00001\n",
      "Name: 17, dtype: object\n",
      "alpha         90.0\n",
      "beta          90.0\n",
      "gamma    120.00001\n",
      "Name: 18, dtype: object\n",
      "alpha         90.0\n",
      "beta          90.0\n",
      "gamma    119.99999\n",
      "Name: 19, dtype: object\n",
      "alpha     90.0\n",
      "beta      90.0\n",
      "gamma    120.0\n",
      "Name: 20, dtype: object\n",
      "alpha         90.0\n",
      "beta          90.0\n",
      "gamma    120.00001\n",
      "Name: 21, dtype: object\n",
      "alpha     90.0\n",
      "beta      90.0\n",
      "gamma    120.0\n",
      "Name: 22, dtype: object\n",
      "alpha     90.0\n",
      "beta      90.0\n",
      "gamma    120.0\n",
      "Name: 23, dtype: object\n",
      "alpha     90.0\n",
      "beta      90.0\n",
      "gamma    120.0\n",
      "Name: 24, dtype: object\n",
      "alpha     90.0\n",
      "beta      90.0\n",
      "gamma    120.0\n",
      "Name: 25, dtype: object\n",
      "alpha     90.0\n",
      "beta      90.0\n",
      "gamma    120.0\n",
      "Name: 26, dtype: object\n",
      "alpha         90.0\n",
      "beta          90.0\n",
      "gamma    120.00001\n",
      "Name: 27, dtype: object\n",
      "alpha         90.0\n",
      "beta          90.0\n",
      "gamma    120.00001\n",
      "Name: 28, dtype: object\n",
      "alpha         90.0\n",
      "beta          90.0\n",
      "gamma    119.99999\n",
      "Name: 29, dtype: object\n",
      "alpha         90.0\n",
      "beta          90.0\n",
      "gamma    119.81542\n",
      "Name: 30, dtype: object\n",
      "alpha         90.0\n",
      "beta          90.0\n",
      "gamma    127.27271\n",
      "Name: 31, dtype: object\n",
      "alpha         90.0\n",
      "beta          90.0\n",
      "gamma    119.84461\n",
      "Name: 32, dtype: object\n",
      "alpha         90.0\n",
      "beta          90.0\n",
      "gamma    122.44321\n",
      "Name: 33, dtype: object\n",
      "alpha         90.0\n",
      "beta          90.0\n",
      "gamma    119.81542\n",
      "Name: 34, dtype: object\n",
      "alpha         90.0\n",
      "beta          90.0\n",
      "gamma    119.81542\n",
      "Name: 35, dtype: object\n",
      "alpha         90.0\n",
      "beta          90.0\n",
      "gamma    123.71447\n",
      "Name: 36, dtype: object\n",
      "alpha         90.0\n",
      "beta          90.0\n",
      "gamma    119.83236\n",
      "Name: 37, dtype: object\n",
      "alpha         90.0\n",
      "beta          90.0\n",
      "gamma    128.00161\n",
      "Name: 38, dtype: object\n",
      "alpha         90.0\n",
      "beta          90.0\n",
      "gamma    128.00161\n",
      "Name: 39, dtype: object\n",
      "alpha    105.24661\n",
      "beta     105.24661\n",
      "gamma     119.0864\n",
      "Name: 40, dtype: object\n",
      "alpha    102.76827\n",
      "beta     102.76827\n",
      "gamma    121.86593\n",
      "Name: 41, dtype: object\n",
      "alpha     105.7983\n",
      "beta      105.7983\n",
      "gamma    118.65655\n",
      "Name: 42, dtype: object\n",
      "alpha    104.43294\n",
      "beta     104.43294\n",
      "gamma    119.87515\n",
      "Name: 43, dtype: object\n",
      "alpha    105.04467\n",
      "beta     105.04467\n",
      "gamma    119.31575\n",
      "Name: 44, dtype: object\n",
      "alpha    104.25073\n",
      "beta     104.25073\n",
      "gamma    120.05688\n",
      "Name: 45, dtype: object\n",
      "alpha    102.66595\n",
      "beta     102.66595\n",
      "gamma    122.02154\n",
      "Name: 46, dtype: object\n",
      "alpha     104.7766\n",
      "beta      104.7766\n",
      "gamma    119.58825\n",
      "Name: 47, dtype: object\n",
      "alpha    103.27901\n",
      "beta     103.27901\n",
      "gamma     121.1809\n",
      "Name: 48, dtype: object\n",
      "alpha    102.82996\n",
      "beta     102.82996\n",
      "gamma    121.77903\n",
      "Name: 49, dtype: object\n",
      "alpha    61.129649\n",
      "beta     61.129649\n",
      "gamma    57.740703\n",
      "Name: 50, dtype: object\n",
      "alpha    61.932414\n",
      "beta     61.932414\n",
      "gamma    56.135173\n",
      "Name: 51, dtype: object\n",
      "alpha    66.134169\n",
      "beta     66.134169\n",
      "gamma    47.731662\n",
      "Name: 52, dtype: object\n",
      "alpha    60.937752\n",
      "beta     60.937752\n",
      "gamma    58.124495\n",
      "Name: 53, dtype: object\n",
      "alpha     63.09938\n",
      "beta      63.09941\n",
      "gamma    53.801211\n",
      "Name: 54, dtype: object\n",
      "alpha    60.121575\n",
      "beta     60.121548\n",
      "gamma    59.756878\n",
      "Name: 55, dtype: object\n",
      "alpha    66.878883\n",
      "beta     66.878867\n",
      "gamma     46.24225\n",
      "Name: 56, dtype: object\n",
      "alpha    61.336199\n",
      "beta     61.336199\n",
      "gamma    57.327601\n",
      "Name: 57, dtype: object\n",
      "alpha    66.878883\n",
      "beta     66.878867\n",
      "gamma     46.24225\n",
      "Name: 58, dtype: object\n",
      "alpha    59.999757\n",
      "beta     59.999757\n",
      "gamma    60.000487\n",
      "Name: 59, dtype: object\n",
      "alpha         90.0\n",
      "beta          90.0\n",
      "gamma    119.99999\n",
      "Name: 60, dtype: object\n",
      "alpha     90.0\n",
      "beta      90.0\n",
      "gamma    120.0\n",
      "Name: 61, dtype: object\n",
      "alpha     90.0\n",
      "beta      90.0\n",
      "gamma    120.0\n",
      "Name: 62, dtype: object\n",
      "alpha     90.0\n",
      "beta      90.0\n",
      "gamma    120.0\n",
      "Name: 63, dtype: object\n",
      "alpha         90.0\n",
      "beta          90.0\n",
      "gamma    120.00001\n",
      "Name: 64, dtype: object\n",
      "alpha     90.0\n",
      "beta      90.0\n",
      "gamma    120.0\n",
      "Name: 65, dtype: object\n",
      "alpha         90.0\n",
      "beta          90.0\n",
      "gamma    119.99999\n",
      "Name: 66, dtype: object\n",
      "alpha         90.0\n",
      "beta          90.0\n",
      "gamma    120.00001\n",
      "Name: 67, dtype: object\n",
      "alpha         90.0\n",
      "beta          90.0\n",
      "gamma    120.00001\n",
      "Name: 68, dtype: object\n",
      "alpha     90.0\n",
      "beta      90.0\n",
      "gamma    120.0\n",
      "Name: 69, dtype: object\n",
      "alpha    90.0\n",
      "beta     90.0\n",
      "gamma    90.0\n",
      "Name: 70, dtype: object\n",
      "alpha    90.0\n",
      "beta     90.0\n",
      "gamma    90.0\n",
      "Name: 71, dtype: object\n",
      "alpha    90.0\n",
      "beta     90.0\n",
      "gamma    90.0\n",
      "Name: 72, dtype: object\n",
      "alpha    90.0\n",
      "beta     90.0\n",
      "gamma    90.0\n",
      "Name: 73, dtype: object\n",
      "alpha    90.0\n",
      "beta     90.0\n",
      "gamma    90.0\n",
      "Name: 74, dtype: object\n",
      "alpha    90.0\n",
      "beta     90.0\n",
      "gamma    90.0\n",
      "Name: 75, dtype: object\n",
      "alpha    90.0\n",
      "beta     90.0\n",
      "gamma    90.0\n",
      "Name: 76, dtype: object\n",
      "alpha    90.0\n",
      "beta     90.0\n",
      "gamma    90.0\n",
      "Name: 77, dtype: object\n",
      "alpha    90.0\n",
      "beta     90.0\n",
      "gamma    90.0\n",
      "Name: 78, dtype: object\n",
      "alpha    90.0\n",
      "beta     90.0\n",
      "gamma    90.0\n",
      "Name: 79, dtype: object\n"
     ]
    }
   ],
   "source": [
    "def get_lattice_angle_diff_df(index, dft_lattice, nn_lattice):\n",
    "    nn_lattice_row = nn_lattice.iloc[index,:]\n",
    "    structure = nn_lattice_row.structure\n",
    "    idx = nn_lattice_row.idx\n",
    "    dft_lattice_row_index = dft_lattice.reset_index().query(f'structure == \"{nn_lattice_row.structure}\"').index[0]\n",
    "    dft_lattice_row = dft_lattice.iloc[dft_lattice_row_index,:]\n",
    "    lattice_diff_sum = ((nn_lattice_row[5:8] - dft_lattice_row[4:7])**2).sum()\n",
    "    print(nn_lattice_row[5:8])\n",
    "    diff_series = pd.Series([structure,idx,lattice_diff_sum],index=['structure', 'idx', 'lattice_angle_diff'])\n",
    "    return pd.DataFrame([diff_series])\n",
    "\n",
    "lattice_angle_diff_df = get_lattice_angle_diff_df(0, dft_lattice, nn_lattice)\n",
    "for i in range(len(nn_lattice)-1):\n",
    "    tmp_diff_df = get_lattice_angle_diff_df(i+1, dft_lattice, nn_lattice)\n",
    "    lattice_angle_diff_df = pd.concat([lattice_angle_diff_df, tmp_diff_df])"
   ],
   "metadata": {
    "collapsed": false,
    "pycharm": {
     "name": "#%%\n"
    }
   }
  },
  {
   "cell_type": "code",
   "execution_count": 175,
   "outputs": [],
   "source": [
    "def get_rdf_diff_df(index, dft_rdf, nn_rdf):\n",
    "    nn_rdf_row = nn_rdf.iloc[index,:]\n",
    "    structure = nn_rdf_row.structure\n",
    "    idx = nn_rdf_row.idx\n",
    "    bond = nn_rdf_row.bond\n",
    "    dft_rdf_row_index = dft_rdf.reset_index().query(f'structure == \"{nn_rdf_row.structure}\" and bond == \"{bond}\"').index[0]\n",
    "    dft_rdf_row = dft_rdf.iloc[dft_rdf_row_index,:]\n",
    "    diff_rdf = ((nn_rdf_row[3:] - dft_rdf_row[2:])**2).sum()\n",
    "    diff_series = pd.Series([structure,idx,bond,diff_rdf],index=['structure', 'idx', 'bond', 'rdf_diff'])\n",
    "    return pd.DataFrame([diff_series])\n",
    "\n",
    "rdf_diff_df = get_rdf_diff_df(0, dft_rdf, nn_rdf)\n",
    "for i in range(len(nn_rdf)-1):\n",
    "    tmp_diff_df = get_rdf_diff_df(i+1, dft_rdf, nn_rdf)\n",
    "    rdf_diff_df = pd.concat([rdf_diff_df, tmp_diff_df])\n",
    "rdf_diff_df = rdf_diff_df.groupby(['structure', 'idx']).mean().reset_index()"
   ],
   "metadata": {
    "collapsed": false,
    "pycharm": {
     "name": "#%%\n"
    }
   }
  },
  {
   "cell_type": "code",
   "execution_count": 176,
   "outputs": [],
   "source": [
    "df = pd.merge(lattice_diff_df, lattice_angle_diff_df, on=['structure', 'idx'])\n",
    "df = pd.merge(df, rdf_diff_df, on=['structure', 'idx'])\n",
    "df.to_csv(f'{nn_data_path}/diff.csv', index=False)"
   ],
   "metadata": {
    "collapsed": false,
    "pycharm": {
     "name": "#%%\n"
    }
   }
  },
  {
   "cell_type": "code",
   "execution_count": 176,
   "outputs": [],
   "source": [],
   "metadata": {
    "collapsed": false,
    "pycharm": {
     "name": "#%%\n"
    }
   }
  },
  {
   "cell_type": "code",
   "execution_count": 193,
   "outputs": [],
   "source": [
    "def _get_rdf_diff_df(index, dft_rdf, nn_rdf, another_structure=None):\n",
    "    nn_rdf_row = nn_rdf.iloc[index,:]\n",
    "    structure = nn_rdf_row.structure\n",
    "    idx = nn_rdf_row.idx\n",
    "    bond = nn_rdf_row.bond\n",
    "    if another_structure is not None:\n",
    "        dft_rdf_row_index = dft_rdf.reset_index().query(f'structure == \"{another_structure}\" and bond == \"{bond}\"').index[0]\n",
    "    else:\n",
    "        dft_rdf_row_index = dft_rdf.reset_index().query(f'structure == \"{nn_rdf_row.structure}\" and bond == \"{bond}\"').index[0]\n",
    "    dft_rdf_row = dft_rdf.iloc[dft_rdf_row_index,:]\n",
    "    diff_rdf = ((nn_rdf_row[3:] - dft_rdf_row[2:])**2).sum()\n",
    "    diff_series = pd.Series([structure,idx,bond,diff_rdf],index=['structure', 'idx', 'bond', 'rdf_diff'])\n",
    "    return pd.DataFrame([diff_series])\n",
    "\n",
    "except_index1 = nn_rdf.query(f'structure == \"hex-trydymite\" and idx == 46').index[0]\n",
    "except_index2 = nn_rdf.query(f'structure == \"hex-trydymite\" and idx == 46').index[1]\n",
    "except_index3 = nn_rdf.query(f'structure == \"hex-trydymite\" and idx == 46').index[2]\n",
    "\n",
    "df1 = _get_rdf_diff_df(except_index1, dft_rdf, nn_rdf, another_structure='beta-trydymite')\n",
    "df2 = _get_rdf_diff_df(except_index2, dft_rdf, nn_rdf, another_structure='beta-trydymite')\n",
    "df3 = _get_rdf_diff_df(except_index3, dft_rdf, nn_rdf, another_structure='beta-trydymite')\n",
    "\n",
    "df = pd.concat([df1, df2, df3])"
   ],
   "metadata": {
    "collapsed": false,
    "pycharm": {
     "name": "#%%\n"
    }
   }
  },
  {
   "cell_type": "code",
   "execution_count": 194,
   "outputs": [
    {
     "name": "stderr",
     "output_type": "stream",
     "text": [
      "<ipython-input-194-c61f0c8f89b5>:1: FutureWarning: Dropping of nuisance columns in DataFrame reductions (with 'numeric_only=None') is deprecated; in a future version this will raise TypeError.  Select only valid columns before calling the reduction.\n",
      "  df.mean()\n"
     ]
    },
    {
     "data": {
      "text/plain": "idx         46.00000\nrdf_diff    36.69356\ndtype: float64"
     },
     "execution_count": 194,
     "metadata": {},
     "output_type": "execute_result"
    }
   ],
   "source": [
    "df.mean()"
   ],
   "metadata": {
    "collapsed": false,
    "pycharm": {
     "name": "#%%\n"
    }
   }
  },
  {
   "cell_type": "code",
   "execution_count": 194,
   "outputs": [],
   "source": [],
   "metadata": {
    "collapsed": false,
    "pycharm": {
     "name": "#%%\n"
    }
   }
  },
  {
   "cell_type": "code",
   "execution_count": 195,
   "outputs": [],
   "source": [
    "def _get_diff_df(index, dft_lattice, nn_lattice, another_structure=None):\n",
    "    nn_lattice_row = nn_lattice.iloc[index,:]\n",
    "    structure = nn_lattice_row.structure\n",
    "    idx = nn_lattice_row.idx\n",
    "    if another_structure is not None:\n",
    "        dft_lattice_row_index = dft_lattice.reset_index().query(f'structure == \"{another_structure}\"').index[0]\n",
    "    else:\n",
    "        dft_lattice_row_index = dft_lattice.reset_index().query(f'structure == \"{nn_lattice_row.structure}\"').index[0]\n",
    "    dft_lattice_row = dft_lattice.iloc[dft_lattice_row_index,:]\n",
    "    lattice_diff_sum = ((nn_lattice_row[2:5] - dft_lattice_row[1:4])**2).sum()\n",
    "    diff_series = pd.Series([structure,idx,lattice_diff_sum],index=['structure', 'idx', 'lattice_diff'])\n",
    "    return pd.DataFrame([diff_series])\n",
    "\n",
    "except_index = nn_lattice.query(f'structure == \"hex-trydymite\" and idx == 46').index[0]\n",
    "df = _get_diff_df(except_index, dft_lattice, nn_lattice, another_structure='beta-trydymite')"
   ],
   "metadata": {
    "collapsed": false,
    "pycharm": {
     "name": "#%%\n"
    }
   }
  },
  {
   "cell_type": "code",
   "execution_count": 196,
   "outputs": [
    {
     "data": {
      "text/plain": "       structure  idx  lattice_diff\n0  hex-trydymite   46      0.015681",
      "text/html": "<div>\n<style scoped>\n    .dataframe tbody tr th:only-of-type {\n        vertical-align: middle;\n    }\n\n    .dataframe tbody tr th {\n        vertical-align: top;\n    }\n\n    .dataframe thead th {\n        text-align: right;\n    }\n</style>\n<table border=\"1\" class=\"dataframe\">\n  <thead>\n    <tr style=\"text-align: right;\">\n      <th></th>\n      <th>structure</th>\n      <th>idx</th>\n      <th>lattice_diff</th>\n    </tr>\n  </thead>\n  <tbody>\n    <tr>\n      <th>0</th>\n      <td>hex-trydymite</td>\n      <td>46</td>\n      <td>0.015681</td>\n    </tr>\n  </tbody>\n</table>\n</div>"
     },
     "execution_count": 196,
     "metadata": {},
     "output_type": "execute_result"
    }
   ],
   "source": [
    "df"
   ],
   "metadata": {
    "collapsed": false,
    "pycharm": {
     "name": "#%%\n"
    }
   }
  },
  {
   "cell_type": "code",
   "execution_count": 197,
   "outputs": [
    {
     "name": "stdout",
     "output_type": "stream",
     "text": [
      "alpha     90.0\n",
      "beta      90.0\n",
      "gamma    120.0\n",
      "Name: 69, dtype: object\n",
      "alpha      90.0\n",
      "beta       90.0\n",
      "gamma    121.77\n",
      "Name: 5, dtype: object\n"
     ]
    }
   ],
   "source": [
    "def _get_angle_diff_df(index, dft_lattice, nn_lattice, another_structure=None):\n",
    "    nn_lattice_row = nn_lattice.iloc[index,:]\n",
    "    structure = nn_lattice_row.structure\n",
    "    idx = nn_lattice_row.idx\n",
    "    if another_structure is not None:\n",
    "        dft_lattice_row_index = dft_lattice.reset_index().query(f'structure == \"{another_structure}\"').index[0]\n",
    "    else:\n",
    "        dft_lattice_row_index = dft_lattice.reset_index().query(f'structure == \"{nn_lattice_row.structure}\"').index[0]\n",
    "    dft_lattice_row = dft_lattice.iloc[dft_lattice_row_index,:]\n",
    "    lattice_diff_sum = ((nn_lattice_row[5:8] - dft_lattice_row[4:7])**2).sum()\n",
    "    print(nn_lattice_row[5:8])\n",
    "    print(dft_lattice_row[4:7])\n",
    "    diff_series = pd.Series([structure,idx,lattice_diff_sum],index=['structure', 'idx', 'lattice_angle_diff'])\n",
    "    return pd.DataFrame([diff_series])\n",
    "\n",
    "except_index = nn_lattice.query(f'structure == \"hex-trydymite\" and idx == 46').index[0]\n",
    "df = _get_angle_diff_df(except_index, dft_lattice, nn_lattice, another_structure='beta-trydymite')"
   ],
   "metadata": {
    "collapsed": false,
    "pycharm": {
     "name": "#%%\n"
    }
   }
  },
  {
   "cell_type": "code",
   "execution_count": 198,
   "outputs": [
    {
     "data": {
      "text/plain": "       structure  idx  lattice_angle_diff\n0  hex-trydymite   46              3.1329",
      "text/html": "<div>\n<style scoped>\n    .dataframe tbody tr th:only-of-type {\n        vertical-align: middle;\n    }\n\n    .dataframe tbody tr th {\n        vertical-align: top;\n    }\n\n    .dataframe thead th {\n        text-align: right;\n    }\n</style>\n<table border=\"1\" class=\"dataframe\">\n  <thead>\n    <tr style=\"text-align: right;\">\n      <th></th>\n      <th>structure</th>\n      <th>idx</th>\n      <th>lattice_angle_diff</th>\n    </tr>\n  </thead>\n  <tbody>\n    <tr>\n      <th>0</th>\n      <td>hex-trydymite</td>\n      <td>46</td>\n      <td>3.1329</td>\n    </tr>\n  </tbody>\n</table>\n</div>"
     },
     "execution_count": 198,
     "metadata": {},
     "output_type": "execute_result"
    }
   ],
   "source": [
    "df"
   ],
   "metadata": {
    "collapsed": false,
    "pycharm": {
     "name": "#%%\n"
    }
   }
  },
  {
   "cell_type": "code",
   "execution_count": 182,
   "outputs": [],
   "source": [],
   "metadata": {
    "collapsed": false,
    "pycharm": {
     "name": "#%%\n"
    }
   }
  }
 ],
 "metadata": {
  "kernelspec": {
   "display_name": "Python 3",
   "language": "python",
   "name": "python3"
  },
  "language_info": {
   "codemirror_mode": {
    "name": "ipython",
    "version": 2
   },
   "file_extension": ".py",
   "mimetype": "text/x-python",
   "name": "python",
   "nbconvert_exporter": "python",
   "pygments_lexer": "ipython2",
   "version": "2.7.6"
  }
 },
 "nbformat": 4,
 "nbformat_minor": 0
}