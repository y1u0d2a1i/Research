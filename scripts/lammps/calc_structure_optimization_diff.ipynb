{
 "cells": [
  {
   "cell_type": "code",
   "execution_count": 1,
   "metadata": {
    "collapsed": true
   },
   "outputs": [],
   "source": [
    "import pandas as pd\n",
    "\n",
    "dft_data_path = '/Users/y1u0d2/desktop/Lab/data/stable-structure/'\n",
    "nn_data_path = '/Users/y1u0d2/desktop/Lab/result/lammps/structure-optimization/07'"
   ]
  },
  {
   "cell_type": "code",
   "execution_count": 2,
   "outputs": [],
   "source": [
    "dft_lattice = pd.read_csv(f'{dft_data_path}/lattice_info.csv')\n",
    "dft_rdf = pd.read_csv(f'{dft_data_path}/rdf.csv')\n",
    "nn_lattice = pd.read_csv(f'{nn_data_path}/lattice.csv')\n",
    "nn_rdf = pd.read_csv(f'{nn_data_path}/rdf.csv')\n",
    "nn_lattice.rename(columns={'Cella':'a', 'Cellb':'b', 'Cellc':'c', 'CellAlpha':'alpha', 'CellBeta':'beta', 'CellGamma':'gamma'}, inplace=True)"
   ],
   "metadata": {
    "collapsed": false,
    "pycharm": {
     "name": "#%%\n"
    }
   }
  },
  {
   "cell_type": "code",
   "execution_count": 3,
   "outputs": [],
   "source": [
    "def get_diff_df(index, dft_lattice, nn_lattice):\n",
    "    nn_lattice_row = nn_lattice.iloc[index,:]\n",
    "    structure = nn_lattice_row.structure\n",
    "    idx = nn_lattice_row.idx\n",
    "    dft_lattice_row_index = dft_lattice.reset_index().query(f'structure == \"{nn_lattice_row.structure}\"').index[0]\n",
    "    dft_lattice_row = dft_lattice.iloc[dft_lattice_row_index,:]\n",
    "    lattice_diff_sum = ((nn_lattice_row[2:5] - dft_lattice_row[1:4])**2).sum()\n",
    "    diff_series = pd.Series([structure,idx,lattice_diff_sum],index=['structure', 'idx', 'lattice_diff'])\n",
    "    return pd.DataFrame([diff_series])\n",
    "\n",
    "lattice_diff_df = get_diff_df(0, dft_lattice, nn_lattice)\n",
    "for i in range(len(nn_lattice)-1):\n",
    "    tmp_diff_df = get_diff_df(i+1, dft_lattice, nn_lattice)\n",
    "    lattice_diff_df = pd.concat([lattice_diff_df, tmp_diff_df])"
   ],
   "metadata": {
    "collapsed": false,
    "pycharm": {
     "name": "#%%\n"
    }
   }
  },
  {
   "cell_type": "code",
   "execution_count": 4,
   "outputs": [],
   "source": [
    "def get_rdf_diff_df(index, dft_rdf, nn_rdf):\n",
    "    nn_rdf_row = nn_rdf.iloc[index,:]\n",
    "    structure = nn_rdf_row.structure\n",
    "    idx = nn_rdf_row.idx\n",
    "    bond = nn_rdf_row.bond\n",
    "    dft_rdf_row_index = dft_rdf.reset_index().query(f'structure == \"{nn_rdf_row.structure}\" and bond == \"{bond}\"').index[0]\n",
    "    dft_rdf_row = dft_rdf.iloc[dft_rdf_row_index,:]\n",
    "    diff_rdf = ((nn_rdf_row[3:] - dft_rdf_row[2:])**2).sum()\n",
    "    diff_series = pd.Series([structure,idx,bond,diff_rdf],index=['structure', 'idx', 'bond', 'rdf_diff'])\n",
    "    return pd.DataFrame([diff_series])\n",
    "\n",
    "rdf_diff_df = get_rdf_diff_df(0, dft_rdf, nn_rdf)\n",
    "for i in range(len(nn_rdf)-1):\n",
    "    tmp_diff_df = get_rdf_diff_df(i+1, dft_rdf, nn_rdf)\n",
    "    rdf_diff_df = pd.concat([rdf_diff_df, tmp_diff_df])\n",
    "rdf_diff_df = rdf_diff_df.groupby(['structure', 'idx']).mean().reset_index()"
   ],
   "metadata": {
    "collapsed": false,
    "pycharm": {
     "name": "#%%\n"
    }
   }
  },
  {
   "cell_type": "code",
   "execution_count": 5,
   "outputs": [],
   "source": [
    "df = pd.merge(lattice_diff_df, rdf_diff_df, on=['structure', 'idx'])\n",
    "df.to_csv(f'{nn_data_path}/diff.csv', index=False)"
   ],
   "metadata": {
    "collapsed": false,
    "pycharm": {
     "name": "#%%\n"
    }
   }
  },
  {
   "cell_type": "code",
   "execution_count": 5,
   "outputs": [],
   "source": [],
   "metadata": {
    "collapsed": false,
    "pycharm": {
     "name": "#%%\n"
    }
   }
  },
  {
   "cell_type": "code",
   "execution_count": 5,
   "outputs": [],
   "source": [],
   "metadata": {
    "collapsed": false,
    "pycharm": {
     "name": "#%%\n"
    }
   }
  },
  {
   "cell_type": "code",
   "execution_count": 5,
   "outputs": [],
   "source": [],
   "metadata": {
    "collapsed": false,
    "pycharm": {
     "name": "#%%\n"
    }
   }
  },
  {
   "cell_type": "code",
   "execution_count": 5,
   "outputs": [],
   "source": [],
   "metadata": {
    "collapsed": false,
    "pycharm": {
     "name": "#%%\n"
    }
   }
  },
  {
   "cell_type": "code",
   "execution_count": 5,
   "outputs": [],
   "source": [],
   "metadata": {
    "collapsed": false,
    "pycharm": {
     "name": "#%%\n"
    }
   }
  },
  {
   "cell_type": "code",
   "execution_count": 5,
   "outputs": [],
   "source": [],
   "metadata": {
    "collapsed": false,
    "pycharm": {
     "name": "#%%\n"
    }
   }
  }
 ],
 "metadata": {
  "kernelspec": {
   "display_name": "Python 3",
   "language": "python",
   "name": "python3"
  },
  "language_info": {
   "codemirror_mode": {
    "name": "ipython",
    "version": 2
   },
   "file_extension": ".py",
   "mimetype": "text/x-python",
   "name": "python",
   "nbconvert_exporter": "python",
   "pygments_lexer": "ipython2",
   "version": "2.7.6"
  }
 },
 "nbformat": 4,
 "nbformat_minor": 0
}