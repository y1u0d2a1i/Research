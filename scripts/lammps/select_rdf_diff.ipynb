{
 "cells": [
  {
   "cell_type": "code",
   "execution_count": 13,
   "metadata": {
    "collapsed": true
   },
   "outputs": [],
   "source": [
    "from _lammps.get_thermo_from_log import get_last_structure_info_series_from_thermo_csv\n",
    "from utils.constants.constants import Constants\n",
    "import glob\n",
    "import pandas as pd\n",
    "import matplotlib.pyplot as plt\n",
    "\n",
    "root_dir = '/Users/y1u0d2/desktop/Lab/result/lammps/structure-optimization/04'\n",
    "structures = Constants.structures()"
   ]
  },
  {
   "cell_type": "code",
   "execution_count": 14,
   "outputs": [
    {
     "name": "stdout",
     "output_type": "stream",
     "text": [
      "/Users/y1u0d2/desktop/Lab/result/lammps/structure-optimization/04/alpha-critobalite/data_alpha-critobalite_46.xsf\n",
      "/Users/y1u0d2/desktop/Lab/result/lammps/structure-optimization/04/alpha-critobalite/data_alpha-critobalite_666.xsf\n",
      "/Users/y1u0d2/desktop/Lab/result/lammps/structure-optimization/04/alpha-critobalite/data_alpha-critobalite_840.xsf\n",
      "/Users/y1u0d2/desktop/Lab/result/lammps/structure-optimization/04/alpha-critobalite/data_alpha-critobalite_894.xsf\n",
      "/Users/y1u0d2/desktop/Lab/result/lammps/structure-optimization/04/alpha-critobalite/data_alpha-critobalite_1056.xsf\n",
      "/Users/y1u0d2/desktop/Lab/result/lammps/structure-optimization/04/alpha-critobalite/data_alpha-critobalite_446.xsf\n",
      "/Users/y1u0d2/desktop/Lab/result/lammps/structure-optimization/04/alpha-critobalite/data_alpha-critobalite_132.xsf\n",
      "/Users/y1u0d2/desktop/Lab/result/lammps/structure-optimization/04/alpha-critobalite/data_alpha-critobalite_278.xsf\n",
      "/Users/y1u0d2/desktop/Lab/result/lammps/structure-optimization/04/alpha-critobalite/data_alpha-critobalite_1013.xsf\n",
      "/Users/y1u0d2/desktop/Lab/result/lammps/structure-optimization/04/alpha-critobalite/data_alpha-critobalite_637.xsf\n",
      "/Users/y1u0d2/desktop/Lab/result/lammps/structure-optimization/04/alpha-quartz/data_alpha-quartz_965.xsf\n",
      "/Users/y1u0d2/desktop/Lab/result/lammps/structure-optimization/04/alpha-quartz/data_alpha-quartz_1015.xsf\n",
      "/Users/y1u0d2/desktop/Lab/result/lammps/structure-optimization/04/alpha-quartz/data_alpha-quartz_326.xsf\n",
      "/Users/y1u0d2/desktop/Lab/result/lammps/structure-optimization/04/alpha-quartz/data_alpha-quartz_939.xsf\n",
      "/Users/y1u0d2/desktop/Lab/result/lammps/structure-optimization/04/alpha-quartz/data_alpha-quartz_257.xsf\n",
      "/Users/y1u0d2/desktop/Lab/result/lammps/structure-optimization/04/alpha-quartz/data_alpha-quartz_846.xsf\n",
      "/Users/y1u0d2/desktop/Lab/result/lammps/structure-optimization/04/alpha-quartz/data_alpha-quartz_629.xsf\n",
      "/Users/y1u0d2/desktop/Lab/result/lammps/structure-optimization/04/alpha-quartz/data_alpha-quartz_415.xsf\n",
      "/Users/y1u0d2/desktop/Lab/result/lammps/structure-optimization/04/alpha-quartz/data_alpha-quartz_176.xsf\n",
      "/Users/y1u0d2/desktop/Lab/result/lammps/structure-optimization/04/alpha-quartz/data_alpha-quartz_229.xsf\n",
      "/Users/y1u0d2/desktop/Lab/result/lammps/structure-optimization/04/beta-quartz/data_beta-quartz_213.xsf\n",
      "/Users/y1u0d2/desktop/Lab/result/lammps/structure-optimization/04/beta-quartz/data_beta-quartz_2.xsf\n",
      "/Users/y1u0d2/desktop/Lab/result/lammps/structure-optimization/04/beta-quartz/data_beta-quartz_333.xsf\n",
      "/Users/y1u0d2/desktop/Lab/result/lammps/structure-optimization/04/beta-quartz/data_beta-quartz_125.xsf\n",
      "/Users/y1u0d2/desktop/Lab/result/lammps/structure-optimization/04/beta-quartz/data_beta-quartz_337.xsf\n",
      "/Users/y1u0d2/desktop/Lab/result/lammps/structure-optimization/04/beta-quartz/data_beta-quartz_76.xsf\n",
      "/Users/y1u0d2/desktop/Lab/result/lammps/structure-optimization/04/beta-quartz/data_beta-quartz_227.xsf\n",
      "/Users/y1u0d2/desktop/Lab/result/lammps/structure-optimization/04/beta-quartz/data_beta-quartz_553.xsf\n",
      "/Users/y1u0d2/desktop/Lab/result/lammps/structure-optimization/04/beta-quartz/data_beta-quartz_14.xsf\n",
      "/Users/y1u0d2/desktop/Lab/result/lammps/structure-optimization/04/beta-quartz/data_beta-quartz_424.xsf\n",
      "/Users/y1u0d2/desktop/Lab/result/lammps/structure-optimization/04/beta-trydymite/data_beta-trydymite_47.xsf\n",
      "/Users/y1u0d2/desktop/Lab/result/lammps/structure-optimization/04/beta-trydymite/data_beta-trydymite_401.xsf\n",
      "/Users/y1u0d2/desktop/Lab/result/lammps/structure-optimization/04/beta-trydymite/data_beta-trydymite_616.xsf\n",
      "/Users/y1u0d2/desktop/Lab/result/lammps/structure-optimization/04/beta-trydymite/data_beta-trydymite_567.xsf\n",
      "/Users/y1u0d2/desktop/Lab/result/lammps/structure-optimization/04/beta-trydymite/data_beta-trydymite_27.xsf\n",
      "/Users/y1u0d2/desktop/Lab/result/lammps/structure-optimization/04/beta-trydymite/data_beta-trydymite_18.xsf\n",
      "/Users/y1u0d2/desktop/Lab/result/lammps/structure-optimization/04/beta-trydymite/data_beta-trydymite_151.xsf\n",
      "/Users/y1u0d2/desktop/Lab/result/lammps/structure-optimization/04/beta-trydymite/data_beta-trydymite_792.xsf\n",
      "/Users/y1u0d2/desktop/Lab/result/lammps/structure-optimization/04/beta-trydymite/data_beta-trydymite_1090.xsf\n",
      "/Users/y1u0d2/desktop/Lab/result/lammps/structure-optimization/04/beta-trydymite/data_beta-trydymite_1081.xsf\n",
      "/Users/y1u0d2/desktop/Lab/result/lammps/structure-optimization/04/coesite/data_coesite_946.xsf\n",
      "/Users/y1u0d2/desktop/Lab/result/lammps/structure-optimization/04/coesite/data_coesite_969.xsf\n",
      "/Users/y1u0d2/desktop/Lab/result/lammps/structure-optimization/04/coesite/data_coesite_189.xsf\n",
      "/Users/y1u0d2/desktop/Lab/result/lammps/structure-optimization/04/coesite/data_coesite_770.xsf\n",
      "/Users/y1u0d2/desktop/Lab/result/lammps/structure-optimization/04/coesite/data_coesite_457.xsf\n",
      "/Users/y1u0d2/desktop/Lab/result/lammps/structure-optimization/04/coesite/data_coesite_730.xsf\n",
      "/Users/y1u0d2/desktop/Lab/result/lammps/structure-optimization/04/coesite/data_coesite_31.xsf\n",
      "/Users/y1u0d2/desktop/Lab/result/lammps/structure-optimization/04/coesite/data_coesite_592.xsf\n",
      "/Users/y1u0d2/desktop/Lab/result/lammps/structure-optimization/04/coesite/data_coesite_394.xsf\n",
      "/Users/y1u0d2/desktop/Lab/result/lammps/structure-optimization/04/Fdd2-beta-critobalite/data_Fdd2-beta-critobalite_108.xsf\n",
      "/Users/y1u0d2/desktop/Lab/result/lammps/structure-optimization/04/Fdd2-beta-critobalite/data_Fdd2-beta-critobalite_1273.xsf\n",
      "/Users/y1u0d2/desktop/Lab/result/lammps/structure-optimization/04/Fdd2-beta-critobalite/data_Fdd2-beta-critobalite_227.xsf\n",
      "/Users/y1u0d2/desktop/Lab/result/lammps/structure-optimization/04/Fdd2-beta-critobalite/data_Fdd2-beta-critobalite_613.xsf\n",
      "/Users/y1u0d2/desktop/Lab/result/lammps/structure-optimization/04/Fdd2-beta-critobalite/data_Fdd2-beta-critobalite_400.xsf\n",
      "/Users/y1u0d2/desktop/Lab/result/lammps/structure-optimization/04/Fdd2-beta-critobalite/data_Fdd2-beta-critobalite_1080.xsf\n",
      "/Users/y1u0d2/desktop/Lab/result/lammps/structure-optimization/04/Fdd2-beta-critobalite/data_Fdd2-beta-critobalite_464.xsf\n",
      "/Users/y1u0d2/desktop/Lab/result/lammps/structure-optimization/04/Fdd2-beta-critobalite/data_Fdd2-beta-critobalite_504.xsf\n",
      "/Users/y1u0d2/desktop/Lab/result/lammps/structure-optimization/04/Fdd2-beta-critobalite/data_Fdd2-beta-critobalite_471.xsf\n",
      "/Users/y1u0d2/desktop/Lab/result/lammps/structure-optimization/04/Fdd2-beta-critobalite/data_Fdd2-beta-critobalite_1034.xsf\n",
      "/Users/y1u0d2/desktop/Lab/result/lammps/structure-optimization/04/hex-trydymite/data_hex-trydymite_598.xsf\n",
      "/Users/y1u0d2/desktop/Lab/result/lammps/structure-optimization/04/hex-trydymite/data_hex-trydymite_148.xsf\n",
      "/Users/y1u0d2/desktop/Lab/result/lammps/structure-optimization/04/hex-trydymite/data_hex-trydymite_362.xsf\n",
      "/Users/y1u0d2/desktop/Lab/result/lammps/structure-optimization/04/hex-trydymite/data_hex-trydymite_840.xsf\n",
      "/Users/y1u0d2/desktop/Lab/result/lammps/structure-optimization/04/hex-trydymite/data_hex-trydymite_927.xsf\n",
      "/Users/y1u0d2/desktop/Lab/result/lammps/structure-optimization/04/hex-trydymite/data_hex-trydymite_720.xsf\n",
      "/Users/y1u0d2/desktop/Lab/result/lammps/structure-optimization/04/hex-trydymite/data_hex-trydymite_333.xsf\n",
      "/Users/y1u0d2/desktop/Lab/result/lammps/structure-optimization/04/hex-trydymite/data_hex-trydymite_778.xsf\n",
      "/Users/y1u0d2/desktop/Lab/result/lammps/structure-optimization/04/hex-trydymite/data_hex-trydymite_237.xsf\n",
      "/Users/y1u0d2/desktop/Lab/result/lammps/structure-optimization/04/hex-trydymite/data_hex-trydymite_46.xsf\n",
      "/Users/y1u0d2/desktop/Lab/result/lammps/structure-optimization/04/stishovite/data_stishovite_543.xsf\n",
      "/Users/y1u0d2/desktop/Lab/result/lammps/structure-optimization/04/stishovite/data_stishovite_591.xsf\n",
      "/Users/y1u0d2/desktop/Lab/result/lammps/structure-optimization/04/stishovite/data_stishovite_481.xsf\n",
      "/Users/y1u0d2/desktop/Lab/result/lammps/structure-optimization/04/stishovite/data_stishovite_297.xsf\n",
      "/Users/y1u0d2/desktop/Lab/result/lammps/structure-optimization/04/stishovite/data_stishovite_528.xsf\n",
      "/Users/y1u0d2/desktop/Lab/result/lammps/structure-optimization/04/stishovite/data_stishovite_46.xsf\n",
      "/Users/y1u0d2/desktop/Lab/result/lammps/structure-optimization/04/stishovite/data_stishovite_128.xsf\n",
      "/Users/y1u0d2/desktop/Lab/result/lammps/structure-optimization/04/stishovite/data_stishovite_670.xsf\n",
      "/Users/y1u0d2/desktop/Lab/result/lammps/structure-optimization/04/stishovite/data_stishovite_659.xsf\n",
      "/Users/y1u0d2/desktop/Lab/result/lammps/structure-optimization/04/stishovite/data_stishovite_31.xsf\n"
     ]
    }
   ],
   "source": [
    "# create all lattice csv\n",
    "for i, structure in enumerate(structures):\n",
    "    dirs = glob.glob(f'{root_dir}/{structure}/*')\n",
    "    for j, _dir in enumerate(dirs):\n",
    "        print(_dir)\n",
    "        if i==0 and j==0:\n",
    "            df = get_last_structure_info_series_from_thermo_csv(dirs[0])\n",
    "            continue\n",
    "        tmp_df = get_last_structure_info_series_from_thermo_csv(_dir)\n",
    "        df = pd.concat([df,tmp_df])\n",
    "df.to_csv(f'{root_dir}/last_structure_info.csv', index=False)"
   ],
   "metadata": {
    "collapsed": false,
    "pycharm": {
     "name": "#%%\n"
    }
   }
  },
  {
   "cell_type": "code",
   "execution_count": 25,
   "outputs": [],
   "source": [],
   "metadata": {
    "collapsed": false,
    "pycharm": {
     "name": "#%%\n"
    }
   }
  },
  {
   "cell_type": "code",
   "execution_count": 77,
   "outputs": [
    {
     "name": "stdout",
     "output_type": "stream",
     "text": [
      "alpha-critobalite 1 1150\n",
      "alpha-quartz 1151 2250\n",
      "beta-quartz 2251 3050\n",
      "beta-trydymite 3051 4300\n",
      "coesite 4301 5500\n",
      "Fdd2-beta-critobalite 5501 6850\n",
      "hex-trydymite 6851 7850\n",
      "stishovite 7851 8550\n"
     ]
    }
   ],
   "source": [
    "from descriptors.base_info import get_reindex_base\n",
    "\n",
    "base_df = get_reindex_base(is_gpu=False)\n",
    "root_dir = '/Users/y1u0d2/desktop/Lab/result/lammps/structure-optimization'\n",
    "\n",
    "def get_dft_compared_df(root_dir, base_df, df):\n",
    "    def get_min_energy_structure_record(structure, original_df):\n",
    "        df = original_df.copy()\n",
    "        structure_df = df[df['last structure'] == structure]\n",
    "        min_e = structure_df.Eng_a.min()\n",
    "        record = structure_df[structure_df.Eng_a == min_e]\n",
    "        if len(record) > 1:\n",
    "            record = record[0:1]\n",
    "        return record\n",
    "    record = get_min_energy_structure_record(structures[0], df)\n",
    "    for structure in structures[1:]:\n",
    "        tmp_record = get_min_energy_structure_record(structure, df)\n",
    "        record = pd.concat([record, tmp_record])\n",
    "\n",
    "    record['is_DFT'] = 0\n",
    "    base_df['Eng_a'] = base_df.E / base_df.natom\n",
    "    dft_min_structure = base_df.groupby('structure',as_index=False).min()\n",
    "    for structure in structures:\n",
    "        print(structure)\n",
    "        nn_energy = record[record['last structure'] == structure].Eng_a\n",
    "        if len(nn_energy) > 0:\n",
    "            nn_energy = nn_energy.iloc[-1]\n",
    "        else:\n",
    "            print(f'not exist {structure}')\n",
    "            continue\n",
    "        dft_energy = dft_min_structure[dft_min_structure.structure == structure].Eng_a.iloc[-1]\n",
    "        if nn_energy < dft_energy:\n",
    "            print(f'energy from nn({nn_energy}) is smaller than energy from dft({dft_energy})')\n",
    "        elif nn_energy > dft_energy:\n",
    "            print(f'energy from nn({nn_energy}) is bigger than energy from dft({dft_energy})')\n",
    "            record.loc[record['last structure'] == structure, ['is_DFT']] = 1\n",
    "        else:\n",
    "            print('something wrong')\n",
    "\n",
    "    return record"
   ],
   "metadata": {
    "collapsed": false,
    "pycharm": {
     "name": "#%%\n"
    }
   }
  },
  {
   "cell_type": "code",
   "execution_count": 79,
   "outputs": [
    {
     "name": "stdout",
     "output_type": "stream",
     "text": [
      "alpha-critobalite\n",
      "energy from nn(-573.421) is smaller than energy from dft(-573.4207506071069)\n",
      "alpha-quartz\n",
      "energy from nn(-573.4316) is bigger than energy from dft(-573.4317867043701)\n",
      "beta-quartz\n",
      "energy from nn(-573.4202) is smaller than energy from dft(-573.4201227063197)\n",
      "beta-trydymite\n",
      "energy from nn(-573.4213) is smaller than energy from dft(-573.4194774367224)\n",
      "coesite\n",
      "energy from nn(-573.4275) is bigger than energy from dft(-573.427720351426)\n",
      "Fdd2-beta-critobalite\n",
      "energy from nn(-573.4216) is smaller than energy from dft(-573.4211688633321)\n",
      "hex-trydymite\n",
      "not exist hex-trydymite\n",
      "stishovite\n",
      "energy from nn(-573.4343) is smaller than energy from dft(-573.4338082128206)\n",
      "alpha-critobalite\n",
      "energy from nn(-573.4227) is smaller than energy from dft(-573.4207506071069)\n",
      "alpha-quartz\n",
      "energy from nn(-573.433) is smaller than energy from dft(-573.4317867043701)\n",
      "beta-quartz\n",
      "energy from nn(-573.4213) is smaller than energy from dft(-573.4201227063197)\n",
      "beta-trydymite\n",
      "energy from nn(-573.4357) is smaller than energy from dft(-573.4194774367224)\n",
      "coesite\n",
      "energy from nn(-573.428) is smaller than energy from dft(-573.427720351426)\n",
      "Fdd2-beta-critobalite\n",
      "energy from nn(-573.4216) is smaller than energy from dft(-573.4211688633321)\n",
      "hex-trydymite\n",
      "not exist hex-trydymite\n",
      "stishovite\n",
      "energy from nn(-573.4337) is bigger than energy from dft(-573.4338082128206)\n",
      "alpha-critobalite\n",
      "energy from nn(-573.4217) is smaller than energy from dft(-573.4207506071069)\n",
      "alpha-quartz\n",
      "energy from nn(-573.4336) is smaller than energy from dft(-573.4317867043701)\n",
      "beta-quartz\n",
      "energy from nn(-573.4217) is smaller than energy from dft(-573.4201227063197)\n",
      "beta-trydymite\n",
      "energy from nn(-573.4211) is smaller than energy from dft(-573.4194774367224)\n",
      "coesite\n",
      "energy from nn(-573.4283) is smaller than energy from dft(-573.427720351426)\n",
      "Fdd2-beta-critobalite\n",
      "energy from nn(-573.4223) is smaller than energy from dft(-573.4211688633321)\n",
      "hex-trydymite\n",
      "not exist hex-trydymite\n",
      "stishovite\n",
      "energy from nn(-573.4331) is bigger than energy from dft(-573.4338082128206)\n",
      "alpha-critobalite\n",
      "energy from nn(-573.4271) is smaller than energy from dft(-573.4207506071069)\n",
      "alpha-quartz\n",
      "energy from nn(-573.433) is smaller than energy from dft(-573.4317867043701)\n",
      "beta-quartz\n",
      "energy from nn(-573.4202) is smaller than energy from dft(-573.4201227063197)\n",
      "beta-trydymite\n",
      "energy from nn(-573.4254) is smaller than energy from dft(-573.4194774367224)\n",
      "coesite\n",
      "energy from nn(-573.4282) is smaller than energy from dft(-573.427720351426)\n",
      "Fdd2-beta-critobalite\n",
      "energy from nn(-573.4214) is smaller than energy from dft(-573.4211688633321)\n",
      "hex-trydymite\n",
      "not exist hex-trydymite\n",
      "stishovite\n",
      "energy from nn(-573.4428) is smaller than energy from dft(-573.4338082128206)\n",
      "alpha-critobalite\n",
      "energy from nn(-573.4215) is smaller than energy from dft(-573.4207506071069)\n",
      "alpha-quartz\n",
      "energy from nn(-573.4318) is smaller than energy from dft(-573.4317867043701)\n",
      "beta-quartz\n",
      "energy from nn(-573.4206) is smaller than energy from dft(-573.4201227063197)\n",
      "beta-trydymite\n",
      "energy from nn(-573.4205) is smaller than energy from dft(-573.4194774367224)\n",
      "coesite\n",
      "energy from nn(-573.4277) is bigger than energy from dft(-573.427720351426)\n",
      "Fdd2-beta-critobalite\n",
      "energy from nn(-573.4215) is smaller than energy from dft(-573.4211688633321)\n",
      "hex-trydymite\n",
      "energy from nn(-573.4093) is smaller than energy from dft(-573.4089363186046)\n",
      "stishovite\n",
      "energy from nn(-573.4362) is smaller than energy from dft(-573.4338082128206)\n",
      "alpha-critobalite\n",
      "energy from nn(-573.4212) is smaller than energy from dft(-573.4207506071069)\n",
      "alpha-quartz\n",
      "energy from nn(-573.4326) is smaller than energy from dft(-573.4317867043701)\n",
      "beta-quartz\n",
      "energy from nn(-573.4205) is smaller than energy from dft(-573.4201227063197)\n",
      "beta-trydymite\n",
      "energy from nn(-573.4203) is smaller than energy from dft(-573.4194774367224)\n",
      "coesite\n",
      "energy from nn(-573.4278) is smaller than energy from dft(-573.427720351426)\n",
      "Fdd2-beta-critobalite\n",
      "energy from nn(-573.4217) is smaller than energy from dft(-573.4211688633321)\n",
      "hex-trydymite\n",
      "energy from nn(-573.4091) is smaller than energy from dft(-573.4089363186046)\n",
      "stishovite\n",
      "energy from nn(-573.4414) is smaller than energy from dft(-573.4338082128206)\n",
      "alpha-critobalite\n",
      "energy from nn(-573.4228) is smaller than energy from dft(-573.4207506071069)\n",
      "alpha-quartz\n",
      "energy from nn(-573.4322) is smaller than energy from dft(-573.4317867043701)\n",
      "beta-quartz\n",
      "energy from nn(-573.421) is smaller than energy from dft(-573.4201227063197)\n",
      "beta-trydymite\n",
      "energy from nn(-573.4277) is smaller than energy from dft(-573.4194774367224)\n",
      "coesite\n",
      "energy from nn(-573.428) is smaller than energy from dft(-573.427720351426)\n",
      "Fdd2-beta-critobalite\n",
      "energy from nn(-573.4219) is smaller than energy from dft(-573.4211688633321)\n",
      "hex-trydymite\n",
      "energy from nn(-573.409) is smaller than energy from dft(-573.4089363186046)\n",
      "stishovite\n",
      "energy from nn(-573.435) is smaller than energy from dft(-573.4338082128206)\n"
     ]
    }
   ],
   "source": [
    "sheet_names = ['01', '02', '03', '04', '05', '06', '07']\n",
    "with pd.ExcelWriter(f'{root_dir}/dft_compare_result.xlsx') as writer:\n",
    "    for sheet_name in sheet_names:\n",
    "        df = pd.read_excel(f'{root_dir}/select_structure.xlsx', sheet_name=f'{sheet_name}')\n",
    "        record = get_dft_compared_df(root_dir, base_df, df)\n",
    "        record.to_excel(writer, sheet_name=f'{sheet_name}')"
   ],
   "metadata": {
    "collapsed": false,
    "pycharm": {
     "name": "#%%\n"
    }
   }
  },
  {
   "cell_type": "code",
   "execution_count": 74,
   "outputs": [
    {
     "data": {
      "text/plain": "                structure    idx  natom     TotEng  Temp         Lx  \\\n6       alpha-critobalite  132.0   48.0 -27524.230   0.0   9.932049   \n12           alpha-quartz  326.0   36.0 -20643.545   0.0   9.758075   \n21            beta-quartz    2.0   36.0 -20643.141   0.0  10.111269   \n33         beta-trydymite  567.0   48.0 -27524.182   0.0  10.095901   \n45                coesite  457.0   24.0 -13762.265   0.0   7.122698   \n50  Fdd2-beta-critobalite  108.0   48.0 -27524.234   0.0  10.104371   \n69          hex-trydymite   46.0   48.0 -27523.646   0.0  10.438013   \n72             stishovite  481.0   48.0 -27524.940   0.0   8.278472   \n\n       Volume     Eng_a         last structure  is_DFT  \n6   673.45137 -573.4215      alpha-critobalite       0  \n12  443.21180 -573.4318           alpha-quartz       0  \n21  487.90483 -573.4206            beta-quartz       0  \n33  698.72486 -573.4205         beta-trydymite       0  \n45  271.09392 -573.4277                coesite       1  \n50  702.82095 -573.4215  Fdd2-beta-critobalite       0  \n69  803.49211 -573.4093          hex-trydymite       0  \n72  369.06861 -573.4362             stishovite       0  ",
      "text/html": "<div>\n<style scoped>\n    .dataframe tbody tr th:only-of-type {\n        vertical-align: middle;\n    }\n\n    .dataframe tbody tr th {\n        vertical-align: top;\n    }\n\n    .dataframe thead th {\n        text-align: right;\n    }\n</style>\n<table border=\"1\" class=\"dataframe\">\n  <thead>\n    <tr style=\"text-align: right;\">\n      <th></th>\n      <th>structure</th>\n      <th>idx</th>\n      <th>natom</th>\n      <th>TotEng</th>\n      <th>Temp</th>\n      <th>Lx</th>\n      <th>Volume</th>\n      <th>Eng_a</th>\n      <th>last structure</th>\n      <th>is_DFT</th>\n    </tr>\n  </thead>\n  <tbody>\n    <tr>\n      <th>6</th>\n      <td>alpha-critobalite</td>\n      <td>132.0</td>\n      <td>48.0</td>\n      <td>-27524.230</td>\n      <td>0.0</td>\n      <td>9.932049</td>\n      <td>673.45137</td>\n      <td>-573.4215</td>\n      <td>alpha-critobalite</td>\n      <td>0</td>\n    </tr>\n    <tr>\n      <th>12</th>\n      <td>alpha-quartz</td>\n      <td>326.0</td>\n      <td>36.0</td>\n      <td>-20643.545</td>\n      <td>0.0</td>\n      <td>9.758075</td>\n      <td>443.21180</td>\n      <td>-573.4318</td>\n      <td>alpha-quartz</td>\n      <td>0</td>\n    </tr>\n    <tr>\n      <th>21</th>\n      <td>beta-quartz</td>\n      <td>2.0</td>\n      <td>36.0</td>\n      <td>-20643.141</td>\n      <td>0.0</td>\n      <td>10.111269</td>\n      <td>487.90483</td>\n      <td>-573.4206</td>\n      <td>beta-quartz</td>\n      <td>0</td>\n    </tr>\n    <tr>\n      <th>33</th>\n      <td>beta-trydymite</td>\n      <td>567.0</td>\n      <td>48.0</td>\n      <td>-27524.182</td>\n      <td>0.0</td>\n      <td>10.095901</td>\n      <td>698.72486</td>\n      <td>-573.4205</td>\n      <td>beta-trydymite</td>\n      <td>0</td>\n    </tr>\n    <tr>\n      <th>45</th>\n      <td>coesite</td>\n      <td>457.0</td>\n      <td>24.0</td>\n      <td>-13762.265</td>\n      <td>0.0</td>\n      <td>7.122698</td>\n      <td>271.09392</td>\n      <td>-573.4277</td>\n      <td>coesite</td>\n      <td>1</td>\n    </tr>\n    <tr>\n      <th>50</th>\n      <td>Fdd2-beta-critobalite</td>\n      <td>108.0</td>\n      <td>48.0</td>\n      <td>-27524.234</td>\n      <td>0.0</td>\n      <td>10.104371</td>\n      <td>702.82095</td>\n      <td>-573.4215</td>\n      <td>Fdd2-beta-critobalite</td>\n      <td>0</td>\n    </tr>\n    <tr>\n      <th>69</th>\n      <td>hex-trydymite</td>\n      <td>46.0</td>\n      <td>48.0</td>\n      <td>-27523.646</td>\n      <td>0.0</td>\n      <td>10.438013</td>\n      <td>803.49211</td>\n      <td>-573.4093</td>\n      <td>hex-trydymite</td>\n      <td>0</td>\n    </tr>\n    <tr>\n      <th>72</th>\n      <td>stishovite</td>\n      <td>481.0</td>\n      <td>48.0</td>\n      <td>-27524.940</td>\n      <td>0.0</td>\n      <td>8.278472</td>\n      <td>369.06861</td>\n      <td>-573.4362</td>\n      <td>stishovite</td>\n      <td>0</td>\n    </tr>\n  </tbody>\n</table>\n</div>"
     },
     "execution_count": 74,
     "metadata": {},
     "output_type": "execute_result"
    }
   ],
   "source": [],
   "metadata": {
    "collapsed": false,
    "pycharm": {
     "name": "#%%\n"
    }
   }
  },
  {
   "cell_type": "code",
   "execution_count": 62,
   "outputs": [],
   "source": [],
   "metadata": {
    "collapsed": false,
    "pycharm": {
     "name": "#%%\n"
    }
   }
  },
  {
   "cell_type": "code",
   "execution_count": 62,
   "outputs": [],
   "source": [],
   "metadata": {
    "collapsed": false,
    "pycharm": {
     "name": "#%%\n"
    }
   }
  },
  {
   "cell_type": "code",
   "execution_count": 62,
   "outputs": [],
   "source": [],
   "metadata": {
    "collapsed": false,
    "pycharm": {
     "name": "#%%\n"
    }
   }
  },
  {
   "cell_type": "code",
   "execution_count": 36,
   "outputs": [],
   "source": [],
   "metadata": {
    "collapsed": false,
    "pycharm": {
     "name": "#%%\n"
    }
   }
  },
  {
   "cell_type": "code",
   "execution_count": 36,
   "outputs": [],
   "source": [],
   "metadata": {
    "collapsed": false,
    "pycharm": {
     "name": "#%%\n"
    }
   }
  },
  {
   "cell_type": "code",
   "execution_count": null,
   "outputs": [],
   "source": [],
   "metadata": {
    "collapsed": false,
    "pycharm": {
     "name": "#%%\n"
    }
   }
  }
 ],
 "metadata": {
  "kernelspec": {
   "display_name": "Python 3",
   "language": "python",
   "name": "python3"
  },
  "language_info": {
   "codemirror_mode": {
    "name": "ipython",
    "version": 2
   },
   "file_extension": ".py",
   "mimetype": "text/x-python",
   "name": "python",
   "nbconvert_exporter": "python",
   "pygments_lexer": "ipython2",
   "version": "2.7.6"
  }
 },
 "nbformat": 4,
 "nbformat_minor": 0
}