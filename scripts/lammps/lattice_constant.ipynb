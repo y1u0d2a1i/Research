{
 "cells": [
  {
   "cell_type": "code",
   "execution_count": 34,
   "metadata": {
    "collapsed": true
   },
   "outputs": [],
   "source": [
    "# calculate lattice constant and angle\n",
    "import numpy as np\n",
    "import pandas as pd\n",
    "\n",
    "def calc_angle(vec1, vec2):\n",
    "    inner = np.inner(vec1, vec2)\n",
    "    norm1 = np.linalg.norm(vec1)\n",
    "    norm2 = np.linalg.norm(vec2)\n",
    "    theta = np.arccos(inner/(norm1*norm2))\n",
    "    return np.rad2deg(theta)\n",
    "\n",
    "def calc_lattice_constant(vector):\n",
    "    a = np.linalg.norm(vector['a'], ord=2)\n",
    "    b = np.linalg.norm(vector['b'], ord=2)\n",
    "    c = np.linalg.norm(vector['c'], ord=2)\n",
    "    return [round(a,3),round(b,3),round(c,3)]\n",
    "\n",
    "def calc_lattice_angle(vector):\n",
    "    alpha = calc_angle(vector['b'], vector['c'])\n",
    "    beta = calc_angle(vector['a'], vector['c'])\n",
    "    gamma = calc_angle(vector['a'], vector['b'])\n",
    "    return [round(alpha,2), round(beta,2), round(gamma,2)]"
   ]
  },
  {
   "cell_type": "code",
   "execution_count": 34,
   "outputs": [],
   "source": [],
   "metadata": {
    "collapsed": false,
    "pycharm": {
     "name": "#%%\n"
    }
   }
  },
  {
   "cell_type": "code",
   "execution_count": 35,
   "outputs": [
    {
     "name": "stdout",
     "output_type": "stream",
     "text": [
      "stishovite\n",
      "alpha-critobalite\n",
      "beta-quartz\n",
      "coesite\n",
      "Fdd2-beta-critobalite\n",
      "beta-trydymite\n",
      "alpha-quartz\n",
      "hex-trydymite\n"
     ]
    }
   ],
   "source": [
    "import glob\n",
    "import csv\n",
    "\n",
    "path_to_stable_xsf = '/Users/y1u0d2/Desktop/Lab/data/stable-structure/xsf'\n",
    "path_to_csv = '/Users/y1u0d2/desktop/Lab/data/stable-structure'\n",
    "\n",
    "files = glob.glob(f'{path_to_stable_xsf}/*.xsf')\n",
    "lattice_info_arr = []\n",
    "for i, file in enumerate(files):\n",
    "    l_vector = {}\n",
    "    structure = file.split('/')[-1].split('_')[1]\n",
    "    print(structure)\n",
    "    with open(file, mode='r') as f:\n",
    "        l_strip = [s.strip() for s in f.readlines()]\n",
    "        l_vector['a'] = [float(i) for i in l_strip[2].split(' ')]\n",
    "        l_vector['b'] = [float(i) for i in l_strip[3].split(' ')]\n",
    "        l_vector['c'] = [float(i) for i in l_strip[4].split(' ')]\n",
    "    lattice_constant = calc_lattice_constant(l_vector)\n",
    "    lattice_angle = calc_lattice_angle(l_vector)\n",
    "    lattice_constant.insert(0, structure)\n",
    "    lattice_constant.extend(lattice_angle)\n",
    "    lattice_info_arr.append(lattice_constant)"
   ],
   "metadata": {
    "collapsed": false,
    "pycharm": {
     "name": "#%%\n"
    }
   }
  },
  {
   "cell_type": "code",
   "execution_count": 36,
   "outputs": [],
   "source": [
    "csv_header = ['structure', 'a', 'b', 'c', 'alpha', 'beta', 'gamma']\n",
    "with open(f'{path_to_csv}/lattice_info.csv', 'w') as f:\n",
    "    writer = csv.writer(f)\n",
    "    writer.writerow(csv_header)\n",
    "    for info in lattice_info_arr:\n",
    "        writer.writerow(info)"
   ],
   "metadata": {
    "collapsed": false,
    "pycharm": {
     "name": "#%%\n"
    }
   }
  },
  {
   "cell_type": "code",
   "execution_count": null,
   "outputs": [],
   "source": [],
   "metadata": {
    "collapsed": false,
    "pycharm": {
     "name": "#%%\n"
    }
   }
  }
 ],
 "metadata": {
  "kernelspec": {
   "display_name": "Python 3",
   "language": "python",
   "name": "python3"
  },
  "language_info": {
   "codemirror_mode": {
    "name": "ipython",
    "version": 2
   },
   "file_extension": ".py",
   "mimetype": "text/x-python",
   "name": "python",
   "nbconvert_exporter": "python",
   "pygments_lexer": "ipython2",
   "version": "2.7.6"
  }
 },
 "nbformat": 4,
 "nbformat_minor": 0
}