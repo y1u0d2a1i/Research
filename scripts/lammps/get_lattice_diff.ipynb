{
 "cells": [
  {
   "cell_type": "code",
   "execution_count": 1,
   "metadata": {
    "collapsed": true
   },
   "outputs": [],
   "source": [
    "import pandas as pd\n",
    "import os\n",
    "\n",
    "PATH_TO_STABLE = '/Users/y1u0d2/Desktop/Lab/data/stable-structure'\n",
    "ROOT_PATH = '/Users/y1u0d2/desktop/Lab/result/lammps/structure-optimization/10'\n",
    "\n",
    "STRUCTURE_FILTER = {\n",
    "    'alpha-critobalite':46,\n",
    "    'alpha-quartz':326,\n",
    "    'beta-quartz':213,\n",
    "    # 'beta-trydymite':567,\n",
    "    'coesite':457,\n",
    "    'Fdd2-beta-critobalite':1034,\n",
    "    'hex-trydymite': 720,\n",
    "    # 'hex-trydymite': 46,\n",
    "    'stishovite':481\n",
    "}\n",
    "\n",
    "dft_df = pd.read_csv(os.path.join(PATH_TO_STABLE, 'lattice_info.csv'))\n",
    "nn_df = pd.read_csv(os.path.join(ROOT_PATH, 'lattice.csv'))"
   ]
  },
  {
   "cell_type": "code",
   "execution_count": 2,
   "outputs": [],
   "source": [
    "def get_structure_record(structure, idx, df):\n",
    "    record = df[(df.structure == structure) & (df.idx == idx)].copy()\n",
    "    return record\n",
    "items = list(STRUCTURE_FILTER.items())\n",
    "record = get_structure_record(items[0][0], items[0][1], nn_df)\n",
    "for k, v in items[1:]:\n",
    "    tmp_record = get_structure_record(k, v, nn_df)\n",
    "    record = pd.concat([record, tmp_record])"
   ],
   "metadata": {
    "collapsed": false,
    "pycharm": {
     "name": "#%%\n"
    }
   }
  },
  {
   "cell_type": "code",
   "execution_count": 3,
   "outputs": [],
   "source": [
    "dft_nn_df = pd.merge(dft_df, record, on='structure')"
   ],
   "metadata": {
    "collapsed": false,
    "pycharm": {
     "name": "#%%\n"
    }
   }
  },
  {
   "cell_type": "code",
   "execution_count": 4,
   "outputs": [],
   "source": [
    "dft_nn_df['a_diff'] = ((dft_nn_df.Cella - dft_nn_df.a) / dft_nn_df.a) * 100\n",
    "dft_nn_df['b_diff'] = ((dft_nn_df.Cellb - dft_nn_df.b) / dft_nn_df.b) * 100\n",
    "dft_nn_df['c_diff'] = ((dft_nn_df.Cellc - dft_nn_df.c) / dft_nn_df.c) * 100\n",
    "\n",
    "dft_nn_df['alpha_diff'] = ((dft_nn_df.CellAlpha - dft_nn_df.alpha) / dft_nn_df.alpha) * 100\n",
    "dft_nn_df['beta_diff'] = ((dft_nn_df.CellBeta - dft_nn_df.beta) / dft_nn_df.beta) * 100\n",
    "dft_nn_df['gamma_diff'] = ((dft_nn_df.CellGamma - dft_nn_df.gamma) / dft_nn_df.gamma) * 100\n",
    "\n",
    "dft_nn_df.drop(['a','b','c','alpha','beta','gamma'], axis=1, inplace=True)\n",
    "dft_nn_df.to_csv(os.path.join(ROOT_PATH, 'lattice_diff_.csv'), index=False)"
   ],
   "metadata": {
    "collapsed": false,
    "pycharm": {
     "name": "#%%\n"
    }
   }
  },
  {
   "cell_type": "code",
   "execution_count": 5,
   "outputs": [
    {
     "data": {
      "text/plain": "               structure   idx      Cella      Cellb      Cellc   CellAlpha  \\\n0             stishovite   481   8.272545   8.272545   5.381405   90.000000   \n1      alpha-critobalite    46  10.069243  10.069243   7.117165   90.000000   \n2            beta-quartz   213  10.055251  10.055251   5.578277   90.000000   \n3                coesite   457   7.124259   7.124259   7.096453  104.250730   \n4  Fdd2-beta-critobalite  1034  10.125049  10.125049  10.125123   59.999757   \n5           alpha-quartz   326   9.750286   9.750286   5.370388   90.000000   \n6          hex-trydymite   720  10.445156  10.445156   8.523987   90.000000   \n\n     CellBeta   CellGamma    a_diff    b_diff    c_diff  alpha_diff  \\\n0   90.000000   90.000000 -0.486641 -0.486641  0.926566    0.000000   \n1   90.000000   90.000000  1.484005  1.484005  3.177228    0.000000   \n2   90.000000  120.000000  1.516921  1.516921  1.515509    0.000000   \n3  104.250730  120.056880 -0.080523 -0.080523  0.232394    0.087106   \n4   59.999757   60.000487  0.248010  0.248010  2.647232   -1.267472   \n5   90.000000  120.000000 -0.130221 -0.130221 -0.122968    0.000000   \n6   90.000000  120.000000  0.001494  0.001494  0.023318    0.000000   \n\n   beta_diff  gamma_diff  \n0   0.000000    0.000000  \n1   0.000000    0.000000  \n2   0.000000    0.000000  \n3   0.087106   -0.069186  \n4  -1.267472    2.635113  \n5   0.000000    0.000000  \n6   0.000000    0.000000  ",
      "text/html": "<div>\n<style scoped>\n    .dataframe tbody tr th:only-of-type {\n        vertical-align: middle;\n    }\n\n    .dataframe tbody tr th {\n        vertical-align: top;\n    }\n\n    .dataframe thead th {\n        text-align: right;\n    }\n</style>\n<table border=\"1\" class=\"dataframe\">\n  <thead>\n    <tr style=\"text-align: right;\">\n      <th></th>\n      <th>structure</th>\n      <th>idx</th>\n      <th>Cella</th>\n      <th>Cellb</th>\n      <th>Cellc</th>\n      <th>CellAlpha</th>\n      <th>CellBeta</th>\n      <th>CellGamma</th>\n      <th>a_diff</th>\n      <th>b_diff</th>\n      <th>c_diff</th>\n      <th>alpha_diff</th>\n      <th>beta_diff</th>\n      <th>gamma_diff</th>\n    </tr>\n  </thead>\n  <tbody>\n    <tr>\n      <th>0</th>\n      <td>stishovite</td>\n      <td>481</td>\n      <td>8.272545</td>\n      <td>8.272545</td>\n      <td>5.381405</td>\n      <td>90.000000</td>\n      <td>90.000000</td>\n      <td>90.000000</td>\n      <td>-0.486641</td>\n      <td>-0.486641</td>\n      <td>0.926566</td>\n      <td>0.000000</td>\n      <td>0.000000</td>\n      <td>0.000000</td>\n    </tr>\n    <tr>\n      <th>1</th>\n      <td>alpha-critobalite</td>\n      <td>46</td>\n      <td>10.069243</td>\n      <td>10.069243</td>\n      <td>7.117165</td>\n      <td>90.000000</td>\n      <td>90.000000</td>\n      <td>90.000000</td>\n      <td>1.484005</td>\n      <td>1.484005</td>\n      <td>3.177228</td>\n      <td>0.000000</td>\n      <td>0.000000</td>\n      <td>0.000000</td>\n    </tr>\n    <tr>\n      <th>2</th>\n      <td>beta-quartz</td>\n      <td>213</td>\n      <td>10.055251</td>\n      <td>10.055251</td>\n      <td>5.578277</td>\n      <td>90.000000</td>\n      <td>90.000000</td>\n      <td>120.000000</td>\n      <td>1.516921</td>\n      <td>1.516921</td>\n      <td>1.515509</td>\n      <td>0.000000</td>\n      <td>0.000000</td>\n      <td>0.000000</td>\n    </tr>\n    <tr>\n      <th>3</th>\n      <td>coesite</td>\n      <td>457</td>\n      <td>7.124259</td>\n      <td>7.124259</td>\n      <td>7.096453</td>\n      <td>104.250730</td>\n      <td>104.250730</td>\n      <td>120.056880</td>\n      <td>-0.080523</td>\n      <td>-0.080523</td>\n      <td>0.232394</td>\n      <td>0.087106</td>\n      <td>0.087106</td>\n      <td>-0.069186</td>\n    </tr>\n    <tr>\n      <th>4</th>\n      <td>Fdd2-beta-critobalite</td>\n      <td>1034</td>\n      <td>10.125049</td>\n      <td>10.125049</td>\n      <td>10.125123</td>\n      <td>59.999757</td>\n      <td>59.999757</td>\n      <td>60.000487</td>\n      <td>0.248010</td>\n      <td>0.248010</td>\n      <td>2.647232</td>\n      <td>-1.267472</td>\n      <td>-1.267472</td>\n      <td>2.635113</td>\n    </tr>\n    <tr>\n      <th>5</th>\n      <td>alpha-quartz</td>\n      <td>326</td>\n      <td>9.750286</td>\n      <td>9.750286</td>\n      <td>5.370388</td>\n      <td>90.000000</td>\n      <td>90.000000</td>\n      <td>120.000000</td>\n      <td>-0.130221</td>\n      <td>-0.130221</td>\n      <td>-0.122968</td>\n      <td>0.000000</td>\n      <td>0.000000</td>\n      <td>0.000000</td>\n    </tr>\n    <tr>\n      <th>6</th>\n      <td>hex-trydymite</td>\n      <td>720</td>\n      <td>10.445156</td>\n      <td>10.445156</td>\n      <td>8.523987</td>\n      <td>90.000000</td>\n      <td>90.000000</td>\n      <td>120.000000</td>\n      <td>0.001494</td>\n      <td>0.001494</td>\n      <td>0.023318</td>\n      <td>0.000000</td>\n      <td>0.000000</td>\n      <td>0.000000</td>\n    </tr>\n  </tbody>\n</table>\n</div>"
     },
     "execution_count": 5,
     "metadata": {},
     "output_type": "execute_result"
    }
   ],
   "source": [
    "dft_nn_df"
   ],
   "metadata": {
    "collapsed": false,
    "pycharm": {
     "name": "#%%\n"
    }
   }
  },
  {
   "cell_type": "code",
   "execution_count": 6,
   "outputs": [
    {
     "data": {
      "text/plain": "            structure   idx      Cella      Cellb     Cellc  CellAlpha  \\\n0   alpha-critobalite    46  10.069243  10.069243  7.117165       90.0   \n1   alpha-critobalite   666  10.067804  10.067804  7.116156       90.0   \n2   alpha-critobalite   840  10.145744  10.145744  7.174267       90.0   \n3   alpha-critobalite   894  10.064109  10.064109  7.114902       90.0   \n4   alpha-critobalite  1056   9.903773   9.903773  6.707773       90.0   \n..                ...   ...        ...        ...       ...        ...   \n75         stishovite    46   8.334115   8.334115  5.323685       90.0   \n76         stishovite   128   8.309354   8.309354  5.346749       90.0   \n77         stishovite   670   8.275594   8.275594  5.378545       90.0   \n78         stishovite   659   8.275564   8.275564  5.378526       90.0   \n79         stishovite    31   8.334169   8.334169  5.323721       90.0   \n\n    CellBeta  CellGamma  \n0       90.0       90.0  \n1       90.0       90.0  \n2       90.0       90.0  \n3       90.0       90.0  \n4       90.0       90.0  \n..       ...        ...  \n75      90.0       90.0  \n76      90.0       90.0  \n77      90.0       90.0  \n78      90.0       90.0  \n79      90.0       90.0  \n\n[80 rows x 8 columns]",
      "text/html": "<div>\n<style scoped>\n    .dataframe tbody tr th:only-of-type {\n        vertical-align: middle;\n    }\n\n    .dataframe tbody tr th {\n        vertical-align: top;\n    }\n\n    .dataframe thead th {\n        text-align: right;\n    }\n</style>\n<table border=\"1\" class=\"dataframe\">\n  <thead>\n    <tr style=\"text-align: right;\">\n      <th></th>\n      <th>structure</th>\n      <th>idx</th>\n      <th>Cella</th>\n      <th>Cellb</th>\n      <th>Cellc</th>\n      <th>CellAlpha</th>\n      <th>CellBeta</th>\n      <th>CellGamma</th>\n    </tr>\n  </thead>\n  <tbody>\n    <tr>\n      <th>0</th>\n      <td>alpha-critobalite</td>\n      <td>46</td>\n      <td>10.069243</td>\n      <td>10.069243</td>\n      <td>7.117165</td>\n      <td>90.0</td>\n      <td>90.0</td>\n      <td>90.0</td>\n    </tr>\n    <tr>\n      <th>1</th>\n      <td>alpha-critobalite</td>\n      <td>666</td>\n      <td>10.067804</td>\n      <td>10.067804</td>\n      <td>7.116156</td>\n      <td>90.0</td>\n      <td>90.0</td>\n      <td>90.0</td>\n    </tr>\n    <tr>\n      <th>2</th>\n      <td>alpha-critobalite</td>\n      <td>840</td>\n      <td>10.145744</td>\n      <td>10.145744</td>\n      <td>7.174267</td>\n      <td>90.0</td>\n      <td>90.0</td>\n      <td>90.0</td>\n    </tr>\n    <tr>\n      <th>3</th>\n      <td>alpha-critobalite</td>\n      <td>894</td>\n      <td>10.064109</td>\n      <td>10.064109</td>\n      <td>7.114902</td>\n      <td>90.0</td>\n      <td>90.0</td>\n      <td>90.0</td>\n    </tr>\n    <tr>\n      <th>4</th>\n      <td>alpha-critobalite</td>\n      <td>1056</td>\n      <td>9.903773</td>\n      <td>9.903773</td>\n      <td>6.707773</td>\n      <td>90.0</td>\n      <td>90.0</td>\n      <td>90.0</td>\n    </tr>\n    <tr>\n      <th>...</th>\n      <td>...</td>\n      <td>...</td>\n      <td>...</td>\n      <td>...</td>\n      <td>...</td>\n      <td>...</td>\n      <td>...</td>\n      <td>...</td>\n    </tr>\n    <tr>\n      <th>75</th>\n      <td>stishovite</td>\n      <td>46</td>\n      <td>8.334115</td>\n      <td>8.334115</td>\n      <td>5.323685</td>\n      <td>90.0</td>\n      <td>90.0</td>\n      <td>90.0</td>\n    </tr>\n    <tr>\n      <th>76</th>\n      <td>stishovite</td>\n      <td>128</td>\n      <td>8.309354</td>\n      <td>8.309354</td>\n      <td>5.346749</td>\n      <td>90.0</td>\n      <td>90.0</td>\n      <td>90.0</td>\n    </tr>\n    <tr>\n      <th>77</th>\n      <td>stishovite</td>\n      <td>670</td>\n      <td>8.275594</td>\n      <td>8.275594</td>\n      <td>5.378545</td>\n      <td>90.0</td>\n      <td>90.0</td>\n      <td>90.0</td>\n    </tr>\n    <tr>\n      <th>78</th>\n      <td>stishovite</td>\n      <td>659</td>\n      <td>8.275564</td>\n      <td>8.275564</td>\n      <td>5.378526</td>\n      <td>90.0</td>\n      <td>90.0</td>\n      <td>90.0</td>\n    </tr>\n    <tr>\n      <th>79</th>\n      <td>stishovite</td>\n      <td>31</td>\n      <td>8.334169</td>\n      <td>8.334169</td>\n      <td>5.323721</td>\n      <td>90.0</td>\n      <td>90.0</td>\n      <td>90.0</td>\n    </tr>\n  </tbody>\n</table>\n<p>80 rows × 8 columns</p>\n</div>"
     },
     "execution_count": 6,
     "metadata": {},
     "output_type": "execute_result"
    }
   ],
   "source": [
    "nn_df"
   ],
   "metadata": {
    "collapsed": false,
    "pycharm": {
     "name": "#%%\n"
    }
   }
  },
  {
   "cell_type": "code",
   "execution_count": 6,
   "outputs": [],
   "source": [],
   "metadata": {
    "collapsed": false,
    "pycharm": {
     "name": "#%%\n"
    }
   }
  }
 ],
 "metadata": {
  "kernelspec": {
   "display_name": "Python 3",
   "language": "python",
   "name": "python3"
  },
  "language_info": {
   "codemirror_mode": {
    "name": "ipython",
    "version": 2
   },
   "file_extension": ".py",
   "mimetype": "text/x-python",
   "name": "python",
   "nbconvert_exporter": "python",
   "pygments_lexer": "ipython2",
   "version": "2.7.6"
  }
 },
 "nbformat": 4,
 "nbformat_minor": 0
}