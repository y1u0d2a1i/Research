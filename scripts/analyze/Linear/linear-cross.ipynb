{
 "cells": [
  {
   "cell_type": "code",
   "execution_count": 8,
   "metadata": {
    "collapsed": true,
    "pycharm": {
     "name": "#%%\n"
    }
   },
   "outputs": [],
   "source": [
    "import pandas as pd\n",
    "import numpy as np\n",
    "import matplotlib.pyplot as plt\n",
    "import seaborn as sns\n",
    "csv_path= '/Users/y1u0d2/Desktop/Lab/result/sf/merge_base/merge_O-O.csv'\n",
    "\n",
    "df = pd.read_csv(csv_path)\n",
    "descriptor_labels = []\n",
    "for column in df.columns:\n",
    "    if 'sf_' in column:\n",
    "        descriptor_labels.append(column)\n",
    "target_label ='E_atom'\n",
    "Xraw = df.loc[:, descriptor_labels].values\n",
    "y = df.loc[:, target_label].values"
   ]
  },
  {
   "cell_type": "code",
   "execution_count": 9,
   "outputs": [],
   "source": [
    "from sklearn.preprocessing import StandardScaler\n",
    "if True:\n",
    "    scaler = StandardScaler()\n",
    "    scaler.fit(Xraw)\n",
    "    X = scaler.transform(Xraw)\n",
    "else:\n",
    "    X = Xraw\n",
    "\n"
   ],
   "metadata": {
    "collapsed": false,
    "pycharm": {
     "name": "#%%\n"
    }
   }
  },
  {
   "cell_type": "code",
   "execution_count": 10,
   "outputs": [
    {
     "data": {
      "text/plain": "(0.019311286988202357, 0.005979029402542877)"
     },
     "execution_count": 10,
     "metadata": {},
     "output_type": "execute_result"
    }
   ],
   "source": [
    "from sklearn.metrics import r2_score\n",
    "from sklearn.linear_model import LinearRegression\n",
    "from sklearn.model_selection import KFold\n",
    "\n",
    "\n",
    "def linear_regression_CV_score(X, y, n_splits=10, random_state=1):\n",
    "    \"\"\"linear regression with cross validation sore\n",
    "\n",
    "    Args:\n",
    "        X (np.array): descriptor\n",
    "        y (np.array): target variable\n",
    "        n_splits (int, optional): the number of splits in CV. Defaults to 10.\n",
    "        random_state (int, optional): random state in KFold(). Defaults to 1.\n",
    "\n",
    "    Returns:\n",
    "        float: the mean value of the CV score\n",
    "        float: the stddev value of the CV score\n",
    "    \"\"\"\n",
    "    reg = LinearRegression()\n",
    "    kf = KFold(n_splits=n_splits, shuffle=True, random_state=random_state)\n",
    "\n",
    "    test_score_list = []\n",
    "    for train, test in kf.split(X):\n",
    "        Xtrain, ytrain = X[train], y[train]\n",
    "        Xtest, ytest = X[test], y[test]\n",
    "        reg.fit(Xtrain, ytrain)\n",
    "\n",
    "        test_score = reg.score(Xtest, ytest)\n",
    "        test_score_list.append(test_score)\n",
    "\n",
    "    return np.mean(test_score_list), np.std(test_score_list)\n",
    "\n",
    "\n",
    "linear_regression_CV_score(X, y)\n"
   ],
   "metadata": {
    "collapsed": false,
    "pycharm": {
     "name": "#%%\n"
    }
   }
  },
  {
   "cell_type": "code",
   "execution_count": 11,
   "outputs": [],
   "source": [
    "from sklearn.metrics import r2_score\n",
    "from sklearn.linear_model import LinearRegression\n",
    "from sklearn.model_selection import KFold\n",
    "\n",
    "\n",
    "def linear_regression_CV_score_ytestp(X, y, n_splits=10, random_state=1):\n",
    "    \"\"\"linear regression with cross validation sore.\n",
    "        It also returns y_test and y_test^predict\n",
    "\n",
    "    Args:\n",
    "        X (np.array): descriptor\n",
    "        y (np.array): target variable\n",
    "        n_splits (int, optional): the number of splits in CV. Defaults to 10.\n",
    "        random_state (int, optional): random state in KFold(). Defaults to 1.\n",
    "\n",
    "    Returns:\n",
    "        float: the mean value of the CV score\n",
    "        float: the stddev value of the CV score\n",
    "        list: a list of y_test\n",
    "        list: a list of y_test^predict\n",
    "    \"\"\"\n",
    "    reg = LinearRegression()\n",
    "    kf = KFold(n_splits=n_splits, shuffle=True, random_state=random_state)\n",
    "\n",
    "    test_score_list = []\n",
    "    ytest_list = []\n",
    "    ytestp_list = []\n",
    "    for train, test in kf.split(X):\n",
    "        Xtrain, ytrain = X[train], y[train]\n",
    "        Xtest, ytest = X[test], y[test]\n",
    "        reg.fit(Xtrain, ytrain)\n",
    "\n",
    "        ytestp = reg.predict(Xtest)\n",
    "        ytest_list.extend(ytest)\n",
    "        ytestp_list.extend(ytestp)\n",
    "\n",
    "        test_score = r2_score(ytest, ytestp)\n",
    "        test_score_list.append(test_score)\n",
    "\n",
    "    return np.mean(test_score_list), np.std(test_score_list), ytest_list, ytestp_list\n",
    "\n",
    "\n",
    "test_score_mean, test_score_std, ytest_list, ytestp_list = linear_regression_CV_score_ytestp(\n",
    "    X, y)"
   ],
   "metadata": {
    "collapsed": false,
    "pycharm": {
     "name": "#%%\n"
    }
   }
  },
  {
   "cell_type": "code",
   "execution_count": 12,
   "outputs": [
    {
     "data": {
      "text/plain": "<Figure size 360x360 with 1 Axes>",
      "image/png": "[encoded data removed]"
     },
     "metadata": {
      "needs_background": "light"
     },
     "output_type": "display_data"
    }
   ],
   "source": [
    "plt.figure(figsize=(5, 5))\n",
    "plt.plot(ytest_list, ytestp_list, \"o\")\n",
    "yall = np.hstack([ytest_list, ytestp_list])\n",
    "\n",
    "ylim = yall.min(), yall.max()\n",
    "plt.plot(ylim, ylim, \"--\")\n",
    "\n",
    "plt.xlabel(\"$y_{expr}$\")\n",
    "plt.ylabel(\"$y_{pred}$\")\n",
    "plt.show()"
   ],
   "metadata": {
    "collapsed": false,
    "pycharm": {
     "name": "#%%\n"
    }
   }
  },
  {
   "cell_type": "code",
   "execution_count": 14,
   "outputs": [
    {
     "data": {
      "text/plain": "<Figure size 432x288 with 1 Axes>",
      "image/png": "[encoded data removed]"
     },
     "metadata": {
      "needs_background": "light"
     },
     "output_type": "display_data"
    }
   ],
   "source": [
    "from sklearn.metrics import r2_score\n",
    "from sklearn.linear_model import LinearRegression\n",
    "from sklearn.model_selection import KFold\n",
    "\n",
    "\n",
    "def linear_regression_CV_coef(X, y, n_splits=10, random_state=1):\n",
    "    \"\"\"linear regression with cross validation\n",
    "\n",
    "    Args:\n",
    "        X (np.array): descriptor\n",
    "        y (np.array): target variable\n",
    "        n_splits (int, optional): the number of splits in CV. Defaults to 10.\n",
    "        random_state (int, optional): random state in KFold(). Defaults to 1.\n",
    "\n",
    "    Returns:\n",
    "        list: a list of linear coefficients\n",
    "    \"\"\"\n",
    "    reg = LinearRegression()\n",
    "    kf = KFold(n_splits=n_splits, shuffle=True, random_state=random_state)\n",
    "\n",
    "    coef_list = []\n",
    "    for train, test in kf.split(X):\n",
    "        Xtrain, ytrain = X[train], y[train]\n",
    "        Xtest, ytest = X[test], y[test]\n",
    "        reg.fit(Xtrain, ytrain)\n",
    "        coef_list.append(list(reg.coef_.ravel()))\n",
    "    return coef_list\n",
    "\n",
    "\n",
    "coef_list = linear_regression_CV_coef(X, y)\n",
    "plt.title(\"coefficients\")\n",
    "img = plt.plot(coef_list)"
   ],
   "metadata": {
    "collapsed": false,
    "pycharm": {
     "name": "#%%\n"
    }
   }
  },
  {
   "cell_type": "code",
   "execution_count": null,
   "outputs": [],
   "source": [],
   "metadata": {
    "collapsed": false,
    "pycharm": {
     "name": "#%%\n"
    }
   }
  }
 ],
 "metadata": {
  "kernelspec": {
   "display_name": "Python 3",
   "language": "python",
   "name": "python3"
  },
  "language_info": {
   "codemirror_mode": {
    "name": "ipython",
    "version": 2
   },
   "file_extension": ".py",
   "mimetype": "text/x-python",
   "name": "python",
   "nbconvert_exporter": "python",
   "pygments_lexer": "ipython2",
   "version": "2.7.6"
  }
 },
 "nbformat": 4,
 "nbformat_minor": 0
}