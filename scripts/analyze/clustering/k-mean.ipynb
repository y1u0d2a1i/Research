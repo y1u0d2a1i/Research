{
 "cells": [
  {
   "cell_type": "code",
   "execution_count": 5,
   "outputs": [],
   "source": [
    "import pandas as pd\n",
    "import numpy as np\n",
    "import matplotlib.pyplot as plt\n",
    "import seaborn as sns\n",
    "csv_path= '/Users/y1u0d2/Desktop/Lab/result/sf/merge_base/merge_O-O.csv'\n",
    "\n",
    "df = pd.read_csv(csv_path)\n",
    "descriptor_labels = []\n",
    "for column in df.columns:\n",
    "    if 'sf_' in column:\n",
    "        descriptor_labels.append(column)\n",
    "target_label ='E_atom'\n",
    "Xraw = df.loc[:, descriptor_labels].values\n",
    "y = df.loc[:, target_label].values"
   ],
   "metadata": {
    "collapsed": false,
    "pycharm": {
     "name": "#%%%\n"
    }
   }
  },
  {
   "cell_type": "code",
   "execution_count": 6,
   "outputs": [],
   "source": [
    "from sklearn.preprocessing import StandardScaler\n",
    "from sklearn.decomposition import PCA\n",
    "scaler = StandardScaler()\n",
    "scaler.fit(Xraw)\n",
    "X = scaler.transform(Xraw)\n",
    "# データ解析\n",
    "pca = PCA(2)\n",
    "pca.fit(X)\n",
    "X_pca = pca.transform(X)"
   ],
   "metadata": {
    "collapsed": false,
    "pycharm": {
     "name": "#%%\n"
    }
   }
  },
  {
   "cell_type": "code",
   "execution_count": 8,
   "outputs": [
    {
     "name": "stdout",
     "output_type": "stream",
     "text": [
      "{'Fdd2-beta-critobalite': 'black', 'alpha-critobalite': 'blue', 'alpha-quartz': 'green', 'beta-quartz': 'red', 'beta-trydymite': 'yellow', 'coesite': 'orange', 'hex-trydymite': 'purple', 'stishovite': 'c'}\n"
     ]
    },
    {
     "data": {
      "text/plain": "<Figure size 432x288 with 1 Axes>",
      "image/png": "[encoded data removed]"
     },
     "metadata": {
      "needs_background": "light"
     },
     "output_type": "display_data"
    }
   ],
   "source": [
    "def plot_Xlabel(X, label):\n",
    "    \"\"\"show descriptor values and their labels\n",
    "\n",
    "    Args:\n",
    "        X (np.array): descriptor values\n",
    "        label (list): a list of descriptor labels\n",
    "    \"\"\"\n",
    "    color = {}\n",
    "    colorname = [\"black\", \"blue\", \"green\", \"red\", \"yellow\", \"orange\",'purple','c']\n",
    "    for i, c in enumerate(np.unique(label)):\n",
    "        color[c] = colorname[i]\n",
    "    print(color)\n",
    "\n",
    "    plt.figure()\n",
    "    for xx, s in zip(X, label):\n",
    "        plt.plot(xx[0], xx[1], \"o\", color=color[s])\n",
    "    plt.show()\n",
    "\n",
    "\n",
    "nnatom = df[\"structure\"].values\n",
    "plot_Xlabel(X_pca, nnatom)"
   ],
   "metadata": {
    "collapsed": false,
    "pycharm": {
     "name": "#%%\n"
    }
   }
  },
  {
   "cell_type": "code",
   "execution_count": null,
   "outputs": [],
   "source": [],
   "metadata": {
    "collapsed": false,
    "pycharm": {
     "name": "#%%\n"
    }
   }
  }
 ],
 "metadata": {
  "kernelspec": {
   "display_name": "Python 3",
   "language": "python",
   "name": "python3"
  },
  "language_info": {
   "codemirror_mode": {
    "name": "ipython",
    "version": 2
   },
   "file_extension": ".py",
   "mimetype": "text/x-python",
   "name": "python",
   "nbconvert_exporter": "python",
   "pygments_lexer": "ipython2",
   "version": "2.7.6"
  }
 },
 "nbformat": 4,
 "nbformat_minor": 0
}