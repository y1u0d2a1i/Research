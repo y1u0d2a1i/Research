{
 "cells": [
  {
   "cell_type": "code",
   "execution_count": 22,
   "metadata": {
    "collapsed": true,
    "pycharm": {
     "name": "#%%\n"
    }
   },
   "outputs": [],
   "source": [
    "import pandas as pd\n",
    "import numpy as np\n",
    "import glob\n",
    "\n",
    "csv_path = '/Users/y1u0d2/desktop/Lab/result/rdf/rdf_result/raw/all'\n",
    "output_path = '/Users/y1u0d2/desktop/Lab/result/rdf/rdf_result/format/all'"
   ]
  },
  {
   "cell_type": "code",
   "execution_count": 19,
   "outputs": [],
   "source": [
    "files = glob.glob(f'{csv_path}/*')\n",
    "for file in files:\n",
    "    filename = file.split('/')[-1]\n",
    "    df = pd.read_csv(file)\n",
    "    df.drop('Unnamed: 0',inplace=True,axis=1)\n",
    "    df.iloc[:,4:] = df.iloc[:,4:] / (4 * np.pi * 0.2)\n",
    "    df.to_csv(f'{output_path}/{filename}',mode='w')"
   ],
   "metadata": {
    "collapsed": false,
    "pycharm": {
     "name": "#%%\n"
    }
   }
  },
  {
   "cell_type": "code",
   "execution_count": 25,
   "outputs": [
    {
     "data": {
      "text/plain": "['/Users/y1u0d2/desktop/Lab/result/rdf/rdf_all/all_Si-O.csv',\n '/Users/y1u0d2/desktop/Lab/result/rdf/rdf_all/all_O-O.csv',\n '/Users/y1u0d2/desktop/Lab/result/rdf/rdf_all/all_O-Si.csv',\n '/Users/y1u0d2/desktop/Lab/result/rdf/rdf_all/all_Si-Si.csv']"
     },
     "execution_count": 25,
     "metadata": {},
     "output_type": "execute_result"
    }
   ],
   "source": [
    "csv_path = '/Users/y1u0d2/desktop/Lab/result/rdf/rdf_all/'\n",
    "files = glob.glob(f'{csv_path}/*')\n",
    "files\n"
   ],
   "metadata": {
    "collapsed": false,
    "pycharm": {
     "name": "#%%\n"
    }
   }
  },
  {
   "cell_type": "code",
   "execution_count": 37,
   "outputs": [],
   "source": [
    "density_O_O = 0.05484730662281809\n",
    "density_O_Si = 0.027449728870885964\n",
    "density_Si_O = 0.05489945774177402\n",
    "density_Si_Si = 0.027424246804923443\n"
   ],
   "metadata": {
    "collapsed": false,
    "pycharm": {
     "name": "#%%\n"
    }
   }
  },
  {
   "cell_type": "code",
   "execution_count": 41,
   "outputs": [],
   "source": [
    "df = pd.read_csv(files[3])\n",
    "df.drop('Unnamed: 0',axis=1,inplace=True)\n",
    "df.iloc[:,5:] = df.iloc[:,5:] / density_Si_Si\n",
    "df.to_csv('/Users/y1u0d2/desktop/Lab/result/rdf/rdf_all_converge_one/all_Si_Si.csv', index=False)"
   ],
   "metadata": {
    "collapsed": false,
    "pycharm": {
     "name": "#%%\n"
    }
   }
  },
  {
   "cell_type": "code",
   "execution_count": 33,
   "outputs": [],
   "source": [],
   "metadata": {
    "collapsed": false,
    "pycharm": {
     "name": "#%%\n"
    }
   }
  },
  {
   "cell_type": "code",
   "execution_count": 34,
   "outputs": [
    {
     "data": {
      "text/plain": "      Unnamed: 0  structure_idx another_atom center_atom    structure  \\\n0              0              0            O          Si   stishovite   \n1              1              1            O          Si   stishovite   \n2              2              2            O          Si   stishovite   \n3              3              3            O          Si   stishovite   \n4              4              4            O          Si   stishovite   \n...          ...            ...          ...         ...          ...   \n8545         795            795            O          Si  beta-quartz   \n8546         796            796            O          Si  beta-quartz   \n8547         797            797            O          Si  beta-quartz   \n8548         798            798            O          Si  beta-quartz   \n8549         799            799            O          Si  beta-quartz   \n\n      1.1014492753623188  1.3043478260869565  1.5072463768115942  \\\n0                    0.0            0.000000            0.000000   \n1                    0.0            0.000000            0.000000   \n2                    0.0            0.000000            0.000000   \n3                    0.0            0.000000            0.000000   \n4                    0.0            0.000000            0.000000   \n...                  ...                 ...                 ...   \n8545                 0.0            0.000000            3.593464   \n8546                 0.0            0.000000            3.695221   \n8547                 0.0            0.348707            3.647122   \n8548                 0.0            0.385344            3.859540   \n8549                 0.0            1.329591            3.379146   \n\n      1.710144927536232  1.9130434782608696  ...  13.072463768115943  \\\n0              9.323902            4.400432  ...            1.855992   \n1             10.022068            3.703672  ...            1.788215   \n2             10.437285            3.289176  ...            1.770072   \n3             10.715705            3.008940  ...            1.757481   \n4             10.849121            2.874349  ...            1.741459   \n...                 ...                 ...  ...                 ...   \n8545           5.666038            1.038100  ...            0.622582   \n8546           5.475917            1.356517  ...            0.721309   \n8547           4.410249            1.876957  ...            0.544846   \n8548           5.301787            0.835035  ...            0.660469   \n8549           3.928537            1.859858  ...            0.624572   \n\n      13.27536231884058  13.478260869565219  13.681159420289855  \\\n0              0.329144            1.752110            1.785244   \n1              0.396980            1.752114            1.785271   \n2              0.417843            1.752117            1.785284   \n3              0.451558            1.747047            1.785246   \n4              0.461821            1.744432            1.782762   \n...                 ...                 ...                 ...   \n8545           0.682049            0.698141            0.805518   \n8546           0.647559            0.645096            0.777161   \n8547           0.654348            0.704308            0.847965   \n8548           0.654062            0.648333            0.834889   \n8549           0.645082            0.734790            0.712529   \n\n      13.884057971014494  14.08695652173913  14.28985507246377  \\\n0               1.644401           1.754450           1.271877   \n1               1.646709           1.752143           1.271917   \n2               1.655974           1.742879           1.271936   \n3               1.690752           1.705851           1.278508   \n4               1.695395           1.696708           1.285166   \n...                  ...                ...                ...   \n8545            0.915064           0.937760           0.768420   \n8546            1.001908           0.856454           0.762730   \n8547            0.958210           0.818788           0.793188   \n8548            0.920548           0.843821           0.787363   \n8549            1.030433           0.855280           0.721889   \n\n      14.492753623188406  14.695652173913045  14.898550724637682  \n0               1.661980            1.343296            1.563828  \n1               1.661911            1.343282            1.563842  \n2               1.661878            1.343275            1.563848  \n3               1.657599            1.343296            1.545718  \n4               1.655471            1.343311            1.529602  \n...                  ...                 ...                 ...  \n8545            0.660754            0.905955            0.770316  \n8546            0.746494            0.852680            0.762642  \n8547            0.739018            0.777232            0.852169  \n8548            0.790492            0.813264            0.783693  \n8549            0.730582            0.881569            0.781790  \n\n[8550 rows x 74 columns]",
      "text/html": "<div>\n<style scoped>\n    .dataframe tbody tr th:only-of-type {\n        vertical-align: middle;\n    }\n\n    .dataframe tbody tr th {\n        vertical-align: top;\n    }\n\n    .dataframe thead th {\n        text-align: right;\n    }\n</style>\n<table border=\"1\" class=\"dataframe\">\n  <thead>\n    <tr style=\"text-align: right;\">\n      <th></th>\n      <th>Unnamed: 0</th>\n      <th>structure_idx</th>\n      <th>another_atom</th>\n      <th>center_atom</th>\n      <th>structure</th>\n      <th>1.1014492753623188</th>\n      <th>1.3043478260869565</th>\n      <th>1.5072463768115942</th>\n      <th>1.710144927536232</th>\n      <th>1.9130434782608696</th>\n      <th>...</th>\n      <th>13.072463768115943</th>\n      <th>13.27536231884058</th>\n      <th>13.478260869565219</th>\n      <th>13.681159420289855</th>\n      <th>13.884057971014494</th>\n      <th>14.08695652173913</th>\n      <th>14.28985507246377</th>\n      <th>14.492753623188406</th>\n      <th>14.695652173913045</th>\n      <th>14.898550724637682</th>\n    </tr>\n  </thead>\n  <tbody>\n    <tr>\n      <th>0</th>\n      <td>0</td>\n      <td>0</td>\n      <td>O</td>\n      <td>Si</td>\n      <td>stishovite</td>\n      <td>0.0</td>\n      <td>0.000000</td>\n      <td>0.000000</td>\n      <td>9.323902</td>\n      <td>4.400432</td>\n      <td>...</td>\n      <td>1.855992</td>\n      <td>0.329144</td>\n      <td>1.752110</td>\n      <td>1.785244</td>\n      <td>1.644401</td>\n      <td>1.754450</td>\n      <td>1.271877</td>\n      <td>1.661980</td>\n      <td>1.343296</td>\n      <td>1.563828</td>\n    </tr>\n    <tr>\n      <th>1</th>\n      <td>1</td>\n      <td>1</td>\n      <td>O</td>\n      <td>Si</td>\n      <td>stishovite</td>\n      <td>0.0</td>\n      <td>0.000000</td>\n      <td>0.000000</td>\n      <td>10.022068</td>\n      <td>3.703672</td>\n      <td>...</td>\n      <td>1.788215</td>\n      <td>0.396980</td>\n      <td>1.752114</td>\n      <td>1.785271</td>\n      <td>1.646709</td>\n      <td>1.752143</td>\n      <td>1.271917</td>\n      <td>1.661911</td>\n      <td>1.343282</td>\n      <td>1.563842</td>\n    </tr>\n    <tr>\n      <th>2</th>\n      <td>2</td>\n      <td>2</td>\n      <td>O</td>\n      <td>Si</td>\n      <td>stishovite</td>\n      <td>0.0</td>\n      <td>0.000000</td>\n      <td>0.000000</td>\n      <td>10.437285</td>\n      <td>3.289176</td>\n      <td>...</td>\n      <td>1.770072</td>\n      <td>0.417843</td>\n      <td>1.752117</td>\n      <td>1.785284</td>\n      <td>1.655974</td>\n      <td>1.742879</td>\n      <td>1.271936</td>\n      <td>1.661878</td>\n      <td>1.343275</td>\n      <td>1.563848</td>\n    </tr>\n    <tr>\n      <th>3</th>\n      <td>3</td>\n      <td>3</td>\n      <td>O</td>\n      <td>Si</td>\n      <td>stishovite</td>\n      <td>0.0</td>\n      <td>0.000000</td>\n      <td>0.000000</td>\n      <td>10.715705</td>\n      <td>3.008940</td>\n      <td>...</td>\n      <td>1.757481</td>\n      <td>0.451558</td>\n      <td>1.747047</td>\n      <td>1.785246</td>\n      <td>1.690752</td>\n      <td>1.705851</td>\n      <td>1.278508</td>\n      <td>1.657599</td>\n      <td>1.343296</td>\n      <td>1.545718</td>\n    </tr>\n    <tr>\n      <th>4</th>\n      <td>4</td>\n      <td>4</td>\n      <td>O</td>\n      <td>Si</td>\n      <td>stishovite</td>\n      <td>0.0</td>\n      <td>0.000000</td>\n      <td>0.000000</td>\n      <td>10.849121</td>\n      <td>2.874349</td>\n      <td>...</td>\n      <td>1.741459</td>\n      <td>0.461821</td>\n      <td>1.744432</td>\n      <td>1.782762</td>\n      <td>1.695395</td>\n      <td>1.696708</td>\n      <td>1.285166</td>\n      <td>1.655471</td>\n      <td>1.343311</td>\n      <td>1.529602</td>\n    </tr>\n    <tr>\n      <th>...</th>\n      <td>...</td>\n      <td>...</td>\n      <td>...</td>\n      <td>...</td>\n      <td>...</td>\n      <td>...</td>\n      <td>...</td>\n      <td>...</td>\n      <td>...</td>\n      <td>...</td>\n      <td>...</td>\n      <td>...</td>\n      <td>...</td>\n      <td>...</td>\n      <td>...</td>\n      <td>...</td>\n      <td>...</td>\n      <td>...</td>\n      <td>...</td>\n      <td>...</td>\n      <td>...</td>\n    </tr>\n    <tr>\n      <th>8545</th>\n      <td>795</td>\n      <td>795</td>\n      <td>O</td>\n      <td>Si</td>\n      <td>beta-quartz</td>\n      <td>0.0</td>\n      <td>0.000000</td>\n      <td>3.593464</td>\n      <td>5.666038</td>\n      <td>1.038100</td>\n      <td>...</td>\n      <td>0.622582</td>\n      <td>0.682049</td>\n      <td>0.698141</td>\n      <td>0.805518</td>\n      <td>0.915064</td>\n      <td>0.937760</td>\n      <td>0.768420</td>\n      <td>0.660754</td>\n      <td>0.905955</td>\n      <td>0.770316</td>\n    </tr>\n    <tr>\n      <th>8546</th>\n      <td>796</td>\n      <td>796</td>\n      <td>O</td>\n      <td>Si</td>\n      <td>beta-quartz</td>\n      <td>0.0</td>\n      <td>0.000000</td>\n      <td>3.695221</td>\n      <td>5.475917</td>\n      <td>1.356517</td>\n      <td>...</td>\n      <td>0.721309</td>\n      <td>0.647559</td>\n      <td>0.645096</td>\n      <td>0.777161</td>\n      <td>1.001908</td>\n      <td>0.856454</td>\n      <td>0.762730</td>\n      <td>0.746494</td>\n      <td>0.852680</td>\n      <td>0.762642</td>\n    </tr>\n    <tr>\n      <th>8547</th>\n      <td>797</td>\n      <td>797</td>\n      <td>O</td>\n      <td>Si</td>\n      <td>beta-quartz</td>\n      <td>0.0</td>\n      <td>0.348707</td>\n      <td>3.647122</td>\n      <td>4.410249</td>\n      <td>1.876957</td>\n      <td>...</td>\n      <td>0.544846</td>\n      <td>0.654348</td>\n      <td>0.704308</td>\n      <td>0.847965</td>\n      <td>0.958210</td>\n      <td>0.818788</td>\n      <td>0.793188</td>\n      <td>0.739018</td>\n      <td>0.777232</td>\n      <td>0.852169</td>\n    </tr>\n    <tr>\n      <th>8548</th>\n      <td>798</td>\n      <td>798</td>\n      <td>O</td>\n      <td>Si</td>\n      <td>beta-quartz</td>\n      <td>0.0</td>\n      <td>0.385344</td>\n      <td>3.859540</td>\n      <td>5.301787</td>\n      <td>0.835035</td>\n      <td>...</td>\n      <td>0.660469</td>\n      <td>0.654062</td>\n      <td>0.648333</td>\n      <td>0.834889</td>\n      <td>0.920548</td>\n      <td>0.843821</td>\n      <td>0.787363</td>\n      <td>0.790492</td>\n      <td>0.813264</td>\n      <td>0.783693</td>\n    </tr>\n    <tr>\n      <th>8549</th>\n      <td>799</td>\n      <td>799</td>\n      <td>O</td>\n      <td>Si</td>\n      <td>beta-quartz</td>\n      <td>0.0</td>\n      <td>1.329591</td>\n      <td>3.379146</td>\n      <td>3.928537</td>\n      <td>1.859858</td>\n      <td>...</td>\n      <td>0.624572</td>\n      <td>0.645082</td>\n      <td>0.734790</td>\n      <td>0.712529</td>\n      <td>1.030433</td>\n      <td>0.855280</td>\n      <td>0.721889</td>\n      <td>0.730582</td>\n      <td>0.881569</td>\n      <td>0.781790</td>\n    </tr>\n  </tbody>\n</table>\n<p>8550 rows × 74 columns</p>\n</div>"
     },
     "execution_count": 34,
     "metadata": {},
     "output_type": "execute_result"
    }
   ],
   "source": [
    "df"
   ],
   "metadata": {
    "collapsed": false,
    "pycharm": {
     "name": "#%%\n"
    }
   }
  },
  {
   "cell_type": "code",
   "execution_count": null,
   "outputs": [],
   "source": [],
   "metadata": {
    "collapsed": false,
    "pycharm": {
     "name": "#%%\n"
    }
   }
  }
 ],
 "metadata": {
  "kernelspec": {
   "display_name": "Python 3",
   "language": "python",
   "name": "python3"
  },
  "language_info": {
   "codemirror_mode": {
    "name": "ipython",
    "version": 2
   },
   "file_extension": ".py",
   "mimetype": "text/x-python",
   "name": "python",
   "nbconvert_exporter": "python",
   "pygments_lexer": "ipython2",
   "version": "2.7.6"
  }
 },
 "nbformat": 4,
 "nbformat_minor": 0
}