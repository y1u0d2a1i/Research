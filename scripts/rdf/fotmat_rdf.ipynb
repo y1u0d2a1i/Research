{
 "cells": [
  {
   "cell_type": "code",
   "execution_count": 18,
   "metadata": {
    "collapsed": true,
    "pycharm": {
     "name": "#%%\n"
    }
   },
   "outputs": [],
   "source": [
    "import pandas as pd\n",
    "import numpy as np\n",
    "import glob\n",
    "\n",
    "csv_path = '/Users/y1u0d2/desktop/Lab/result/rdf/rdf_result/raw/all'\n",
    "output_path = '/Users/y1u0d2/desktop/Lab/result/rdf/rdf_result/format/all'"
   ]
  },
  {
   "cell_type": "code",
   "execution_count": 19,
   "outputs": [],
   "source": [
    "files = glob.glob(f'{csv_path}/*')\n",
    "for file in files:\n",
    "    filename = file.split('/')[-1]\n",
    "    df = pd.read_csv(file)\n",
    "    df.drop('Unnamed: 0',inplace=True,axis=1)\n",
    "    df.iloc[:,4:] = df.iloc[:,4:] / (4 * np.pi * 0.2)\n",
    "    df.to_csv(f'{output_path}/{filename}',mode='w')"
   ],
   "metadata": {
    "collapsed": false,
    "pycharm": {
     "name": "#%%\n"
    }
   }
  },
  {
   "cell_type": "code",
   "execution_count": 15,
   "outputs": [
    {
     "data": {
      "text/plain": "     another_atom center_atom  structure_idx name_of_structure  \\\n0               O           O            421        stishovite   \n1               O           O            347        stishovite   \n2               O           O            353        stishovite   \n3               O           O            435        stishovite   \n4               O           O            409        stishovite   \n...           ...         ...            ...               ...   \n8545            O           O            626       beta-quartz   \n8546            O           O            140       beta-quartz   \n8547            O           O            168       beta-quartz   \n8548            O           O            197       beta-quartz   \n8549            O           O            183       beta-quartz   \n\n      1.1014492753623188  1.3043478260869565  1.5072463768115942  \\\n0                    0.0                 0.0                 0.0   \n1                    0.0                 0.0                 0.0   \n2                    0.0                 0.0                 0.0   \n3                    0.0                 0.0                 0.0   \n4                    0.0                 0.0                 0.0   \n...                  ...                 ...                 ...   \n8545                 0.0                 0.0                 0.0   \n8546                 0.0                 0.0                 0.0   \n8547                 0.0                 0.0                 0.0   \n8548                 0.0                 0.0                 0.0   \n8549                 0.0                 0.0                 0.0   \n\n      1.710144927536232  1.9130434782608696  2.1159420289855073  ...  \\\n0                   0.0            0.000000            0.833557  ...   \n1                   0.0            0.405934            2.573949  ...   \n2                   0.0            0.000000            0.000000  ...   \n3                   0.0            0.000000            1.364228  ...   \n4                   0.0            0.000000            0.162680  ...   \n...                 ...                 ...                 ...  ...   \n8545                0.0            0.000000            0.000000  ...   \n8546                0.0            0.000000            0.000000  ...   \n8547                0.0            0.000000            0.000000  ...   \n8548                0.0            0.000000            0.000000  ...   \n8549                0.0            0.000000            0.000000  ...   \n\n      13.072463768115943  13.27536231884058  13.478260869565219  \\\n0               1.677200           4.373256            2.059255   \n1               2.353256           3.537694            2.553340   \n2               3.062082           1.637901            1.539696   \n3               1.933853           3.827207            2.503993   \n4               1.671474           4.464563            1.883970   \n...                  ...                ...                 ...   \n8545            1.174462           0.993333            1.196763   \n8546            1.369124           1.228991            1.411482   \n8547            0.665049           0.725500            1.953019   \n8548            0.818322           0.943205            1.375475   \n8549            0.642701           0.978467            1.546758   \n\n      13.681159420289855  13.884057971014494  14.08695652173913  \\\n0               2.612541            4.460667           2.399884   \n1               3.421405            3.534808           2.843123   \n2               2.855501            1.589725           1.931696   \n3               2.699627            4.102764           2.561139   \n4               2.654797            4.555846           2.208446   \n...                  ...                 ...                ...   \n8545            0.905455            0.620924           0.722010   \n8546            1.627822            1.690797           1.066975   \n8547            0.733763            1.424934           1.301341   \n8548            1.181576            1.267281           1.163242   \n8549            1.079644            1.216793           1.267656   \n\n      14.28985507246377  14.492753623188406  14.695652173913045  \\\n0              3.279081            2.601789            3.562314   \n1              2.968488            3.152497            3.415850   \n2              2.321551            2.643217            3.721167   \n3              3.126524            2.837362            3.369229   \n4              3.523778            2.520286            3.563982   \n...                 ...                 ...                 ...   \n8545           0.828614            1.080572            0.839173   \n8546           1.284012            1.376167            1.646197   \n8547           0.850921            1.695690            0.908754   \n8548           1.226782            1.226324            1.256941   \n8549           0.994203            1.476455            1.241725   \n\n      14.898550724637682  \n0               3.221414  \n1               3.124803  \n2               2.627704  \n3               3.396791  \n4               3.025969  \n...                  ...  \n8545            0.842406  \n8546            1.063548  \n8547            1.449267  \n8548            1.176282  \n8549            1.161451  \n\n[8550 rows x 73 columns]",
      "text/html": "<div>\n<style scoped>\n    .dataframe tbody tr th:only-of-type {\n        vertical-align: middle;\n    }\n\n    .dataframe tbody tr th {\n        vertical-align: top;\n    }\n\n    .dataframe thead th {\n        text-align: right;\n    }\n</style>\n<table border=\"1\" class=\"dataframe\">\n  <thead>\n    <tr style=\"text-align: right;\">\n      <th></th>\n      <th>another_atom</th>\n      <th>center_atom</th>\n      <th>structure_idx</th>\n      <th>name_of_structure</th>\n      <th>1.1014492753623188</th>\n      <th>1.3043478260869565</th>\n      <th>1.5072463768115942</th>\n      <th>1.710144927536232</th>\n      <th>1.9130434782608696</th>\n      <th>2.1159420289855073</th>\n      <th>...</th>\n      <th>13.072463768115943</th>\n      <th>13.27536231884058</th>\n      <th>13.478260869565219</th>\n      <th>13.681159420289855</th>\n      <th>13.884057971014494</th>\n      <th>14.08695652173913</th>\n      <th>14.28985507246377</th>\n      <th>14.492753623188406</th>\n      <th>14.695652173913045</th>\n      <th>14.898550724637682</th>\n    </tr>\n  </thead>\n  <tbody>\n    <tr>\n      <th>0</th>\n      <td>O</td>\n      <td>O</td>\n      <td>421</td>\n      <td>stishovite</td>\n      <td>0.0</td>\n      <td>0.0</td>\n      <td>0.0</td>\n      <td>0.0</td>\n      <td>0.000000</td>\n      <td>0.833557</td>\n      <td>...</td>\n      <td>1.677200</td>\n      <td>4.373256</td>\n      <td>2.059255</td>\n      <td>2.612541</td>\n      <td>4.460667</td>\n      <td>2.399884</td>\n      <td>3.279081</td>\n      <td>2.601789</td>\n      <td>3.562314</td>\n      <td>3.221414</td>\n    </tr>\n    <tr>\n      <th>1</th>\n      <td>O</td>\n      <td>O</td>\n      <td>347</td>\n      <td>stishovite</td>\n      <td>0.0</td>\n      <td>0.0</td>\n      <td>0.0</td>\n      <td>0.0</td>\n      <td>0.405934</td>\n      <td>2.573949</td>\n      <td>...</td>\n      <td>2.353256</td>\n      <td>3.537694</td>\n      <td>2.553340</td>\n      <td>3.421405</td>\n      <td>3.534808</td>\n      <td>2.843123</td>\n      <td>2.968488</td>\n      <td>3.152497</td>\n      <td>3.415850</td>\n      <td>3.124803</td>\n    </tr>\n    <tr>\n      <th>2</th>\n      <td>O</td>\n      <td>O</td>\n      <td>353</td>\n      <td>stishovite</td>\n      <td>0.0</td>\n      <td>0.0</td>\n      <td>0.0</td>\n      <td>0.0</td>\n      <td>0.000000</td>\n      <td>0.000000</td>\n      <td>...</td>\n      <td>3.062082</td>\n      <td>1.637901</td>\n      <td>1.539696</td>\n      <td>2.855501</td>\n      <td>1.589725</td>\n      <td>1.931696</td>\n      <td>2.321551</td>\n      <td>2.643217</td>\n      <td>3.721167</td>\n      <td>2.627704</td>\n    </tr>\n    <tr>\n      <th>3</th>\n      <td>O</td>\n      <td>O</td>\n      <td>435</td>\n      <td>stishovite</td>\n      <td>0.0</td>\n      <td>0.0</td>\n      <td>0.0</td>\n      <td>0.0</td>\n      <td>0.000000</td>\n      <td>1.364228</td>\n      <td>...</td>\n      <td>1.933853</td>\n      <td>3.827207</td>\n      <td>2.503993</td>\n      <td>2.699627</td>\n      <td>4.102764</td>\n      <td>2.561139</td>\n      <td>3.126524</td>\n      <td>2.837362</td>\n      <td>3.369229</td>\n      <td>3.396791</td>\n    </tr>\n    <tr>\n      <th>4</th>\n      <td>O</td>\n      <td>O</td>\n      <td>409</td>\n      <td>stishovite</td>\n      <td>0.0</td>\n      <td>0.0</td>\n      <td>0.0</td>\n      <td>0.0</td>\n      <td>0.000000</td>\n      <td>0.162680</td>\n      <td>...</td>\n      <td>1.671474</td>\n      <td>4.464563</td>\n      <td>1.883970</td>\n      <td>2.654797</td>\n      <td>4.555846</td>\n      <td>2.208446</td>\n      <td>3.523778</td>\n      <td>2.520286</td>\n      <td>3.563982</td>\n      <td>3.025969</td>\n    </tr>\n    <tr>\n      <th>...</th>\n      <td>...</td>\n      <td>...</td>\n      <td>...</td>\n      <td>...</td>\n      <td>...</td>\n      <td>...</td>\n      <td>...</td>\n      <td>...</td>\n      <td>...</td>\n      <td>...</td>\n      <td>...</td>\n      <td>...</td>\n      <td>...</td>\n      <td>...</td>\n      <td>...</td>\n      <td>...</td>\n      <td>...</td>\n      <td>...</td>\n      <td>...</td>\n      <td>...</td>\n      <td>...</td>\n    </tr>\n    <tr>\n      <th>8545</th>\n      <td>O</td>\n      <td>O</td>\n      <td>626</td>\n      <td>beta-quartz</td>\n      <td>0.0</td>\n      <td>0.0</td>\n      <td>0.0</td>\n      <td>0.0</td>\n      <td>0.000000</td>\n      <td>0.000000</td>\n      <td>...</td>\n      <td>1.174462</td>\n      <td>0.993333</td>\n      <td>1.196763</td>\n      <td>0.905455</td>\n      <td>0.620924</td>\n      <td>0.722010</td>\n      <td>0.828614</td>\n      <td>1.080572</td>\n      <td>0.839173</td>\n      <td>0.842406</td>\n    </tr>\n    <tr>\n      <th>8546</th>\n      <td>O</td>\n      <td>O</td>\n      <td>140</td>\n      <td>beta-quartz</td>\n      <td>0.0</td>\n      <td>0.0</td>\n      <td>0.0</td>\n      <td>0.0</td>\n      <td>0.000000</td>\n      <td>0.000000</td>\n      <td>...</td>\n      <td>1.369124</td>\n      <td>1.228991</td>\n      <td>1.411482</td>\n      <td>1.627822</td>\n      <td>1.690797</td>\n      <td>1.066975</td>\n      <td>1.284012</td>\n      <td>1.376167</td>\n      <td>1.646197</td>\n      <td>1.063548</td>\n    </tr>\n    <tr>\n      <th>8547</th>\n      <td>O</td>\n      <td>O</td>\n      <td>168</td>\n      <td>beta-quartz</td>\n      <td>0.0</td>\n      <td>0.0</td>\n      <td>0.0</td>\n      <td>0.0</td>\n      <td>0.000000</td>\n      <td>0.000000</td>\n      <td>...</td>\n      <td>0.665049</td>\n      <td>0.725500</td>\n      <td>1.953019</td>\n      <td>0.733763</td>\n      <td>1.424934</td>\n      <td>1.301341</td>\n      <td>0.850921</td>\n      <td>1.695690</td>\n      <td>0.908754</td>\n      <td>1.449267</td>\n    </tr>\n    <tr>\n      <th>8548</th>\n      <td>O</td>\n      <td>O</td>\n      <td>197</td>\n      <td>beta-quartz</td>\n      <td>0.0</td>\n      <td>0.0</td>\n      <td>0.0</td>\n      <td>0.0</td>\n      <td>0.000000</td>\n      <td>0.000000</td>\n      <td>...</td>\n      <td>0.818322</td>\n      <td>0.943205</td>\n      <td>1.375475</td>\n      <td>1.181576</td>\n      <td>1.267281</td>\n      <td>1.163242</td>\n      <td>1.226782</td>\n      <td>1.226324</td>\n      <td>1.256941</td>\n      <td>1.176282</td>\n    </tr>\n    <tr>\n      <th>8549</th>\n      <td>O</td>\n      <td>O</td>\n      <td>183</td>\n      <td>beta-quartz</td>\n      <td>0.0</td>\n      <td>0.0</td>\n      <td>0.0</td>\n      <td>0.0</td>\n      <td>0.000000</td>\n      <td>0.000000</td>\n      <td>...</td>\n      <td>0.642701</td>\n      <td>0.978467</td>\n      <td>1.546758</td>\n      <td>1.079644</td>\n      <td>1.216793</td>\n      <td>1.267656</td>\n      <td>0.994203</td>\n      <td>1.476455</td>\n      <td>1.241725</td>\n      <td>1.161451</td>\n    </tr>\n  </tbody>\n</table>\n<p>8550 rows × 73 columns</p>\n</div>"
     },
     "execution_count": 15,
     "metadata": {},
     "output_type": "execute_result"
    }
   ],
   "source": [],
   "metadata": {
    "collapsed": false,
    "pycharm": {
     "name": "#%%\n"
    }
   }
  },
  {
   "cell_type": "code",
   "execution_count": null,
   "outputs": [],
   "source": [],
   "metadata": {
    "collapsed": false,
    "pycharm": {
     "name": "#%%\n"
    }
   }
  }
 ],
 "metadata": {
  "kernelspec": {
   "display_name": "Python 3",
   "language": "python",
   "name": "python3"
  },
  "language_info": {
   "codemirror_mode": {
    "name": "ipython",
    "version": 2
   },
   "file_extension": ".py",
   "mimetype": "text/x-python",
   "name": "python",
   "nbconvert_exporter": "python",
   "pygments_lexer": "ipython2",
   "version": "2.7.6"
  }
 },
 "nbformat": 4,
 "nbformat_minor": 0
}