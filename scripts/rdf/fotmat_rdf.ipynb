{
 "cells": [
  {
   "cell_type": "code",
   "execution_count": 2,
   "metadata": {
    "collapsed": true,
    "pycharm": {
     "name": "#%%\n"
    }
   },
   "outputs": [],
   "source": [
    "import pandas as pd\n",
    "import numpy as np\n",
    "import glob\n",
    "\n",
    "csv_path = '/Users/y1u0d2/desktop/Lab/result/rdf/rdf_result/raw/all'\n",
    "output_path = '/Users/y1u0d2/desktop/Lab/result/rdf/rdf_result/format/all'"
   ]
  },
  {
   "cell_type": "code",
   "execution_count": 19,
   "outputs": [],
   "source": [
    "files = glob.glob(f'{csv_path}/*')\n",
    "for file in files:\n",
    "    filename = file.split('/')[-1]\n",
    "    df = pd.read_csv(file)\n",
    "    df.drop('Unnamed: 0',inplace=True,axis=1)\n",
    "    df.iloc[:,4:] = df.iloc[:,4:] / (4 * np.pi * 0.2)\n",
    "    df.to_csv(f'{output_path}/{filename}',mode='w')"
   ],
   "metadata": {
    "collapsed": false,
    "pycharm": {
     "name": "#%%\n"
    }
   }
  },
  {
   "cell_type": "code",
   "execution_count": 3,
   "outputs": [
    {
     "data": {
      "text/plain": "['/Users/y1u0d2/desktop/Lab/result/rdf/rdf_atom_all/all_Si-O.csv',\n '/Users/y1u0d2/desktop/Lab/result/rdf/rdf_atom_all/all_O-O.csv',\n '/Users/y1u0d2/desktop/Lab/result/rdf/rdf_atom_all/all_O-Si.csv',\n '/Users/y1u0d2/desktop/Lab/result/rdf/rdf_atom_all/all_Si-Si.csv']"
     },
     "execution_count": 3,
     "metadata": {},
     "output_type": "execute_result"
    }
   ],
   "source": [
    "csv_path = '/Users/y1u0d2/desktop/Lab/result/rdf/rdf_atom_all/'\n",
    "files = glob.glob(f'{csv_path}/*')\n",
    "files\n"
   ],
   "metadata": {
    "collapsed": false,
    "pycharm": {
     "name": "#%%\n"
    }
   }
  },
  {
   "cell_type": "code",
   "execution_count": 4,
   "outputs": [],
   "source": [
    "density_O_O = 0.05484730662281809\n",
    "density_O_Si = 0.027449728870885964\n",
    "density_Si_O = 0.05489945774177402\n",
    "density_Si_Si = 0.027424246804923443\n"
   ],
   "metadata": {
    "collapsed": false,
    "pycharm": {
     "name": "#%%\n"
    }
   }
  },
  {
   "cell_type": "code",
   "execution_count": 10,
   "outputs": [],
   "source": [
    "df = pd.read_csv(files[3])\n",
    "if 'Unnamed: 0' in df.columns:\n",
    "    df.drop('Unnamed: 0',axis=1,inplace=True)\n",
    "df.iloc[:,5:] = df.iloc[:,5:] / density_Si_Si\n",
    "df.to_csv('/Users/y1u0d2/desktop/Lab/result/rdf/rdf_atom_all_converge_one/all_Si-Si.csv', index=False)"
   ],
   "metadata": {
    "collapsed": false,
    "pycharm": {
     "name": "#%%\n"
    }
   }
  },
  {
   "cell_type": "code",
   "execution_count": 6,
   "outputs": [],
   "source": [],
   "metadata": {
    "collapsed": false,
    "pycharm": {
     "name": "#%%\n"
    }
   }
  },
  {
   "cell_type": "code",
   "execution_count": 11,
   "outputs": [
    {
     "data": {
      "text/plain": "       another_atom center_atom  structure_idx name_of_structure  \\\n0                Si          Si            421        stishovite   \n1                Si          Si            421        stishovite   \n2                Si          Si            421        stishovite   \n3                Si          Si            421        stishovite   \n4                Si          Si            421        stishovite   \n...             ...         ...            ...               ...   \n119595           Si          Si            183       beta-quartz   \n119596           Si          Si            183       beta-quartz   \n119597           Si          Si            183       beta-quartz   \n119598           Si          Si            183       beta-quartz   \n119599           Si          Si            183       beta-quartz   \n\n        1.1014492753623188  1.3043478260869565  1.5072463768115942  \\\n0                      0.0                 0.0                 0.0   \n1                      0.0                 0.0                 0.0   \n2                      0.0                 0.0                 0.0   \n3                      0.0                 0.0                 0.0   \n4                      0.0                 0.0                 0.0   \n...                    ...                 ...                 ...   \n119595                 0.0                 0.0                 0.0   \n119596                 0.0                 0.0                 0.0   \n119597                 0.0                 0.0                 0.0   \n119598                 0.0                 0.0                 0.0   \n119599                 0.0                 0.0                 0.0   \n\n        1.710144927536232  1.9130434782608696  2.1159420289855073  ...  \\\n0                     0.0                 0.0                 0.0  ...   \n1                     0.0                 0.0                 0.0  ...   \n2                     0.0                 0.0                 0.0  ...   \n3                     0.0                 0.0                 0.0  ...   \n4                     0.0                 0.0                 0.0  ...   \n...                   ...                 ...                 ...  ...   \n119595                0.0                 0.0                 0.0  ...   \n119596                0.0                 0.0                 0.0  ...   \n119597                0.0                 0.0                 0.0  ...   \n119598                0.0                 0.0                 0.0  ...   \n119599                0.0                 0.0                 0.0  ...   \n\n        13.072463768115943  13.27536231884058  13.478260869565219  \\\n0                 1.523770           1.402121            2.319890   \n1                 1.356971           1.487561            2.559396   \n2                 1.607515           1.236963            2.472900   \n3                 1.441264           1.484973            2.155373   \n4                 1.440323           1.485407            2.320195   \n...                    ...                ...                 ...   \n119595            1.270772           0.826381            1.198947   \n119596            0.682032           1.151169            1.363072   \n119597            0.932639           0.906546            1.363994   \n119598            0.677716           1.236119            1.123795   \n119599            0.595794           1.318118            1.198968   \n\n        13.681159420289855  13.884057971014494  14.08695652173913  \\\n0                 0.926177            4.072526           0.000000   \n1                 0.539092            4.229522           0.073953   \n2                 1.152431            3.770658           0.000000   \n3                 1.619619            3.466513           0.073953   \n4                 1.001363            3.925652           0.074149   \n...                    ...                 ...                ...   \n119595            0.927412            0.376595           0.730779   \n119596            0.620149            0.529136           0.586947   \n119597            0.773669            0.526267           0.653942   \n119598            0.930315            0.303183           0.511509   \n119599            0.694991            0.452045           0.802591   \n\n        14.28985507246377  14.492753623188406  14.695652173913045  \\\n0                1.271041            1.870616            1.479554   \n1                1.339532            1.596883            1.751298   \n2                1.411163            1.866102            1.542593   \n3                1.341515            1.800130            1.744541   \n4                1.270351            1.870033            1.479428   \n...                   ...                 ...                 ...   \n119595           1.063857            1.727476            1.277316   \n119596           1.134186            1.861678            1.415172   \n119597           0.924685            2.069016            1.280916   \n119598           1.207533            1.792300            1.617959   \n119599           0.854540            1.933635            1.416770   \n\n        14.898550724637682  \n0                 3.270718  \n1                 3.460492  \n2                 3.074778  \n3                 3.203858  \n4                 3.271387  \n...                    ...  \n119595            0.788135  \n119596            0.720380  \n119597            0.589730  \n119598            0.588124  \n119599            0.718602  \n\n[119600 rows x 73 columns]",
      "text/html": "<div>\n<style scoped>\n    .dataframe tbody tr th:only-of-type {\n        vertical-align: middle;\n    }\n\n    .dataframe tbody tr th {\n        vertical-align: top;\n    }\n\n    .dataframe thead th {\n        text-align: right;\n    }\n</style>\n<table border=\"1\" class=\"dataframe\">\n  <thead>\n    <tr style=\"text-align: right;\">\n      <th></th>\n      <th>another_atom</th>\n      <th>center_atom</th>\n      <th>structure_idx</th>\n      <th>name_of_structure</th>\n      <th>1.1014492753623188</th>\n      <th>1.3043478260869565</th>\n      <th>1.5072463768115942</th>\n      <th>1.710144927536232</th>\n      <th>1.9130434782608696</th>\n      <th>2.1159420289855073</th>\n      <th>...</th>\n      <th>13.072463768115943</th>\n      <th>13.27536231884058</th>\n      <th>13.478260869565219</th>\n      <th>13.681159420289855</th>\n      <th>13.884057971014494</th>\n      <th>14.08695652173913</th>\n      <th>14.28985507246377</th>\n      <th>14.492753623188406</th>\n      <th>14.695652173913045</th>\n      <th>14.898550724637682</th>\n    </tr>\n  </thead>\n  <tbody>\n    <tr>\n      <th>0</th>\n      <td>Si</td>\n      <td>Si</td>\n      <td>421</td>\n      <td>stishovite</td>\n      <td>0.0</td>\n      <td>0.0</td>\n      <td>0.0</td>\n      <td>0.0</td>\n      <td>0.0</td>\n      <td>0.0</td>\n      <td>...</td>\n      <td>1.523770</td>\n      <td>1.402121</td>\n      <td>2.319890</td>\n      <td>0.926177</td>\n      <td>4.072526</td>\n      <td>0.000000</td>\n      <td>1.271041</td>\n      <td>1.870616</td>\n      <td>1.479554</td>\n      <td>3.270718</td>\n    </tr>\n    <tr>\n      <th>1</th>\n      <td>Si</td>\n      <td>Si</td>\n      <td>421</td>\n      <td>stishovite</td>\n      <td>0.0</td>\n      <td>0.0</td>\n      <td>0.0</td>\n      <td>0.0</td>\n      <td>0.0</td>\n      <td>0.0</td>\n      <td>...</td>\n      <td>1.356971</td>\n      <td>1.487561</td>\n      <td>2.559396</td>\n      <td>0.539092</td>\n      <td>4.229522</td>\n      <td>0.073953</td>\n      <td>1.339532</td>\n      <td>1.596883</td>\n      <td>1.751298</td>\n      <td>3.460492</td>\n    </tr>\n    <tr>\n      <th>2</th>\n      <td>Si</td>\n      <td>Si</td>\n      <td>421</td>\n      <td>stishovite</td>\n      <td>0.0</td>\n      <td>0.0</td>\n      <td>0.0</td>\n      <td>0.0</td>\n      <td>0.0</td>\n      <td>0.0</td>\n      <td>...</td>\n      <td>1.607515</td>\n      <td>1.236963</td>\n      <td>2.472900</td>\n      <td>1.152431</td>\n      <td>3.770658</td>\n      <td>0.000000</td>\n      <td>1.411163</td>\n      <td>1.866102</td>\n      <td>1.542593</td>\n      <td>3.074778</td>\n    </tr>\n    <tr>\n      <th>3</th>\n      <td>Si</td>\n      <td>Si</td>\n      <td>421</td>\n      <td>stishovite</td>\n      <td>0.0</td>\n      <td>0.0</td>\n      <td>0.0</td>\n      <td>0.0</td>\n      <td>0.0</td>\n      <td>0.0</td>\n      <td>...</td>\n      <td>1.441264</td>\n      <td>1.484973</td>\n      <td>2.155373</td>\n      <td>1.619619</td>\n      <td>3.466513</td>\n      <td>0.073953</td>\n      <td>1.341515</td>\n      <td>1.800130</td>\n      <td>1.744541</td>\n      <td>3.203858</td>\n    </tr>\n    <tr>\n      <th>4</th>\n      <td>Si</td>\n      <td>Si</td>\n      <td>421</td>\n      <td>stishovite</td>\n      <td>0.0</td>\n      <td>0.0</td>\n      <td>0.0</td>\n      <td>0.0</td>\n      <td>0.0</td>\n      <td>0.0</td>\n      <td>...</td>\n      <td>1.440323</td>\n      <td>1.485407</td>\n      <td>2.320195</td>\n      <td>1.001363</td>\n      <td>3.925652</td>\n      <td>0.074149</td>\n      <td>1.270351</td>\n      <td>1.870033</td>\n      <td>1.479428</td>\n      <td>3.271387</td>\n    </tr>\n    <tr>\n      <th>...</th>\n      <td>...</td>\n      <td>...</td>\n      <td>...</td>\n      <td>...</td>\n      <td>...</td>\n      <td>...</td>\n      <td>...</td>\n      <td>...</td>\n      <td>...</td>\n      <td>...</td>\n      <td>...</td>\n      <td>...</td>\n      <td>...</td>\n      <td>...</td>\n      <td>...</td>\n      <td>...</td>\n      <td>...</td>\n      <td>...</td>\n      <td>...</td>\n      <td>...</td>\n      <td>...</td>\n    </tr>\n    <tr>\n      <th>119595</th>\n      <td>Si</td>\n      <td>Si</td>\n      <td>183</td>\n      <td>beta-quartz</td>\n      <td>0.0</td>\n      <td>0.0</td>\n      <td>0.0</td>\n      <td>0.0</td>\n      <td>0.0</td>\n      <td>0.0</td>\n      <td>...</td>\n      <td>1.270772</td>\n      <td>0.826381</td>\n      <td>1.198947</td>\n      <td>0.927412</td>\n      <td>0.376595</td>\n      <td>0.730779</td>\n      <td>1.063857</td>\n      <td>1.727476</td>\n      <td>1.277316</td>\n      <td>0.788135</td>\n    </tr>\n    <tr>\n      <th>119596</th>\n      <td>Si</td>\n      <td>Si</td>\n      <td>183</td>\n      <td>beta-quartz</td>\n      <td>0.0</td>\n      <td>0.0</td>\n      <td>0.0</td>\n      <td>0.0</td>\n      <td>0.0</td>\n      <td>0.0</td>\n      <td>...</td>\n      <td>0.682032</td>\n      <td>1.151169</td>\n      <td>1.363072</td>\n      <td>0.620149</td>\n      <td>0.529136</td>\n      <td>0.586947</td>\n      <td>1.134186</td>\n      <td>1.861678</td>\n      <td>1.415172</td>\n      <td>0.720380</td>\n    </tr>\n    <tr>\n      <th>119597</th>\n      <td>Si</td>\n      <td>Si</td>\n      <td>183</td>\n      <td>beta-quartz</td>\n      <td>0.0</td>\n      <td>0.0</td>\n      <td>0.0</td>\n      <td>0.0</td>\n      <td>0.0</td>\n      <td>0.0</td>\n      <td>...</td>\n      <td>0.932639</td>\n      <td>0.906546</td>\n      <td>1.363994</td>\n      <td>0.773669</td>\n      <td>0.526267</td>\n      <td>0.653942</td>\n      <td>0.924685</td>\n      <td>2.069016</td>\n      <td>1.280916</td>\n      <td>0.589730</td>\n    </tr>\n    <tr>\n      <th>119598</th>\n      <td>Si</td>\n      <td>Si</td>\n      <td>183</td>\n      <td>beta-quartz</td>\n      <td>0.0</td>\n      <td>0.0</td>\n      <td>0.0</td>\n      <td>0.0</td>\n      <td>0.0</td>\n      <td>0.0</td>\n      <td>...</td>\n      <td>0.677716</td>\n      <td>1.236119</td>\n      <td>1.123795</td>\n      <td>0.930315</td>\n      <td>0.303183</td>\n      <td>0.511509</td>\n      <td>1.207533</td>\n      <td>1.792300</td>\n      <td>1.617959</td>\n      <td>0.588124</td>\n    </tr>\n    <tr>\n      <th>119599</th>\n      <td>Si</td>\n      <td>Si</td>\n      <td>183</td>\n      <td>beta-quartz</td>\n      <td>0.0</td>\n      <td>0.0</td>\n      <td>0.0</td>\n      <td>0.0</td>\n      <td>0.0</td>\n      <td>0.0</td>\n      <td>...</td>\n      <td>0.595794</td>\n      <td>1.318118</td>\n      <td>1.198968</td>\n      <td>0.694991</td>\n      <td>0.452045</td>\n      <td>0.802591</td>\n      <td>0.854540</td>\n      <td>1.933635</td>\n      <td>1.416770</td>\n      <td>0.718602</td>\n    </tr>\n  </tbody>\n</table>\n<p>119600 rows × 73 columns</p>\n</div>"
     },
     "execution_count": 11,
     "metadata": {},
     "output_type": "execute_result"
    }
   ],
   "source": [
    "df"
   ],
   "metadata": {
    "collapsed": false,
    "pycharm": {
     "name": "#%%\n"
    }
   }
  },
  {
   "cell_type": "code",
   "execution_count": null,
   "outputs": [],
   "source": [],
   "metadata": {
    "collapsed": false,
    "pycharm": {
     "name": "#%%\n"
    }
   }
  }
 ],
 "metadata": {
  "kernelspec": {
   "display_name": "Python 3",
   "language": "python",
   "name": "python3"
  },
  "language_info": {
   "codemirror_mode": {
    "name": "ipython",
    "version": 2
   },
   "file_extension": ".py",
   "mimetype": "text/x-python",
   "name": "python",
   "nbconvert_exporter": "python",
   "pygments_lexer": "ipython2",
   "version": "2.7.6"
  }
 },
 "nbformat": 4,
 "nbformat_minor": 0
}