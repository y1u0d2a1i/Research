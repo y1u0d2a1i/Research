{
 "cells": [
  {
   "cell_type": "code",
   "execution_count": 2,
   "metadata": {
    "collapsed": true
   },
   "outputs": [],
   "source": [
    "import pandas as pd\n",
    "import matplotlib.pyplot as plt\n",
    "import numpy as np\n",
    "import glob\n",
    "plt.style.use({'figure.facecolor':'white'})\n"
   ]
  },
  {
   "cell_type": "code",
   "execution_count": 1,
   "outputs": [],
   "source": [
    "new_csv_path = '/Users/y1u0d2/desktop/Lab/result/rdf/rdf_result/structure/all'\n",
    "old_csv_path = '/Users/y1u0d2/Desktop/Lab/Program/python/RDF/rdf_result/csv/all'\n"
   ],
   "metadata": {
    "collapsed": false,
    "pycharm": {
     "name": "#%%\n"
    }
   }
  },
  {
   "cell_type": "code",
   "execution_count": 3,
   "outputs": [],
   "source": [
    "df_new = pd.read_csv(f'{new_csv_path}/all_O-O.csv')\n",
    "df_old = pd.read_csv(f'{old_csv_path}/all_O-O.csv')\n"
   ],
   "metadata": {
    "collapsed": false,
    "pycharm": {
     "name": "#%%\n"
    }
   }
  },
  {
   "cell_type": "code",
   "execution_count": 4,
   "outputs": [
    {
     "data": {
      "text/plain": "      Unnamed: 0  structure_idx another_atom center_atom    structure  \\\n0              0              0            O           O   stishovite   \n1              1              1            O           O   stishovite   \n2              2              2            O           O   stishovite   \n3              3              3            O           O   stishovite   \n4              4              4            O           O   stishovite   \n...          ...            ...          ...         ...          ...   \n8545         795            795            O           O  beta-quartz   \n8546         796            796            O           O  beta-quartz   \n8547         797            797            O           O  beta-quartz   \n8548         798            798            O           O  beta-quartz   \n8549         799            799            O           O  beta-quartz   \n\n      1.1014492753623188  1.3043478260869565  1.5072463768115942  \\\n0                    0.0                 0.0                 0.0   \n1                    0.0                 0.0                 0.0   \n2                    0.0                 0.0                 0.0   \n3                    0.0                 0.0                 0.0   \n4                    0.0                 0.0                 0.0   \n...                  ...                 ...                 ...   \n8545                 0.0                 0.0                 0.0   \n8546                 0.0                 0.0                 0.0   \n8547                 0.0                 0.0                 0.0   \n8548                 0.0                 0.0                 0.0   \n8549                 0.0                 0.0                 0.0   \n\n      1.710144927536232  1.9130434782608696  ...  13.072463768115943  \\\n0                   0.0                 0.0  ...            1.542800   \n1                   0.0                 0.0  ...            1.461079   \n2                   0.0                 0.0  ...            1.460157   \n3                   0.0                 0.0  ...            1.427504   \n4                   0.0                 0.0  ...            1.463016   \n...                 ...                 ...  ...                 ...   \n8545                0.0                 0.0  ...            0.517944   \n8546                0.0                 0.0  ...            0.593918   \n8547                0.0                 0.0  ...            0.546897   \n8548                0.0                 0.0  ...            0.590469   \n8549                0.0                 0.0  ...            0.620821   \n\n      13.27536231884058  13.478260869565219  13.681159420289855  \\\n0              1.347293            0.935387            2.241319   \n1              1.350778            0.899699            2.131667   \n2              1.373510            0.878050            2.129337   \n3              1.360786            0.899630            2.056638   \n4              1.357350            0.893749            2.054239   \n...                 ...                 ...                 ...   \n8545           0.619042            0.332879            0.323064   \n8546           0.576008            0.372752            0.379065   \n8547           0.502049            0.417995            0.355157   \n8548           0.536421            0.406016            0.366308   \n8549           0.530535            0.412406            0.366381   \n\n      13.884057971014494  14.08695652173913  14.28985507246377  \\\n0               1.020471           0.962529           2.444640   \n1               1.067604           1.057309           2.448565   \n2               1.057204           1.068841           2.452816   \n3               1.110984           1.077020           2.460343   \n4               1.091197           1.100449           2.452588   \n...                  ...                ...                ...   \n8545            0.556372           0.501096           0.517691   \n8546            0.454528           0.517492           0.559736   \n8547            0.446498           0.599513           0.489674   \n8548            0.456745           0.554022           0.519989   \n8549            0.475115           0.503703           0.545185   \n\n      14.492753623188406  14.695652173913045  14.898550724637682  \n0               1.120295            1.214054            1.250387  \n1               1.116372            1.222389            1.242087  \n2               1.112137            1.226803            1.237626  \n3               1.104599            1.287452            1.178904  \n4               1.112337            1.288011            1.176431  \n...                  ...                 ...                 ...  \n8545            0.564282            0.607542            0.528464  \n8546            0.540894            0.610496            0.503286  \n8547            0.596354            0.597932            0.459178  \n8548            0.543753            0.606179            0.498667  \n8549            0.560079            0.598653            0.534440  \n\n[8550 rows x 74 columns]",
      "text/html": "<div>\n<style scoped>\n    .dataframe tbody tr th:only-of-type {\n        vertical-align: middle;\n    }\n\n    .dataframe tbody tr th {\n        vertical-align: top;\n    }\n\n    .dataframe thead th {\n        text-align: right;\n    }\n</style>\n<table border=\"1\" class=\"dataframe\">\n  <thead>\n    <tr style=\"text-align: right;\">\n      <th></th>\n      <th>Unnamed: 0</th>\n      <th>structure_idx</th>\n      <th>another_atom</th>\n      <th>center_atom</th>\n      <th>structure</th>\n      <th>1.1014492753623188</th>\n      <th>1.3043478260869565</th>\n      <th>1.5072463768115942</th>\n      <th>1.710144927536232</th>\n      <th>1.9130434782608696</th>\n      <th>...</th>\n      <th>13.072463768115943</th>\n      <th>13.27536231884058</th>\n      <th>13.478260869565219</th>\n      <th>13.681159420289855</th>\n      <th>13.884057971014494</th>\n      <th>14.08695652173913</th>\n      <th>14.28985507246377</th>\n      <th>14.492753623188406</th>\n      <th>14.695652173913045</th>\n      <th>14.898550724637682</th>\n    </tr>\n  </thead>\n  <tbody>\n    <tr>\n      <th>0</th>\n      <td>0</td>\n      <td>0</td>\n      <td>O</td>\n      <td>O</td>\n      <td>stishovite</td>\n      <td>0.0</td>\n      <td>0.0</td>\n      <td>0.0</td>\n      <td>0.0</td>\n      <td>0.0</td>\n      <td>...</td>\n      <td>1.542800</td>\n      <td>1.347293</td>\n      <td>0.935387</td>\n      <td>2.241319</td>\n      <td>1.020471</td>\n      <td>0.962529</td>\n      <td>2.444640</td>\n      <td>1.120295</td>\n      <td>1.214054</td>\n      <td>1.250387</td>\n    </tr>\n    <tr>\n      <th>1</th>\n      <td>1</td>\n      <td>1</td>\n      <td>O</td>\n      <td>O</td>\n      <td>stishovite</td>\n      <td>0.0</td>\n      <td>0.0</td>\n      <td>0.0</td>\n      <td>0.0</td>\n      <td>0.0</td>\n      <td>...</td>\n      <td>1.461079</td>\n      <td>1.350778</td>\n      <td>0.899699</td>\n      <td>2.131667</td>\n      <td>1.067604</td>\n      <td>1.057309</td>\n      <td>2.448565</td>\n      <td>1.116372</td>\n      <td>1.222389</td>\n      <td>1.242087</td>\n    </tr>\n    <tr>\n      <th>2</th>\n      <td>2</td>\n      <td>2</td>\n      <td>O</td>\n      <td>O</td>\n      <td>stishovite</td>\n      <td>0.0</td>\n      <td>0.0</td>\n      <td>0.0</td>\n      <td>0.0</td>\n      <td>0.0</td>\n      <td>...</td>\n      <td>1.460157</td>\n      <td>1.373510</td>\n      <td>0.878050</td>\n      <td>2.129337</td>\n      <td>1.057204</td>\n      <td>1.068841</td>\n      <td>2.452816</td>\n      <td>1.112137</td>\n      <td>1.226803</td>\n      <td>1.237626</td>\n    </tr>\n    <tr>\n      <th>3</th>\n      <td>3</td>\n      <td>3</td>\n      <td>O</td>\n      <td>O</td>\n      <td>stishovite</td>\n      <td>0.0</td>\n      <td>0.0</td>\n      <td>0.0</td>\n      <td>0.0</td>\n      <td>0.0</td>\n      <td>...</td>\n      <td>1.427504</td>\n      <td>1.360786</td>\n      <td>0.899630</td>\n      <td>2.056638</td>\n      <td>1.110984</td>\n      <td>1.077020</td>\n      <td>2.460343</td>\n      <td>1.104599</td>\n      <td>1.287452</td>\n      <td>1.178904</td>\n    </tr>\n    <tr>\n      <th>4</th>\n      <td>4</td>\n      <td>4</td>\n      <td>O</td>\n      <td>O</td>\n      <td>stishovite</td>\n      <td>0.0</td>\n      <td>0.0</td>\n      <td>0.0</td>\n      <td>0.0</td>\n      <td>0.0</td>\n      <td>...</td>\n      <td>1.463016</td>\n      <td>1.357350</td>\n      <td>0.893749</td>\n      <td>2.054239</td>\n      <td>1.091197</td>\n      <td>1.100449</td>\n      <td>2.452588</td>\n      <td>1.112337</td>\n      <td>1.288011</td>\n      <td>1.176431</td>\n    </tr>\n    <tr>\n      <th>...</th>\n      <td>...</td>\n      <td>...</td>\n      <td>...</td>\n      <td>...</td>\n      <td>...</td>\n      <td>...</td>\n      <td>...</td>\n      <td>...</td>\n      <td>...</td>\n      <td>...</td>\n      <td>...</td>\n      <td>...</td>\n      <td>...</td>\n      <td>...</td>\n      <td>...</td>\n      <td>...</td>\n      <td>...</td>\n      <td>...</td>\n      <td>...</td>\n      <td>...</td>\n      <td>...</td>\n    </tr>\n    <tr>\n      <th>8545</th>\n      <td>795</td>\n      <td>795</td>\n      <td>O</td>\n      <td>O</td>\n      <td>beta-quartz</td>\n      <td>0.0</td>\n      <td>0.0</td>\n      <td>0.0</td>\n      <td>0.0</td>\n      <td>0.0</td>\n      <td>...</td>\n      <td>0.517944</td>\n      <td>0.619042</td>\n      <td>0.332879</td>\n      <td>0.323064</td>\n      <td>0.556372</td>\n      <td>0.501096</td>\n      <td>0.517691</td>\n      <td>0.564282</td>\n      <td>0.607542</td>\n      <td>0.528464</td>\n    </tr>\n    <tr>\n      <th>8546</th>\n      <td>796</td>\n      <td>796</td>\n      <td>O</td>\n      <td>O</td>\n      <td>beta-quartz</td>\n      <td>0.0</td>\n      <td>0.0</td>\n      <td>0.0</td>\n      <td>0.0</td>\n      <td>0.0</td>\n      <td>...</td>\n      <td>0.593918</td>\n      <td>0.576008</td>\n      <td>0.372752</td>\n      <td>0.379065</td>\n      <td>0.454528</td>\n      <td>0.517492</td>\n      <td>0.559736</td>\n      <td>0.540894</td>\n      <td>0.610496</td>\n      <td>0.503286</td>\n    </tr>\n    <tr>\n      <th>8547</th>\n      <td>797</td>\n      <td>797</td>\n      <td>O</td>\n      <td>O</td>\n      <td>beta-quartz</td>\n      <td>0.0</td>\n      <td>0.0</td>\n      <td>0.0</td>\n      <td>0.0</td>\n      <td>0.0</td>\n      <td>...</td>\n      <td>0.546897</td>\n      <td>0.502049</td>\n      <td>0.417995</td>\n      <td>0.355157</td>\n      <td>0.446498</td>\n      <td>0.599513</td>\n      <td>0.489674</td>\n      <td>0.596354</td>\n      <td>0.597932</td>\n      <td>0.459178</td>\n    </tr>\n    <tr>\n      <th>8548</th>\n      <td>798</td>\n      <td>798</td>\n      <td>O</td>\n      <td>O</td>\n      <td>beta-quartz</td>\n      <td>0.0</td>\n      <td>0.0</td>\n      <td>0.0</td>\n      <td>0.0</td>\n      <td>0.0</td>\n      <td>...</td>\n      <td>0.590469</td>\n      <td>0.536421</td>\n      <td>0.406016</td>\n      <td>0.366308</td>\n      <td>0.456745</td>\n      <td>0.554022</td>\n      <td>0.519989</td>\n      <td>0.543753</td>\n      <td>0.606179</td>\n      <td>0.498667</td>\n    </tr>\n    <tr>\n      <th>8549</th>\n      <td>799</td>\n      <td>799</td>\n      <td>O</td>\n      <td>O</td>\n      <td>beta-quartz</td>\n      <td>0.0</td>\n      <td>0.0</td>\n      <td>0.0</td>\n      <td>0.0</td>\n      <td>0.0</td>\n      <td>...</td>\n      <td>0.620821</td>\n      <td>0.530535</td>\n      <td>0.412406</td>\n      <td>0.366381</td>\n      <td>0.475115</td>\n      <td>0.503703</td>\n      <td>0.545185</td>\n      <td>0.560079</td>\n      <td>0.598653</td>\n      <td>0.534440</td>\n    </tr>\n  </tbody>\n</table>\n<p>8550 rows × 74 columns</p>\n</div>"
     },
     "execution_count": 4,
     "metadata": {},
     "output_type": "execute_result"
    }
   ],
   "source": [
    "df_new\n"
   ],
   "metadata": {
    "collapsed": false,
    "pycharm": {
     "name": "#%%\n"
    }
   }
  },
  {
   "cell_type": "code",
   "execution_count": 5,
   "outputs": [
    {
     "data": {
      "text/plain": "      Unnamed: 0 another_atom center_atom  structure_idx name_of_structure  \\\n0              0            O           O            421        stishovite   \n1              1            O           O            347        stishovite   \n2              2            O           O            353        stishovite   \n3              3            O           O            435        stishovite   \n4              4            O           O            409        stishovite   \n...          ...          ...         ...            ...               ...   \n8545         795            O           O            626       beta-quartz   \n8546         796            O           O            140       beta-quartz   \n8547         797            O           O            168       beta-quartz   \n8548         798            O           O            197       beta-quartz   \n8549         799            O           O            183       beta-quartz   \n\n      1.1014492753623188  1.3043478260869565  1.5072463768115942  \\\n0                    0.0                 0.0                 0.0   \n1                    0.0                 0.0                 0.0   \n2                    0.0                 0.0                 0.0   \n3                    0.0                 0.0                 0.0   \n4                    0.0                 0.0                 0.0   \n...                  ...                 ...                 ...   \n8545                 0.0                 0.0                 0.0   \n8546                 0.0                 0.0                 0.0   \n8547                 0.0                 0.0                 0.0   \n8548                 0.0                 0.0                 0.0   \n8549                 0.0                 0.0                 0.0   \n\n      1.710144927536232  1.9130434782608696  ...  13.072463768115943  \\\n0                   0.0            0.000000  ...            4.215264   \n1                   0.0            1.020223  ...            5.914378   \n2                   0.0            0.000000  ...            7.695851   \n3                   0.0            0.000000  ...            4.860304   \n4                   0.0            0.000000  ...            4.200873   \n...                 ...                 ...  ...                 ...   \n8545                0.0            0.000000  ...            2.951746   \n8546                0.0            0.000000  ...            3.440985   \n8547                0.0            0.000000  ...            1.671450   \n8548                0.0            0.000000  ...            2.056668   \n8549                0.0            0.000000  ...            1.615284   \n\n      13.27536231884058  13.478260869565219  13.681159420289855  \\\n0             10.991192            5.175472            6.566032   \n1              8.891195            6.417244            8.598929   \n2              4.116495            3.869679            7.176657   \n3              9.618821            6.293221            6.784903   \n4             11.220671            4.734934            6.672232   \n...                 ...                 ...                 ...   \n8545           2.496519            3.007793            2.275656   \n8546           3.088791            3.547442            4.091164   \n8547           1.823380            4.908472            1.844147   \n8548           2.370533            3.456945            2.969625   \n8549           2.459155            3.887426            2.713442   \n\n      13.884057971014494  14.08695652173913  14.28985507246377  \\\n0              11.210879           6.031566           8.241229   \n1               8.883942           7.145549           7.460625   \n2               3.995416           4.854883           5.834694   \n3              10.311372           6.436845           7.857812   \n4              11.450089           5.550430           8.856220   \n...                  ...                ...                ...   \n8545            1.560552           1.814608           2.082535   \n8546            4.249437           2.681600           3.227074   \n8547            3.581251           3.270626           2.138598   \n8548            3.185023           2.923546           3.083240   \n8549            3.058134           3.185967           2.498705   \n\n      14.492753623188406  14.695652173913045  14.898550724637682  \n0               6.539010            8.953073            8.096296  \n1               7.923090            8.584967            7.853486  \n2               6.643128            9.352312            6.604141  \n3               7.131069            8.467796            8.537068  \n4               6.334169            8.957265            7.605089  \n...                  ...                 ...                 ...  \n8545            2.715774            2.109072            2.117197  \n8546            3.458686            4.137345            2.672987  \n8547            4.261735            2.283949            3.642406  \n8548            3.082089            3.159036            2.956319  \n8549            3.710736            3.120794            2.919045  \n\n[8550 rows x 74 columns]",
      "text/html": "<div>\n<style scoped>\n    .dataframe tbody tr th:only-of-type {\n        vertical-align: middle;\n    }\n\n    .dataframe tbody tr th {\n        vertical-align: top;\n    }\n\n    .dataframe thead th {\n        text-align: right;\n    }\n</style>\n<table border=\"1\" class=\"dataframe\">\n  <thead>\n    <tr style=\"text-align: right;\">\n      <th></th>\n      <th>Unnamed: 0</th>\n      <th>another_atom</th>\n      <th>center_atom</th>\n      <th>structure_idx</th>\n      <th>name_of_structure</th>\n      <th>1.1014492753623188</th>\n      <th>1.3043478260869565</th>\n      <th>1.5072463768115942</th>\n      <th>1.710144927536232</th>\n      <th>1.9130434782608696</th>\n      <th>...</th>\n      <th>13.072463768115943</th>\n      <th>13.27536231884058</th>\n      <th>13.478260869565219</th>\n      <th>13.681159420289855</th>\n      <th>13.884057971014494</th>\n      <th>14.08695652173913</th>\n      <th>14.28985507246377</th>\n      <th>14.492753623188406</th>\n      <th>14.695652173913045</th>\n      <th>14.898550724637682</th>\n    </tr>\n  </thead>\n  <tbody>\n    <tr>\n      <th>0</th>\n      <td>0</td>\n      <td>O</td>\n      <td>O</td>\n      <td>421</td>\n      <td>stishovite</td>\n      <td>0.0</td>\n      <td>0.0</td>\n      <td>0.0</td>\n      <td>0.0</td>\n      <td>0.000000</td>\n      <td>...</td>\n      <td>4.215264</td>\n      <td>10.991192</td>\n      <td>5.175472</td>\n      <td>6.566032</td>\n      <td>11.210879</td>\n      <td>6.031566</td>\n      <td>8.241229</td>\n      <td>6.539010</td>\n      <td>8.953073</td>\n      <td>8.096296</td>\n    </tr>\n    <tr>\n      <th>1</th>\n      <td>1</td>\n      <td>O</td>\n      <td>O</td>\n      <td>347</td>\n      <td>stishovite</td>\n      <td>0.0</td>\n      <td>0.0</td>\n      <td>0.0</td>\n      <td>0.0</td>\n      <td>1.020223</td>\n      <td>...</td>\n      <td>5.914378</td>\n      <td>8.891195</td>\n      <td>6.417244</td>\n      <td>8.598929</td>\n      <td>8.883942</td>\n      <td>7.145549</td>\n      <td>7.460625</td>\n      <td>7.923090</td>\n      <td>8.584967</td>\n      <td>7.853486</td>\n    </tr>\n    <tr>\n      <th>2</th>\n      <td>2</td>\n      <td>O</td>\n      <td>O</td>\n      <td>353</td>\n      <td>stishovite</td>\n      <td>0.0</td>\n      <td>0.0</td>\n      <td>0.0</td>\n      <td>0.0</td>\n      <td>0.000000</td>\n      <td>...</td>\n      <td>7.695851</td>\n      <td>4.116495</td>\n      <td>3.869679</td>\n      <td>7.176657</td>\n      <td>3.995416</td>\n      <td>4.854883</td>\n      <td>5.834694</td>\n      <td>6.643128</td>\n      <td>9.352312</td>\n      <td>6.604141</td>\n    </tr>\n    <tr>\n      <th>3</th>\n      <td>3</td>\n      <td>O</td>\n      <td>O</td>\n      <td>435</td>\n      <td>stishovite</td>\n      <td>0.0</td>\n      <td>0.0</td>\n      <td>0.0</td>\n      <td>0.0</td>\n      <td>0.000000</td>\n      <td>...</td>\n      <td>4.860304</td>\n      <td>9.618821</td>\n      <td>6.293221</td>\n      <td>6.784903</td>\n      <td>10.311372</td>\n      <td>6.436845</td>\n      <td>7.857812</td>\n      <td>7.131069</td>\n      <td>8.467796</td>\n      <td>8.537068</td>\n    </tr>\n    <tr>\n      <th>4</th>\n      <td>4</td>\n      <td>O</td>\n      <td>O</td>\n      <td>409</td>\n      <td>stishovite</td>\n      <td>0.0</td>\n      <td>0.0</td>\n      <td>0.0</td>\n      <td>0.0</td>\n      <td>0.000000</td>\n      <td>...</td>\n      <td>4.200873</td>\n      <td>11.220671</td>\n      <td>4.734934</td>\n      <td>6.672232</td>\n      <td>11.450089</td>\n      <td>5.550430</td>\n      <td>8.856220</td>\n      <td>6.334169</td>\n      <td>8.957265</td>\n      <td>7.605089</td>\n    </tr>\n    <tr>\n      <th>...</th>\n      <td>...</td>\n      <td>...</td>\n      <td>...</td>\n      <td>...</td>\n      <td>...</td>\n      <td>...</td>\n      <td>...</td>\n      <td>...</td>\n      <td>...</td>\n      <td>...</td>\n      <td>...</td>\n      <td>...</td>\n      <td>...</td>\n      <td>...</td>\n      <td>...</td>\n      <td>...</td>\n      <td>...</td>\n      <td>...</td>\n      <td>...</td>\n      <td>...</td>\n      <td>...</td>\n    </tr>\n    <tr>\n      <th>8545</th>\n      <td>795</td>\n      <td>O</td>\n      <td>O</td>\n      <td>626</td>\n      <td>beta-quartz</td>\n      <td>0.0</td>\n      <td>0.0</td>\n      <td>0.0</td>\n      <td>0.0</td>\n      <td>0.000000</td>\n      <td>...</td>\n      <td>2.951746</td>\n      <td>2.496519</td>\n      <td>3.007793</td>\n      <td>2.275656</td>\n      <td>1.560552</td>\n      <td>1.814608</td>\n      <td>2.082535</td>\n      <td>2.715774</td>\n      <td>2.109072</td>\n      <td>2.117197</td>\n    </tr>\n    <tr>\n      <th>8546</th>\n      <td>796</td>\n      <td>O</td>\n      <td>O</td>\n      <td>140</td>\n      <td>beta-quartz</td>\n      <td>0.0</td>\n      <td>0.0</td>\n      <td>0.0</td>\n      <td>0.0</td>\n      <td>0.000000</td>\n      <td>...</td>\n      <td>3.440985</td>\n      <td>3.088791</td>\n      <td>3.547442</td>\n      <td>4.091164</td>\n      <td>4.249437</td>\n      <td>2.681600</td>\n      <td>3.227074</td>\n      <td>3.458686</td>\n      <td>4.137345</td>\n      <td>2.672987</td>\n    </tr>\n    <tr>\n      <th>8547</th>\n      <td>797</td>\n      <td>O</td>\n      <td>O</td>\n      <td>168</td>\n      <td>beta-quartz</td>\n      <td>0.0</td>\n      <td>0.0</td>\n      <td>0.0</td>\n      <td>0.0</td>\n      <td>0.000000</td>\n      <td>...</td>\n      <td>1.671450</td>\n      <td>1.823380</td>\n      <td>4.908472</td>\n      <td>1.844147</td>\n      <td>3.581251</td>\n      <td>3.270626</td>\n      <td>2.138598</td>\n      <td>4.261735</td>\n      <td>2.283949</td>\n      <td>3.642406</td>\n    </tr>\n    <tr>\n      <th>8548</th>\n      <td>798</td>\n      <td>O</td>\n      <td>O</td>\n      <td>197</td>\n      <td>beta-quartz</td>\n      <td>0.0</td>\n      <td>0.0</td>\n      <td>0.0</td>\n      <td>0.0</td>\n      <td>0.000000</td>\n      <td>...</td>\n      <td>2.056668</td>\n      <td>2.370533</td>\n      <td>3.456945</td>\n      <td>2.969625</td>\n      <td>3.185023</td>\n      <td>2.923546</td>\n      <td>3.083240</td>\n      <td>3.082089</td>\n      <td>3.159036</td>\n      <td>2.956319</td>\n    </tr>\n    <tr>\n      <th>8549</th>\n      <td>799</td>\n      <td>O</td>\n      <td>O</td>\n      <td>183</td>\n      <td>beta-quartz</td>\n      <td>0.0</td>\n      <td>0.0</td>\n      <td>0.0</td>\n      <td>0.0</td>\n      <td>0.000000</td>\n      <td>...</td>\n      <td>1.615284</td>\n      <td>2.459155</td>\n      <td>3.887426</td>\n      <td>2.713442</td>\n      <td>3.058134</td>\n      <td>3.185967</td>\n      <td>2.498705</td>\n      <td>3.710736</td>\n      <td>3.120794</td>\n      <td>2.919045</td>\n    </tr>\n  </tbody>\n</table>\n<p>8550 rows × 74 columns</p>\n</div>"
     },
     "execution_count": 5,
     "metadata": {},
     "output_type": "execute_result"
    }
   ],
   "source": [
    "df_old\n"
   ],
   "metadata": {
    "collapsed": false,
    "pycharm": {
     "name": "#%%\n"
    }
   }
  },
  {
   "cell_type": "code",
   "execution_count": 9,
   "outputs": [
    {
     "name": "stdout",
     "output_type": "stream",
     "text": [
      "0.03659658233978066\n",
      "0.07098572172885034\n"
     ]
    }
   ],
   "source": [
    "print(df_new['2.1159420289855073'].mean())\n",
    "print(df_old['2.1159420289855073'].mean() / (4 * np.pi * 0.2))"
   ],
   "metadata": {
    "collapsed": false,
    "pycharm": {
     "name": "#%%\n"
    }
   }
  },
  {
   "cell_type": "code",
   "execution_count": null,
   "outputs": [],
   "source": [],
   "metadata": {
    "collapsed": false,
    "pycharm": {
     "name": "#%%\n"
    }
   }
  }
 ],
 "metadata": {
  "kernelspec": {
   "display_name": "Python 3",
   "language": "python",
   "name": "python3"
  },
  "language_info": {
   "codemirror_mode": {
    "name": "ipython",
    "version": 2
   },
   "file_extension": ".py",
   "mimetype": "text/x-python",
   "name": "python",
   "nbconvert_exporter": "python",
   "pygments_lexer": "ipython2",
   "version": "2.7.6"
  }
 },
 "nbformat": 4,
 "nbformat_minor": 0
}