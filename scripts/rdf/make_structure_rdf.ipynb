{
 "cells": [
  {
   "cell_type": "code",
   "execution_count": 94,
   "metadata": {
    "collapsed": true
   },
   "outputs": [],
   "source": [
    "\"\"\"\n",
    "原子RDFから構造RDFに変換する\n",
    "\"\"\"\n",
    "import numpy as np\n",
    "import pandas as pd\n",
    "import matplotlib.pyplot as plt\n",
    "import glob\n",
    "import os\n",
    "\n",
    "csv_path='/Users/y1u0d2/desktop/Lab/result/rdf/rdf_result/test/atom'\n",
    "out_path ='/Users/y1u0d2/desktop/Lab/result/rdf/rdf_result/test/structure'"
   ]
  },
  {
   "cell_type": "code",
   "execution_count": 95,
   "outputs": [],
   "source": [
    "dirs = glob.glob(f'{csv_path}/*')\n",
    "dire = dirs[1]"
   ],
   "metadata": {
    "collapsed": false,
    "pycharm": {
     "name": "#%%\n"
    }
   }
  },
  {
   "cell_type": "code",
   "execution_count": 96,
   "outputs": [],
   "source": [
    "files = glob.glob(f'{dire}/*')\n",
    "df = pd.read_csv(files[0])\n",
    "columns = df.columns"
   ],
   "metadata": {
    "collapsed": false,
    "pycharm": {
     "name": "#%%\n"
    }
   }
  },
  {
   "cell_type": "code",
   "execution_count": 97,
   "outputs": [],
   "source": [
    "for dire in dirs:\n",
    "    files = glob.glob(f'{dire}/*')\n",
    "    for i,file in enumerate(files):\n",
    "        dir_name = file.split('/')[-2]\n",
    "        file_name = file.split('/')[-1]\n",
    "        if i == 0:\n",
    "            os.mkdir(f'{out_path}/{dir_name}')\n",
    "        df = pd.read_csv(file)\n",
    "        if 'another_atom' not in df.columns:\n",
    "            df.columns = columns\n",
    "            df.to_csv(file,index=False,mode='w')\n",
    "        structure = df.name_of_structure.unique()[0]\n",
    "        center_atom = df.center_atom.unique()[0]\n",
    "        another_atom = df.another_atom.unique()[0]\n",
    "        df_structure = df.groupby('structure_idx',as_index=False).sum()\n",
    "        df_structure.insert(loc=1,column='structure',value=structure)\n",
    "        df_structure.insert(loc=1,column='center_atom',value=center_atom)\n",
    "        df_structure.insert(loc=1,column='another_atom',value=another_atom)\n",
    "        df_structure.to_csv(f'{out_path}/{dir_name}/{file_name}')"
   ],
   "metadata": {
    "collapsed": false,
    "pycharm": {
     "name": "#%%\n"
    }
   }
  },
  {
   "cell_type": "code",
   "execution_count": 78,
   "outputs": [],
   "source": [],
   "metadata": {
    "collapsed": false,
    "pycharm": {
     "name": "#%%\n"
    }
   }
  },
  {
   "cell_type": "code",
   "execution_count": null,
   "outputs": [],
   "source": [],
   "metadata": {
    "collapsed": false,
    "pycharm": {
     "name": "#%%\n"
    }
   }
  }
 ],
 "metadata": {
  "kernelspec": {
   "display_name": "Python 3",
   "language": "python",
   "name": "python3"
  },
  "language_info": {
   "codemirror_mode": {
    "name": "ipython",
    "version": 2
   },
   "file_extension": ".py",
   "mimetype": "text/x-python",
   "name": "python",
   "nbconvert_exporter": "python",
   "pygments_lexer": "ipython2",
   "version": "2.7.6"
  }
 },
 "nbformat": 4,
 "nbformat_minor": 0
}