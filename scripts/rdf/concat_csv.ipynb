{
 "cells": [
  {
   "cell_type": "code",
   "execution_count": 9,
   "outputs": [],
   "source": [
    "import pandas as pd\n",
    "import numpy as np\n",
    "import matplotlib.pyplot as plt\n",
    "import glob\n",
    "\n",
    "out_path ='/Users/y1u0d2/desktop/Lab/result/rdf/rdf_atom_all'\n",
    "csv_path ='/Users/y1u0d2/desktop/Lab/result/rdf/rdf_atom'"
   ],
   "metadata": {
    "collapsed": false,
    "pycharm": {
     "name": "#%%\n"
    }
   }
  },
  {
   "cell_type": "code",
   "execution_count": 10,
   "metadata": {
    "collapsed": true
   },
   "outputs": [],
   "source": [
    "def concat_csv(files,output_dir,save_filename=None):\n",
    "    original_csv = pd.read_csv(files[0])\n",
    "    for file in files[1:]:\n",
    "        tmp = pd.read_csv(file)\n",
    "        original_csv = pd.concat([original_csv,tmp], axis=0)\n",
    "\n",
    "    original_csv.to_csv(f'{output_dir}/{save_filename}.csv', index=False)"
   ]
  },
  {
   "cell_type": "code",
   "execution_count": 11,
   "outputs": [],
   "source": [
    "data_O_O = []\n",
    "data_O_Si = []\n",
    "data_Si_O = []\n",
    "data_Si_Si = []\n",
    "dirs = glob.glob(f'{csv_path}/*')\n",
    "for dire in dirs:\n",
    "    files = glob.glob(f'{dire}/*')\n",
    "    for file in files:\n",
    "        bond = file.split('/')[-1].split('_')[-1].split('.')[0]\n",
    "        if bond == 'O-O':\n",
    "            data_O_O.append(file)\n",
    "        elif bond == 'O-Si':\n",
    "            data_O_Si.append(file)\n",
    "        elif bond == 'Si-O':\n",
    "            data_Si_O.append(file)\n",
    "        elif bond == 'Si-Si':\n",
    "            data_Si_Si.append(file)"
   ],
   "metadata": {
    "collapsed": false,
    "pycharm": {
     "name": "#%%\n"
    }
   }
  },
  {
   "cell_type": "code",
   "execution_count": 12,
   "outputs": [],
   "source": [
    "concat_csv(data_O_O,out_path,'all_O-O')\n",
    "concat_csv(data_O_Si,out_path,'all_O-Si')\n",
    "concat_csv(data_Si_O,out_path,'all_Si-O')\n",
    "concat_csv(data_Si_Si,out_path,'all_Si-Si')\n"
   ],
   "metadata": {
    "collapsed": false,
    "pycharm": {
     "name": "#%%\n"
    }
   }
  },
  {
   "cell_type": "code",
   "execution_count": 12,
   "outputs": [],
   "source": [],
   "metadata": {
    "collapsed": false,
    "pycharm": {
     "name": "#%%\n"
    }
   }
  },
  {
   "cell_type": "code",
   "execution_count": 12,
   "outputs": [],
   "source": [],
   "metadata": {
    "collapsed": false,
    "pycharm": {
     "name": "#%%\n"
    }
   }
  }
 ],
 "metadata": {
  "kernelspec": {
   "display_name": "Python 3",
   "language": "python",
   "name": "python3"
  },
  "language_info": {
   "codemirror_mode": {
    "name": "ipython",
    "version": 2
   },
   "file_extension": ".py",
   "mimetype": "text/x-python",
   "name": "python",
   "nbconvert_exporter": "python",
   "pygments_lexer": "ipython2",
   "version": "2.7.6"
  }
 },
 "nbformat": 4,
 "nbformat_minor": 0
}