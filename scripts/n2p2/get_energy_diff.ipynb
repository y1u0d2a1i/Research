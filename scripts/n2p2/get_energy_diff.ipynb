{
 "cells": [
  {
   "cell_type": "code",
   "execution_count": 102,
   "metadata": {
    "collapsed": true
   },
   "outputs": [],
   "source": [
    "# y = y_ref - y_pred\n",
    "# エネルギー差を取得\n",
    "\n",
    "import os.path\n",
    "\n",
    "import pandas as pd\n",
    "import numpy as np\n",
    "import glob\n",
    "\n",
    "from utils.constants.dir_path import DataDirPath\n",
    "from utils.constants.constants import Constants\n",
    "from descriptors.base_info import get_reindex_base"
   ]
  },
  {
   "cell_type": "code",
   "execution_count": 103,
   "outputs": [],
   "source": [
    "dir_path = '/Users/y1u0d2/Desktop/Lab/result/nnp-train/rdf-inform/20211117'\n"
   ],
   "metadata": {
    "collapsed": false,
    "pycharm": {
     "name": "#%%\n"
    }
   }
  },
  {
   "cell_type": "code",
   "execution_count": 104,
   "outputs": [
    {
     "name": "stdout",
     "output_type": "stream",
     "text": [
      "alpha-critobalite 1 1150\n",
      "alpha-quartz 1151 2250\n",
      "beta-quartz 2251 3050\n",
      "beta-trydymite 3051 4300\n",
      "coesite 4301 5500\n",
      "Fdd2-beta-critobalite 5501 6850\n",
      "hex-trydymite 6851 7850\n",
      "stishovite 7851 8550\n"
     ]
    }
   ],
   "source": [
    "epoch = 11\n",
    "epoch = str(epoch).zfill(2)\n",
    "base_df = get_reindex_base()\n",
    "df_test = pd.read_csv(f'{dir_path}/analyze/testpoints.0000{epoch}.out.csv')\n",
    "df_train = pd.read_csv(f'{dir_path}/analyze/trainpoints.0000{epoch}.out.csv')\n",
    "df_test_new = pd.merge(df_test,base_df,left_on='index',right_on='structure_idx')\n",
    "df_train_new = pd.merge(df_train,base_df,left_on='index',right_on='structure_idx')\n",
    "df_concat = pd.concat([df_test_new, df_train_new])"
   ],
   "metadata": {
    "collapsed": false,
    "pycharm": {
     "name": "#%%\n"
    }
   }
  },
  {
   "cell_type": "code",
   "execution_count": 105,
   "outputs": [
    {
     "name": "stdout",
     "output_type": "stream",
     "text": [
      "-21.061372010002167 112.2077288944109\n"
     ]
    }
   ],
   "source": [
    "norm_log_path = f'{dir_path}/input.nn'\n",
    "with open(norm_log_path) as f:\n",
    "    l_strip = [line.strip() for line in f.readlines()]\n",
    "    l_strip = list(filter(None, l_strip))\n",
    "    mean_arr = [line for line in l_strip if 'mean_energy' in line]\n",
    "    norm_arr = [line for line in l_strip if 'conv_energy' in line]\n",
    "for mean, norm in zip(mean_arr, norm_arr):\n",
    "    mean = float(mean.split(' ')[-1])\n",
    "    norm = float(norm.split(' ')[-1])\n",
    "print(mean, norm)\n",
    "\n",
    "df_concat['Ediff'] =df_concat.natom * 1/norm * (df_concat.Eref - df_concat.Ennp)\n",
    "# df_concat['Ediff'] = df_concat.E - df_concat.E_nnp_from_norm\n",
    "\n",
    "df_concat.sort_values('index', inplace=True)"
   ],
   "metadata": {
    "collapsed": false,
    "pycharm": {
     "name": "#%%\n"
    }
   }
  },
  {
   "cell_type": "code",
   "execution_count": 106,
   "outputs": [],
   "source": [
    "input_data_path = f'{dir_path}/input.data'\n",
    "index = 0\n",
    "output_data = []\n",
    "with open(input_data_path, 'r') as f:\n",
    "   l_strip = [line.strip() for line in f.readlines()]\n",
    "   for i, line in enumerate(l_strip):\n",
    "       if 'energy' in  line.split(' '):\n",
    "           energy = df_concat.loc[df_concat['index'] == index, 'Ediff'].item()\n",
    "           line = f'energy {energy}'\n",
    "           index += 1\n",
    "       output_data.append(line)"
   ],
   "metadata": {
    "collapsed": false,
    "pycharm": {
     "name": "#%%\n"
    }
   }
  },
  {
   "cell_type": "code",
   "execution_count": 109,
   "outputs": [],
   "source": [
    "with open(f'{dir_path}/angular/input.data', 'w') as f:\n",
    "    f.write('\\n'.join(output_data))"
   ],
   "metadata": {
    "collapsed": false,
    "pycharm": {
     "name": "#%%\n"
    }
   }
  },
  {
   "cell_type": "code",
   "execution_count": 107,
   "outputs": [],
   "source": [],
   "metadata": {
    "collapsed": false,
    "pycharm": {
     "name": "#%%\n"
    }
   }
  }
 ],
 "metadata": {
  "kernelspec": {
   "display_name": "Python 3",
   "language": "python",
   "name": "python3"
  },
  "language_info": {
   "codemirror_mode": {
    "name": "ipython",
    "version": 2
   },
   "file_extension": ".py",
   "mimetype": "text/x-python",
   "name": "python",
   "nbconvert_exporter": "python",
   "pygments_lexer": "ipython2",
   "version": "2.7.6"
  }
 },
 "nbformat": 4,
 "nbformat_minor": 0
}