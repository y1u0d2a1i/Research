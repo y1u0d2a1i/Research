{
 "cells": [
  {
   "cell_type": "code",
   "execution_count": 1,
   "metadata": {
    "collapsed": true
   },
   "outputs": [],
   "source": [
    "# y = y_ref - y_pred\n",
    "# エネルギー差を取得\n",
    "\n",
    "import os.path\n",
    "\n",
    "import pandas as pd\n",
    "import matplotlib.pyplot as plt\n",
    "import numpy as np\n",
    "import glob\n",
    "\n",
    "from utils.constants.dir_path import DataDirPath\n",
    "from utils.constants.constants import Constants\n",
    "from descriptors.base_info import get_reindex_base"
   ]
  },
  {
   "cell_type": "code",
   "execution_count": 2,
   "metadata": {
    "collapsed": false,
    "pycharm": {
     "name": "#%%\n"
    }
   },
   "outputs": [
    {
     "name": "stdout",
     "output_type": "stream",
     "text": [
      "alpha-critobalite 1 1150\n",
      "alpha-quartz 1151 2250\n",
      "beta-quartz 2251 3050\n",
      "beta-trydymite 3051 4300\n",
      "coesite 4301 5500\n",
      "Fdd2-beta-critobalite 5501 6850\n",
      "hex-trydymite 6851 7850\n",
      "stishovite 7851 8550\n",
      "-573.1094183129725 4.123555895485392\n"
     ]
    },
    {
     "data": {
      "text/plain": [
       "<matplotlib.collections.PathCollection at 0x7f9283c2ef90>"
      ]
     },
     "execution_count": 2,
     "metadata": {},
     "output_type": "execute_result"
    },
    {
     "data": {
      "image/png": "[encoded data removed]",
      "text/plain": [
       "<Figure size 432x288 with 1 Axes>"
      ]
     },
     "metadata": {
      "needs_background": "light"
     },
     "output_type": "display_data"
    }
   ],
   "source": [
    "# dir_path = '/Users/y1u0d2/Desktop/Lab/result/nnp-train/rdf-inform/20211117'\n",
    "dir_path = '/Users/y1u0d2/Desktop/Lab/result/nnp-train/20211126/scp/nnp-train_15_10'\n",
    "\n",
    "epoch = 11\n",
    "epoch = str(epoch).zfill(2)\n",
    "base_df = get_reindex_base()\n",
    "df_test = pd.read_csv(f'{dir_path}/analyze/testpoints.0000{epoch}.out.csv')\n",
    "df_train = pd.read_csv(f'{dir_path}/analyze/trainpoints.0000{epoch}.out.csv')\n",
    "df_test_new = pd.merge(df_test,base_df,left_on='index',right_on='structure_idx')\n",
    "df_train_new = pd.merge(df_train,base_df,left_on='index',right_on='structure_idx')\n",
    "df_concat = pd.concat([df_test_new, df_train_new])\n",
    "\n",
    "norm_log_path = f'{dir_path}/analyze/input.nn'\n",
    "with open(norm_log_path) as f:\n",
    "    l_strip = [line.strip() for line in f.readlines()]\n",
    "    l_strip = list(filter(None, l_strip))\n",
    "    mean_arr = [line for line in l_strip if 'mean_energy' in line]\n",
    "    norm_arr = [line for line in l_strip if 'conv_energy' in line]\n",
    "for mean, norm in zip(mean_arr, norm_arr):\n",
    "    mean = float(mean.split(' ')[-1])\n",
    "    norm = float(norm.split(' ')[-1])\n",
    "print(mean, norm)\n",
    "\n",
    "df_concat['Ediff'] =df_concat.natom * 1/norm * (df_concat.Eref - df_concat.Ennp)\n",
    "df_concat['E_nnp_from_norm'] = df_concat.natom * ((1/norm * df_concat.Ennp) + mean)\n",
    "df_concat['E_ref_from_norm'] = df_concat.natom * ((1/norm * df_concat.Eref) + mean)\n",
    "df_concat['E_ref_sio2'] = df_concat['E_ref_from_norm'] / (df_concat.natom)\n",
    "df_concat['E_nnp_sio2'] = df_concat['E_nnp_from_norm'] / (df_concat.natom)\n",
    "min_energy = df_concat['E_ref_sio2'].min()\n",
    "df_concat['E_ref_sio2'] -= min_energy\n",
    "df_concat['E_nnp_sio2'] -= min_energy\n",
    "df_concat.sort_values('index', inplace=True)\n",
    "\n",
    "xmin = 0\n",
    "xmax = df_concat['E_ref_sio2'].max()\n",
    "x = np.linspace(xmin, xmax, 100)\n",
    "y = x\n",
    "plt.plot(x,y, color='red')\n",
    "plt.scatter(df_concat['E_ref_sio2'], df_concat['E_nnp_sio2'])"
   ]
  },
  {
   "cell_type": "code",
   "execution_count": 5,
   "metadata": {
    "collapsed": false,
    "pycharm": {
     "name": "#%%\n"
    }
   },
   "outputs": [
    {
     "data": {
      "text/html": [
       "<div>\n",
       "<style scoped>\n",
       "    .dataframe tbody tr th:only-of-type {\n",
       "        vertical-align: middle;\n",
       "    }\n",
       "\n",
       "    .dataframe tbody tr th {\n",
       "        vertical-align: top;\n",
       "    }\n",
       "\n",
       "    .dataframe thead th {\n",
       "        text-align: right;\n",
       "    }\n",
       "</style>\n",
       "<table border=\"1\" class=\"dataframe\">\n",
       "  <thead>\n",
       "    <tr style=\"text-align: right;\">\n",
       "      <th></th>\n",
       "      <th>index</th>\n",
       "      <th>Eref</th>\n",
       "      <th>Ennp</th>\n",
       "    </tr>\n",
       "  </thead>\n",
       "  <tbody>\n",
       "    <tr>\n",
       "      <th>0</th>\n",
       "      <td>3</td>\n",
       "      <td>-1.174634</td>\n",
       "      <td>-1.173225</td>\n",
       "    </tr>\n",
       "    <tr>\n",
       "      <th>1</th>\n",
       "      <td>21</td>\n",
       "      <td>-0.560455</td>\n",
       "      <td>-0.559238</td>\n",
       "    </tr>\n",
       "    <tr>\n",
       "      <th>2</th>\n",
       "      <td>24</td>\n",
       "      <td>-0.495888</td>\n",
       "      <td>-0.498710</td>\n",
       "    </tr>\n",
       "    <tr>\n",
       "      <th>3</th>\n",
       "      <td>29</td>\n",
       "      <td>-0.409556</td>\n",
       "      <td>-0.412874</td>\n",
       "    </tr>\n",
       "    <tr>\n",
       "      <th>4</th>\n",
       "      <td>46</td>\n",
       "      <td>0.564804</td>\n",
       "      <td>0.567292</td>\n",
       "    </tr>\n",
       "    <tr>\n",
       "      <th>...</th>\n",
       "      <td>...</td>\n",
       "      <td>...</td>\n",
       "      <td>...</td>\n",
       "    </tr>\n",
       "    <tr>\n",
       "      <th>6786</th>\n",
       "      <td>8493</td>\n",
       "      <td>0.361557</td>\n",
       "      <td>0.352598</td>\n",
       "    </tr>\n",
       "    <tr>\n",
       "      <th>6787</th>\n",
       "      <td>8496</td>\n",
       "      <td>0.768813</td>\n",
       "      <td>0.795314</td>\n",
       "    </tr>\n",
       "    <tr>\n",
       "      <th>6788</th>\n",
       "      <td>8500</td>\n",
       "      <td>-0.967888</td>\n",
       "      <td>-0.964118</td>\n",
       "    </tr>\n",
       "    <tr>\n",
       "      <th>6789</th>\n",
       "      <td>8513</td>\n",
       "      <td>-0.812922</td>\n",
       "      <td>-0.806044</td>\n",
       "    </tr>\n",
       "    <tr>\n",
       "      <th>6790</th>\n",
       "      <td>8522</td>\n",
       "      <td>-0.427793</td>\n",
       "      <td>-0.411587</td>\n",
       "    </tr>\n",
       "  </tbody>\n",
       "</table>\n",
       "<p>6791 rows × 3 columns</p>\n",
       "</div>"
      ],
      "text/plain": [
       "      index      Eref      Ennp\n",
       "0         3 -1.174634 -1.173225\n",
       "1        21 -0.560455 -0.559238\n",
       "2        24 -0.495888 -0.498710\n",
       "3        29 -0.409556 -0.412874\n",
       "4        46  0.564804  0.567292\n",
       "...     ...       ...       ...\n",
       "6786   8493  0.361557  0.352598\n",
       "6787   8496  0.768813  0.795314\n",
       "6788   8500 -0.967888 -0.964118\n",
       "6789   8513 -0.812922 -0.806044\n",
       "6790   8522 -0.427793 -0.411587\n",
       "\n",
       "[6791 rows x 3 columns]"
      ]
     },
     "execution_count": 5,
     "metadata": {},
     "output_type": "execute_result"
    }
   ],
   "source": [
    "# dir_path = '/Users/y1u0d2/Desktop/Lab/result/nnp-train/rdf-inform/20211117'\n",
    "dir_path = '/Users/y1u0d2/Desktop/Lab/result/nnp-train/20211126/scp/nnp-train_15_10'\n",
    "\n",
    "epoch = 11\n",
    "epoch = str(epoch).zfill(2)\n",
    "base_df = get_reindex_base()\n",
    "df_test = pd.read_csv(f'{dir_path}/analyze/testpoints.0000{epoch}.out.csv')\n",
    "df_train = pd.read_csv(f'{dir_path}/analyze/trainpoints.0000{epoch}.out.csv')\n",
    "df_test_new = pd.merge(df_test,base_df,left_on='index',right_on='structure_idx')\n",
    "df_train_new = pd.merge(df_train,base_df,left_on='index',right_on='structure_idx')\n",
    "df_concat = pd.concat([df_test_new, df_train_new])\n",
    "\n",
    "norm_log_path = f'{dir_path}/analyze/input.nn'\n",
    "with open(norm_log_path) as f:\n",
    "    l_strip = [line.strip() for line in f.readlines()]\n",
    "    l_strip = list(filter(None, l_strip))\n",
    "    mean_arr = [line for line in l_strip if 'mean_energy' in line]\n",
    "    norm_arr = [line for line in l_strip if 'conv_energy' in line]\n",
    "for mean, norm in zip(mean_arr, norm_arr):\n",
    "    mean = float(mean.split(' ')[-1])\n",
    "    norm = float(norm.split(' ')[-1])\n",
    "print(mean, norm)\n",
    "\n",
    "df_concat['Ediff'] =df_concat.natom * 1/norm * (df_concat.Eref - df_concat.Ennp)\n",
    "df_concat['E_nnp_from_norm'] = df_concat.natom * ((1/norm * df_concat.Ennp) + mean)\n",
    "df_concat['E_ref_from_norm'] = df_concat.natom * ((1/norm * df_concat.Eref) + mean)\n",
    "df_concat['E_ref_sio2'] = df_concat['E_ref_from_norm'] / (df_concat.natom)\n",
    "df_concat['E_nnp_sio2'] = df_concat['E_nnp_from_norm'] / (df_concat.natom)\n",
    "min_energy = df_concat['E_ref_sio2'].min()\n",
    "df_concat['E_ref_sio2'] -= min_energy\n",
    "df_concat['E_nnp_sio2'] -= min_energy\n",
    "df_concat.sort_values('index', inplace=True)\n",
    "\n",
    "xmin = 0\n",
    "xmax = df_concat['E_ref_sio2'].max()\n",
    "x = np.linspace(xmin, xmax, 100)\n",
    "y = x\n",
    "plt.plot(x,y, color='red')\n",
    "plt.scatter(df_concat['E_ref_sio2'], df_concat['E_nnp_sio2'])\n"
   ]
  },
  {
   "cell_type": "code",
   "execution_count": null,
   "metadata": {
    "collapsed": false,
    "pycharm": {
     "name": "#%%\n"
    }
   },
   "outputs": [],
   "source": [
    "input_data_path = f'{dir_path}/input.data'\n",
    "index = 0\n",
    "output_data = []\n",
    "with open(input_data_path, 'r') as f:\n",
    "   l_strip = [line.strip() for line in f.readlines()]\n",
    "   for i, line in enumerate(l_strip):\n",
    "       if 'energy' in  line.split(' '):\n",
    "           energy = df_concat.loc[df_concat['index'] == index, 'Ediff'].item()\n",
    "           line = f'energy {energy}'\n",
    "           index += 1\n",
    "       output_data.append(line)"
   ]
  },
  {
   "cell_type": "code",
   "execution_count": 109,
   "metadata": {
    "collapsed": false,
    "pycharm": {
     "name": "#%%\n"
    }
   },
   "outputs": [],
   "source": [
    "with open(f'{dir_path}/angular/input.data', 'w') as f:\n",
    "    f.write('\\n'.join(output_data))"
   ]
  },
  {
   "cell_type": "code",
   "execution_count": 107,
   "metadata": {
    "collapsed": false,
    "pycharm": {
     "name": "#%%\n"
    }
   },
   "outputs": [],
   "source": []
  }
 ],
 "metadata": {
  "interpreter": {
   "hash": "aee8b7b246df8f9039afb4144a1f6fd8d2ca17a180786b69acc140d282b71a49"
  },
  "kernelspec": {
   "display_name": "Python 3.9.9 64-bit",
   "name": "python3"
  },
  "language_info": {
   "codemirror_mode": {
    "name": "ipython",
    "version": 2
   },
   "file_extension": ".py",
   "mimetype": "text/x-python",
   "name": "python",
   "nbconvert_exporter": "python",
   "pygments_lexer": "ipython2",
   "version": "3.9.13"
  }
 },
 "nbformat": 4,
 "nbformat_minor": 0
}
