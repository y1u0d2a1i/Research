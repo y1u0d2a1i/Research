{
 "cells": [
  {
   "cell_type": "code",
   "execution_count": 7,
   "metadata": {
    "collapsed": true
   },
   "outputs": [],
   "source": [
    "import os.path\n",
    "\n",
    "import numpy as np\n",
    "import pandas as pd\n",
    "import matplotlib.pyplot as plt\n",
    "import glob\n",
    "import csv\n",
    "from sklearn.metrics import mean_absolute_error\n",
    "from sklearn.metrics import mean_squared_error\n",
    "from sklearn.metrics import r2_score\n",
    "\n",
    "from utils.constants.dir_path import DataDirPath\n",
    "from utils.constants.constants import Constants\n",
    "from utils.convert_csv import ConvertCsv\n",
    "\n"
   ]
  },
  {
   "cell_type": "code",
   "execution_count": 8,
   "outputs": [
    {
     "name": "stdout",
     "output_type": "stream",
     "text": [
      "alpha-critobalite 1 1150\n",
      "alpha-quartz 1151 2250\n",
      "beta-quartz 2251 3050\n",
      "beta-trydymite 3051 4300\n",
      "coesite 4301 5500\n",
      "Fdd2-beta-critobalite 5501 6850\n",
      "hex-trydymite 6851 7850\n",
      "stishovite 7851 8550\n"
     ]
    }
   ],
   "source": [
    "dir_path = '/Users/y1u0d2/Desktop/Lab/result/nnp-train/two-body/for_angular/nnp-train_5_8'\n",
    "base_info = DataDirPath.base_structure_info()\n",
    "\n",
    "PATH = Constants.path()\n",
    "base_df = pd.read_csv(f'{base_info}/base_info.csv')\n",
    "\n",
    "# 各構造ごとのstructure_idxを全構造のindexに変更する\n",
    "plus = 0\n",
    "for structure in PATH:\n",
    "    structure = structure.split('_')[-1]\n",
    "    base_df.loc[base_df.structure == structure, ['structure_idx']] += plus\n",
    "    idx = base_df[base_df.structure == structure].structure_idx.unique()\n",
    "    idx.sort()\n",
    "    plus = idx[-1]\n",
    "    print(structure,idx[0],idx[-1])"
   ],
   "metadata": {
    "collapsed": false,
    "pycharm": {
     "name": "#%%\n"
    }
   }
  },
  {
   "cell_type": "code",
   "execution_count": 9,
   "outputs": [],
   "source": [
    "epoch = 10\n",
    "epoch = str(epoch).zfill(2)\n",
    "test_file = f'testpoints.0000{epoch}.out'\n",
    "train_file = f'trainpoints.0000{epoch}.out'\n",
    "\n",
    "if not os.path.exists(f'{dir_path}/analyze'):\n",
    "    os.mkdir(f'{dir_path}/analyze')\n",
    "\n",
    "obj = ConvertCsv(output_dir=f'{dir_path}/analyze',target_dir=dir_path)\n",
    "obj.convert_n2p2_output_to_csv(10,test_file,'tmp_test')\n",
    "obj.convert_n2p2_output_to_csv(10,train_file,'tmp_train')\n",
    "\n",
    "df_test = pd.read_csv(f'{dir_path}/analyze/tmp_test.csv')\n",
    "df_train = pd.read_csv(f'{dir_path}/analyze/tmp_train.csv')\n",
    "\n",
    "df_test_new = pd.merge(df_test,base_df,left_on='index',right_on='structure_idx')\n",
    "df_train_new = pd.merge(df_train,base_df,left_on='index',right_on='structure_idx')"
   ],
   "metadata": {
    "collapsed": false,
    "pycharm": {
     "name": "#%%\n"
    }
   }
  },
  {
   "cell_type": "code",
   "execution_count": 12,
   "outputs": [
    {
     "data": {
      "text/plain": "     index      Eref      Ennp          structure  structure_idx  natom  \\\n0       33  0.164652  0.081511  alpha-critobalite             33     48   \n1      358 -1.005827 -0.955361  alpha-critobalite            358     48   \n2      386  0.027873  0.057424  alpha-critobalite            386     48   \n3      531  0.096495  0.101303  alpha-critobalite            531     48   \n4     1045  0.545922  0.481998  alpha-critobalite           1045     48   \n..     ...       ...       ...                ...            ...    ...   \n824   7936  0.157981  0.035486         stishovite           7936     48   \n825   8258 -1.178945 -1.155221         stishovite           8258     48   \n826   8414 -0.991375 -0.966976         stishovite           8414     48   \n827   8454 -1.199050 -1.172322         stishovite           8454     48   \n828   8491  0.426458  0.256183         stishovite           8491     48   \n\n               E         Vol  \n0   -1010.992930  839.055430  \n1   -1011.373891  522.736660  \n2   -1010.649379  522.736660  \n3   -1010.909912  908.013213  \n4   -1010.448241  814.934288  \n..           ...         ...  \n824 -1010.923925  350.302260  \n825 -1011.452768  345.233252  \n826 -1011.371762  408.644169  \n827 -1011.460060  395.003095  \n828 -1010.793879  395.003095  \n\n[829 rows x 8 columns]",
      "text/html": "<div>\n<style scoped>\n    .dataframe tbody tr th:only-of-type {\n        vertical-align: middle;\n    }\n\n    .dataframe tbody tr th {\n        vertical-align: top;\n    }\n\n    .dataframe thead th {\n        text-align: right;\n    }\n</style>\n<table border=\"1\" class=\"dataframe\">\n  <thead>\n    <tr style=\"text-align: right;\">\n      <th></th>\n      <th>index</th>\n      <th>Eref</th>\n      <th>Ennp</th>\n      <th>structure</th>\n      <th>structure_idx</th>\n      <th>natom</th>\n      <th>E</th>\n      <th>Vol</th>\n    </tr>\n  </thead>\n  <tbody>\n    <tr>\n      <th>0</th>\n      <td>33</td>\n      <td>0.164652</td>\n      <td>0.081511</td>\n      <td>alpha-critobalite</td>\n      <td>33</td>\n      <td>48</td>\n      <td>-1010.992930</td>\n      <td>839.055430</td>\n    </tr>\n    <tr>\n      <th>1</th>\n      <td>358</td>\n      <td>-1.005827</td>\n      <td>-0.955361</td>\n      <td>alpha-critobalite</td>\n      <td>358</td>\n      <td>48</td>\n      <td>-1011.373891</td>\n      <td>522.736660</td>\n    </tr>\n    <tr>\n      <th>2</th>\n      <td>386</td>\n      <td>0.027873</td>\n      <td>0.057424</td>\n      <td>alpha-critobalite</td>\n      <td>386</td>\n      <td>48</td>\n      <td>-1010.649379</td>\n      <td>522.736660</td>\n    </tr>\n    <tr>\n      <th>3</th>\n      <td>531</td>\n      <td>0.096495</td>\n      <td>0.101303</td>\n      <td>alpha-critobalite</td>\n      <td>531</td>\n      <td>48</td>\n      <td>-1010.909912</td>\n      <td>908.013213</td>\n    </tr>\n    <tr>\n      <th>4</th>\n      <td>1045</td>\n      <td>0.545922</td>\n      <td>0.481998</td>\n      <td>alpha-critobalite</td>\n      <td>1045</td>\n      <td>48</td>\n      <td>-1010.448241</td>\n      <td>814.934288</td>\n    </tr>\n    <tr>\n      <th>...</th>\n      <td>...</td>\n      <td>...</td>\n      <td>...</td>\n      <td>...</td>\n      <td>...</td>\n      <td>...</td>\n      <td>...</td>\n      <td>...</td>\n    </tr>\n    <tr>\n      <th>824</th>\n      <td>7936</td>\n      <td>0.157981</td>\n      <td>0.035486</td>\n      <td>stishovite</td>\n      <td>7936</td>\n      <td>48</td>\n      <td>-1010.923925</td>\n      <td>350.302260</td>\n    </tr>\n    <tr>\n      <th>825</th>\n      <td>8258</td>\n      <td>-1.178945</td>\n      <td>-1.155221</td>\n      <td>stishovite</td>\n      <td>8258</td>\n      <td>48</td>\n      <td>-1011.452768</td>\n      <td>345.233252</td>\n    </tr>\n    <tr>\n      <th>826</th>\n      <td>8414</td>\n      <td>-0.991375</td>\n      <td>-0.966976</td>\n      <td>stishovite</td>\n      <td>8414</td>\n      <td>48</td>\n      <td>-1011.371762</td>\n      <td>408.644169</td>\n    </tr>\n    <tr>\n      <th>827</th>\n      <td>8454</td>\n      <td>-1.199050</td>\n      <td>-1.172322</td>\n      <td>stishovite</td>\n      <td>8454</td>\n      <td>48</td>\n      <td>-1011.460060</td>\n      <td>395.003095</td>\n    </tr>\n    <tr>\n      <th>828</th>\n      <td>8491</td>\n      <td>0.426458</td>\n      <td>0.256183</td>\n      <td>stishovite</td>\n      <td>8491</td>\n      <td>48</td>\n      <td>-1010.793879</td>\n      <td>395.003095</td>\n    </tr>\n  </tbody>\n</table>\n<p>829 rows × 8 columns</p>\n</div>"
     },
     "execution_count": 12,
     "metadata": {},
     "output_type": "execute_result"
    }
   ],
   "source": [
    "df_test_new\n",
    "# plt.scatter(df_test_new.Eref,df_test_new.Ennp)"
   ],
   "metadata": {
    "collapsed": false,
    "pycharm": {
     "name": "#%%\n"
    }
   }
  },
  {
   "cell_type": "code",
   "execution_count": null,
   "outputs": [],
   "source": [],
   "metadata": {
    "collapsed": false,
    "pycharm": {
     "name": "#%%\n"
    }
   }
  }
 ],
 "metadata": {
  "kernelspec": {
   "display_name": "Python 3",
   "language": "python",
   "name": "python3"
  },
  "language_info": {
   "codemirror_mode": {
    "name": "ipython",
    "version": 2
   },
   "file_extension": ".py",
   "mimetype": "text/x-python",
   "name": "python",
   "nbconvert_exporter": "python",
   "pygments_lexer": "ipython2",
   "version": "2.7.6"
  }
 },
 "nbformat": 4,
 "nbformat_minor": 0
}