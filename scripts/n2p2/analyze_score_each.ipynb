{
 "cells": [
  {
   "cell_type": "code",
   "execution_count": 21,
   "metadata": {
    "collapsed": true
   },
   "outputs": [],
   "source": [
    "import os.path\n",
    "\n",
    "import numpy as np\n",
    "import pandas as pd\n",
    "import matplotlib.pyplot as plt\n",
    "import glob\n",
    "import csv\n",
    "from sklearn.metrics import mean_absolute_error\n",
    "from sklearn.metrics import mean_squared_error\n",
    "from sklearn.metrics import r2_score\n",
    "\n",
    "from utils.constants.dir_path import DataDirPath\n",
    "from utils.constants.constants import Constants\n",
    "from utils.convert_csv import ConvertCsv"
   ]
  },
  {
   "cell_type": "code",
   "execution_count": 22,
   "outputs": [],
   "source": [
    "dir_path = '/Users/y1u0d2/Desktop/Lab/result/nnp-train/two-body/for_angular/nnp-train_10_10/again'\n",
    "# epoch = 15\n",
    "\n",
    "base_info = DataDirPath.base_structure_info()"
   ],
   "metadata": {
    "collapsed": false,
    "pycharm": {
     "name": "#%%\n"
    }
   }
  },
  {
   "cell_type": "code",
   "execution_count": 23,
   "outputs": [],
   "source": [
    "PATH = Constants.path()\n",
    "base_df = pd.read_csv(f'{base_info}/base_info.csv')"
   ],
   "metadata": {
    "collapsed": false,
    "pycharm": {
     "name": "#%%\n"
    }
   }
  },
  {
   "cell_type": "code",
   "execution_count": 24,
   "outputs": [
    {
     "name": "stdout",
     "output_type": "stream",
     "text": [
      "alpha-critobalite 1 1150\n",
      "alpha-quartz 1151 2250\n",
      "beta-quartz 2251 3050\n",
      "beta-trydymite 3051 4300\n",
      "coesite 4301 5500\n",
      "Fdd2-beta-critobalite 5501 6850\n",
      "hex-trydymite 6851 7850\n",
      "stishovite 7851 8550\n"
     ]
    }
   ],
   "source": [
    "# 各構造ごとのstructure_idxを全構造のindexに変更する\n",
    "plus = 0\n",
    "for structure in PATH:\n",
    "    structure = structure.split('_')[-1]\n",
    "    base_df.loc[base_df.structure == structure, ['structure_idx']] += plus\n",
    "    idx = base_df[base_df.structure == structure].structure_idx.unique()\n",
    "    idx.sort()\n",
    "    plus = idx[-1]\n",
    "    print(structure,idx[0],idx[-1])\n"
   ],
   "metadata": {
    "collapsed": false,
    "pycharm": {
     "name": "#%%\n"
    }
   }
  },
  {
   "cell_type": "code",
   "execution_count": 27,
   "outputs": [
    {
     "name": "stdout",
     "output_type": "stream",
     "text": [
      "epoch:1\n",
      "TEST\n",
      "mae:0.003842558745476467, mse:2.423259274506665e-05, rmse:0.004922661144652012, r2:0.703894273333272\n",
      "TRAIN\n",
      "mae:0.005068331152849763, mse:0.005574132726734335, rmse:0.07466011469810595, r2:-69.43129162253618\n",
      "epoch:2\n"
     ]
    },
    {
     "ename": "KeyboardInterrupt",
     "evalue": "",
     "output_type": "error",
     "traceback": [
      "\u001B[0;31m---------------------------------------------------------------------------\u001B[0m",
      "\u001B[0;31mKeyboardInterrupt\u001B[0m                         Traceback (most recent call last)",
      "\u001B[0;32m<ipython-input-27-bdbc11774fa1>\u001B[0m in \u001B[0;36m<module>\u001B[0;34m\u001B[0m\n\u001B[1;32m     48\u001B[0m     \u001B[0mepoch\u001B[0m \u001B[0;34m=\u001B[0m \u001B[0mi\u001B[0m\u001B[0;34m\u001B[0m\u001B[0;34m\u001B[0m\u001B[0m\n\u001B[1;32m     49\u001B[0m     \u001B[0mprint\u001B[0m\u001B[0;34m(\u001B[0m\u001B[0;34mf'epoch:{i}'\u001B[0m\u001B[0;34m)\u001B[0m\u001B[0;34m\u001B[0m\u001B[0;34m\u001B[0m\u001B[0m\n\u001B[0;32m---> 50\u001B[0;31m     \u001B[0mprint_all_epoch_score\u001B[0m\u001B[0;34m(\u001B[0m\u001B[0mepoch\u001B[0m\u001B[0;34m)\u001B[0m\u001B[0;34m\u001B[0m\u001B[0;34m\u001B[0m\u001B[0m\n\u001B[0m\u001B[1;32m     51\u001B[0m \u001B[0;34m\u001B[0m\u001B[0m\n",
      "\u001B[0;32m<ipython-input-27-bdbc11774fa1>\u001B[0m in \u001B[0;36mprint_all_epoch_score\u001B[0;34m(epoch)\u001B[0m\n\u001B[1;32m     34\u001B[0m     \u001B[0mdf_train\u001B[0m \u001B[0;34m=\u001B[0m \u001B[0mpd\u001B[0m\u001B[0;34m.\u001B[0m\u001B[0mread_csv\u001B[0m\u001B[0;34m(\u001B[0m\u001B[0;34mf'{dir_path}/analyze/tmp_train.csv'\u001B[0m\u001B[0;34m)\u001B[0m\u001B[0;34m\u001B[0m\u001B[0;34m\u001B[0m\u001B[0m\n\u001B[1;32m     35\u001B[0m \u001B[0;34m\u001B[0m\u001B[0m\n\u001B[0;32m---> 36\u001B[0;31m     \u001B[0mdf_test_new\u001B[0m \u001B[0;34m=\u001B[0m \u001B[0mpd\u001B[0m\u001B[0;34m.\u001B[0m\u001B[0mmerge\u001B[0m\u001B[0;34m(\u001B[0m\u001B[0mdf_test\u001B[0m\u001B[0;34m,\u001B[0m\u001B[0mbase_df\u001B[0m\u001B[0;34m,\u001B[0m\u001B[0mleft_on\u001B[0m\u001B[0;34m=\u001B[0m\u001B[0;34m'index'\u001B[0m\u001B[0;34m,\u001B[0m\u001B[0mright_on\u001B[0m\u001B[0;34m=\u001B[0m\u001B[0;34m'structure_idx'\u001B[0m\u001B[0;34m)\u001B[0m\u001B[0;34m\u001B[0m\u001B[0;34m\u001B[0m\u001B[0m\n\u001B[0m\u001B[1;32m     37\u001B[0m     \u001B[0mdf_train_new\u001B[0m \u001B[0;34m=\u001B[0m \u001B[0mpd\u001B[0m\u001B[0;34m.\u001B[0m\u001B[0mmerge\u001B[0m\u001B[0;34m(\u001B[0m\u001B[0mdf_train\u001B[0m\u001B[0;34m,\u001B[0m\u001B[0mbase_df\u001B[0m\u001B[0;34m,\u001B[0m\u001B[0mleft_on\u001B[0m\u001B[0;34m=\u001B[0m\u001B[0;34m'index'\u001B[0m\u001B[0;34m,\u001B[0m\u001B[0mright_on\u001B[0m\u001B[0;34m=\u001B[0m\u001B[0;34m'structure_idx'\u001B[0m\u001B[0;34m)\u001B[0m\u001B[0;34m\u001B[0m\u001B[0;34m\u001B[0m\u001B[0m\n\u001B[1;32m     38\u001B[0m \u001B[0;34m\u001B[0m\u001B[0m\n",
      "\u001B[0;32m<ipython-input-27-bdbc11774fa1>\u001B[0m in \u001B[0;36mprint_all_epoch_score\u001B[0;34m(epoch)\u001B[0m\n\u001B[1;32m     34\u001B[0m     \u001B[0mdf_train\u001B[0m \u001B[0;34m=\u001B[0m \u001B[0mpd\u001B[0m\u001B[0;34m.\u001B[0m\u001B[0mread_csv\u001B[0m\u001B[0;34m(\u001B[0m\u001B[0;34mf'{dir_path}/analyze/tmp_train.csv'\u001B[0m\u001B[0;34m)\u001B[0m\u001B[0;34m\u001B[0m\u001B[0;34m\u001B[0m\u001B[0m\n\u001B[1;32m     35\u001B[0m \u001B[0;34m\u001B[0m\u001B[0m\n\u001B[0;32m---> 36\u001B[0;31m     \u001B[0mdf_test_new\u001B[0m \u001B[0;34m=\u001B[0m \u001B[0mpd\u001B[0m\u001B[0;34m.\u001B[0m\u001B[0mmerge\u001B[0m\u001B[0;34m(\u001B[0m\u001B[0mdf_test\u001B[0m\u001B[0;34m,\u001B[0m\u001B[0mbase_df\u001B[0m\u001B[0;34m,\u001B[0m\u001B[0mleft_on\u001B[0m\u001B[0;34m=\u001B[0m\u001B[0;34m'index'\u001B[0m\u001B[0;34m,\u001B[0m\u001B[0mright_on\u001B[0m\u001B[0;34m=\u001B[0m\u001B[0;34m'structure_idx'\u001B[0m\u001B[0;34m)\u001B[0m\u001B[0;34m\u001B[0m\u001B[0;34m\u001B[0m\u001B[0m\n\u001B[0m\u001B[1;32m     37\u001B[0m     \u001B[0mdf_train_new\u001B[0m \u001B[0;34m=\u001B[0m \u001B[0mpd\u001B[0m\u001B[0;34m.\u001B[0m\u001B[0mmerge\u001B[0m\u001B[0;34m(\u001B[0m\u001B[0mdf_train\u001B[0m\u001B[0;34m,\u001B[0m\u001B[0mbase_df\u001B[0m\u001B[0;34m,\u001B[0m\u001B[0mleft_on\u001B[0m\u001B[0;34m=\u001B[0m\u001B[0;34m'index'\u001B[0m\u001B[0;34m,\u001B[0m\u001B[0mright_on\u001B[0m\u001B[0;34m=\u001B[0m\u001B[0;34m'structure_idx'\u001B[0m\u001B[0;34m)\u001B[0m\u001B[0;34m\u001B[0m\u001B[0;34m\u001B[0m\u001B[0m\n\u001B[1;32m     38\u001B[0m \u001B[0;34m\u001B[0m\u001B[0m\n",
      "\u001B[0;32m_pydevd_bundle/pydevd_cython_darwin_39_64.pyx\u001B[0m in \u001B[0;36m_pydevd_bundle.pydevd_cython_darwin_39_64.SafeCallWrapper.__call__\u001B[0;34m()\u001B[0m\n",
      "\u001B[0;32m_pydevd_bundle/pydevd_cython_darwin_39_64.pyx\u001B[0m in \u001B[0;36m_pydevd_bundle.pydevd_cython_darwin_39_64.PyDBFrame.trace_dispatch\u001B[0;34m()\u001B[0m\n",
      "\u001B[0;32m_pydevd_bundle/pydevd_cython_darwin_39_64.pyx\u001B[0m in \u001B[0;36m_pydevd_bundle.pydevd_cython_darwin_39_64.PyDBFrame.trace_dispatch\u001B[0;34m()\u001B[0m\n",
      "\u001B[0;32m_pydevd_bundle/pydevd_cython_darwin_39_64.pyx\u001B[0m in \u001B[0;36m_pydevd_bundle.pydevd_cython_darwin_39_64.PyDBFrame.trace_dispatch\u001B[0;34m()\u001B[0m\n",
      "\u001B[0;32m_pydevd_bundle/pydevd_cython_darwin_39_64.pyx\u001B[0m in \u001B[0;36m_pydevd_bundle.pydevd_cython_darwin_39_64.PyDBFrame.do_wait_suspend\u001B[0;34m()\u001B[0m\n",
      "\u001B[0;32m/Applications/PyCharm.app/Contents/plugins/python/helpers/pydev/pydevd.py\u001B[0m in \u001B[0;36mdo_wait_suspend\u001B[0;34m(self, thread, frame, event, arg, send_suspend_message, is_unhandled_exception)\u001B[0m\n\u001B[1;32m   1145\u001B[0m \u001B[0;34m\u001B[0m\u001B[0m\n\u001B[1;32m   1146\u001B[0m         \u001B[0;32mwith\u001B[0m \u001B[0mself\u001B[0m\u001B[0;34m.\u001B[0m\u001B[0m_threads_suspended_single_notification\u001B[0m\u001B[0;34m.\u001B[0m\u001B[0mnotify_thread_suspended\u001B[0m\u001B[0;34m(\u001B[0m\u001B[0mthread_id\u001B[0m\u001B[0;34m,\u001B[0m \u001B[0mstop_reason\u001B[0m\u001B[0;34m)\u001B[0m\u001B[0;34m:\u001B[0m\u001B[0;34m\u001B[0m\u001B[0;34m\u001B[0m\u001B[0m\n\u001B[0;32m-> 1147\u001B[0;31m             \u001B[0mself\u001B[0m\u001B[0;34m.\u001B[0m\u001B[0m_do_wait_suspend\u001B[0m\u001B[0;34m(\u001B[0m\u001B[0mthread\u001B[0m\u001B[0;34m,\u001B[0m \u001B[0mframe\u001B[0m\u001B[0;34m,\u001B[0m \u001B[0mevent\u001B[0m\u001B[0;34m,\u001B[0m \u001B[0marg\u001B[0m\u001B[0;34m,\u001B[0m \u001B[0msuspend_type\u001B[0m\u001B[0;34m,\u001B[0m \u001B[0mfrom_this_thread\u001B[0m\u001B[0;34m)\u001B[0m\u001B[0;34m\u001B[0m\u001B[0;34m\u001B[0m\u001B[0m\n\u001B[0m\u001B[1;32m   1148\u001B[0m \u001B[0;34m\u001B[0m\u001B[0m\n\u001B[1;32m   1149\u001B[0m     \u001B[0;32mdef\u001B[0m \u001B[0m_do_wait_suspend\u001B[0m\u001B[0;34m(\u001B[0m\u001B[0mself\u001B[0m\u001B[0;34m,\u001B[0m \u001B[0mthread\u001B[0m\u001B[0;34m,\u001B[0m \u001B[0mframe\u001B[0m\u001B[0;34m,\u001B[0m \u001B[0mevent\u001B[0m\u001B[0;34m,\u001B[0m \u001B[0marg\u001B[0m\u001B[0;34m,\u001B[0m \u001B[0msuspend_type\u001B[0m\u001B[0;34m,\u001B[0m \u001B[0mfrom_this_thread\u001B[0m\u001B[0;34m)\u001B[0m\u001B[0;34m:\u001B[0m\u001B[0;34m\u001B[0m\u001B[0;34m\u001B[0m\u001B[0m\n",
      "\u001B[0;32m/Applications/PyCharm.app/Contents/plugins/python/helpers/pydev/pydevd.py\u001B[0m in \u001B[0;36m_do_wait_suspend\u001B[0;34m(self, thread, frame, event, arg, suspend_type, from_this_thread)\u001B[0m\n\u001B[1;32m   1160\u001B[0m \u001B[0;34m\u001B[0m\u001B[0m\n\u001B[1;32m   1161\u001B[0m                 \u001B[0mself\u001B[0m\u001B[0;34m.\u001B[0m\u001B[0mprocess_internal_commands\u001B[0m\u001B[0;34m(\u001B[0m\u001B[0;34m)\u001B[0m\u001B[0;34m\u001B[0m\u001B[0;34m\u001B[0m\u001B[0m\n\u001B[0;32m-> 1162\u001B[0;31m                 \u001B[0mtime\u001B[0m\u001B[0;34m.\u001B[0m\u001B[0msleep\u001B[0m\u001B[0;34m(\u001B[0m\u001B[0;36m0.01\u001B[0m\u001B[0;34m)\u001B[0m\u001B[0;34m\u001B[0m\u001B[0;34m\u001B[0m\u001B[0m\n\u001B[0m\u001B[1;32m   1163\u001B[0m \u001B[0;34m\u001B[0m\u001B[0m\n\u001B[1;32m   1164\u001B[0m         \u001B[0mself\u001B[0m\u001B[0;34m.\u001B[0m\u001B[0mcancel_async_evaluation\u001B[0m\u001B[0;34m(\u001B[0m\u001B[0mget_current_thread_id\u001B[0m\u001B[0;34m(\u001B[0m\u001B[0mthread\u001B[0m\u001B[0;34m)\u001B[0m\u001B[0;34m,\u001B[0m \u001B[0mstr\u001B[0m\u001B[0;34m(\u001B[0m\u001B[0mid\u001B[0m\u001B[0;34m(\u001B[0m\u001B[0mframe\u001B[0m\u001B[0;34m)\u001B[0m\u001B[0;34m)\u001B[0m\u001B[0;34m)\u001B[0m\u001B[0;34m\u001B[0m\u001B[0;34m\u001B[0m\u001B[0m\n",
      "\u001B[0;31mKeyboardInterrupt\u001B[0m: "
     ]
    }
   ],
   "source": [
    "# TODO epoch修正\n",
    "def print_all_epoch_score(epoch):\n",
    "    epoch = str(epoch).zfill(2)\n",
    "    test_file = f'testpoints.0000{epoch}.out'\n",
    "    train_file = f'trainpoints.0000{epoch}.out'\n",
    "\n",
    "    if not os.path.exists(f'{dir_path}/analyze'):\n",
    "        os.mkdir(f'{dir_path}/analyze')\n",
    "\n",
    "    obj = ConvertCsv(output_dir=f'{dir_path}/analyze',target_dir=dir_path)\n",
    "    obj.convert_n2p2_output_to_csv(10,test_file,'tmp_test')\n",
    "    obj.convert_n2p2_output_to_csv(10,train_file,'tmp_train')\n",
    "\n",
    "    def get_test_score(df_test_new):\n",
    "        # テストに対して\n",
    "        mae_test = mean_absolute_error(df_test_new['Eref'],df_test_new['Ennp'])\n",
    "        mse_test = mean_squared_error(df_test_new['Eref'],df_test_new['Ennp'])\n",
    "        rmse_test = np.sqrt(mse_test)\n",
    "        r2_test = r2_score(df_test_new['Eref'],df_test_new['Ennp'])\n",
    "        print('TEST')\n",
    "        print(f'mae:{mae_test}, mse:{mse_test}, rmse:{rmse_test}, r2:{r2_test}')\n",
    "\n",
    "    def get_train_score(df_train_new):\n",
    "        # 訓練データに対して\n",
    "        mae_train = mean_absolute_error(df_train_new['Eref'],df_train_new['Ennp'])\n",
    "        mse_train = mean_squared_error(df_train_new['Eref'],df_train_new['Ennp'])\n",
    "        rmse_train = np.sqrt(mse_train)\n",
    "        r2_train = r2_score(df_train_new['Eref'],df_train_new['Ennp'])\n",
    "        print('TRAIN')\n",
    "        print(f'mae:{mae_train}, mse:{mse_train}, rmse:{rmse_train}, r2:{r2_train}')\n",
    "\n",
    "    df_test = pd.read_csv(f'{dir_path}/analyze/tmp_test.csv')\n",
    "    df_train = pd.read_csv(f'{dir_path}/analyze/tmp_train.csv')\n",
    "\n",
    "    df_test_new = pd.merge(df_test,base_df,left_on='index',right_on='structure_idx')\n",
    "    df_train_new = pd.merge(df_train,base_df,left_on='index',right_on='structure_idx')\n",
    "\n",
    "    get_test_score(df_test_new)\n",
    "    get_train_score(df_train_new)\n",
    "\n",
    "    # structures =  base_df.structure.unique()\n",
    "    # for structure in structures:\n",
    "    #     print(structure)\n",
    "    #     get_test_score(df_test_new[df_test_new['structure'] == structure])\n",
    "    #     get_train_score(df_train_new[df_train_new['structure'] == structure])\n",
    "for i in range(1,16):\n",
    "    epoch = i\n",
    "    print(f'epoch:{i}')\n",
    "    print_all_epoch_score(epoch)"
   ],
   "metadata": {
    "collapsed": false,
    "pycharm": {
     "name": "#%%\n"
    }
   }
  },
  {
   "cell_type": "code",
   "execution_count": 26,
   "outputs": [
    {
     "ename": "NameError",
     "evalue": "name 'df_test' is not defined",
     "output_type": "error",
     "traceback": [
      "\u001B[0;31m---------------------------------------------------------------------------\u001B[0m",
      "\u001B[0;31mNameError\u001B[0m                                 Traceback (most recent call last)",
      "\u001B[0;32m<ipython-input-26-3397ac2074a3>\u001B[0m in \u001B[0;36m<module>\u001B[0;34m\u001B[0m\n\u001B[0;32m----> 1\u001B[0;31m \u001B[0mdf_test\u001B[0m\u001B[0;34m\u001B[0m\u001B[0;34m\u001B[0m\u001B[0m\n\u001B[0m\u001B[1;32m      2\u001B[0m \u001B[0;34m\u001B[0m\u001B[0m\n",
      "\u001B[0;31mNameError\u001B[0m: name 'df_test' is not defined"
     ]
    }
   ],
   "source": [],
   "metadata": {
    "collapsed": false,
    "pycharm": {
     "name": "#%%\n"
    }
   }
  },
  {
   "cell_type": "code",
   "execution_count": null,
   "outputs": [],
   "source": [],
   "metadata": {
    "collapsed": false,
    "pycharm": {
     "name": "#%%\n"
    }
   }
  }
 ],
 "metadata": {
  "kernelspec": {
   "display_name": "Python 3",
   "language": "python",
   "name": "python3"
  },
  "language_info": {
   "codemirror_mode": {
    "name": "ipython",
    "version": 2
   },
   "file_extension": ".py",
   "mimetype": "text/x-python",
   "name": "python",
   "nbconvert_exporter": "python",
   "pygments_lexer": "ipython2",
   "version": "2.7.6"
  }
 },
 "nbformat": 4,
 "nbformat_minor": 0
}