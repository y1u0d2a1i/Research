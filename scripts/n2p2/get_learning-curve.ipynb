{
 "cells": [
  {
   "cell_type": "code",
   "execution_count": 1,
   "metadata": {
    "collapsed": true
   },
   "outputs": [],
   "source": [
    "import pandas as pd\n",
    "import numpy as np\n",
    "import matplotlib.pyplot as plt\n",
    "\n",
    "from n2p2.extract_data import ExtractData\n",
    "\n",
    "path = '/Users/y1u0d2/Desktop/Lab/result/nnp-train/two-body/for_angular/nnp-train_10_10/again'"
   ]
  },
  {
   "cell_type": "code",
   "execution_count": 2,
   "outputs": [
    {
     "name": "stdout",
     "output_type": "stream",
     "text": [
      "11\n"
     ]
    }
   ],
   "source": [
    "obj = ExtractData(path)\n",
    "epoch = obj.get_epoch(path, is_normalize=False)\n",
    "print(epoch)"
   ],
   "metadata": {
    "collapsed": false,
    "pycharm": {
     "name": "#%%\n"
    }
   }
  },
  {
   "cell_type": "code",
   "execution_count": 3,
   "outputs": [
    {
     "data": {
      "text/plain": "    epoch  RMSEpa_Etrain_pu  RMSEpa_Etest_pu  RMSE_Etrain_pu  RMSE_Etest_pu  \\\n0       0         22.024870        22.052024      945.967064     947.848418   \n1       1          0.074655         0.004923        3.582168       0.215947   \n2       2          0.005003         0.004087        0.226238       0.178357   \n3       3          0.004639         0.003678        0.207912       0.157015   \n4       4          0.004010         0.003955        0.169741       0.167201   \n5       5          0.003977         0.003636        0.173299       0.154704   \n6       6          0.003758         0.003782        0.160983       0.161488   \n7       7          0.003577         0.003595        0.151234       0.152328   \n8       8          0.003658         0.003684        0.155217       0.156563   \n9       9          0.003558         0.003634        0.151067       0.154442   \n10     10          0.003581         0.003671        0.151853       0.155850   \n11     11          0.003516         0.003550        0.148634       0.150275   \n12     12          0.003489         0.003551        0.148176       0.150904   \n13     13          0.003556         0.003602        0.150686       0.152871   \n14     14          0.003670         0.003745        0.156340       0.159598   \n15     15          0.003578         0.003662        0.151924       0.155548   \n\n    MAEpa_Etrain_pu  MAEpa_Etest_pu  MAE_Etrain_pu  MAE_Etest_pu  \\\n0         21.975979       22.005836     923.061376    925.867955   \n1          0.005068        0.003843       0.222449      0.163699   \n2          0.002885        0.002959       0.120318      0.123545   \n3          0.003007        0.003015       0.126222      0.126270   \n4          0.003447        0.003377       0.143450      0.140690   \n5          0.002934        0.002965       0.122312      0.123573   \n6          0.002801        0.002900       0.116711      0.120850   \n7          0.003016        0.003020       0.125336      0.125606   \n8          0.002997        0.003024       0.124499      0.125856   \n9          0.002833        0.002911       0.118000      0.121324   \n10         0.002759        0.002861       0.114802      0.119089   \n11         0.002930        0.002952       0.121766      0.122730   \n12         0.002807        0.002870       0.116905      0.119563   \n13         0.002975        0.003001       0.123914      0.125027   \n14         0.002806        0.002918       0.116819      0.121677   \n15         0.002763        0.002870       0.114966      0.119543   \n\n    RMSE_Ftrain_pu  RMSE_Ftest_pu  MAE_Ftrain_pu  MAE_Ftest_pu  \n0        38.060371      28.083851       9.029210      8.900235  \n1        21.938665       0.080790       0.100450      0.009556  \n2         0.648696       0.604594       0.010467      0.012349  \n3         1.040899       0.063440       0.007722      0.004110  \n4         0.949706       0.044181       0.006139      0.003284  \n5         0.594639       0.060791       0.005400      0.003224  \n6         0.187238       0.040529       0.003980      0.003429  \n7         0.183302       0.020970       0.003672      0.003072  \n8         0.065168       0.019764       0.002991      0.002786  \n9         0.045410       0.017397       0.002858      0.002741  \n10        0.046523       0.017679       0.002888      0.002867  \n11        0.043452       0.024641       0.002932      0.002907  \n12        0.053304       0.008912       0.003033      0.002863  \n13        0.050223       0.010655       0.002724      0.002608  \n14        0.037589       0.003954       0.002651      0.002548  \n15        0.020396       0.018662       0.002820      0.002895  ",
      "text/html": "<div>\n<style scoped>\n    .dataframe tbody tr th:only-of-type {\n        vertical-align: middle;\n    }\n\n    .dataframe tbody tr th {\n        vertical-align: top;\n    }\n\n    .dataframe thead th {\n        text-align: right;\n    }\n</style>\n<table border=\"1\" class=\"dataframe\">\n  <thead>\n    <tr style=\"text-align: right;\">\n      <th></th>\n      <th>epoch</th>\n      <th>RMSEpa_Etrain_pu</th>\n      <th>RMSEpa_Etest_pu</th>\n      <th>RMSE_Etrain_pu</th>\n      <th>RMSE_Etest_pu</th>\n      <th>MAEpa_Etrain_pu</th>\n      <th>MAEpa_Etest_pu</th>\n      <th>MAE_Etrain_pu</th>\n      <th>MAE_Etest_pu</th>\n      <th>RMSE_Ftrain_pu</th>\n      <th>RMSE_Ftest_pu</th>\n      <th>MAE_Ftrain_pu</th>\n      <th>MAE_Ftest_pu</th>\n    </tr>\n  </thead>\n  <tbody>\n    <tr>\n      <th>0</th>\n      <td>0</td>\n      <td>22.024870</td>\n      <td>22.052024</td>\n      <td>945.967064</td>\n      <td>947.848418</td>\n      <td>21.975979</td>\n      <td>22.005836</td>\n      <td>923.061376</td>\n      <td>925.867955</td>\n      <td>38.060371</td>\n      <td>28.083851</td>\n      <td>9.029210</td>\n      <td>8.900235</td>\n    </tr>\n    <tr>\n      <th>1</th>\n      <td>1</td>\n      <td>0.074655</td>\n      <td>0.004923</td>\n      <td>3.582168</td>\n      <td>0.215947</td>\n      <td>0.005068</td>\n      <td>0.003843</td>\n      <td>0.222449</td>\n      <td>0.163699</td>\n      <td>21.938665</td>\n      <td>0.080790</td>\n      <td>0.100450</td>\n      <td>0.009556</td>\n    </tr>\n    <tr>\n      <th>2</th>\n      <td>2</td>\n      <td>0.005003</td>\n      <td>0.004087</td>\n      <td>0.226238</td>\n      <td>0.178357</td>\n      <td>0.002885</td>\n      <td>0.002959</td>\n      <td>0.120318</td>\n      <td>0.123545</td>\n      <td>0.648696</td>\n      <td>0.604594</td>\n      <td>0.010467</td>\n      <td>0.012349</td>\n    </tr>\n    <tr>\n      <th>3</th>\n      <td>3</td>\n      <td>0.004639</td>\n      <td>0.003678</td>\n      <td>0.207912</td>\n      <td>0.157015</td>\n      <td>0.003007</td>\n      <td>0.003015</td>\n      <td>0.126222</td>\n      <td>0.126270</td>\n      <td>1.040899</td>\n      <td>0.063440</td>\n      <td>0.007722</td>\n      <td>0.004110</td>\n    </tr>\n    <tr>\n      <th>4</th>\n      <td>4</td>\n      <td>0.004010</td>\n      <td>0.003955</td>\n      <td>0.169741</td>\n      <td>0.167201</td>\n      <td>0.003447</td>\n      <td>0.003377</td>\n      <td>0.143450</td>\n      <td>0.140690</td>\n      <td>0.949706</td>\n      <td>0.044181</td>\n      <td>0.006139</td>\n      <td>0.003284</td>\n    </tr>\n    <tr>\n      <th>5</th>\n      <td>5</td>\n      <td>0.003977</td>\n      <td>0.003636</td>\n      <td>0.173299</td>\n      <td>0.154704</td>\n      <td>0.002934</td>\n      <td>0.002965</td>\n      <td>0.122312</td>\n      <td>0.123573</td>\n      <td>0.594639</td>\n      <td>0.060791</td>\n      <td>0.005400</td>\n      <td>0.003224</td>\n    </tr>\n    <tr>\n      <th>6</th>\n      <td>6</td>\n      <td>0.003758</td>\n      <td>0.003782</td>\n      <td>0.160983</td>\n      <td>0.161488</td>\n      <td>0.002801</td>\n      <td>0.002900</td>\n      <td>0.116711</td>\n      <td>0.120850</td>\n      <td>0.187238</td>\n      <td>0.040529</td>\n      <td>0.003980</td>\n      <td>0.003429</td>\n    </tr>\n    <tr>\n      <th>7</th>\n      <td>7</td>\n      <td>0.003577</td>\n      <td>0.003595</td>\n      <td>0.151234</td>\n      <td>0.152328</td>\n      <td>0.003016</td>\n      <td>0.003020</td>\n      <td>0.125336</td>\n      <td>0.125606</td>\n      <td>0.183302</td>\n      <td>0.020970</td>\n      <td>0.003672</td>\n      <td>0.003072</td>\n    </tr>\n    <tr>\n      <th>8</th>\n      <td>8</td>\n      <td>0.003658</td>\n      <td>0.003684</td>\n      <td>0.155217</td>\n      <td>0.156563</td>\n      <td>0.002997</td>\n      <td>0.003024</td>\n      <td>0.124499</td>\n      <td>0.125856</td>\n      <td>0.065168</td>\n      <td>0.019764</td>\n      <td>0.002991</td>\n      <td>0.002786</td>\n    </tr>\n    <tr>\n      <th>9</th>\n      <td>9</td>\n      <td>0.003558</td>\n      <td>0.003634</td>\n      <td>0.151067</td>\n      <td>0.154442</td>\n      <td>0.002833</td>\n      <td>0.002911</td>\n      <td>0.118000</td>\n      <td>0.121324</td>\n      <td>0.045410</td>\n      <td>0.017397</td>\n      <td>0.002858</td>\n      <td>0.002741</td>\n    </tr>\n    <tr>\n      <th>10</th>\n      <td>10</td>\n      <td>0.003581</td>\n      <td>0.003671</td>\n      <td>0.151853</td>\n      <td>0.155850</td>\n      <td>0.002759</td>\n      <td>0.002861</td>\n      <td>0.114802</td>\n      <td>0.119089</td>\n      <td>0.046523</td>\n      <td>0.017679</td>\n      <td>0.002888</td>\n      <td>0.002867</td>\n    </tr>\n    <tr>\n      <th>11</th>\n      <td>11</td>\n      <td>0.003516</td>\n      <td>0.003550</td>\n      <td>0.148634</td>\n      <td>0.150275</td>\n      <td>0.002930</td>\n      <td>0.002952</td>\n      <td>0.121766</td>\n      <td>0.122730</td>\n      <td>0.043452</td>\n      <td>0.024641</td>\n      <td>0.002932</td>\n      <td>0.002907</td>\n    </tr>\n    <tr>\n      <th>12</th>\n      <td>12</td>\n      <td>0.003489</td>\n      <td>0.003551</td>\n      <td>0.148176</td>\n      <td>0.150904</td>\n      <td>0.002807</td>\n      <td>0.002870</td>\n      <td>0.116905</td>\n      <td>0.119563</td>\n      <td>0.053304</td>\n      <td>0.008912</td>\n      <td>0.003033</td>\n      <td>0.002863</td>\n    </tr>\n    <tr>\n      <th>13</th>\n      <td>13</td>\n      <td>0.003556</td>\n      <td>0.003602</td>\n      <td>0.150686</td>\n      <td>0.152871</td>\n      <td>0.002975</td>\n      <td>0.003001</td>\n      <td>0.123914</td>\n      <td>0.125027</td>\n      <td>0.050223</td>\n      <td>0.010655</td>\n      <td>0.002724</td>\n      <td>0.002608</td>\n    </tr>\n    <tr>\n      <th>14</th>\n      <td>14</td>\n      <td>0.003670</td>\n      <td>0.003745</td>\n      <td>0.156340</td>\n      <td>0.159598</td>\n      <td>0.002806</td>\n      <td>0.002918</td>\n      <td>0.116819</td>\n      <td>0.121677</td>\n      <td>0.037589</td>\n      <td>0.003954</td>\n      <td>0.002651</td>\n      <td>0.002548</td>\n    </tr>\n    <tr>\n      <th>15</th>\n      <td>15</td>\n      <td>0.003578</td>\n      <td>0.003662</td>\n      <td>0.151924</td>\n      <td>0.155548</td>\n      <td>0.002763</td>\n      <td>0.002870</td>\n      <td>0.114966</td>\n      <td>0.119543</td>\n      <td>0.020396</td>\n      <td>0.018662</td>\n      <td>0.002820</td>\n      <td>0.002895</td>\n    </tr>\n  </tbody>\n</table>\n</div>"
     },
     "execution_count": 3,
     "metadata": {},
     "output_type": "execute_result"
    }
   ],
   "source": [
    "df = pd.read_csv(f'{path}/tmp.csv')\n",
    "df\n"
   ],
   "metadata": {
    "collapsed": false,
    "pycharm": {
     "name": "#%%\n"
    }
   }
  },
  {
   "cell_type": "code",
   "execution_count": 4,
   "outputs": [
    {
     "data": {
      "text/plain": "<Figure size 432x288 with 1 Axes>",
      "image/png": "[encoded data removed]"
     },
     "metadata": {
      "needs_background": "light"
     },
     "output_type": "display_data"
    }
   ],
   "source": [
    "plt.plot(df.epoch,df.RMSEpa_Etest_pu)\n",
    "# plt.plot(df.epoch,df.RMSE_Ftest_pu)\n",
    "plt.show()"
   ],
   "metadata": {
    "collapsed": false,
    "pycharm": {
     "name": "#%%\n"
    }
   }
  },
  {
   "cell_type": "code",
   "execution_count": 4,
   "outputs": [],
   "source": [],
   "metadata": {
    "collapsed": false,
    "pycharm": {
     "name": "#%%\n"
    }
   }
  },
  {
   "cell_type": "code",
   "execution_count": 4,
   "outputs": [],
   "source": [],
   "metadata": {
    "collapsed": false,
    "pycharm": {
     "name": "#%%\n"
    }
   }
  },
  {
   "cell_type": "code",
   "execution_count": 4,
   "outputs": [],
   "source": [],
   "metadata": {
    "collapsed": false,
    "pycharm": {
     "name": "#%%\n"
    }
   }
  },
  {
   "cell_type": "code",
   "execution_count": 4,
   "outputs": [],
   "source": [],
   "metadata": {
    "collapsed": false,
    "pycharm": {
     "name": "#%%\n"
    }
   }
  },
  {
   "cell_type": "code",
   "execution_count": 4,
   "outputs": [],
   "source": [],
   "metadata": {
    "collapsed": false,
    "pycharm": {
     "name": "#%%\n"
    }
   }
  },
  {
   "cell_type": "code",
   "execution_count": 4,
   "outputs": [],
   "source": [],
   "metadata": {
    "collapsed": false,
    "pycharm": {
     "name": "#%%\n"
    }
   }
  },
  {
   "cell_type": "code",
   "execution_count": 4,
   "outputs": [],
   "source": [],
   "metadata": {
    "collapsed": false,
    "pycharm": {
     "name": "#%%\n"
    }
   }
  },
  {
   "cell_type": "code",
   "execution_count": 4,
   "outputs": [],
   "source": [],
   "metadata": {
    "collapsed": false,
    "pycharm": {
     "name": "#%%\n"
    }
   }
  },
  {
   "cell_type": "code",
   "execution_count": 4,
   "outputs": [],
   "source": [],
   "metadata": {
    "collapsed": false,
    "pycharm": {
     "name": "#%%\n"
    }
   }
  }
 ],
 "metadata": {
  "kernelspec": {
   "display_name": "Python 3",
   "language": "python",
   "name": "python3"
  },
  "language_info": {
   "codemirror_mode": {
    "name": "ipython",
    "version": 2
   },
   "file_extension": ".py",
   "mimetype": "text/x-python",
   "name": "python",
   "nbconvert_exporter": "python",
   "pygments_lexer": "ipython2",
   "version": "2.7.6"
  }
 },
 "nbformat": 4,
 "nbformat_minor": 0
}