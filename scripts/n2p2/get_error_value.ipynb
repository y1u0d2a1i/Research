{
 "cells": [
  {
   "cell_type": "code",
   "execution_count": 2,
   "metadata": {
    "collapsed": true
   },
   "outputs": [],
   "source": [
    "import numpy as np\n",
    "import pandas as pd\n",
    "import matplotlib.pyplot as plt\n",
    "import glob\n",
    "import csv\n",
    "from sklearn.metrics import mean_absolute_error\n",
    "from sklearn.metrics import mean_squared_error\n",
    "from sklearn.metrics import r2_score\n",
    "\n",
    "from utils.constants.dir_path import DataDirPath\n",
    "from utils.constants.constants import Constants\n",
    "from utils.convert_csv import ConvertCsv"
   ]
  },
  {
   "cell_type": "code",
   "execution_count": 7,
   "outputs": [],
   "source": [
    "base_info = DataDirPath.base_structure_info()\n",
    "dir_path = '/Users/y1u0d2/Desktop/Lab/result/nnp-train/two-body/scp_data'\n",
    "dirs = glob.glob(f'{dir_path}/*')"
   ],
   "metadata": {
    "collapsed": false,
    "pycharm": {
     "name": "#%%\n"
    }
   }
  },
  {
   "cell_type": "code",
   "execution_count": 8,
   "outputs": [
    {
     "data": {
      "text/plain": "              structure  structure_idx  natom            E         Vol\n0     alpha-critobalite              1     48 -1011.449548  839.055430\n1     alpha-critobalite              2     48 -1011.449396  839.055430\n2     alpha-critobalite              3     48 -1011.449194  839.055430\n3     alpha-critobalite              4     48 -1011.448339  839.055430\n4     alpha-critobalite              5     48 -1011.448402  839.055430\n...                 ...            ...    ...          ...         ...\n8545         stishovite            696     48 -1010.442985  331.977432\n8546         stishovite            697     48 -1010.386112  331.977432\n8547         stishovite            698     48 -1010.322835  331.977432\n8548         stishovite            699     48 -1010.398489  331.977432\n8549         stishovite            700     48 -1010.172374  331.977432\n\n[8550 rows x 5 columns]",
      "text/html": "<div>\n<style scoped>\n    .dataframe tbody tr th:only-of-type {\n        vertical-align: middle;\n    }\n\n    .dataframe tbody tr th {\n        vertical-align: top;\n    }\n\n    .dataframe thead th {\n        text-align: right;\n    }\n</style>\n<table border=\"1\" class=\"dataframe\">\n  <thead>\n    <tr style=\"text-align: right;\">\n      <th></th>\n      <th>structure</th>\n      <th>structure_idx</th>\n      <th>natom</th>\n      <th>E</th>\n      <th>Vol</th>\n    </tr>\n  </thead>\n  <tbody>\n    <tr>\n      <th>0</th>\n      <td>alpha-critobalite</td>\n      <td>1</td>\n      <td>48</td>\n      <td>-1011.449548</td>\n      <td>839.055430</td>\n    </tr>\n    <tr>\n      <th>1</th>\n      <td>alpha-critobalite</td>\n      <td>2</td>\n      <td>48</td>\n      <td>-1011.449396</td>\n      <td>839.055430</td>\n    </tr>\n    <tr>\n      <th>2</th>\n      <td>alpha-critobalite</td>\n      <td>3</td>\n      <td>48</td>\n      <td>-1011.449194</td>\n      <td>839.055430</td>\n    </tr>\n    <tr>\n      <th>3</th>\n      <td>alpha-critobalite</td>\n      <td>4</td>\n      <td>48</td>\n      <td>-1011.448339</td>\n      <td>839.055430</td>\n    </tr>\n    <tr>\n      <th>4</th>\n      <td>alpha-critobalite</td>\n      <td>5</td>\n      <td>48</td>\n      <td>-1011.448402</td>\n      <td>839.055430</td>\n    </tr>\n    <tr>\n      <th>...</th>\n      <td>...</td>\n      <td>...</td>\n      <td>...</td>\n      <td>...</td>\n      <td>...</td>\n    </tr>\n    <tr>\n      <th>8545</th>\n      <td>stishovite</td>\n      <td>696</td>\n      <td>48</td>\n      <td>-1010.442985</td>\n      <td>331.977432</td>\n    </tr>\n    <tr>\n      <th>8546</th>\n      <td>stishovite</td>\n      <td>697</td>\n      <td>48</td>\n      <td>-1010.386112</td>\n      <td>331.977432</td>\n    </tr>\n    <tr>\n      <th>8547</th>\n      <td>stishovite</td>\n      <td>698</td>\n      <td>48</td>\n      <td>-1010.322835</td>\n      <td>331.977432</td>\n    </tr>\n    <tr>\n      <th>8548</th>\n      <td>stishovite</td>\n      <td>699</td>\n      <td>48</td>\n      <td>-1010.398489</td>\n      <td>331.977432</td>\n    </tr>\n    <tr>\n      <th>8549</th>\n      <td>stishovite</td>\n      <td>700</td>\n      <td>48</td>\n      <td>-1010.172374</td>\n      <td>331.977432</td>\n    </tr>\n  </tbody>\n</table>\n<p>8550 rows × 5 columns</p>\n</div>"
     },
     "execution_count": 8,
     "metadata": {},
     "output_type": "execute_result"
    }
   ],
   "source": [
    "PATH = Constants.path()\n",
    "base_df = pd.read_csv(f'{base_info}/base_info.csv')\n",
    "base_df"
   ],
   "metadata": {
    "collapsed": false,
    "pycharm": {
     "name": "#%%\n"
    }
   }
  },
  {
   "cell_type": "code",
   "execution_count": 79,
   "outputs": [
    {
     "name": "stdout",
     "output_type": "stream",
     "text": [
      "alpha-critobalite 1 1150\n",
      "alpha-quartz 1151 2250\n",
      "beta-quartz 2251 3050\n",
      "beta-trydymite 3051 4300\n",
      "coesite 4301 5500\n",
      "Fdd2-beta-critobalite 5501 6850\n",
      "hex-trydymite 6851 7850\n",
      "stishovite 7851 8550\n"
     ]
    }
   ],
   "source": [
    "# 各構造ごとのstructure_idxを全構造のindexに変更する\n",
    "plus = 0\n",
    "for structure in PATH:\n",
    "    structure = structure.split('_')[-1]\n",
    "    base_df.loc[base_df.structure == structure, ['structure_idx']] += plus\n",
    "    idx = base_df[base_df.structure == structure].structure_idx.unique()\n",
    "    idx.sort()\n",
    "    plus = idx[-1]\n",
    "    print(structure,idx[0],idx[-1])"
   ],
   "metadata": {
    "collapsed": false,
    "pycharm": {
     "name": "#%%\n"
    }
   }
  },
  {
   "cell_type": "code",
   "execution_count": 80,
   "outputs": [
    {
     "name": "stdout",
     "output_type": "stream",
     "text": [
      "no file in /Users/y1u0d2/Desktop/Lab/result/nnp-train/two-body/scp_data/nnp-train_10_19\n",
      "no file in /Users/y1u0d2/Desktop/Lab/result/nnp-train/two-body/scp_data/nnp-train_10_20\n",
      "no file in /Users/y1u0d2/Desktop/Lab/result/nnp-train/two-body/scp_data/nnp-train_5_13\n",
      "no file in /Users/y1u0d2/Desktop/Lab/result/nnp-train/two-body/scp_data/nnp-train_5_14\n",
      "no file in /Users/y1u0d2/Desktop/Lab/result/nnp-train/two-body/scp_data/nnp-train_5_15\n",
      "no file in /Users/y1u0d2/Desktop/Lab/result/nnp-train/two-body/scp_data/nnp-train_5_16\n",
      "no file in /Users/y1u0d2/Desktop/Lab/result/nnp-train/two-body/scp_data/nnp-train_5_17\n",
      "no file in /Users/y1u0d2/Desktop/Lab/result/nnp-train/two-body/scp_data/nnp-train_5_18\n",
      "no file in /Users/y1u0d2/Desktop/Lab/result/nnp-train/two-body/scp_data/nnp-train_5_19\n",
      "no file in /Users/y1u0d2/Desktop/Lab/result/nnp-train/two-body/scp_data/nnp-train_5_20\n",
      "no file in /Users/y1u0d2/Desktop/Lab/result/nnp-train/two-body/scp_data/nnp-train_6_14\n",
      "no file in /Users/y1u0d2/Desktop/Lab/result/nnp-train/two-body/scp_data/nnp-train_6_15\n",
      "no file in /Users/y1u0d2/Desktop/Lab/result/nnp-train/two-body/scp_data/nnp-train_6_16\n",
      "no file in /Users/y1u0d2/Desktop/Lab/result/nnp-train/two-body/scp_data/nnp-train_6_17\n",
      "no file in /Users/y1u0d2/Desktop/Lab/result/nnp-train/two-body/scp_data/nnp-train_6_18\n",
      "no file in /Users/y1u0d2/Desktop/Lab/result/nnp-train/two-body/scp_data/nnp-train_6_19\n",
      "no file in /Users/y1u0d2/Desktop/Lab/result/nnp-train/two-body/scp_data/nnp-train_6_20\n",
      "no file in /Users/y1u0d2/Desktop/Lab/result/nnp-train/two-body/scp_data/nnp-train_7_16\n",
      "no file in /Users/y1u0d2/Desktop/Lab/result/nnp-train/two-body/scp_data/nnp-train_7_17\n",
      "no file in /Users/y1u0d2/Desktop/Lab/result/nnp-train/two-body/scp_data/nnp-train_7_18\n",
      "no file in /Users/y1u0d2/Desktop/Lab/result/nnp-train/two-body/scp_data/nnp-train_7_19\n",
      "no file in /Users/y1u0d2/Desktop/Lab/result/nnp-train/two-body/scp_data/nnp-train_7_20\n",
      "no file in /Users/y1u0d2/Desktop/Lab/result/nnp-train/two-body/scp_data/nnp-train_8_17\n",
      "no file in /Users/y1u0d2/Desktop/Lab/result/nnp-train/two-body/scp_data/nnp-train_8_18\n",
      "no file in /Users/y1u0d2/Desktop/Lab/result/nnp-train/two-body/scp_data/nnp-train_8_19\n",
      "no file in /Users/y1u0d2/Desktop/Lab/result/nnp-train/two-body/scp_data/nnp-train_8_20\n",
      "no file in /Users/y1u0d2/Desktop/Lab/result/nnp-train/two-body/scp_data/nnp-train_9_18\n",
      "no file in /Users/y1u0d2/Desktop/Lab/result/nnp-train/two-body/scp_data/nnp-train_9_19\n",
      "no file in /Users/y1u0d2/Desktop/Lab/result/nnp-train/two-body/scp_data/nnp-train_9_20\n"
     ]
    }
   ],
   "source": [
    "dirs.sort()\n",
    "with open('/Users/y1u0d2/Desktop/Lab/result/nnp-train/two-body/error.csv','a') as f:\n",
    "    writer = csv.writer(f)\n",
    "    writer.writerow(['type','structure','r-cut','num-pairs','MAE','MSE','RMSE','R2'])\n",
    "for directory in dirs:\n",
    "    files = glob.glob(f'{directory}/*')\n",
    "\n",
    "    try:\n",
    "        test_file = glob.glob(f'{directory}/test*')[0].split('/')[-1]\n",
    "        train_file = glob.glob(f'{directory}/train*')[0].split('/')[-1]\n",
    "    except Exception as e:\n",
    "        print(f'no file in {directory}')\n",
    "        continue\n",
    "\n",
    "    obj = ConvertCsv(directory,directory)\n",
    "    obj.convert_n2p2_output_to_csv(10,test_file,'tmp_test')\n",
    "    obj.convert_n2p2_output_to_csv(10,train_file,'tmp_train')\n",
    "\n",
    "    df_test = pd.read_csv(f'{directory}/tmp_test.csv')\n",
    "    df_train = pd.read_csv(f'{directory}/tmp_train.csv')\n",
    "    # テストに対して\n",
    "    df_test_new = pd.merge(df_test,base_df,left_on='index',right_on='structure_idx')\n",
    "\n",
    "    mae_test = mean_absolute_error(df_test_new['Eref'],df_test_new['Ennp'])\n",
    "    mse_test = mean_squared_error(df_test_new['Eref'],df_test_new['Ennp'])\n",
    "    rmse_test = np.sqrt(mse_test)\n",
    "    r2_test = r2_score(df_test_new['Eref'],df_test_new['Ennp'])\n",
    "\n",
    "    r_cut = directory.split('/')[-1].split('_')[1]\n",
    "    num_pairs = directory.split('/')[-1].split('_')[2]\n",
    "\n",
    "    with open('/Users/y1u0d2/Desktop/Lab/result/nnp-train/two-body/error.csv','a') as f:\n",
    "        writer = csv.writer(f)\n",
    "        writer.writerow(['test','all',r_cut,num_pairs,mae_test,mse_test,rmse_test,r2_test])\n",
    "    # 訓練データに対して\n",
    "    df_train_new = pd.merge(df_train,base_df,left_on='index',right_on='structure_idx')\n",
    "\n",
    "    mae_train = mean_absolute_error(df_train_new['Eref'],df_train_new['Ennp'])\n",
    "    mse_train = mean_squared_error(df_train_new['Eref'],df_train_new['Ennp'])\n",
    "    rmse_train = np.sqrt(mse_train)\n",
    "    r2_train = r2_score(df_train_new['Eref'],df_train_new['Ennp'])\n",
    "\n",
    "    r_cut = directory.split('/')[-1].split('_')[1]\n",
    "    num_pairs = directory.split('/')[-1].split('_')[2]\n",
    "\n",
    "    with open('/Users/y1u0d2/Desktop/Lab/result/nnp-train/two-body/error.csv','a') as f:\n",
    "        writer = csv.writer(f)\n",
    "        writer.writerow(['train','all',r_cut,num_pairs,mae_train,mse_train,rmse_train,r2_train])"
   ],
   "metadata": {
    "collapsed": false,
    "pycharm": {
     "name": "#%%\n"
    }
   }
  },
  {
   "cell_type": "code",
   "execution_count": 5,
   "outputs": [
    {
     "data": {
      "text/plain": "      type structure  r-cut  num-pairs       MAE          MSE       RMSE  \\\n212   test       all      5         10  0.083754     0.014102   0.118753   \n213  train       all      5         10  0.180466    21.517466   4.638692   \n214   test       all      5         11  0.074392     0.010984   0.104803   \n215  train       all      5         11  0.120237    10.927551   3.305685   \n216   test       all      5         12  0.077606     0.011774   0.108508   \n217  train       all      5         12  0.567134  1142.230859  33.796906   \n218   test       all      5          3  0.121432     0.030012   0.173239   \n219  train       all      5          3  0.122983     0.029132   0.170681   \n220   test       all      5          4  0.112975     0.021600   0.146969   \n221  train       all      5          4  0.114865     0.021472   0.146532   \n222   test       all      5          5  0.110667     0.022700   0.150666   \n223  train       all      5          5  0.109719     0.022133   0.148770   \n224   test       all      5          6  0.077655     0.012163   0.110287   \n225  train       all      5          6  0.079368     0.021091   0.145228   \n226   test       all      5          7  0.082106     0.012217   0.110529   \n227  train       all      5          7  0.094069     0.365238   0.604350   \n228   test       all      5          8  0.086935     0.013666   0.116902   \n229  train       all      5          8  0.087232     0.024115   0.155289   \n230   test       all      5          9  0.103812     0.024986   0.158070   \n231  train       all      5          9  0.113058     0.266682   0.516413   \n\n              R2  \n212     0.986314  \n213   -20.594041  \n214     0.989340  \n215    -9.966439  \n216     0.988573  \n217 -1145.295724  \n218     0.970873  \n219     0.970764  \n220     0.979037  \n221     0.978452  \n222     0.977969  \n223     0.977789  \n224     0.988195  \n225     0.978834  \n226     0.988144  \n227     0.633462  \n228     0.986737  \n229     0.975799  \n230     0.975751  \n231     0.732369  ",
      "text/html": "<div>\n<style scoped>\n    .dataframe tbody tr th:only-of-type {\n        vertical-align: middle;\n    }\n\n    .dataframe tbody tr th {\n        vertical-align: top;\n    }\n\n    .dataframe thead th {\n        text-align: right;\n    }\n</style>\n<table border=\"1\" class=\"dataframe\">\n  <thead>\n    <tr style=\"text-align: right;\">\n      <th></th>\n      <th>type</th>\n      <th>structure</th>\n      <th>r-cut</th>\n      <th>num-pairs</th>\n      <th>MAE</th>\n      <th>MSE</th>\n      <th>RMSE</th>\n      <th>R2</th>\n    </tr>\n  </thead>\n  <tbody>\n    <tr>\n      <th>212</th>\n      <td>test</td>\n      <td>all</td>\n      <td>5</td>\n      <td>10</td>\n      <td>0.083754</td>\n      <td>0.014102</td>\n      <td>0.118753</td>\n      <td>0.986314</td>\n    </tr>\n    <tr>\n      <th>213</th>\n      <td>train</td>\n      <td>all</td>\n      <td>5</td>\n      <td>10</td>\n      <td>0.180466</td>\n      <td>21.517466</td>\n      <td>4.638692</td>\n      <td>-20.594041</td>\n    </tr>\n    <tr>\n      <th>214</th>\n      <td>test</td>\n      <td>all</td>\n      <td>5</td>\n      <td>11</td>\n      <td>0.074392</td>\n      <td>0.010984</td>\n      <td>0.104803</td>\n      <td>0.989340</td>\n    </tr>\n    <tr>\n      <th>215</th>\n      <td>train</td>\n      <td>all</td>\n      <td>5</td>\n      <td>11</td>\n      <td>0.120237</td>\n      <td>10.927551</td>\n      <td>3.305685</td>\n      <td>-9.966439</td>\n    </tr>\n    <tr>\n      <th>216</th>\n      <td>test</td>\n      <td>all</td>\n      <td>5</td>\n      <td>12</td>\n      <td>0.077606</td>\n      <td>0.011774</td>\n      <td>0.108508</td>\n      <td>0.988573</td>\n    </tr>\n    <tr>\n      <th>217</th>\n      <td>train</td>\n      <td>all</td>\n      <td>5</td>\n      <td>12</td>\n      <td>0.567134</td>\n      <td>1142.230859</td>\n      <td>33.796906</td>\n      <td>-1145.295724</td>\n    </tr>\n    <tr>\n      <th>218</th>\n      <td>test</td>\n      <td>all</td>\n      <td>5</td>\n      <td>3</td>\n      <td>0.121432</td>\n      <td>0.030012</td>\n      <td>0.173239</td>\n      <td>0.970873</td>\n    </tr>\n    <tr>\n      <th>219</th>\n      <td>train</td>\n      <td>all</td>\n      <td>5</td>\n      <td>3</td>\n      <td>0.122983</td>\n      <td>0.029132</td>\n      <td>0.170681</td>\n      <td>0.970764</td>\n    </tr>\n    <tr>\n      <th>220</th>\n      <td>test</td>\n      <td>all</td>\n      <td>5</td>\n      <td>4</td>\n      <td>0.112975</td>\n      <td>0.021600</td>\n      <td>0.146969</td>\n      <td>0.979037</td>\n    </tr>\n    <tr>\n      <th>221</th>\n      <td>train</td>\n      <td>all</td>\n      <td>5</td>\n      <td>4</td>\n      <td>0.114865</td>\n      <td>0.021472</td>\n      <td>0.146532</td>\n      <td>0.978452</td>\n    </tr>\n    <tr>\n      <th>222</th>\n      <td>test</td>\n      <td>all</td>\n      <td>5</td>\n      <td>5</td>\n      <td>0.110667</td>\n      <td>0.022700</td>\n      <td>0.150666</td>\n      <td>0.977969</td>\n    </tr>\n    <tr>\n      <th>223</th>\n      <td>train</td>\n      <td>all</td>\n      <td>5</td>\n      <td>5</td>\n      <td>0.109719</td>\n      <td>0.022133</td>\n      <td>0.148770</td>\n      <td>0.977789</td>\n    </tr>\n    <tr>\n      <th>224</th>\n      <td>test</td>\n      <td>all</td>\n      <td>5</td>\n      <td>6</td>\n      <td>0.077655</td>\n      <td>0.012163</td>\n      <td>0.110287</td>\n      <td>0.988195</td>\n    </tr>\n    <tr>\n      <th>225</th>\n      <td>train</td>\n      <td>all</td>\n      <td>5</td>\n      <td>6</td>\n      <td>0.079368</td>\n      <td>0.021091</td>\n      <td>0.145228</td>\n      <td>0.978834</td>\n    </tr>\n    <tr>\n      <th>226</th>\n      <td>test</td>\n      <td>all</td>\n      <td>5</td>\n      <td>7</td>\n      <td>0.082106</td>\n      <td>0.012217</td>\n      <td>0.110529</td>\n      <td>0.988144</td>\n    </tr>\n    <tr>\n      <th>227</th>\n      <td>train</td>\n      <td>all</td>\n      <td>5</td>\n      <td>7</td>\n      <td>0.094069</td>\n      <td>0.365238</td>\n      <td>0.604350</td>\n      <td>0.633462</td>\n    </tr>\n    <tr>\n      <th>228</th>\n      <td>test</td>\n      <td>all</td>\n      <td>5</td>\n      <td>8</td>\n      <td>0.086935</td>\n      <td>0.013666</td>\n      <td>0.116902</td>\n      <td>0.986737</td>\n    </tr>\n    <tr>\n      <th>229</th>\n      <td>train</td>\n      <td>all</td>\n      <td>5</td>\n      <td>8</td>\n      <td>0.087232</td>\n      <td>0.024115</td>\n      <td>0.155289</td>\n      <td>0.975799</td>\n    </tr>\n    <tr>\n      <th>230</th>\n      <td>test</td>\n      <td>all</td>\n      <td>5</td>\n      <td>9</td>\n      <td>0.103812</td>\n      <td>0.024986</td>\n      <td>0.158070</td>\n      <td>0.975751</td>\n    </tr>\n    <tr>\n      <th>231</th>\n      <td>train</td>\n      <td>all</td>\n      <td>5</td>\n      <td>9</td>\n      <td>0.113058</td>\n      <td>0.266682</td>\n      <td>0.516413</td>\n      <td>0.732369</td>\n    </tr>\n  </tbody>\n</table>\n</div>"
     },
     "execution_count": 5,
     "metadata": {},
     "output_type": "execute_result"
    }
   ],
   "source": [
    "df = pd.read_csv('/Users/y1u0d2/Desktop/Lab/result/nnp-train/two-body/error.csv')\n",
    "df[df['r-cut'] == 5]\n"
   ],
   "metadata": {
    "collapsed": false,
    "pycharm": {
     "name": "#%%\n"
    }
   }
  },
  {
   "cell_type": "code",
   "execution_count": null,
   "outputs": [],
   "source": [],
   "metadata": {
    "collapsed": false,
    "pycharm": {
     "name": "#%%\n"
    }
   }
  },
  {
   "cell_type": "code",
   "execution_count": null,
   "outputs": [],
   "source": [],
   "metadata": {
    "collapsed": false,
    "pycharm": {
     "name": "#%%\n"
    }
   }
  },
  {
   "cell_type": "code",
   "execution_count": null,
   "outputs": [],
   "source": [],
   "metadata": {
    "collapsed": false,
    "pycharm": {
     "name": "#%%\n"
    }
   }
  }
 ],
 "metadata": {
  "kernelspec": {
   "display_name": "Python 3",
   "language": "python",
   "name": "python3"
  },
  "language_info": {
   "codemirror_mode": {
    "name": "ipython",
    "version": 2
   },
   "file_extension": ".py",
   "mimetype": "text/x-python",
   "name": "python",
   "nbconvert_exporter": "python",
   "pygments_lexer": "ipython2",
   "version": "2.7.6"
  }
 },
 "nbformat": 4,
 "nbformat_minor": 0
}