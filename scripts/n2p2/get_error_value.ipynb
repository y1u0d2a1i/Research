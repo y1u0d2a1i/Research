{
 "cells": [
  {
   "cell_type": "code",
   "execution_count": 69,
   "metadata": {
    "collapsed": true
   },
   "outputs": [],
   "source": [
    "import numpy as np\n",
    "import pandas as pd\n",
    "import matplotlib.pyplot as plt\n",
    "import glob\n",
    "import csv\n",
    "from sklearn.metrics import mean_absolute_error\n",
    "from sklearn.metrics import mean_squared_error\n",
    "from sklearn.metrics import r2_score\n",
    "\n",
    "from utils.constants.dir_path import DataDirPath\n",
    "from utils.constants.constants import Constants\n",
    "from utils.convert_csv import ConvertCsv"
   ]
  },
  {
   "cell_type": "code",
   "execution_count": 70,
   "outputs": [],
   "source": [
    "base_info = DataDirPath.base_structure_info()\n",
    "dir_path = '/Users/y1u0d2/Desktop/Lab/result/nnp-train/two-body/scp_data'\n",
    "dirs = glob.glob(f'{dir_path}/*')"
   ],
   "metadata": {
    "collapsed": false,
    "pycharm": {
     "name": "#%%\n"
    }
   }
  },
  {
   "cell_type": "code",
   "execution_count": 71,
   "outputs": [
    {
     "data": {
      "text/plain": "              structure  structure_idx  natom            E         Vol\n0     alpha-critobalite              1     48 -1011.449548  839.055430\n1     alpha-critobalite              2     48 -1011.449396  839.055430\n2     alpha-critobalite              3     48 -1011.449194  839.055430\n3     alpha-critobalite              4     48 -1011.448339  839.055430\n4     alpha-critobalite              5     48 -1011.448402  839.055430\n...                 ...            ...    ...          ...         ...\n8545         stishovite            696     48 -1010.442985  331.977432\n8546         stishovite            697     48 -1010.386112  331.977432\n8547         stishovite            698     48 -1010.322835  331.977432\n8548         stishovite            699     48 -1010.398489  331.977432\n8549         stishovite            700     48 -1010.172374  331.977432\n\n[8550 rows x 5 columns]",
      "text/html": "<div>\n<style scoped>\n    .dataframe tbody tr th:only-of-type {\n        vertical-align: middle;\n    }\n\n    .dataframe tbody tr th {\n        vertical-align: top;\n    }\n\n    .dataframe thead th {\n        text-align: right;\n    }\n</style>\n<table border=\"1\" class=\"dataframe\">\n  <thead>\n    <tr style=\"text-align: right;\">\n      <th></th>\n      <th>structure</th>\n      <th>structure_idx</th>\n      <th>natom</th>\n      <th>E</th>\n      <th>Vol</th>\n    </tr>\n  </thead>\n  <tbody>\n    <tr>\n      <th>0</th>\n      <td>alpha-critobalite</td>\n      <td>1</td>\n      <td>48</td>\n      <td>-1011.449548</td>\n      <td>839.055430</td>\n    </tr>\n    <tr>\n      <th>1</th>\n      <td>alpha-critobalite</td>\n      <td>2</td>\n      <td>48</td>\n      <td>-1011.449396</td>\n      <td>839.055430</td>\n    </tr>\n    <tr>\n      <th>2</th>\n      <td>alpha-critobalite</td>\n      <td>3</td>\n      <td>48</td>\n      <td>-1011.449194</td>\n      <td>839.055430</td>\n    </tr>\n    <tr>\n      <th>3</th>\n      <td>alpha-critobalite</td>\n      <td>4</td>\n      <td>48</td>\n      <td>-1011.448339</td>\n      <td>839.055430</td>\n    </tr>\n    <tr>\n      <th>4</th>\n      <td>alpha-critobalite</td>\n      <td>5</td>\n      <td>48</td>\n      <td>-1011.448402</td>\n      <td>839.055430</td>\n    </tr>\n    <tr>\n      <th>...</th>\n      <td>...</td>\n      <td>...</td>\n      <td>...</td>\n      <td>...</td>\n      <td>...</td>\n    </tr>\n    <tr>\n      <th>8545</th>\n      <td>stishovite</td>\n      <td>696</td>\n      <td>48</td>\n      <td>-1010.442985</td>\n      <td>331.977432</td>\n    </tr>\n    <tr>\n      <th>8546</th>\n      <td>stishovite</td>\n      <td>697</td>\n      <td>48</td>\n      <td>-1010.386112</td>\n      <td>331.977432</td>\n    </tr>\n    <tr>\n      <th>8547</th>\n      <td>stishovite</td>\n      <td>698</td>\n      <td>48</td>\n      <td>-1010.322835</td>\n      <td>331.977432</td>\n    </tr>\n    <tr>\n      <th>8548</th>\n      <td>stishovite</td>\n      <td>699</td>\n      <td>48</td>\n      <td>-1010.398489</td>\n      <td>331.977432</td>\n    </tr>\n    <tr>\n      <th>8549</th>\n      <td>stishovite</td>\n      <td>700</td>\n      <td>48</td>\n      <td>-1010.172374</td>\n      <td>331.977432</td>\n    </tr>\n  </tbody>\n</table>\n<p>8550 rows × 5 columns</p>\n</div>"
     },
     "execution_count": 71,
     "metadata": {},
     "output_type": "execute_result"
    }
   ],
   "source": [
    "PATH = Constants.path()\n",
    "base_df = pd.read_csv(f'{base_info}/base_info.csv')\n",
    "base_df"
   ],
   "metadata": {
    "collapsed": false,
    "pycharm": {
     "name": "#%%\n"
    }
   }
  },
  {
   "cell_type": "code",
   "execution_count": 72,
   "outputs": [
    {
     "name": "stdout",
     "output_type": "stream",
     "text": [
      "alpha-critobalite 1 1150\n",
      "alpha-quartz 1151 2250\n",
      "beta-quartz 2251 3050\n",
      "beta-trydymite 3051 4300\n",
      "coesite 4301 5500\n",
      "Fdd2-beta-critobalite 5501 6850\n",
      "hex-trydymite 6851 7850\n",
      "stishovite 7851 8550\n"
     ]
    }
   ],
   "source": [
    "# 各構造ごとのstructure_idxを全構造のindexに変更する\n",
    "plus = 0\n",
    "for structure in PATH:\n",
    "    structure = structure.split('_')[-1]\n",
    "    base_df.loc[base_df.structure == structure, ['structure_idx']] += plus\n",
    "    idx = base_df[base_df.structure == structure].structure_idx.unique()\n",
    "    idx.sort()\n",
    "    plus = idx[-1]\n",
    "    print(structure,idx[0],idx[-1])"
   ],
   "metadata": {
    "collapsed": false,
    "pycharm": {
     "name": "#%%\n"
    }
   }
  },
  {
   "cell_type": "code",
   "execution_count": 73,
   "outputs": [
    {
     "ename": "ValueError",
     "evalue": "Input contains NaN, infinity or a value too large for dtype('float64').",
     "output_type": "error",
     "traceback": [
      "\u001B[0;31m---------------------------------------------------------------------------\u001B[0m",
      "\u001B[0;31mValueError\u001B[0m                                Traceback (most recent call last)",
      "\u001B[0;32m<ipython-input-73-8cba5b98a4f6>\u001B[0m in \u001B[0;36m<module>\u001B[0;34m\u001B[0m\n\u001B[1;32m     18\u001B[0m     \u001B[0mdf_test_new\u001B[0m \u001B[0;34m=\u001B[0m \u001B[0mpd\u001B[0m\u001B[0;34m.\u001B[0m\u001B[0mmerge\u001B[0m\u001B[0;34m(\u001B[0m\u001B[0mdf_test\u001B[0m\u001B[0;34m,\u001B[0m\u001B[0mbase_df\u001B[0m\u001B[0;34m,\u001B[0m\u001B[0mleft_on\u001B[0m\u001B[0;34m=\u001B[0m\u001B[0;34m'index'\u001B[0m\u001B[0;34m,\u001B[0m\u001B[0mright_on\u001B[0m\u001B[0;34m=\u001B[0m\u001B[0;34m'structure_idx'\u001B[0m\u001B[0;34m)\u001B[0m\u001B[0;34m\u001B[0m\u001B[0;34m\u001B[0m\u001B[0m\n\u001B[1;32m     19\u001B[0m \u001B[0;34m\u001B[0m\u001B[0m\n\u001B[0;32m---> 20\u001B[0;31m     \u001B[0mmae_test\u001B[0m \u001B[0;34m=\u001B[0m \u001B[0mmean_absolute_error\u001B[0m\u001B[0;34m(\u001B[0m\u001B[0mdf_test_new\u001B[0m\u001B[0;34m[\u001B[0m\u001B[0;34m'Eref'\u001B[0m\u001B[0;34m]\u001B[0m\u001B[0;34m,\u001B[0m\u001B[0mdf_test_new\u001B[0m\u001B[0;34m[\u001B[0m\u001B[0;34m'Ennp'\u001B[0m\u001B[0;34m]\u001B[0m\u001B[0;34m)\u001B[0m\u001B[0;34m\u001B[0m\u001B[0;34m\u001B[0m\u001B[0m\n\u001B[0m\u001B[1;32m     21\u001B[0m     \u001B[0mmse_test\u001B[0m \u001B[0;34m=\u001B[0m \u001B[0mmean_squared_error\u001B[0m\u001B[0;34m(\u001B[0m\u001B[0mdf_test_new\u001B[0m\u001B[0;34m[\u001B[0m\u001B[0;34m'Eref'\u001B[0m\u001B[0;34m]\u001B[0m\u001B[0;34m,\u001B[0m\u001B[0mdf_test_new\u001B[0m\u001B[0;34m[\u001B[0m\u001B[0;34m'Ennp'\u001B[0m\u001B[0;34m]\u001B[0m\u001B[0;34m)\u001B[0m\u001B[0;34m\u001B[0m\u001B[0;34m\u001B[0m\u001B[0m\n\u001B[1;32m     22\u001B[0m     \u001B[0mrmse_test\u001B[0m \u001B[0;34m=\u001B[0m \u001B[0mnp\u001B[0m\u001B[0;34m.\u001B[0m\u001B[0msqrt\u001B[0m\u001B[0;34m(\u001B[0m\u001B[0mmse_test\u001B[0m\u001B[0;34m)\u001B[0m\u001B[0;34m\u001B[0m\u001B[0;34m\u001B[0m\u001B[0m\n",
      "\u001B[0;32m~/opt/anaconda3/lib/python3.7/site-packages/sklearn/metrics/_regression.py\u001B[0m in \u001B[0;36mmean_absolute_error\u001B[0;34m(y_true, y_pred, sample_weight, multioutput)\u001B[0m\n\u001B[1;32m    185\u001B[0m     \"\"\"\n\u001B[1;32m    186\u001B[0m     y_type, y_true, y_pred, multioutput = _check_reg_targets(\n\u001B[0;32m--> 187\u001B[0;31m         \u001B[0my_true\u001B[0m\u001B[0;34m,\u001B[0m \u001B[0my_pred\u001B[0m\u001B[0;34m,\u001B[0m \u001B[0mmultioutput\u001B[0m\u001B[0;34m\u001B[0m\u001B[0;34m\u001B[0m\u001B[0m\n\u001B[0m\u001B[1;32m    188\u001B[0m     )\n\u001B[1;32m    189\u001B[0m     \u001B[0mcheck_consistent_length\u001B[0m\u001B[0;34m(\u001B[0m\u001B[0my_true\u001B[0m\u001B[0;34m,\u001B[0m \u001B[0my_pred\u001B[0m\u001B[0;34m,\u001B[0m \u001B[0msample_weight\u001B[0m\u001B[0;34m)\u001B[0m\u001B[0;34m\u001B[0m\u001B[0;34m\u001B[0m\u001B[0m\n",
      "\u001B[0;32m~/opt/anaconda3/lib/python3.7/site-packages/sklearn/metrics/_regression.py\u001B[0m in \u001B[0;36m_check_reg_targets\u001B[0;34m(y_true, y_pred, multioutput, dtype)\u001B[0m\n\u001B[1;32m     89\u001B[0m     \u001B[0mcheck_consistent_length\u001B[0m\u001B[0;34m(\u001B[0m\u001B[0my_true\u001B[0m\u001B[0;34m,\u001B[0m \u001B[0my_pred\u001B[0m\u001B[0;34m)\u001B[0m\u001B[0;34m\u001B[0m\u001B[0;34m\u001B[0m\u001B[0m\n\u001B[1;32m     90\u001B[0m     \u001B[0my_true\u001B[0m \u001B[0;34m=\u001B[0m \u001B[0mcheck_array\u001B[0m\u001B[0;34m(\u001B[0m\u001B[0my_true\u001B[0m\u001B[0;34m,\u001B[0m \u001B[0mensure_2d\u001B[0m\u001B[0;34m=\u001B[0m\u001B[0;32mFalse\u001B[0m\u001B[0;34m,\u001B[0m \u001B[0mdtype\u001B[0m\u001B[0;34m=\u001B[0m\u001B[0mdtype\u001B[0m\u001B[0;34m)\u001B[0m\u001B[0;34m\u001B[0m\u001B[0;34m\u001B[0m\u001B[0m\n\u001B[0;32m---> 91\u001B[0;31m     \u001B[0my_pred\u001B[0m \u001B[0;34m=\u001B[0m \u001B[0mcheck_array\u001B[0m\u001B[0;34m(\u001B[0m\u001B[0my_pred\u001B[0m\u001B[0;34m,\u001B[0m \u001B[0mensure_2d\u001B[0m\u001B[0;34m=\u001B[0m\u001B[0;32mFalse\u001B[0m\u001B[0;34m,\u001B[0m \u001B[0mdtype\u001B[0m\u001B[0;34m=\u001B[0m\u001B[0mdtype\u001B[0m\u001B[0;34m)\u001B[0m\u001B[0;34m\u001B[0m\u001B[0;34m\u001B[0m\u001B[0m\n\u001B[0m\u001B[1;32m     92\u001B[0m \u001B[0;34m\u001B[0m\u001B[0m\n\u001B[1;32m     93\u001B[0m     \u001B[0;32mif\u001B[0m \u001B[0my_true\u001B[0m\u001B[0;34m.\u001B[0m\u001B[0mndim\u001B[0m \u001B[0;34m==\u001B[0m \u001B[0;36m1\u001B[0m\u001B[0;34m:\u001B[0m\u001B[0;34m\u001B[0m\u001B[0;34m\u001B[0m\u001B[0m\n",
      "\u001B[0;32m~/opt/anaconda3/lib/python3.7/site-packages/sklearn/utils/validation.py\u001B[0m in \u001B[0;36mcheck_array\u001B[0;34m(array, accept_sparse, accept_large_sparse, dtype, order, copy, force_all_finite, ensure_2d, allow_nd, ensure_min_samples, ensure_min_features, estimator)\u001B[0m\n\u001B[1;32m    790\u001B[0m \u001B[0;34m\u001B[0m\u001B[0m\n\u001B[1;32m    791\u001B[0m         \u001B[0;32mif\u001B[0m \u001B[0mforce_all_finite\u001B[0m\u001B[0;34m:\u001B[0m\u001B[0;34m\u001B[0m\u001B[0;34m\u001B[0m\u001B[0m\n\u001B[0;32m--> 792\u001B[0;31m             \u001B[0m_assert_all_finite\u001B[0m\u001B[0;34m(\u001B[0m\u001B[0marray\u001B[0m\u001B[0;34m,\u001B[0m \u001B[0mallow_nan\u001B[0m\u001B[0;34m=\u001B[0m\u001B[0mforce_all_finite\u001B[0m \u001B[0;34m==\u001B[0m \u001B[0;34m\"allow-nan\"\u001B[0m\u001B[0;34m)\u001B[0m\u001B[0;34m\u001B[0m\u001B[0;34m\u001B[0m\u001B[0m\n\u001B[0m\u001B[1;32m    793\u001B[0m \u001B[0;34m\u001B[0m\u001B[0m\n\u001B[1;32m    794\u001B[0m     \u001B[0;32mif\u001B[0m \u001B[0mensure_min_samples\u001B[0m \u001B[0;34m>\u001B[0m \u001B[0;36m0\u001B[0m\u001B[0;34m:\u001B[0m\u001B[0;34m\u001B[0m\u001B[0;34m\u001B[0m\u001B[0m\n",
      "\u001B[0;32m~/opt/anaconda3/lib/python3.7/site-packages/sklearn/utils/validation.py\u001B[0m in \u001B[0;36m_assert_all_finite\u001B[0;34m(X, allow_nan, msg_dtype)\u001B[0m\n\u001B[1;32m    114\u001B[0m             raise ValueError(\n\u001B[1;32m    115\u001B[0m                 msg_err.format(\n\u001B[0;32m--> 116\u001B[0;31m                     \u001B[0mtype_err\u001B[0m\u001B[0;34m,\u001B[0m \u001B[0mmsg_dtype\u001B[0m \u001B[0;32mif\u001B[0m \u001B[0mmsg_dtype\u001B[0m \u001B[0;32mis\u001B[0m \u001B[0;32mnot\u001B[0m \u001B[0;32mNone\u001B[0m \u001B[0;32melse\u001B[0m \u001B[0mX\u001B[0m\u001B[0;34m.\u001B[0m\u001B[0mdtype\u001B[0m\u001B[0;34m\u001B[0m\u001B[0;34m\u001B[0m\u001B[0m\n\u001B[0m\u001B[1;32m    117\u001B[0m                 )\n\u001B[1;32m    118\u001B[0m             )\n",
      "\u001B[0;31mValueError\u001B[0m: Input contains NaN, infinity or a value too large for dtype('float64')."
     ]
    }
   ],
   "source": [
    "dirs.sort()\n",
    "with open('/Users/y1u0d2/Desktop/Lab/result/nnp-train/two-body/error.csv','a') as f:\n",
    "    writer = csv.writer(f)\n",
    "    writer.writerow(['type','structure','r-cut','num-pairs','MAE','MSE','RMSE','R2'])\n",
    "for directory in dirs:\n",
    "    files = glob.glob(f'{directory}/*')\n",
    "\n",
    "    test_file = glob.glob(f'{directory}/test*')[0].split('/')[-1]\n",
    "    train_file = glob.glob(f'{directory}/train*')[0].split('/')[-1]\n",
    "\n",
    "    obj = ConvertCsv(directory,directory)\n",
    "    obj.convert_n2p2_output_to_csv(10,test_file,'tmp_test')\n",
    "    obj.convert_n2p2_output_to_csv(10,train_file,'tmp_train')\n",
    "\n",
    "    df_test = pd.read_csv(f'{directory}/tmp_test.csv')\n",
    "    df_train = pd.read_csv(f'{directory}/tmp_train.csv')\n",
    "    # テストに対して\n",
    "    df_test_new = pd.merge(df_test,base_df,left_on='index',right_on='structure_idx')\n",
    "\n",
    "    mae_test = mean_absolute_error(df_test_new['Eref'],df_test_new['Ennp'])\n",
    "    mse_test = mean_squared_error(df_test_new['Eref'],df_test_new['Ennp'])\n",
    "    rmse_test = np.sqrt(mse_test)\n",
    "    r2_test = r2_score(df_test_new['Eref'],df_test_new['Ennp'])\n",
    "\n",
    "    r_cut = directory.split('/')[-1].split('_')[1]\n",
    "    num_pairs = directory.split('/')[-1].split('_')[2]\n",
    "\n",
    "    with open('/Users/y1u0d2/Desktop/Lab/result/nnp-train/two-body/error.csv','a') as f:\n",
    "        writer = csv.writer(f)\n",
    "        writer.writerow(['test','all',r_cut,num_pairs,mae_test,mse_test,rmse_test,r2_test])\n",
    "    # 訓練データに対して\n",
    "    df_train_new = pd.merge(df_train,base_df,left_on='index',right_on='structure_idx')\n",
    "\n",
    "    mae_train = mean_absolute_error(df_train_new['Eref'],df_train_new['Ennp'])\n",
    "    mse_train = mean_squared_error(df_train_new['Eref'],df_train_new['Ennp'])\n",
    "    rmse_train = np.sqrt(mse_train)\n",
    "    r2_train = r2_score(df_train_new['Eref'],df_train_new['Ennp'])\n",
    "\n",
    "    r_cut = directory.split('/')[-1].split('_')[1]\n",
    "    num_pairs = directory.split('/')[-1].split('_')[2]\n",
    "\n",
    "    with open('/Users/y1u0d2/Desktop/Lab/result/nnp-train/two-body/error.csv','a') as f:\n",
    "        writer = csv.writer(f)\n",
    "        writer.writerow(['train','all',r_cut,num_pairs,mae_train,mse_train,rmse_train,r2_train])\n"
   ],
   "metadata": {
    "collapsed": false,
    "pycharm": {
     "name": "#%%\n"
    }
   }
  },
  {
   "cell_type": "code",
   "execution_count": 75,
   "outputs": [
    {
     "data": {
      "text/plain": "     index      Eref  Ennp          structure  structure_idx  natom  \\\n0       33  0.164652  -NAN  alpha-critobalite             33     48   \n1      358 -1.005827  -NAN  alpha-critobalite            358     48   \n2      386  0.027873  -NAN  alpha-critobalite            386     48   \n3      531  0.096495  -NAN  alpha-critobalite            531     48   \n4     1045  0.545922  -NAN  alpha-critobalite           1045     48   \n..     ...       ...   ...                ...            ...    ...   \n824   7936  0.157981  -NAN         stishovite           7936     48   \n825   8258 -1.178945  -NAN         stishovite           8258     48   \n826   8414 -0.991375  -NAN         stishovite           8414     48   \n827   8454 -1.199050  -NAN         stishovite           8454     48   \n828   8491  0.426458  -NAN         stishovite           8491     48   \n\n               E         Vol  \n0   -1010.992930  839.055430  \n1   -1011.373891  522.736660  \n2   -1010.649379  522.736660  \n3   -1010.909912  908.013213  \n4   -1010.448241  814.934288  \n..           ...         ...  \n824 -1010.923925  350.302260  \n825 -1011.452768  345.233252  \n826 -1011.371762  408.644169  \n827 -1011.460060  395.003095  \n828 -1010.793879  395.003095  \n\n[829 rows x 8 columns]",
      "text/html": "<div>\n<style scoped>\n    .dataframe tbody tr th:only-of-type {\n        vertical-align: middle;\n    }\n\n    .dataframe tbody tr th {\n        vertical-align: top;\n    }\n\n    .dataframe thead th {\n        text-align: right;\n    }\n</style>\n<table border=\"1\" class=\"dataframe\">\n  <thead>\n    <tr style=\"text-align: right;\">\n      <th></th>\n      <th>index</th>\n      <th>Eref</th>\n      <th>Ennp</th>\n      <th>structure</th>\n      <th>structure_idx</th>\n      <th>natom</th>\n      <th>E</th>\n      <th>Vol</th>\n    </tr>\n  </thead>\n  <tbody>\n    <tr>\n      <th>0</th>\n      <td>33</td>\n      <td>0.164652</td>\n      <td>-NAN</td>\n      <td>alpha-critobalite</td>\n      <td>33</td>\n      <td>48</td>\n      <td>-1010.992930</td>\n      <td>839.055430</td>\n    </tr>\n    <tr>\n      <th>1</th>\n      <td>358</td>\n      <td>-1.005827</td>\n      <td>-NAN</td>\n      <td>alpha-critobalite</td>\n      <td>358</td>\n      <td>48</td>\n      <td>-1011.373891</td>\n      <td>522.736660</td>\n    </tr>\n    <tr>\n      <th>2</th>\n      <td>386</td>\n      <td>0.027873</td>\n      <td>-NAN</td>\n      <td>alpha-critobalite</td>\n      <td>386</td>\n      <td>48</td>\n      <td>-1010.649379</td>\n      <td>522.736660</td>\n    </tr>\n    <tr>\n      <th>3</th>\n      <td>531</td>\n      <td>0.096495</td>\n      <td>-NAN</td>\n      <td>alpha-critobalite</td>\n      <td>531</td>\n      <td>48</td>\n      <td>-1010.909912</td>\n      <td>908.013213</td>\n    </tr>\n    <tr>\n      <th>4</th>\n      <td>1045</td>\n      <td>0.545922</td>\n      <td>-NAN</td>\n      <td>alpha-critobalite</td>\n      <td>1045</td>\n      <td>48</td>\n      <td>-1010.448241</td>\n      <td>814.934288</td>\n    </tr>\n    <tr>\n      <th>...</th>\n      <td>...</td>\n      <td>...</td>\n      <td>...</td>\n      <td>...</td>\n      <td>...</td>\n      <td>...</td>\n      <td>...</td>\n      <td>...</td>\n    </tr>\n    <tr>\n      <th>824</th>\n      <td>7936</td>\n      <td>0.157981</td>\n      <td>-NAN</td>\n      <td>stishovite</td>\n      <td>7936</td>\n      <td>48</td>\n      <td>-1010.923925</td>\n      <td>350.302260</td>\n    </tr>\n    <tr>\n      <th>825</th>\n      <td>8258</td>\n      <td>-1.178945</td>\n      <td>-NAN</td>\n      <td>stishovite</td>\n      <td>8258</td>\n      <td>48</td>\n      <td>-1011.452768</td>\n      <td>345.233252</td>\n    </tr>\n    <tr>\n      <th>826</th>\n      <td>8414</td>\n      <td>-0.991375</td>\n      <td>-NAN</td>\n      <td>stishovite</td>\n      <td>8414</td>\n      <td>48</td>\n      <td>-1011.371762</td>\n      <td>408.644169</td>\n    </tr>\n    <tr>\n      <th>827</th>\n      <td>8454</td>\n      <td>-1.199050</td>\n      <td>-NAN</td>\n      <td>stishovite</td>\n      <td>8454</td>\n      <td>48</td>\n      <td>-1011.460060</td>\n      <td>395.003095</td>\n    </tr>\n    <tr>\n      <th>828</th>\n      <td>8491</td>\n      <td>0.426458</td>\n      <td>-NAN</td>\n      <td>stishovite</td>\n      <td>8491</td>\n      <td>48</td>\n      <td>-1010.793879</td>\n      <td>395.003095</td>\n    </tr>\n  </tbody>\n</table>\n<p>829 rows × 8 columns</p>\n</div>"
     },
     "execution_count": 75,
     "metadata": {},
     "output_type": "execute_result"
    }
   ],
   "source": [
    "directory = dirs[9]\n",
    "files = glob.glob(f'{directory}/*')\n",
    "\n",
    "test_file = glob.glob(f'{directory}/test*')[0].split('/')[-1]\n",
    "train_file = glob.glob(f'{directory}/train*')[0].split('/')[-1]\n",
    "\n",
    "obj = ConvertCsv(directory,directory)\n",
    "obj.convert_n2p2_output_to_csv(10,test_file,'tmp_test')\n",
    "obj.convert_n2p2_output_to_csv(10,train_file,'tmp_train')\n",
    "\n",
    "df_test = pd.read_csv(f'{directory}/tmp_test.csv')\n",
    "df_train = pd.read_csv(f'{directory}/tmp_train.csv')\n",
    "# テストに対して\n",
    "df_test_new = pd.merge(df_test,base_df,left_on='index',right_on='structure_idx')\n",
    "df_test_new\n",
    "#\n",
    "# mae_test = mean_absolute_error(df_test_new['Eref'],df_test_new['Ennp'])\n",
    "# mse_test = mean_squared_error(df_test_new['Eref'],df_test_new['Ennp'])\n",
    "# rmse_test = np.sqrt(mse_test)\n",
    "# r2_test = r2_score(df_test_new['Eref'],df_test_new['Ennp'])\n",
    "\n",
    "# r_cut = directory.split('/')[-1].split('_')[1]\n",
    "# num_pairs = directory.split('/')[-1].split('_')[2]\n",
    "#\n",
    "# with open('/Users/y1u0d2/Desktop/Lab/result/nnp-train/two-body/error.csv','a') as f:\n",
    "#     writer = csv.writer(f)\n",
    "#     writer.writerow(['test','all',r_cut,num_pairs,mae_test,mse_test,rmse_test,r2_test])\n"
   ],
   "metadata": {
    "collapsed": false,
    "pycharm": {
     "name": "#%%\n"
    }
   }
  },
  {
   "cell_type": "code",
   "execution_count": null,
   "outputs": [],
   "source": [],
   "metadata": {
    "collapsed": false,
    "pycharm": {
     "name": "#%%\n"
    }
   }
  }
 ],
 "metadata": {
  "kernelspec": {
   "display_name": "Python 3",
   "language": "python",
   "name": "python3"
  },
  "language_info": {
   "codemirror_mode": {
    "name": "ipython",
    "version": 2
   },
   "file_extension": ".py",
   "mimetype": "text/x-python",
   "name": "python",
   "nbconvert_exporter": "python",
   "pygments_lexer": "ipython2",
   "version": "2.7.6"
  }
 },
 "nbformat": 4,
 "nbformat_minor": 0
}