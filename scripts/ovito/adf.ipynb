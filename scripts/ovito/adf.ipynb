{
 "cells": [
  {
   "cell_type": "code",
   "execution_count": 1,
   "metadata": {
    "collapsed": true
   },
   "outputs": [],
   "source": [
    "import glob\n",
    "\n",
    "import matplotlib.pyplot as plt\n",
    "from ovito.io import import_file, export_file\n",
    "from ovito.modifiers import BondAnalysisModifier, CreateBondsModifier"
   ]
  },
  {
   "cell_type": "code",
   "execution_count": 8,
   "outputs": [
    {
     "name": "stdout",
     "output_type": "stream",
     "text": [
      "[[0.02 0.  ]\n",
      " [0.06 0.  ]\n",
      " [0.1  0.  ]\n",
      " [0.14 0.  ]\n",
      " [0.18 0.  ]\n",
      " [0.22 0.  ]\n",
      " [0.26 0.  ]\n",
      " [0.3  0.  ]\n",
      " [0.34 0.  ]\n",
      " [0.38 0.  ]\n",
      " [0.42 0.  ]\n",
      " [0.46 0.  ]\n",
      " [0.5  0.  ]\n",
      " [0.54 0.  ]\n",
      " [0.58 0.  ]\n",
      " [0.62 0.  ]\n",
      " [0.66 0.  ]\n",
      " [0.7  0.  ]\n",
      " [0.74 0.  ]\n",
      " [0.78 0.  ]\n",
      " [0.82 0.  ]\n",
      " [0.86 0.  ]\n",
      " [0.9  0.  ]\n",
      " [0.94 0.  ]\n",
      " [0.98 0.  ]\n",
      " [1.02 0.  ]\n",
      " [1.06 0.  ]\n",
      " [1.1  0.  ]\n",
      " [1.14 0.  ]\n",
      " [1.18 0.  ]\n",
      " [1.22 0.  ]\n",
      " [1.26 0.  ]\n",
      " [1.3  0.  ]\n",
      " [1.34 1.  ]\n",
      " [1.38 0.  ]\n",
      " [1.42 1.  ]\n",
      " [1.46 0.  ]\n",
      " [1.5  0.  ]\n",
      " [1.54 2.  ]\n",
      " [1.58 1.  ]\n",
      " [1.62 4.  ]\n",
      " [1.66 3.  ]\n",
      " [1.7  6.  ]\n",
      " [1.74 2.  ]\n",
      " [1.78 5.  ]\n",
      " [1.82 1.  ]\n",
      " [1.86 1.  ]\n",
      " [1.9  2.  ]\n",
      " [1.94 0.  ]\n",
      " [1.98 2.  ]\n",
      " [2.02 1.  ]\n",
      " [2.06 0.  ]\n",
      " [2.1  0.  ]\n",
      " [2.14 0.  ]\n",
      " [2.18 0.  ]\n",
      " [2.22 0.  ]\n",
      " [2.26 0.  ]\n",
      " [2.3  0.  ]\n",
      " [2.34 0.  ]\n",
      " [2.38 0.  ]\n",
      " [2.42 0.  ]\n",
      " [2.46 1.  ]\n",
      " [2.5  3.  ]\n",
      " [2.54 2.  ]\n",
      " [2.58 1.  ]\n",
      " [2.62 3.  ]\n",
      " [2.66 5.  ]\n",
      " [2.7  2.  ]\n",
      " [2.74 7.  ]\n",
      " [2.78 3.  ]\n",
      " [2.82 5.  ]\n",
      " [2.86 3.  ]\n",
      " [2.9  4.  ]\n",
      " [2.94 2.  ]\n",
      " [2.98 2.  ]\n",
      " [3.02 4.  ]\n",
      " [3.06 2.  ]\n",
      " [3.1  1.  ]\n",
      " [3.14 0.  ]\n",
      " [3.18 2.  ]\n",
      " [3.22 0.  ]\n",
      " [3.26 0.  ]\n",
      " [3.3  0.  ]\n",
      " [3.34 0.  ]\n",
      " [3.38 0.  ]\n",
      " [3.42 0.  ]\n",
      " [3.46 0.  ]\n",
      " [3.5  0.  ]\n",
      " [3.54 0.  ]\n",
      " [3.58 0.  ]\n",
      " [3.62 0.  ]\n",
      " [3.66 0.  ]\n",
      " [3.7  0.  ]\n",
      " [3.74 0.  ]\n",
      " [3.78 0.  ]\n",
      " [3.82 0.  ]\n",
      " [3.86 0.  ]\n",
      " [3.9  0.  ]\n",
      " [3.94 0.  ]\n",
      " [3.98 0.  ]]\n"
     ]
    }
   ],
   "source": [
    "# Set up data pipeline:\n",
    "path_to_input = \"/Users/y1u0d2/desktop/Lab/data/xsf/data_coesite/data_coesite_995.xsf\"\n",
    "pipeline = import_file(path_to_input)\n",
    "pipeline.modifiers.append(CreateBondsModifier(cutoff = 3.2))\n",
    "pipeline.modifiers.append(BondAnalysisModifier(bins = 100))\n",
    "\n",
    "# Export bond angle distribution to an output text file.\n",
    "export_file(pipeline, 'bond_angles.txt', 'txt/table', key='bond-angle-distr')\n",
    "\n",
    "# Convert bond length histogram to a NumPy array and print it to the terminal.\n",
    "data = pipeline.compute()\n",
    "print(data.tables['bond-length-distr'].xy())"
   ],
   "metadata": {
    "collapsed": false,
    "pycharm": {
     "name": "#%%\n"
    }
   }
  },
  {
   "cell_type": "code",
   "execution_count": 29,
   "outputs": [
    {
     "name": "stdout",
     "output_type": "stream",
     "text": [
      "Angle distribution for bond types: O-O-O\n",
      "[   7   25   60   74   99   99  133  139  169  200  248  275  296  340\n",
      "  483  565  689  778  776  797  856  804  857  948  897  940 1027  992\n",
      " 1025 1069 1083 1174 1319 1323 1442 1527 1443 1343 1308 1281 1335 1373\n",
      " 1338 1354 1496 1473 1557 1637 1578 1651 1720 1880 1914 1972 2026 1903\n",
      " 2056 1906 1989 1852 1885 2038 1935 1931 1948 1988 1949 1972 2027 2038\n",
      " 2100 2146 2106 2136 2268 2166 2180 2208 2284 2273 2253 2183 2123 2205\n",
      " 2230 2229 2169 2272 2200 2114 2222 2161 2172 2269 2344 2227 2113 2201\n",
      " 2199 2263 2174 2205 2222 2166 2126 2228 2159 2207 2007 2105 2084 2154\n",
      " 2068 2043 2001 2001 1954 1983 1950 1897 1810 1877 1771 1907 1888 1966\n",
      " 1892 1825 1793 1768 1684 1656 1595 1612 1587 1448 1471 1480 1450 1408\n",
      " 1417 1419 1328 1407 1362 1335 1220 1177 1114 1104 1023 1070 1006  957\n",
      "  944  934  942  900  870  828  846  694  674  633  573  514  461  407\n",
      "  441  366  348  313  303  245  215  216  165  121   92   20]\n",
      "Angle distribution for bond types: O-O-Si\n",
      "[  27   69   84  122  183  206  247  349  475  711  786  681  527  485\n",
      "  430  386  433  422  432  509  512  616  810 1101 1281 1389 1386 1487\n",
      " 1407 1362 1290 1263 1196 1177 1194 1262 1283 1357 1368 1348 1424 1470\n",
      " 1507 1617 1662 1759 1752 1714 1840 1927 1846 1901 1826 1929 1992 2031\n",
      " 1970 1899 2080 2149 2019 2062 2088 2033 2105 2138 2092 2231 2277 2305\n",
      " 2215 2253 2300 2234 2287 2334 2301 2323 2200 2374 2326 2398 2348 2304\n",
      " 2330 2359 2294 2295 2389 2370 2290 2395 2353 2378 2253 2379 2320 2239\n",
      " 2242 2361 2379 2378 2361 2403 2407 2378 2259 2285 2159 2119 2163 2096\n",
      " 2164 2081 2172 2163 2118 2147 2065 2074 2128 2151 2062 1924 1929 1872\n",
      " 1897 1871 1804 1842 1811 1828 1789 1737 1772 1633 1639 1593 1582 1454\n",
      " 1413 1386 1368 1320 1332 1291 1251 1347 1359 1177 1371 1202 1162 1166\n",
      " 1026  991 1004  882  821  784  761  630  638  612  532  549  514  504\n",
      "  478  460  430  408  342  291  271  201  139  105   73   18]\n",
      "Angle distribution for bond types: Si-O-Si\n",
      "[  2   8  14  15  21  25  36  39  49  36  49  36  54  53  64  77 113 157\n",
      " 163 194 236 238 258 248 238 258 353 390 436 382 388 400 364 319 322 363\n",
      " 346 336 367 343 351 335 338 367 380 392 423 457 482 526 594 608 571 538\n",
      " 534 561 560 620 533 547 526 547 537 510 540 543 563 511 571 538 615 583\n",
      " 604 580 606 634 611 645 663 629 642 634 635 642 573 558 565 582 599 601\n",
      " 651 640 657 623 589 648 644 678 677 639 622 610 583 583 635 642 560 616\n",
      " 577 575 570 568 576 543 546 543 491 574 530 525 538 541 581 602 537 577\n",
      " 591 532 514 462 477 449 410 401 435 403 411 393 437 380 363 343 368 362\n",
      " 365 375 336 345 388 332 361 328 304 325 281 288 276 237 236 228 193 171\n",
      " 152 170 132 104 110 114  96  98  90  92  85  89  90  63  81  56  30  11]\n",
      "Angle distribution for bond types: O-Si-O\n",
      "[  10   29   31   45   55   58   67   74  107  130  130  158  175  204\n",
      "  242  311  402  469  479  431  440  447  527  545  551  556  575  484\n",
      "  508  531  613  664  697  761  762  877  848  822  758  765  775  790\n",
      "  828  767  799  729  823  815  885  961 1063 1028 1106 1055 1136 1064\n",
      " 1061 1100 1144 1127 1093 1101 1083 1083 1088 1102 1134 1091 1197 1145\n",
      " 1227 1199 1220 1233 1250 1215 1196 1210 1153 1186 1216 1176 1254 1190\n",
      " 1233 1293 1238 1273 1297 1273 1250 1268 1299 1252 1253 1287 1298 1305\n",
      " 1264 1230 1198 1103 1178 1204 1212 1191 1225 1211 1184 1175 1100 1195\n",
      " 1134 1184 1190 1135 1115 1114 1148 1196 1094 1095 1060 1029  979  960\n",
      "  933  981  988  961  953  956  988  926  893  886  919  846  808  770\n",
      "  756  762  743  698  718  703  676  687  662  674  673  623  636  605\n",
      "  553  566  513  427  400  386  366  393  376  363  344  322  307  287\n",
      "  239  250  216  179  180  128  109  104   74   38   35    8]\n",
      "Angle distribution for bond types: O-Si-Si\n",
      "[  10   45   54   70   60  113  109  202  247  333  348  312  269  256\n",
      "  181  179  155  192  232  241  273  341  471  462  569  628  660  679\n",
      "  661  650  575  556  619  545  612  604  651  614  646  671  677  640\n",
      "  742  725  780  795  780  902  923  945  956  889  945  855  928  876\n",
      "  922  933  945 1005 1009 1062  991 1089 1040 1039 1035 1011 1060 1065\n",
      " 1101 1067 1101 1084 1055  966 1070 1058 1091 1167 1082 1073 1085 1126\n",
      " 1106 1158 1111 1186 1117 1116 1132 1120 1162 1202 1157 1159 1082 1104\n",
      " 1104 1075 1145 1114 1119 1098 1062 1082 1093 1054 1082  992 1011 1022\n",
      " 1008 1000 1051 1074 1030 1076 1005  984  989  942  944  951  935  909\n",
      "  902  898  950  906  875  851  829  755  770  721  767  725  772  715\n",
      "  762  708  692  703  696  667  611  626  558  552  558  530  518  502\n",
      "  457  503  450  476  422  402  397  344  345  304  281  267  253  230\n",
      "  198  192  183  166  139  116  120   99   76   76   27   15]\n",
      "Angle distribution for bond types: Si-Si-Si\n",
      "[  0   0   3   1   3   4  14  12  22  18  25  28  32  35  32  37  31  36\n",
      "  59  81  93  87 117 117 105 112 128 162 157 152 158 137 119 129 120 162\n",
      " 154 138 147 137 132 176 149 149 146 155 182 169 200 186 230 248 264 254\n",
      " 211 219 208 209 205 231 216 252 207 190 233 245 216 241 231 236 222 265\n",
      " 256 245 220 244 254 239 245 230 260 238 241 262 248 230 261 262 296 244\n",
      " 247 268 242 257 260 243 272 257 252 259 212 253 221 215 227 276 256 275\n",
      " 242 254 218 224 222 219 243 249 240 209 245 215 187 195 231 202 195 201\n",
      " 231 206 217 183 157 187 201 201 185 195 186 159 171 169 156 171 155 139\n",
      " 137 137 133 117 129 147 130 134 124  90 107 119 112  94  77  97  82  83\n",
      "  52  81  88  49  63  55  47  54  54  23  30  23  23  20  19   7   7   1]\n"
     ]
    }
   ],
   "source": [
    "import matplotlib.pyplot as plt\n",
    "import pandas as pd\n",
    "import numpy as np\n",
    "\n",
    "from ovito.io import import_file\n",
    "from ovito.modifiers import BondAnalysisModifier\n",
    "\n",
    "from utils.constants.dir_path import DataDirPath\n",
    "\n",
    "xsf = DataDirPath.xsf()\n",
    "\n",
    "# Load LAMMPS data file with bonds and compute bond angle distribution partitioned by bond type:\n",
    "pipeline = import_file(path_to_input)\n",
    "pipeline.modifiers.append(CreateBondsModifier(cutoff = 10))\n",
    "pipeline.modifiers.append(BondAnalysisModifier(partition=BondAnalysisModifier.Partition.ByParticleType))\n",
    "data = pipeline.compute()\n",
    "\n",
    "# Retrieve y-property array from output DataTable:\n",
    "histogram = data.tables['bond-angle-distr'].y\n",
    "\n",
    "export_file(pipeline, 'bond_angles.txt', 'txt/table', key='bond-length-distr')\n",
    "\n",
    "# Print the individual columns of the vector-valued property array:\n",
    "# for column, name in enumerate(histogram.component_names):\n",
    "#     print(\"Angle distribution for bond types:\", name)\n",
    "#     fig, ax = plt.subplots()\n",
    "#     ax.set_title(f'{name}')\n",
    "#     ax.plot(range(1,181), histogram[:,column])"
   ],
   "metadata": {
    "collapsed": false,
    "pycharm": {
     "name": "#%%\n"
    }
   }
  },
  {
   "cell_type": "code",
   "execution_count": 55,
   "outputs": [
    {
     "data": {
      "text/plain": "Empty DataFrame\nColumns: [Angle, O-O-O, O-O-Si, Si-O-Si, O-Si-O, O-Si-Si, Si-Si-Si]\nIndex: []",
      "text/html": "<div>\n<style scoped>\n    .dataframe tbody tr th:only-of-type {\n        vertical-align: middle;\n    }\n\n    .dataframe tbody tr th {\n        vertical-align: top;\n    }\n\n    .dataframe thead th {\n        text-align: right;\n    }\n</style>\n<table border=\"1\" class=\"dataframe\">\n  <thead>\n    <tr style=\"text-align: right;\">\n      <th></th>\n      <th>Angle</th>\n      <th>O-O-O</th>\n      <th>O-O-Si</th>\n      <th>Si-O-Si</th>\n      <th>O-Si-O</th>\n      <th>O-Si-Si</th>\n      <th>Si-Si-Si</th>\n    </tr>\n  </thead>\n  <tbody>\n  </tbody>\n</table>\n</div>"
     },
     "execution_count": 55,
     "metadata": {},
     "output_type": "execute_result"
    }
   ],
   "source": [
    "import csv\n",
    "file = '/Users/y1u0d2/desktop/Lab/result/adf/ovito/out_txt/alpha-quartz/alpha-quartz_635.txt'\n",
    "csv_f = '/Users/y1u0d2/desktop/Lab/result/adf/ovito/csv'\n",
    "with open(file, mode='r') as f:\n",
    "    l_strip = [s.strip() for s in f.readlines()][1:]\n",
    "    df = pd.DataFrame(columns=l_strip[0].split(' ')[1:])\n",
    "    for line in l_strip[1:]:\n",
    "        line = line.split(' ')\n",
    "        df.append(line)\n",
    "df"
   ],
   "metadata": {
    "collapsed": false,
    "pycharm": {
     "name": "#%%\n"
    }
   }
  },
  {
   "cell_type": "code",
   "execution_count": 51,
   "outputs": [],
   "source": [
    "import pandas as pd\n",
    "df = pd.read_csv(f'{csv_f}/test.csv', index_col='Angle')\n",
    "df = df.T"
   ],
   "metadata": {
    "collapsed": false,
    "pycharm": {
     "name": "#%%\n"
    }
   }
  },
  {
   "cell_type": "code",
   "execution_count": 52,
   "outputs": [],
   "source": [
    "df.insert(0, 'structure', 'coesite')"
   ],
   "metadata": {
    "collapsed": false,
    "pycharm": {
     "name": "#%%\n"
    }
   }
  },
  {
   "cell_type": "code",
   "execution_count": 53,
   "outputs": [],
   "source": [],
   "metadata": {
    "collapsed": false,
    "pycharm": {
     "name": "#%%\n"
    }
   }
  },
  {
   "cell_type": "code",
   "execution_count": 48,
   "outputs": [
    {
     "name": "stdout",
     "output_type": "stream",
     "text": [
      "8550\n"
     ]
    }
   ],
   "source": [
    "# plot adf\n",
    "from utils.constants.constants import Constants\n",
    "import glob\n",
    "\n",
    "csv_path = '/Users/y1u0d2/desktop/Lab/result/adf/ovito/csv_w'\n",
    "structures = Constants.structures()\n",
    "all_path = []\n",
    "for structure in structures:\n",
    "    files = glob.glob(f'{csv_path}/{structure}/*')\n",
    "    for file in files:\n",
    "        all_path.append(file)\n",
    "print(len(all_path))"
   ],
   "metadata": {
    "collapsed": false,
    "pycharm": {
     "name": "#%%\n"
    }
   }
  },
  {
   "cell_type": "code",
   "execution_count": 47,
   "outputs": [
    {
     "name": "stderr",
     "output_type": "stream",
     "text": [
      "<ipython-input-47-7455bec3aa5c>:9: PerformanceWarning: DataFrame is highly fragmented.  This is usually the result of calling `frame.insert` many times, which has poor performance.  Consider joining all columns at once using pd.concat(axis=1) instead.  To get a de-fragmented frame, use `newframe = frame.copy()`\n",
      "  df[f'{i}_w'] = df[i] / structure_natoms[structure]\n"
     ]
    }
   ],
   "source": [
    "output = '/Users/y1u0d2/desktop/Lab/result/adf/ovito/csv_w'\n",
    "structure_natoms = Constants.structures_natom()\n",
    "space = [str(i) for i in np.linspace(0.5,179.5,180).tolist()]\n",
    "for file in all_path:\n",
    "    structure = file.split('/')[-2]\n",
    "    structure_idx = file.split('/')[-1].split('.')[0].split('_')[-1]\n",
    "    df = pd.read_csv(file)\n",
    "    for i in space:\n",
    "        df[f'{i}_w'] = df[i] / structure_natoms[structure]\n",
    "    df.to_csv(f'{output}/{structure}/{structure}_{structure_idx}.csv')\n",
    "    # df_tmp = pd.read_csv(file)\n",
    "    # df = pd.concat([df, df_tmp])"
   ],
   "metadata": {
    "collapsed": false,
    "pycharm": {
     "name": "#%%\n"
    }
   }
  },
  {
   "cell_type": "code",
   "execution_count": 51,
   "outputs": [],
   "source": [
    "output = '/Users/y1u0d2/desktop/Lab/result/adf/ovito/csv_w'\n",
    "structures = Constants.structures()\n",
    "all_path = []\n",
    "for structure in structures:\n",
    "    files = glob.glob(f'{output}/{structure}/*.csv')\n",
    "    for file in files:\n",
    "        all_path.append(file)\n",
    "\n",
    "df = pd.read_csv(all_path[0])\n",
    "for i in all_path[1:]:\n",
    "    tmp = pd.read_csv(i)\n",
    "    df = pd.concat([df, tmp])\n",
    "df.to_csv('/Users/y1u0d2/desktop/Lab/result/adf/ovito/all_format.csv')"
   ],
   "metadata": {
    "collapsed": false,
    "pycharm": {
     "name": "#%%\n"
    }
   }
  },
  {
   "cell_type": "code",
   "execution_count": 70,
   "outputs": [],
   "source": [
    "df_new.to_csv(f'{csv_path}/all.csv', index=False)"
   ],
   "metadata": {
    "collapsed": false,
    "pycharm": {
     "name": "#%%\n"
    }
   }
  },
  {
   "cell_type": "code",
   "execution_count": 71,
   "outputs": [
    {
     "data": {
      "text/plain": "           bond          structure  0.5  1.5  2.5  3.5  4.5   5.5   6.5   7.5  \\\n0         O-O-O  alpha-critobalite  140  301  273  139  159   131    77    17   \n1        O-O-Si  alpha-critobalite    4    9   80  215  445   537   625   764   \n2       Si-O-Si  alpha-critobalite    0    0    0    2    8    18    38    53   \n3        O-Si-O  alpha-critobalite   13   48   75   82   58    66    77    75   \n4       O-Si-Si  alpha-critobalite   29   66  114  118  207   221   280   272   \n...         ...                ...  ...  ...  ...  ...  ...   ...   ...   ...   \n51295    O-O-Si         stishovite  993  448  453  944  235  1660  1662  2273   \n51296   Si-O-Si         stishovite   32   64   78  178    7   454   115   253   \n51297    O-Si-O         stishovite   96  148  108  258  518   576   269   558   \n51298   O-Si-Si         stishovite  224  388  316  107  603   929   388  1261   \n51299  Si-Si-Si         stishovite  672    0    0    0    0     0   128     0   \n\n       ...  170.5  171.5  172.5  173.5  174.5  175.5  176.5  177.5  178.5  \\\n0      ...    241    171    140    141    224    370    636    880    765   \n1      ...   1040    972    743    615    509    393    249    135     51   \n2      ...    104     95     49     48     54     74    199    362    355   \n3      ...    218    131     71     75     67     76     62     44     34   \n4      ...    338    273    176    121    102    134     93    105     70   \n...    ...    ...    ...    ...    ...    ...    ...    ...    ...    ...   \n51295  ...   4401   2425   2741   1851   1178    962   1304   1452    771   \n51296  ...   1109    939    188    368    330    259    726    136    102   \n51297  ...   1446    614    555    296    562    520    261    119    137   \n51298  ...   2210   1793   1269    410    908    582    134    308    384   \n51299  ...    244    140      0    128      0      0      0      0      0   \n\n       179.5  \n0        298  \n1          5  \n2        136  \n3         19  \n4         36  \n...      ...  \n51295    497  \n51296     64  \n51297   2925  \n51298    235  \n51299   2176  \n\n[51300 rows x 182 columns]",
      "text/html": "<div>\n<style scoped>\n    .dataframe tbody tr th:only-of-type {\n        vertical-align: middle;\n    }\n\n    .dataframe tbody tr th {\n        vertical-align: top;\n    }\n\n    .dataframe thead th {\n        text-align: right;\n    }\n</style>\n<table border=\"1\" class=\"dataframe\">\n  <thead>\n    <tr style=\"text-align: right;\">\n      <th></th>\n      <th>bond</th>\n      <th>structure</th>\n      <th>0.5</th>\n      <th>1.5</th>\n      <th>2.5</th>\n      <th>3.5</th>\n      <th>4.5</th>\n      <th>5.5</th>\n      <th>6.5</th>\n      <th>7.5</th>\n      <th>...</th>\n      <th>170.5</th>\n      <th>171.5</th>\n      <th>172.5</th>\n      <th>173.5</th>\n      <th>174.5</th>\n      <th>175.5</th>\n      <th>176.5</th>\n      <th>177.5</th>\n      <th>178.5</th>\n      <th>179.5</th>\n    </tr>\n  </thead>\n  <tbody>\n    <tr>\n      <th>0</th>\n      <td>O-O-O</td>\n      <td>alpha-critobalite</td>\n      <td>140</td>\n      <td>301</td>\n      <td>273</td>\n      <td>139</td>\n      <td>159</td>\n      <td>131</td>\n      <td>77</td>\n      <td>17</td>\n      <td>...</td>\n      <td>241</td>\n      <td>171</td>\n      <td>140</td>\n      <td>141</td>\n      <td>224</td>\n      <td>370</td>\n      <td>636</td>\n      <td>880</td>\n      <td>765</td>\n      <td>298</td>\n    </tr>\n    <tr>\n      <th>1</th>\n      <td>O-O-Si</td>\n      <td>alpha-critobalite</td>\n      <td>4</td>\n      <td>9</td>\n      <td>80</td>\n      <td>215</td>\n      <td>445</td>\n      <td>537</td>\n      <td>625</td>\n      <td>764</td>\n      <td>...</td>\n      <td>1040</td>\n      <td>972</td>\n      <td>743</td>\n      <td>615</td>\n      <td>509</td>\n      <td>393</td>\n      <td>249</td>\n      <td>135</td>\n      <td>51</td>\n      <td>5</td>\n    </tr>\n    <tr>\n      <th>2</th>\n      <td>Si-O-Si</td>\n      <td>alpha-critobalite</td>\n      <td>0</td>\n      <td>0</td>\n      <td>0</td>\n      <td>2</td>\n      <td>8</td>\n      <td>18</td>\n      <td>38</td>\n      <td>53</td>\n      <td>...</td>\n      <td>104</td>\n      <td>95</td>\n      <td>49</td>\n      <td>48</td>\n      <td>54</td>\n      <td>74</td>\n      <td>199</td>\n      <td>362</td>\n      <td>355</td>\n      <td>136</td>\n    </tr>\n    <tr>\n      <th>3</th>\n      <td>O-Si-O</td>\n      <td>alpha-critobalite</td>\n      <td>13</td>\n      <td>48</td>\n      <td>75</td>\n      <td>82</td>\n      <td>58</td>\n      <td>66</td>\n      <td>77</td>\n      <td>75</td>\n      <td>...</td>\n      <td>218</td>\n      <td>131</td>\n      <td>71</td>\n      <td>75</td>\n      <td>67</td>\n      <td>76</td>\n      <td>62</td>\n      <td>44</td>\n      <td>34</td>\n      <td>19</td>\n    </tr>\n    <tr>\n      <th>4</th>\n      <td>O-Si-Si</td>\n      <td>alpha-critobalite</td>\n      <td>29</td>\n      <td>66</td>\n      <td>114</td>\n      <td>118</td>\n      <td>207</td>\n      <td>221</td>\n      <td>280</td>\n      <td>272</td>\n      <td>...</td>\n      <td>338</td>\n      <td>273</td>\n      <td>176</td>\n      <td>121</td>\n      <td>102</td>\n      <td>134</td>\n      <td>93</td>\n      <td>105</td>\n      <td>70</td>\n      <td>36</td>\n    </tr>\n    <tr>\n      <th>...</th>\n      <td>...</td>\n      <td>...</td>\n      <td>...</td>\n      <td>...</td>\n      <td>...</td>\n      <td>...</td>\n      <td>...</td>\n      <td>...</td>\n      <td>...</td>\n      <td>...</td>\n      <td>...</td>\n      <td>...</td>\n      <td>...</td>\n      <td>...</td>\n      <td>...</td>\n      <td>...</td>\n      <td>...</td>\n      <td>...</td>\n      <td>...</td>\n      <td>...</td>\n      <td>...</td>\n    </tr>\n    <tr>\n      <th>51295</th>\n      <td>O-O-Si</td>\n      <td>stishovite</td>\n      <td>993</td>\n      <td>448</td>\n      <td>453</td>\n      <td>944</td>\n      <td>235</td>\n      <td>1660</td>\n      <td>1662</td>\n      <td>2273</td>\n      <td>...</td>\n      <td>4401</td>\n      <td>2425</td>\n      <td>2741</td>\n      <td>1851</td>\n      <td>1178</td>\n      <td>962</td>\n      <td>1304</td>\n      <td>1452</td>\n      <td>771</td>\n      <td>497</td>\n    </tr>\n    <tr>\n      <th>51296</th>\n      <td>Si-O-Si</td>\n      <td>stishovite</td>\n      <td>32</td>\n      <td>64</td>\n      <td>78</td>\n      <td>178</td>\n      <td>7</td>\n      <td>454</td>\n      <td>115</td>\n      <td>253</td>\n      <td>...</td>\n      <td>1109</td>\n      <td>939</td>\n      <td>188</td>\n      <td>368</td>\n      <td>330</td>\n      <td>259</td>\n      <td>726</td>\n      <td>136</td>\n      <td>102</td>\n      <td>64</td>\n    </tr>\n    <tr>\n      <th>51297</th>\n      <td>O-Si-O</td>\n      <td>stishovite</td>\n      <td>96</td>\n      <td>148</td>\n      <td>108</td>\n      <td>258</td>\n      <td>518</td>\n      <td>576</td>\n      <td>269</td>\n      <td>558</td>\n      <td>...</td>\n      <td>1446</td>\n      <td>614</td>\n      <td>555</td>\n      <td>296</td>\n      <td>562</td>\n      <td>520</td>\n      <td>261</td>\n      <td>119</td>\n      <td>137</td>\n      <td>2925</td>\n    </tr>\n    <tr>\n      <th>51298</th>\n      <td>O-Si-Si</td>\n      <td>stishovite</td>\n      <td>224</td>\n      <td>388</td>\n      <td>316</td>\n      <td>107</td>\n      <td>603</td>\n      <td>929</td>\n      <td>388</td>\n      <td>1261</td>\n      <td>...</td>\n      <td>2210</td>\n      <td>1793</td>\n      <td>1269</td>\n      <td>410</td>\n      <td>908</td>\n      <td>582</td>\n      <td>134</td>\n      <td>308</td>\n      <td>384</td>\n      <td>235</td>\n    </tr>\n    <tr>\n      <th>51299</th>\n      <td>Si-Si-Si</td>\n      <td>stishovite</td>\n      <td>672</td>\n      <td>0</td>\n      <td>0</td>\n      <td>0</td>\n      <td>0</td>\n      <td>0</td>\n      <td>128</td>\n      <td>0</td>\n      <td>...</td>\n      <td>244</td>\n      <td>140</td>\n      <td>0</td>\n      <td>128</td>\n      <td>0</td>\n      <td>0</td>\n      <td>0</td>\n      <td>0</td>\n      <td>0</td>\n      <td>2176</td>\n    </tr>\n  </tbody>\n</table>\n<p>51300 rows × 182 columns</p>\n</div>"
     },
     "execution_count": 71,
     "metadata": {},
     "output_type": "execute_result"
    }
   ],
   "source": [
    "df = pd.read_csv(f'{csv_path}/all.csv')\n",
    "space = [str(i) for i in np.linspace(0.5,179.5,180).tolist()]"
   ],
   "metadata": {
    "collapsed": false,
    "pycharm": {
     "name": "#%%\n"
    }
   }
  },
  {
   "cell_type": "code",
   "execution_count": 65,
   "outputs": [
    {
     "name": "stderr",
     "output_type": "stream",
     "text": [
      "<ipython-input-65-c54a032666a2>:17: FutureWarning: Dropping of nuisance columns in DataFrame reductions (with 'numeric_only=None') is deprecated; in a future version this will raise TypeError.  Select only valid columns before calling the reduction.\n",
      "  mean = df.mean()[180:]\n",
      "<ipython-input-65-c54a032666a2>:18: FutureWarning: Dropping of nuisance columns in DataFrame reductions (with 'numeric_only=None') is deprecated; in a future version this will raise TypeError.  Select only valid columns before calling the reduction.\n",
      "  std = df.std()[180:]\n"
     ]
    },
    {
     "data": {
      "text/plain": "<Figure size 432x288 with 1 Axes>",
      "image/png": "[encoded data removed]"
     },
     "metadata": {
      "needs_background": "light"
     },
     "output_type": "display_data"
    }
   ],
   "source": [
    "import pandas as pd\n",
    "import numpy as np\n",
    "import matplotlib.pyplot as plt\n",
    "from utils.constants.constants import Constants\n",
    "\n",
    "space = [str(i) for i in np.linspace(0.5,179.5,180).tolist()]\n",
    "csv_path = '/Users/y1u0d2/desktop/Lab/result/adf/ovito/csv_w'\n",
    "save_dir = '/Users/y1u0d2/desktop/Lab/result/adf/ovito/pic'\n",
    "structures_natoms = Constants.structures_natom()\n",
    "df = pd.read_csv(f'{csv_path}/all.csv')\n",
    "df.drop(['Unnamed: 0', 'Unnamed: 0.1'], axis=1, inplace=True)\n",
    "df.rename(columns={'Unnamed: 0.1.1':'bond'}, inplace=True)\n",
    "bond = 'O-Si-O'\n",
    "df = df[df.bond == bond]\n",
    "# angle = df.columns[2:]\n",
    "x = np.linspace(0,180,180)\n",
    "mean = df.mean()[180:]\n",
    "std = df.std()[180:]\n",
    "fig, ax = plt.subplots()\n",
    "ax.set_xticks([0, 30, 60, 90, 120, 150, 180])\n",
    "ax.set_title(f'{bond}: bond angle distribution')\n",
    "ax.set_xlabel('Angle(deg)')\n",
    "ax.set_ylabel('count')\n",
    "ax.plot(x, mean)\n",
    "ax.fill_between(x, mean + std, mean - std, alpha=0.2, color='red')\n",
    "fig.savefig(f'{save_dir}/{bond}.png')"
   ],
   "metadata": {
    "collapsed": false,
    "pycharm": {
     "name": "#%%\n"
    }
   }
  },
  {
   "cell_type": "code",
   "execution_count": 30,
   "outputs": [],
   "source": [
    "tmp = df.copy()"
   ],
   "metadata": {
    "collapsed": false,
    "pycharm": {
     "name": "#%%\n"
    }
   }
  },
  {
   "cell_type": "code",
   "execution_count": 32,
   "outputs": [],
   "source": [
    "tmp2 = df[(df.structure == 'coesite') & (df.bond == 'O-O-O')].iloc[:,2:] / int(natom_o)"
   ],
   "metadata": {
    "collapsed": false,
    "pycharm": {
     "name": "#%%\n"
    }
   }
  },
  {
   "cell_type": "code",
   "execution_count": 38,
   "outputs": [],
   "source": [
    "x = np.linspace(0.5,179.5,180).tolist()"
   ],
   "metadata": {
    "collapsed": false,
    "pycharm": {
     "name": "#%%\n"
    }
   }
  },
  {
   "cell_type": "code",
   "execution_count": 39,
   "outputs": [
    {
     "data": {
      "text/plain": "[0.5,\n 1.5,\n 2.5,\n 3.5,\n 4.5,\n 5.5,\n 6.5,\n 7.5,\n 8.5,\n 9.5,\n 10.5,\n 11.5,\n 12.5,\n 13.5,\n 14.5,\n 15.5,\n 16.5,\n 17.5,\n 18.5,\n 19.5,\n 20.5,\n 21.5,\n 22.5,\n 23.5,\n 24.5,\n 25.5,\n 26.5,\n 27.5,\n 28.5,\n 29.5,\n 30.5,\n 31.5,\n 32.5,\n 33.5,\n 34.5,\n 35.5,\n 36.5,\n 37.5,\n 38.5,\n 39.5,\n 40.5,\n 41.5,\n 42.5,\n 43.5,\n 44.5,\n 45.5,\n 46.5,\n 47.5,\n 48.5,\n 49.5,\n 50.5,\n 51.5,\n 52.5,\n 53.5,\n 54.5,\n 55.5,\n 56.5,\n 57.5,\n 58.5,\n 59.5,\n 60.5,\n 61.5,\n 62.5,\n 63.5,\n 64.5,\n 65.5,\n 66.5,\n 67.5,\n 68.5,\n 69.5,\n 70.5,\n 71.5,\n 72.5,\n 73.5,\n 74.5,\n 75.5,\n 76.5,\n 77.5,\n 78.5,\n 79.5,\n 80.5,\n 81.5,\n 82.5,\n 83.5,\n 84.5,\n 85.5,\n 86.5,\n 87.5,\n 88.5,\n 89.5,\n 90.5,\n 91.5,\n 92.5,\n 93.5,\n 94.5,\n 95.5,\n 96.5,\n 97.5,\n 98.5,\n 99.5,\n 100.5,\n 101.5,\n 102.5,\n 103.5,\n 104.5,\n 105.5,\n 106.5,\n 107.5,\n 108.5,\n 109.5,\n 110.5,\n 111.5,\n 112.5,\n 113.5,\n 114.5,\n 115.5,\n 116.5,\n 117.5,\n 118.5,\n 119.5,\n 120.5,\n 121.5,\n 122.5,\n 123.5,\n 124.5,\n 125.5,\n 126.5,\n 127.5,\n 128.5,\n 129.5,\n 130.5,\n 131.5,\n 132.5,\n 133.5,\n 134.5,\n 135.5,\n 136.5,\n 137.5,\n 138.5,\n 139.5,\n 140.5,\n 141.5,\n 142.5,\n 143.5,\n 144.5,\n 145.5,\n 146.5,\n 147.5,\n 148.5,\n 149.5,\n 150.5,\n 151.5,\n 152.5,\n 153.5,\n 154.5,\n 155.5,\n 156.5,\n 157.5,\n 158.5,\n 159.5,\n 160.5,\n 161.5,\n 162.5,\n 163.5,\n 164.5,\n 165.5,\n 166.5,\n 167.5,\n 168.5,\n 169.5,\n 170.5,\n 171.5,\n 172.5,\n 173.5,\n 174.5,\n 175.5,\n 176.5,\n 177.5,\n 178.5,\n 179.5]"
     },
     "execution_count": 39,
     "metadata": {},
     "output_type": "execute_result"
    }
   ],
   "source": [
    "x"
   ],
   "metadata": {
    "collapsed": false,
    "pycharm": {
     "name": "#%%\n"
    }
   }
  },
  {
   "cell_type": "code",
   "execution_count": null,
   "outputs": [],
   "source": [],
   "metadata": {
    "collapsed": false,
    "pycharm": {
     "name": "#%%\n"
    }
   }
  }
 ],
 "metadata": {
  "kernelspec": {
   "display_name": "Python 3",
   "language": "python",
   "name": "python3"
  },
  "language_info": {
   "codemirror_mode": {
    "name": "ipython",
    "version": 2
   },
   "file_extension": ".py",
   "mimetype": "text/x-python",
   "name": "python",
   "nbconvert_exporter": "python",
   "pygments_lexer": "ipython2",
   "version": "2.7.6"
  }
 },
 "nbformat": 4,
 "nbformat_minor": 0
}