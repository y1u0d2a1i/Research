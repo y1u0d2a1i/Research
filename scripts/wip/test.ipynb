{
 "cells": [
  {
   "cell_type": "code",
   "execution_count": 10,
   "metadata": {
    "collapsed": true
   },
   "outputs": [],
   "source": [
    "import pandas as pd\n",
    "import numpy as np\n",
    "import glob\n",
    "\n",
    "from utils.constants.dir_path import DataDirPath\n",
    "from utils.constants.constants import Constants"
   ]
  },
  {
   "cell_type": "code",
   "execution_count": 11,
   "outputs": [],
   "source": [
    "dir_path = '/Users/y1u0d2/Desktop/Lab/result/nnp-train/two-body/for_angular/nnp-train_10_10/again'"
   ],
   "metadata": {
    "collapsed": false,
    "pycharm": {
     "name": "#%%\n"
    }
   }
  },
  {
   "cell_type": "code",
   "execution_count": 12,
   "outputs": [],
   "source": [
    "base_info = DataDirPath.base_structure_info()"
   ],
   "metadata": {
    "collapsed": false,
    "pycharm": {
     "name": "#%%\n"
    }
   }
  },
  {
   "cell_type": "code",
   "execution_count": 13,
   "outputs": [],
   "source": [
    "PATH = Constants.path()\n",
    "base_df = pd.read_csv(f'{base_info}/base_info.csv')"
   ],
   "metadata": {
    "collapsed": false,
    "pycharm": {
     "name": "#%%\n"
    }
   }
  },
  {
   "cell_type": "code",
   "execution_count": 14,
   "outputs": [
    {
     "name": "stdout",
     "output_type": "stream",
     "text": [
      "alpha-critobalite 1 1150\n",
      "alpha-quartz 1151 2250\n",
      "beta-quartz 2251 3050\n",
      "beta-trydymite 3051 4300\n",
      "coesite 4301 5500\n",
      "Fdd2-beta-critobalite 5501 6850\n",
      "hex-trydymite 6851 7850\n",
      "stishovite 7851 8550\n"
     ]
    }
   ],
   "source": [
    "# 各構造ごとのstructure_idxを全構造のindexに変更する\n",
    "plus = 0\n",
    "for structure in PATH:\n",
    "    structure = structure.split('_')[-1]\n",
    "    base_df.loc[base_df.structure == structure, ['structure_idx']] += plus\n",
    "    idx = base_df[base_df.structure == structure].structure_idx.unique()\n",
    "    idx.sort()\n",
    "    plus = idx[-1]\n",
    "    print(structure,idx[0],idx[-1])"
   ],
   "metadata": {
    "collapsed": false,
    "pycharm": {
     "name": "#%%\n"
    }
   }
  },
  {
   "cell_type": "code",
   "execution_count": 15,
   "outputs": [
    {
     "data": {
      "text/plain": "              structure  structure_idx  natom            E         Vol\n0     alpha-critobalite              1     48 -1011.449548  839.055430\n1     alpha-critobalite              2     48 -1011.449396  839.055430\n2     alpha-critobalite              3     48 -1011.449194  839.055430\n3     alpha-critobalite              4     48 -1011.448339  839.055430\n4     alpha-critobalite              5     48 -1011.448402  839.055430\n...                 ...            ...    ...          ...         ...\n8545         stishovite           8546     48 -1010.442985  331.977432\n8546         stishovite           8547     48 -1010.386112  331.977432\n8547         stishovite           8548     48 -1010.322835  331.977432\n8548         stishovite           8549     48 -1010.398489  331.977432\n8549         stishovite           8550     48 -1010.172374  331.977432\n\n[8550 rows x 5 columns]",
      "text/html": "<div>\n<style scoped>\n    .dataframe tbody tr th:only-of-type {\n        vertical-align: middle;\n    }\n\n    .dataframe tbody tr th {\n        vertical-align: top;\n    }\n\n    .dataframe thead th {\n        text-align: right;\n    }\n</style>\n<table border=\"1\" class=\"dataframe\">\n  <thead>\n    <tr style=\"text-align: right;\">\n      <th></th>\n      <th>structure</th>\n      <th>structure_idx</th>\n      <th>natom</th>\n      <th>E</th>\n      <th>Vol</th>\n    </tr>\n  </thead>\n  <tbody>\n    <tr>\n      <th>0</th>\n      <td>alpha-critobalite</td>\n      <td>1</td>\n      <td>48</td>\n      <td>-1011.449548</td>\n      <td>839.055430</td>\n    </tr>\n    <tr>\n      <th>1</th>\n      <td>alpha-critobalite</td>\n      <td>2</td>\n      <td>48</td>\n      <td>-1011.449396</td>\n      <td>839.055430</td>\n    </tr>\n    <tr>\n      <th>2</th>\n      <td>alpha-critobalite</td>\n      <td>3</td>\n      <td>48</td>\n      <td>-1011.449194</td>\n      <td>839.055430</td>\n    </tr>\n    <tr>\n      <th>3</th>\n      <td>alpha-critobalite</td>\n      <td>4</td>\n      <td>48</td>\n      <td>-1011.448339</td>\n      <td>839.055430</td>\n    </tr>\n    <tr>\n      <th>4</th>\n      <td>alpha-critobalite</td>\n      <td>5</td>\n      <td>48</td>\n      <td>-1011.448402</td>\n      <td>839.055430</td>\n    </tr>\n    <tr>\n      <th>...</th>\n      <td>...</td>\n      <td>...</td>\n      <td>...</td>\n      <td>...</td>\n      <td>...</td>\n    </tr>\n    <tr>\n      <th>8545</th>\n      <td>stishovite</td>\n      <td>8546</td>\n      <td>48</td>\n      <td>-1010.442985</td>\n      <td>331.977432</td>\n    </tr>\n    <tr>\n      <th>8546</th>\n      <td>stishovite</td>\n      <td>8547</td>\n      <td>48</td>\n      <td>-1010.386112</td>\n      <td>331.977432</td>\n    </tr>\n    <tr>\n      <th>8547</th>\n      <td>stishovite</td>\n      <td>8548</td>\n      <td>48</td>\n      <td>-1010.322835</td>\n      <td>331.977432</td>\n    </tr>\n    <tr>\n      <th>8548</th>\n      <td>stishovite</td>\n      <td>8549</td>\n      <td>48</td>\n      <td>-1010.398489</td>\n      <td>331.977432</td>\n    </tr>\n    <tr>\n      <th>8549</th>\n      <td>stishovite</td>\n      <td>8550</td>\n      <td>48</td>\n      <td>-1010.172374</td>\n      <td>331.977432</td>\n    </tr>\n  </tbody>\n</table>\n<p>8550 rows × 5 columns</p>\n</div>"
     },
     "execution_count": 15,
     "metadata": {},
     "output_type": "execute_result"
    }
   ],
   "source": [
    "base_df\n"
   ],
   "metadata": {
    "collapsed": false,
    "pycharm": {
     "name": "#%%\n"
    }
   }
  },
  {
   "cell_type": "code",
   "execution_count": 17,
   "outputs": [],
   "source": [
    "df_test = pd.read_csv(f'{dir_path}/analyze/tmp_test.csv')\n",
    "df_train = pd.read_csv(f'{dir_path}/analyze/tmp_train.csv')\n",
    "\n",
    "df_test_new = pd.merge(df_test,base_df,left_on='index',right_on='structure_idx')\n",
    "df_train_new = pd.merge(df_train,base_df,left_on='index',right_on='structure_idx')"
   ],
   "metadata": {
    "collapsed": false,
    "pycharm": {
     "name": "#%%\n"
    }
   }
  },
  {
   "cell_type": "code",
   "execution_count": 26,
   "outputs": [
    {
     "name": "stdout",
     "output_type": "stream",
     "text": [
      "alpha-critobalite\n",
      "TEST : 98, TRAIN : 1052, RATIO : 0.08521739130434783\n",
      "alpha-quartz\n",
      "TEST : 114, TRAIN : 986, RATIO : 0.10363636363636364\n",
      "beta-quartz\n",
      "TEST : 85, TRAIN : 715, RATIO : 0.10625\n",
      "beta-trydymite\n",
      "TEST : 118, TRAIN : 1132, RATIO : 0.0944\n",
      "coesite\n",
      "TEST : 107, TRAIN : 1093, RATIO : 0.08916666666666667\n",
      "Fdd2-beta-critobalite\n",
      "TEST : 131, TRAIN : 1219, RATIO : 0.09703703703703703\n",
      "hex-trydymite\n",
      "TEST : 117, TRAIN : 883, RATIO : 0.117\n",
      "stishovite\n",
      "TEST : 59, TRAIN : 640, RATIO : 0.0844062947067239\n"
     ]
    }
   ],
   "source": [
    "structures = df_train_new.structure.unique()\n",
    "for structure in structures:\n",
    "    count_test = len(df_test_new[df_test_new['structure'] == structure])\n",
    "    count_train = len(df_train_new[df_train_new['structure'] == structure])\n",
    "    ratio = int(count_test) / (int(count_train)+int(count_test))\n",
    "    print(structure)\n",
    "    print(f'TEST : {count_test}, TRAIN : {count_train}, RATIO : {ratio}')"
   ],
   "metadata": {
    "collapsed": false,
    "pycharm": {
     "name": "#%%\n"
    }
   }
  },
  {
   "cell_type": "code",
   "execution_count": 30,
   "outputs": [
    {
     "name": "stdout",
     "output_type": "stream",
     "text": [
      "0 /Users/y1u0d2/Desktop/Lab/result/nnp-train/two-body/for_angular/nnp-train_10_10/testpoints.000000.out\n",
      "1 /Users/y1u0d2/Desktop/Lab/result/nnp-train/two-body/for_angular/nnp-train_10_10/testpoints.000001.out\n",
      "2 /Users/y1u0d2/Desktop/Lab/result/nnp-train/two-body/for_angular/nnp-train_10_10/testpoints.000002.out\n",
      "3 /Users/y1u0d2/Desktop/Lab/result/nnp-train/two-body/for_angular/nnp-train_10_10/testpoints.000003.out\n",
      "4 /Users/y1u0d2/Desktop/Lab/result/nnp-train/two-body/for_angular/nnp-train_10_10/testpoints.000004.out\n",
      "5 /Users/y1u0d2/Desktop/Lab/result/nnp-train/two-body/for_angular/nnp-train_10_10/testpoints.000005.out\n",
      "6 /Users/y1u0d2/Desktop/Lab/result/nnp-train/two-body/for_angular/nnp-train_10_10/testpoints.000006.out\n",
      "7 /Users/y1u0d2/Desktop/Lab/result/nnp-train/two-body/for_angular/nnp-train_10_10/testpoints.000007.out\n",
      "8 /Users/y1u0d2/Desktop/Lab/result/nnp-train/two-body/for_angular/nnp-train_10_10/testpoints.000008.out\n",
      "9 /Users/y1u0d2/Desktop/Lab/result/nnp-train/two-body/for_angular/nnp-train_10_10/testpoints.000009.out\n",
      "10 /Users/y1u0d2/Desktop/Lab/result/nnp-train/two-body/for_angular/nnp-train_10_10/testpoints.000010.out\n",
      "11 /Users/y1u0d2/Desktop/Lab/result/nnp-train/two-body/for_angular/nnp-train_10_10/testpoints.000011.out\n",
      "12 /Users/y1u0d2/Desktop/Lab/result/nnp-train/two-body/for_angular/nnp-train_10_10/testpoints.000012.out\n",
      "13 /Users/y1u0d2/Desktop/Lab/result/nnp-train/two-body/for_angular/nnp-train_10_10/testpoints.000013.out\n",
      "14 /Users/y1u0d2/Desktop/Lab/result/nnp-train/two-body/for_angular/nnp-train_10_10/testpoints.000014.out\n",
      "15 /Users/y1u0d2/Desktop/Lab/result/nnp-train/two-body/for_angular/nnp-train_10_10/testpoints.000015.out\n"
     ]
    }
   ],
   "source": [
    "files = glob.glob('/Users/y1u0d2/Desktop/Lab/result/nnp-train/two-body/for_angular/nnp-train_10_10/testpoints*')\n",
    "files.sort()\n",
    "for i, file in enumerate(files):\n",
    "    print(i,file)\n"
   ],
   "metadata": {
    "collapsed": false,
    "pycharm": {
     "name": "#%%\n"
    }
   }
  },
  {
   "cell_type": "code",
   "execution_count": null,
   "outputs": [],
   "source": [],
   "metadata": {
    "collapsed": false,
    "pycharm": {
     "name": "#%%\n"
    }
   }
  }
 ],
 "metadata": {
  "kernelspec": {
   "display_name": "Python 3",
   "language": "python",
   "name": "python3"
  },
  "language_info": {
   "codemirror_mode": {
    "name": "ipython",
    "version": 2
   },
   "file_extension": ".py",
   "mimetype": "text/x-python",
   "name": "python",
   "nbconvert_exporter": "python",
   "pygments_lexer": "ipython2",
   "version": "2.7.6"
  }
 },
 "nbformat": 4,
 "nbformat_minor": 0
}