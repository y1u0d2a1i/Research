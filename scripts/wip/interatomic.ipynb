{
 "cells": [
  {
   "cell_type": "code",
   "execution_count": 15,
   "metadata": {
    "collapsed": true
   },
   "outputs": [],
   "source": [
    "import pandas as pd\n",
    "import numpy as np\n",
    "import matplotlib.pyplot as plt\n",
    "csv_dir = '/Users/y1u0d2/desktop/Lab/result/nnp-train/20211126/scp/nnp-train_15_10/analyze'"
   ]
  },
  {
   "cell_type": "code",
   "execution_count": 6,
   "outputs": [
    {
     "data": {
      "text/plain": "      index      Eref      Ennp\n0       283  2.420161  2.433069\n1       451 -1.276666 -1.280846\n2       496  1.241237  1.233928\n3       584  0.593467  0.569075\n4       616 -0.409859 -0.418535\n...     ...       ...       ...\n1754   8396  0.290573  0.304867\n1755   8416 -0.952614 -0.947285\n1756   8421 -0.881506 -0.874075\n1757   8484 -0.396886 -0.391290\n1758   8517 -0.693775 -0.701140\n\n[1759 rows x 3 columns]",
      "text/html": "<div>\n<style scoped>\n    .dataframe tbody tr th:only-of-type {\n        vertical-align: middle;\n    }\n\n    .dataframe tbody tr th {\n        vertical-align: top;\n    }\n\n    .dataframe thead th {\n        text-align: right;\n    }\n</style>\n<table border=\"1\" class=\"dataframe\">\n  <thead>\n    <tr style=\"text-align: right;\">\n      <th></th>\n      <th>index</th>\n      <th>Eref</th>\n      <th>Ennp</th>\n    </tr>\n  </thead>\n  <tbody>\n    <tr>\n      <th>0</th>\n      <td>283</td>\n      <td>2.420161</td>\n      <td>2.433069</td>\n    </tr>\n    <tr>\n      <th>1</th>\n      <td>451</td>\n      <td>-1.276666</td>\n      <td>-1.280846</td>\n    </tr>\n    <tr>\n      <th>2</th>\n      <td>496</td>\n      <td>1.241237</td>\n      <td>1.233928</td>\n    </tr>\n    <tr>\n      <th>3</th>\n      <td>584</td>\n      <td>0.593467</td>\n      <td>0.569075</td>\n    </tr>\n    <tr>\n      <th>4</th>\n      <td>616</td>\n      <td>-0.409859</td>\n      <td>-0.418535</td>\n    </tr>\n    <tr>\n      <th>...</th>\n      <td>...</td>\n      <td>...</td>\n      <td>...</td>\n    </tr>\n    <tr>\n      <th>1754</th>\n      <td>8396</td>\n      <td>0.290573</td>\n      <td>0.304867</td>\n    </tr>\n    <tr>\n      <th>1755</th>\n      <td>8416</td>\n      <td>-0.952614</td>\n      <td>-0.947285</td>\n    </tr>\n    <tr>\n      <th>1756</th>\n      <td>8421</td>\n      <td>-0.881506</td>\n      <td>-0.874075</td>\n    </tr>\n    <tr>\n      <th>1757</th>\n      <td>8484</td>\n      <td>-0.396886</td>\n      <td>-0.391290</td>\n    </tr>\n    <tr>\n      <th>1758</th>\n      <td>8517</td>\n      <td>-0.693775</td>\n      <td>-0.701140</td>\n    </tr>\n  </tbody>\n</table>\n<p>1759 rows × 3 columns</p>\n</div>"
     },
     "execution_count": 6,
     "metadata": {},
     "output_type": "execute_result"
    }
   ],
   "source": [
    "df = pd.read_csv(f'{csv_dir}/testpoints.000018.out.csv')\n",
    "# df.iat[0,0]"
   ],
   "metadata": {
    "collapsed": false,
    "pycharm": {
     "name": "#%%\n"
    }
   }
  },
  {
   "cell_type": "code",
   "execution_count": 11,
   "outputs": [],
   "source": [
    " energy_df = pd.DataFrame(columns=['distance', 'energy', 'center', 'another'])"
   ],
   "metadata": {
    "collapsed": false,
    "pycharm": {
     "name": "#%%\n"
    }
   }
  },
  {
   "cell_type": "code",
   "execution_count": 12,
   "outputs": [],
   "source": [
    "energy_df.loc['0'] = [1,1,1,1]"
   ],
   "metadata": {
    "collapsed": false,
    "pycharm": {
     "name": "#%%\n"
    }
   }
  },
  {
   "cell_type": "code",
   "execution_count": 13,
   "outputs": [
    {
     "data": {
      "text/plain": "  distance energy center another\n0        1      1      1       1",
      "text/html": "<div>\n<style scoped>\n    .dataframe tbody tr th:only-of-type {\n        vertical-align: middle;\n    }\n\n    .dataframe tbody tr th {\n        vertical-align: top;\n    }\n\n    .dataframe thead th {\n        text-align: right;\n    }\n</style>\n<table border=\"1\" class=\"dataframe\">\n  <thead>\n    <tr style=\"text-align: right;\">\n      <th></th>\n      <th>distance</th>\n      <th>energy</th>\n      <th>center</th>\n      <th>another</th>\n    </tr>\n  </thead>\n  <tbody>\n    <tr>\n      <th>0</th>\n      <td>1</td>\n      <td>1</td>\n      <td>1</td>\n      <td>1</td>\n    </tr>\n  </tbody>\n</table>\n</div>"
     },
     "execution_count": 13,
     "metadata": {},
     "output_type": "execute_result"
    }
   ],
   "source": [
    "energy_df"
   ],
   "metadata": {
    "collapsed": false,
    "pycharm": {
     "name": "#%%\n"
    }
   }
  },
  {
   "cell_type": "code",
   "execution_count": 14,
   "outputs": [
    {
     "data": {
      "text/plain": "array([ 1.        ,  1.18367347,  1.36734694,  1.55102041,  1.73469388,\n        1.91836735,  2.10204082,  2.28571429,  2.46938776,  2.65306122,\n        2.83673469,  3.02040816,  3.20408163,  3.3877551 ,  3.57142857,\n        3.75510204,  3.93877551,  4.12244898,  4.30612245,  4.48979592,\n        4.67346939,  4.85714286,  5.04081633,  5.2244898 ,  5.40816327,\n        5.59183673,  5.7755102 ,  5.95918367,  6.14285714,  6.32653061,\n        6.51020408,  6.69387755,  6.87755102,  7.06122449,  7.24489796,\n        7.42857143,  7.6122449 ,  7.79591837,  7.97959184,  8.16326531,\n        8.34693878,  8.53061224,  8.71428571,  8.89795918,  9.08163265,\n        9.26530612,  9.44897959,  9.63265306,  9.81632653, 10.        ])"
     },
     "execution_count": 14,
     "metadata": {},
     "output_type": "execute_result"
    }
   ],
   "source": [
    "a = np.linspace(1,10,50)\n",
    "a"
   ],
   "metadata": {
    "collapsed": false,
    "pycharm": {
     "name": "#%%\n"
    }
   }
  },
  {
   "cell_type": "code",
   "execution_count": 39,
   "outputs": [
    {
     "data": {
      "text/plain": "    distance      energy center another\n0      0.500 -1118.41851      O      Si\n1      0.796 -1119.89799      O      Si\n2      1.092 -1128.52242      O      Si\n3      1.388 -1135.70497      O      Si\n4      1.684 -1136.86167      O      Si\n5      1.980 -1134.55185      O      Si\n6      2.276 -1132.54085      O      Si\n7      2.571 -1130.77631      O      Si\n8      2.867 -1129.22973      O      Si\n9      3.163 -1128.12187      O      Si\n10     3.459 -1127.55027      O      Si\n11     3.755 -1127.32200      O      Si\n12     4.051 -1127.26302      O      Si\n13     4.347 -1127.30527      O      Si\n14     4.643 -1127.40852      O      Si\n15     4.939 -1127.53430      O      Si\n16     5.235 -1127.64964      O      Si\n17     5.531 -1127.72651      O      Si\n18     5.827 -1127.74481      O      Si\n19     6.122 -1127.69774      O      Si\n20     6.418 -1127.58951      O      Si\n21     6.714 -1127.43011      O      Si\n22     7.010 -1127.22924      O      Si\n23     7.306 -1126.99302      O      Si\n24     7.602 -1126.72229      O      Si\n25     7.898 -1126.41237      O      Si\n26     8.194 -1126.05457      O      Si\n27     8.490 -1125.63993      O      Si\n28     8.786 -1125.16422      O      Si\n29     9.082 -1124.63156      O      Si\n30     9.378 -1124.05411      O      Si\n31     9.673 -1123.45045      O      Si\n32     9.969 -1122.83325      O      Si\n33    10.265 -1122.21967      O      Si\n34    10.561 -1121.62334      O      Si\n35    10.857 -1121.05690      O      Si\n36    11.153 -1120.53211      O      Si\n37    11.449 -1120.05923      O      Si\n38    11.745 -1119.64608      O      Si\n39    12.041 -1119.29720      O      Si\n40    12.337 -1119.01351      O      Si\n41    12.633 -1118.79242      O      Si\n42    12.929 -1118.62829      O      Si\n43    13.224 -1118.51357      O      Si\n44    13.520 -1118.43827      O      Si\n45    13.816 -1118.39329      O      Si\n46    14.112 -1118.36956      O      Si\n47    14.408 -1118.35922      O      Si\n48    14.704 -1118.35605      O      Si\n49    15.000 -1118.35568      O      Si",
      "text/html": "<div>\n<style scoped>\n    .dataframe tbody tr th:only-of-type {\n        vertical-align: middle;\n    }\n\n    .dataframe tbody tr th {\n        vertical-align: top;\n    }\n\n    .dataframe thead th {\n        text-align: right;\n    }\n</style>\n<table border=\"1\" class=\"dataframe\">\n  <thead>\n    <tr style=\"text-align: right;\">\n      <th></th>\n      <th>distance</th>\n      <th>energy</th>\n      <th>center</th>\n      <th>another</th>\n    </tr>\n  </thead>\n  <tbody>\n    <tr>\n      <th>0</th>\n      <td>0.500</td>\n      <td>-1118.41851</td>\n      <td>O</td>\n      <td>Si</td>\n    </tr>\n    <tr>\n      <th>1</th>\n      <td>0.796</td>\n      <td>-1119.89799</td>\n      <td>O</td>\n      <td>Si</td>\n    </tr>\n    <tr>\n      <th>2</th>\n      <td>1.092</td>\n      <td>-1128.52242</td>\n      <td>O</td>\n      <td>Si</td>\n    </tr>\n    <tr>\n      <th>3</th>\n      <td>1.388</td>\n      <td>-1135.70497</td>\n      <td>O</td>\n      <td>Si</td>\n    </tr>\n    <tr>\n      <th>4</th>\n      <td>1.684</td>\n      <td>-1136.86167</td>\n      <td>O</td>\n      <td>Si</td>\n    </tr>\n    <tr>\n      <th>5</th>\n      <td>1.980</td>\n      <td>-1134.55185</td>\n      <td>O</td>\n      <td>Si</td>\n    </tr>\n    <tr>\n      <th>6</th>\n      <td>2.276</td>\n      <td>-1132.54085</td>\n      <td>O</td>\n      <td>Si</td>\n    </tr>\n    <tr>\n      <th>7</th>\n      <td>2.571</td>\n      <td>-1130.77631</td>\n      <td>O</td>\n      <td>Si</td>\n    </tr>\n    <tr>\n      <th>8</th>\n      <td>2.867</td>\n      <td>-1129.22973</td>\n      <td>O</td>\n      <td>Si</td>\n    </tr>\n    <tr>\n      <th>9</th>\n      <td>3.163</td>\n      <td>-1128.12187</td>\n      <td>O</td>\n      <td>Si</td>\n    </tr>\n    <tr>\n      <th>10</th>\n      <td>3.459</td>\n      <td>-1127.55027</td>\n      <td>O</td>\n      <td>Si</td>\n    </tr>\n    <tr>\n      <th>11</th>\n      <td>3.755</td>\n      <td>-1127.32200</td>\n      <td>O</td>\n      <td>Si</td>\n    </tr>\n    <tr>\n      <th>12</th>\n      <td>4.051</td>\n      <td>-1127.26302</td>\n      <td>O</td>\n      <td>Si</td>\n    </tr>\n    <tr>\n      <th>13</th>\n      <td>4.347</td>\n      <td>-1127.30527</td>\n      <td>O</td>\n      <td>Si</td>\n    </tr>\n    <tr>\n      <th>14</th>\n      <td>4.643</td>\n      <td>-1127.40852</td>\n      <td>O</td>\n      <td>Si</td>\n    </tr>\n    <tr>\n      <th>15</th>\n      <td>4.939</td>\n      <td>-1127.53430</td>\n      <td>O</td>\n      <td>Si</td>\n    </tr>\n    <tr>\n      <th>16</th>\n      <td>5.235</td>\n      <td>-1127.64964</td>\n      <td>O</td>\n      <td>Si</td>\n    </tr>\n    <tr>\n      <th>17</th>\n      <td>5.531</td>\n      <td>-1127.72651</td>\n      <td>O</td>\n      <td>Si</td>\n    </tr>\n    <tr>\n      <th>18</th>\n      <td>5.827</td>\n      <td>-1127.74481</td>\n      <td>O</td>\n      <td>Si</td>\n    </tr>\n    <tr>\n      <th>19</th>\n      <td>6.122</td>\n      <td>-1127.69774</td>\n      <td>O</td>\n      <td>Si</td>\n    </tr>\n    <tr>\n      <th>20</th>\n      <td>6.418</td>\n      <td>-1127.58951</td>\n      <td>O</td>\n      <td>Si</td>\n    </tr>\n    <tr>\n      <th>21</th>\n      <td>6.714</td>\n      <td>-1127.43011</td>\n      <td>O</td>\n      <td>Si</td>\n    </tr>\n    <tr>\n      <th>22</th>\n      <td>7.010</td>\n      <td>-1127.22924</td>\n      <td>O</td>\n      <td>Si</td>\n    </tr>\n    <tr>\n      <th>23</th>\n      <td>7.306</td>\n      <td>-1126.99302</td>\n      <td>O</td>\n      <td>Si</td>\n    </tr>\n    <tr>\n      <th>24</th>\n      <td>7.602</td>\n      <td>-1126.72229</td>\n      <td>O</td>\n      <td>Si</td>\n    </tr>\n    <tr>\n      <th>25</th>\n      <td>7.898</td>\n      <td>-1126.41237</td>\n      <td>O</td>\n      <td>Si</td>\n    </tr>\n    <tr>\n      <th>26</th>\n      <td>8.194</td>\n      <td>-1126.05457</td>\n      <td>O</td>\n      <td>Si</td>\n    </tr>\n    <tr>\n      <th>27</th>\n      <td>8.490</td>\n      <td>-1125.63993</td>\n      <td>O</td>\n      <td>Si</td>\n    </tr>\n    <tr>\n      <th>28</th>\n      <td>8.786</td>\n      <td>-1125.16422</td>\n      <td>O</td>\n      <td>Si</td>\n    </tr>\n    <tr>\n      <th>29</th>\n      <td>9.082</td>\n      <td>-1124.63156</td>\n      <td>O</td>\n      <td>Si</td>\n    </tr>\n    <tr>\n      <th>30</th>\n      <td>9.378</td>\n      <td>-1124.05411</td>\n      <td>O</td>\n      <td>Si</td>\n    </tr>\n    <tr>\n      <th>31</th>\n      <td>9.673</td>\n      <td>-1123.45045</td>\n      <td>O</td>\n      <td>Si</td>\n    </tr>\n    <tr>\n      <th>32</th>\n      <td>9.969</td>\n      <td>-1122.83325</td>\n      <td>O</td>\n      <td>Si</td>\n    </tr>\n    <tr>\n      <th>33</th>\n      <td>10.265</td>\n      <td>-1122.21967</td>\n      <td>O</td>\n      <td>Si</td>\n    </tr>\n    <tr>\n      <th>34</th>\n      <td>10.561</td>\n      <td>-1121.62334</td>\n      <td>O</td>\n      <td>Si</td>\n    </tr>\n    <tr>\n      <th>35</th>\n      <td>10.857</td>\n      <td>-1121.05690</td>\n      <td>O</td>\n      <td>Si</td>\n    </tr>\n    <tr>\n      <th>36</th>\n      <td>11.153</td>\n      <td>-1120.53211</td>\n      <td>O</td>\n      <td>Si</td>\n    </tr>\n    <tr>\n      <th>37</th>\n      <td>11.449</td>\n      <td>-1120.05923</td>\n      <td>O</td>\n      <td>Si</td>\n    </tr>\n    <tr>\n      <th>38</th>\n      <td>11.745</td>\n      <td>-1119.64608</td>\n      <td>O</td>\n      <td>Si</td>\n    </tr>\n    <tr>\n      <th>39</th>\n      <td>12.041</td>\n      <td>-1119.29720</td>\n      <td>O</td>\n      <td>Si</td>\n    </tr>\n    <tr>\n      <th>40</th>\n      <td>12.337</td>\n      <td>-1119.01351</td>\n      <td>O</td>\n      <td>Si</td>\n    </tr>\n    <tr>\n      <th>41</th>\n      <td>12.633</td>\n      <td>-1118.79242</td>\n      <td>O</td>\n      <td>Si</td>\n    </tr>\n    <tr>\n      <th>42</th>\n      <td>12.929</td>\n      <td>-1118.62829</td>\n      <td>O</td>\n      <td>Si</td>\n    </tr>\n    <tr>\n      <th>43</th>\n      <td>13.224</td>\n      <td>-1118.51357</td>\n      <td>O</td>\n      <td>Si</td>\n    </tr>\n    <tr>\n      <th>44</th>\n      <td>13.520</td>\n      <td>-1118.43827</td>\n      <td>O</td>\n      <td>Si</td>\n    </tr>\n    <tr>\n      <th>45</th>\n      <td>13.816</td>\n      <td>-1118.39329</td>\n      <td>O</td>\n      <td>Si</td>\n    </tr>\n    <tr>\n      <th>46</th>\n      <td>14.112</td>\n      <td>-1118.36956</td>\n      <td>O</td>\n      <td>Si</td>\n    </tr>\n    <tr>\n      <th>47</th>\n      <td>14.408</td>\n      <td>-1118.35922</td>\n      <td>O</td>\n      <td>Si</td>\n    </tr>\n    <tr>\n      <th>48</th>\n      <td>14.704</td>\n      <td>-1118.35605</td>\n      <td>O</td>\n      <td>Si</td>\n    </tr>\n    <tr>\n      <th>49</th>\n      <td>15.000</td>\n      <td>-1118.35568</td>\n      <td>O</td>\n      <td>Si</td>\n    </tr>\n  </tbody>\n</table>\n</div>"
     },
     "execution_count": 39,
     "metadata": {},
     "output_type": "execute_result"
    }
   ],
   "source": [
    "# twobody\n",
    "import glob\n",
    "root_dir = '/Users/y1u0d2/desktop/Lab/result/two-body-interatomic/01'\n",
    "# df = pd.read_csv(f'{root_dir}/O-O/two-body_O_O.csv')\n",
    "df = pd.read_csv(f'{root_dir}/O-Si/two-body_O_Si.csv')\n",
    "df"
   ],
   "metadata": {
    "collapsed": false,
    "pycharm": {
     "name": "#%%\n"
    }
   }
  },
  {
   "cell_type": "code",
   "execution_count": 40,
   "outputs": [
    {
     "data": {
      "text/plain": "[<matplotlib.lines.Line2D at 0x1183e7310>]"
     },
     "execution_count": 40,
     "metadata": {},
     "output_type": "execute_result"
    },
    {
     "data": {
      "text/plain": "<Figure size 432x288 with 1 Axes>",
      "image/png": "[encoded data removed]"
     },
     "metadata": {
      "needs_background": "light"
     },
     "output_type": "display_data"
    }
   ],
   "source": [
    "plt.plot(df.distance, df.energy)"
   ],
   "metadata": {
    "collapsed": false,
    "pycharm": {
     "name": "#%%\n"
    }
   }
  },
  {
   "cell_type": "code",
   "execution_count": null,
   "outputs": [],
   "source": [],
   "metadata": {
    "collapsed": false,
    "pycharm": {
     "name": "#%%\n"
    }
   }
  }
 ],
 "metadata": {
  "kernelspec": {
   "display_name": "Python 3",
   "language": "python",
   "name": "python3"
  },
  "language_info": {
   "codemirror_mode": {
    "name": "ipython",
    "version": 2
   },
   "file_extension": ".py",
   "mimetype": "text/x-python",
   "name": "python",
   "nbconvert_exporter": "python",
   "pygments_lexer": "ipython2",
   "version": "2.7.6"
  }
 },
 "nbformat": 4,
 "nbformat_minor": 0
}