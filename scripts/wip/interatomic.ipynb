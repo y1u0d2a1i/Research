{
 "cells": [
  {
   "cell_type": "code",
   "execution_count": 1,
   "metadata": {
    "collapsed": true
   },
   "outputs": [],
   "source": [
    "import pandas as pd\n",
    "import numpy as np\n",
    "csv_dir = '/Users/y1u0d2/desktop/Lab/result/nnp-train/20211126/scp/nnp-train_15_10/analyze'"
   ]
  },
  {
   "cell_type": "code",
   "execution_count": 6,
   "outputs": [
    {
     "data": {
      "text/plain": "      index      Eref      Ennp\n0       283  2.420161  2.433069\n1       451 -1.276666 -1.280846\n2       496  1.241237  1.233928\n3       584  0.593467  0.569075\n4       616 -0.409859 -0.418535\n...     ...       ...       ...\n1754   8396  0.290573  0.304867\n1755   8416 -0.952614 -0.947285\n1756   8421 -0.881506 -0.874075\n1757   8484 -0.396886 -0.391290\n1758   8517 -0.693775 -0.701140\n\n[1759 rows x 3 columns]",
      "text/html": "<div>\n<style scoped>\n    .dataframe tbody tr th:only-of-type {\n        vertical-align: middle;\n    }\n\n    .dataframe tbody tr th {\n        vertical-align: top;\n    }\n\n    .dataframe thead th {\n        text-align: right;\n    }\n</style>\n<table border=\"1\" class=\"dataframe\">\n  <thead>\n    <tr style=\"text-align: right;\">\n      <th></th>\n      <th>index</th>\n      <th>Eref</th>\n      <th>Ennp</th>\n    </tr>\n  </thead>\n  <tbody>\n    <tr>\n      <th>0</th>\n      <td>283</td>\n      <td>2.420161</td>\n      <td>2.433069</td>\n    </tr>\n    <tr>\n      <th>1</th>\n      <td>451</td>\n      <td>-1.276666</td>\n      <td>-1.280846</td>\n    </tr>\n    <tr>\n      <th>2</th>\n      <td>496</td>\n      <td>1.241237</td>\n      <td>1.233928</td>\n    </tr>\n    <tr>\n      <th>3</th>\n      <td>584</td>\n      <td>0.593467</td>\n      <td>0.569075</td>\n    </tr>\n    <tr>\n      <th>4</th>\n      <td>616</td>\n      <td>-0.409859</td>\n      <td>-0.418535</td>\n    </tr>\n    <tr>\n      <th>...</th>\n      <td>...</td>\n      <td>...</td>\n      <td>...</td>\n    </tr>\n    <tr>\n      <th>1754</th>\n      <td>8396</td>\n      <td>0.290573</td>\n      <td>0.304867</td>\n    </tr>\n    <tr>\n      <th>1755</th>\n      <td>8416</td>\n      <td>-0.952614</td>\n      <td>-0.947285</td>\n    </tr>\n    <tr>\n      <th>1756</th>\n      <td>8421</td>\n      <td>-0.881506</td>\n      <td>-0.874075</td>\n    </tr>\n    <tr>\n      <th>1757</th>\n      <td>8484</td>\n      <td>-0.396886</td>\n      <td>-0.391290</td>\n    </tr>\n    <tr>\n      <th>1758</th>\n      <td>8517</td>\n      <td>-0.693775</td>\n      <td>-0.701140</td>\n    </tr>\n  </tbody>\n</table>\n<p>1759 rows × 3 columns</p>\n</div>"
     },
     "execution_count": 6,
     "metadata": {},
     "output_type": "execute_result"
    }
   ],
   "source": [
    "df = pd.read_csv(f'{csv_dir}/testpoints.000018.out.csv')\n",
    "# df.iat[0,0]"
   ],
   "metadata": {
    "collapsed": false,
    "pycharm": {
     "name": "#%%\n"
    }
   }
  },
  {
   "cell_type": "code",
   "execution_count": 11,
   "outputs": [],
   "source": [
    " energy_df = pd.DataFrame(columns=['distance', 'energy', 'center', 'another'])"
   ],
   "metadata": {
    "collapsed": false,
    "pycharm": {
     "name": "#%%\n"
    }
   }
  },
  {
   "cell_type": "code",
   "execution_count": 12,
   "outputs": [],
   "source": [
    "energy_df.loc['0'] = [1,1,1,1]"
   ],
   "metadata": {
    "collapsed": false,
    "pycharm": {
     "name": "#%%\n"
    }
   }
  },
  {
   "cell_type": "code",
   "execution_count": 13,
   "outputs": [
    {
     "data": {
      "text/plain": "  distance energy center another\n0        1      1      1       1",
      "text/html": "<div>\n<style scoped>\n    .dataframe tbody tr th:only-of-type {\n        vertical-align: middle;\n    }\n\n    .dataframe tbody tr th {\n        vertical-align: top;\n    }\n\n    .dataframe thead th {\n        text-align: right;\n    }\n</style>\n<table border=\"1\" class=\"dataframe\">\n  <thead>\n    <tr style=\"text-align: right;\">\n      <th></th>\n      <th>distance</th>\n      <th>energy</th>\n      <th>center</th>\n      <th>another</th>\n    </tr>\n  </thead>\n  <tbody>\n    <tr>\n      <th>0</th>\n      <td>1</td>\n      <td>1</td>\n      <td>1</td>\n      <td>1</td>\n    </tr>\n  </tbody>\n</table>\n</div>"
     },
     "execution_count": 13,
     "metadata": {},
     "output_type": "execute_result"
    }
   ],
   "source": [
    "energy_df"
   ],
   "metadata": {
    "collapsed": false,
    "pycharm": {
     "name": "#%%\n"
    }
   }
  },
  {
   "cell_type": "code",
   "execution_count": null,
   "outputs": [],
   "source": [],
   "metadata": {
    "collapsed": false,
    "pycharm": {
     "name": "#%%\n"
    }
   }
  }
 ],
 "metadata": {
  "kernelspec": {
   "display_name": "Python 3",
   "language": "python",
   "name": "python3"
  },
  "language_info": {
   "codemirror_mode": {
    "name": "ipython",
    "version": 2
   },
   "file_extension": ".py",
   "mimetype": "text/x-python",
   "name": "python",
   "nbconvert_exporter": "python",
   "pygments_lexer": "ipython2",
   "version": "2.7.6"
  }
 },
 "nbformat": 4,
 "nbformat_minor": 0
}