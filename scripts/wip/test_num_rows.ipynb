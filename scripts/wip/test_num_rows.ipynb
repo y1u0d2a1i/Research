{
 "cells": [
  {
   "cell_type": "code",
   "execution_count": 5,
   "metadata": {
    "collapsed": true
   },
   "outputs": [],
   "source": [
    "import pandas as pd\n",
    "sf_csv_path= '/Users/y1u0d2/Desktop/Lab/result/sf/sf_csv/atom/target/merge_Si-O.csv'\n",
    "csv_path= '/Users/y1u0d2/Desktop/Lab/result/sf/sf_csv/atom/sf_Si-O.csv'\n",
    "si_csv_path= '/Users/y1u0d2/Desktop/Lab/result/sf/sf_csv/atom/sf_Si-Si.csv'\n",
    "rdf_path = '/Users/y1u0d2/Desktop/Lab/result/rdf/rdf_atom_all_converge_one/all_Si-Si.csv'"
   ]
  },
  {
   "cell_type": "code",
   "execution_count": 12,
   "outputs": [],
   "source": [
    "df_si_o = pd.read_csv(csv_path)\n",
    "df_si_si = pd.read_csv(si_csv_path)\n",
    "# df_sf = pd.read_csv(sf_csv_path)\n",
    "# df_rdf = pd.read_csv(rdf_path)\n",
    "df_si_si_drop = df_si_si.drop(['another_atom','center_atom','structure_idx','structure'],axis=1)"
   ],
   "metadata": {
    "collapsed": false,
    "pycharm": {
     "name": "#%%\n"
    }
   }
  },
  {
   "cell_type": "code",
   "execution_count": 14,
   "outputs": [],
   "source": [
    "merge_csv = pd.concat([df_si_o,df_si_si_drop],axis=1)"
   ],
   "metadata": {
    "collapsed": false,
    "pycharm": {
     "name": "#%%\n"
    }
   }
  },
  {
   "cell_type": "code",
   "execution_count": 15,
   "outputs": [
    {
     "data": {
      "text/plain": "       another_atom center_atom  structure_idx    structure  \\\n0                 O          Si            421   stishovite   \n1                 O          Si            421   stishovite   \n2                 O          Si            421   stishovite   \n3                 O          Si            421   stishovite   \n4                 O          Si            421   stishovite   \n...             ...         ...            ...          ...   \n119595            O          Si            183  beta-quartz   \n119596            O          Si            183  beta-quartz   \n119597            O          Si            183  beta-quartz   \n119598            O          Si            183  beta-quartz   \n119599            O          Si            183  beta-quartz   \n\n        sf_Si-O_e-6.629_rs-1.5  sf_Si-O_e-4.183_rs-1.888  \\\n0                    71.715255                 96.149520   \n1                    71.793836                 96.397413   \n2                    76.395436                 89.895552   \n3                    79.751773                 93.961960   \n4                    75.138004                 88.705371   \n...                        ...                       ...   \n119595               67.595398                 46.046864   \n119596               56.868232                 56.457828   \n119597               61.657097                 50.565191   \n119598               60.452455                 50.406911   \n119599               56.379539                 56.026473   \n\n        sf_Si-O_e-2.639_rs-2.377  sf_Si-O_e-1.665_rs-2.993  \\\n0                      73.447162                234.417434   \n1                      74.400054                245.726338   \n2                      64.044328                237.491462   \n3                      67.441486                238.479188   \n4                      70.786060                246.376390   \n...                          ...                       ...   \n119595                 14.139205                 57.202844   \n119596                 19.804917                 56.399656   \n119597                 16.745537                 58.759397   \n119598                 16.384585                 54.491277   \n119599                 19.777346                 60.269053   \n\n        sf_Si-O_e-1.051_rs-3.768  sf_Si-O_e-0.6629_rs-4.743  ...  \\\n0                     469.585341                 785.154896  ...   \n1                     468.764814                 765.644735  ...   \n2                     476.404977                 784.937569  ...   \n3                     472.321034                 776.807255  ...   \n4                     466.666355                 758.598954  ...   \n...                          ...                        ...  ...   \n119595                287.417771                 432.236954  ...   \n119596                286.145887                 435.700761  ...   \n119597                293.375807                 428.116155  ...   \n119598                295.193373                 431.532181  ...   \n119599                293.141748                 430.364421  ...   \n\n        sf_Si-Si_e-6.629_rs-1.5  sf_Si-Si_e-4.183_rs-1.888  \\\n0                      0.032896                   8.204649   \n1                      0.034341                   8.410230   \n2                      0.032895                   8.160441   \n3                      0.034340                   8.322539   \n4                      0.034092                   8.377055   \n...                         ...                        ...   \n119595                 0.000045                   0.492458   \n119596                 0.000002                   0.156781   \n119597                 0.000086                   0.737294   \n119598                 0.000044                   0.445315   \n119599                 0.000002                   0.155034   \n\n        sf_Si-Si_e-2.639_rs-2.377  sf_Si-Si_e-1.665_rs-2.993  \\\n0                      113.619026                 324.616284   \n1                      114.399824                 323.468571   \n2                      109.494536                 318.611978   \n3                      106.449022                 321.983792   \n4                      114.661054                 328.022853   \n...                           ...                        ...   \n119595                  35.681931                 129.012637   \n119596                  24.416329                 122.712398   \n119597                  38.041817                 123.353757   \n119598                  31.475839                 125.658812   \n119599                  24.227458                 122.928713   \n\n        sf_Si-Si_e-1.051_rs-3.768  sf_Si-Si_e-0.6629_rs-4.743  \\\n0                      431.476589                  773.092811   \n1                      431.563653                  774.572793   \n2                      443.666489                  772.975997   \n3                      461.211306                  776.638874   \n4                      439.951513                  768.437795   \n...                           ...                         ...   \n119595                 212.490797                  481.830431   \n119596                 219.143573                  492.688340   \n119597                 220.178369                  482.906086   \n119598                 223.425072                  480.239934   \n119599                 226.869096                  492.137674   \n\n        sf_Si-Si_e-0.4183_rs-5.972  sf_Si-Si_e-0.2639_rs-7.518  \\\n0                      1327.896292                 1923.382677   \n1                      1318.506067                 1925.791918   \n2                      1318.912055                 1928.209339   \n3                      1308.044308                 1914.641547   \n4                      1313.607194                 1921.775988   \n...                            ...                         ...   \n119595                  644.409803                 1007.681147   \n119596                  651.945322                 1012.869028   \n119597                  631.860692                 1006.568343   \n119598                  643.409909                 1012.134466   \n119599                  643.708082                 1012.214154   \n\n        sf_Si-Si_e-0.1665_rs-9.464  sf_Si-Si_e-0.1051_rs-11.91  \n0                      2209.134662                 1633.421016  \n1                      2220.633408                 1637.294211  \n2                      2212.778414                 1636.015764  \n3                      2213.773874                 1639.233388  \n4                      2215.622802                 1634.746799  \n...                            ...                         ...  \n119595                 1145.688153                  854.794908  \n119596                 1140.397398                  848.478147  \n119597                 1142.330570                  853.403631  \n119598                 1143.689557                  850.332558  \n119599                 1145.843960                  851.887748  \n\n[119600 rows x 24 columns]",
      "text/html": "<div>\n<style scoped>\n    .dataframe tbody tr th:only-of-type {\n        vertical-align: middle;\n    }\n\n    .dataframe tbody tr th {\n        vertical-align: top;\n    }\n\n    .dataframe thead th {\n        text-align: right;\n    }\n</style>\n<table border=\"1\" class=\"dataframe\">\n  <thead>\n    <tr style=\"text-align: right;\">\n      <th></th>\n      <th>another_atom</th>\n      <th>center_atom</th>\n      <th>structure_idx</th>\n      <th>structure</th>\n      <th>sf_Si-O_e-6.629_rs-1.5</th>\n      <th>sf_Si-O_e-4.183_rs-1.888</th>\n      <th>sf_Si-O_e-2.639_rs-2.377</th>\n      <th>sf_Si-O_e-1.665_rs-2.993</th>\n      <th>sf_Si-O_e-1.051_rs-3.768</th>\n      <th>sf_Si-O_e-0.6629_rs-4.743</th>\n      <th>...</th>\n      <th>sf_Si-Si_e-6.629_rs-1.5</th>\n      <th>sf_Si-Si_e-4.183_rs-1.888</th>\n      <th>sf_Si-Si_e-2.639_rs-2.377</th>\n      <th>sf_Si-Si_e-1.665_rs-2.993</th>\n      <th>sf_Si-Si_e-1.051_rs-3.768</th>\n      <th>sf_Si-Si_e-0.6629_rs-4.743</th>\n      <th>sf_Si-Si_e-0.4183_rs-5.972</th>\n      <th>sf_Si-Si_e-0.2639_rs-7.518</th>\n      <th>sf_Si-Si_e-0.1665_rs-9.464</th>\n      <th>sf_Si-Si_e-0.1051_rs-11.91</th>\n    </tr>\n  </thead>\n  <tbody>\n    <tr>\n      <th>0</th>\n      <td>O</td>\n      <td>Si</td>\n      <td>421</td>\n      <td>stishovite</td>\n      <td>71.715255</td>\n      <td>96.149520</td>\n      <td>73.447162</td>\n      <td>234.417434</td>\n      <td>469.585341</td>\n      <td>785.154896</td>\n      <td>...</td>\n      <td>0.032896</td>\n      <td>8.204649</td>\n      <td>113.619026</td>\n      <td>324.616284</td>\n      <td>431.476589</td>\n      <td>773.092811</td>\n      <td>1327.896292</td>\n      <td>1923.382677</td>\n      <td>2209.134662</td>\n      <td>1633.421016</td>\n    </tr>\n    <tr>\n      <th>1</th>\n      <td>O</td>\n      <td>Si</td>\n      <td>421</td>\n      <td>stishovite</td>\n      <td>71.793836</td>\n      <td>96.397413</td>\n      <td>74.400054</td>\n      <td>245.726338</td>\n      <td>468.764814</td>\n      <td>765.644735</td>\n      <td>...</td>\n      <td>0.034341</td>\n      <td>8.410230</td>\n      <td>114.399824</td>\n      <td>323.468571</td>\n      <td>431.563653</td>\n      <td>774.572793</td>\n      <td>1318.506067</td>\n      <td>1925.791918</td>\n      <td>2220.633408</td>\n      <td>1637.294211</td>\n    </tr>\n    <tr>\n      <th>2</th>\n      <td>O</td>\n      <td>Si</td>\n      <td>421</td>\n      <td>stishovite</td>\n      <td>76.395436</td>\n      <td>89.895552</td>\n      <td>64.044328</td>\n      <td>237.491462</td>\n      <td>476.404977</td>\n      <td>784.937569</td>\n      <td>...</td>\n      <td>0.032895</td>\n      <td>8.160441</td>\n      <td>109.494536</td>\n      <td>318.611978</td>\n      <td>443.666489</td>\n      <td>772.975997</td>\n      <td>1318.912055</td>\n      <td>1928.209339</td>\n      <td>2212.778414</td>\n      <td>1636.015764</td>\n    </tr>\n    <tr>\n      <th>3</th>\n      <td>O</td>\n      <td>Si</td>\n      <td>421</td>\n      <td>stishovite</td>\n      <td>79.751773</td>\n      <td>93.961960</td>\n      <td>67.441486</td>\n      <td>238.479188</td>\n      <td>472.321034</td>\n      <td>776.807255</td>\n      <td>...</td>\n      <td>0.034340</td>\n      <td>8.322539</td>\n      <td>106.449022</td>\n      <td>321.983792</td>\n      <td>461.211306</td>\n      <td>776.638874</td>\n      <td>1308.044308</td>\n      <td>1914.641547</td>\n      <td>2213.773874</td>\n      <td>1639.233388</td>\n    </tr>\n    <tr>\n      <th>4</th>\n      <td>O</td>\n      <td>Si</td>\n      <td>421</td>\n      <td>stishovite</td>\n      <td>75.138004</td>\n      <td>88.705371</td>\n      <td>70.786060</td>\n      <td>246.376390</td>\n      <td>466.666355</td>\n      <td>758.598954</td>\n      <td>...</td>\n      <td>0.034092</td>\n      <td>8.377055</td>\n      <td>114.661054</td>\n      <td>328.022853</td>\n      <td>439.951513</td>\n      <td>768.437795</td>\n      <td>1313.607194</td>\n      <td>1921.775988</td>\n      <td>2215.622802</td>\n      <td>1634.746799</td>\n    </tr>\n    <tr>\n      <th>...</th>\n      <td>...</td>\n      <td>...</td>\n      <td>...</td>\n      <td>...</td>\n      <td>...</td>\n      <td>...</td>\n      <td>...</td>\n      <td>...</td>\n      <td>...</td>\n      <td>...</td>\n      <td>...</td>\n      <td>...</td>\n      <td>...</td>\n      <td>...</td>\n      <td>...</td>\n      <td>...</td>\n      <td>...</td>\n      <td>...</td>\n      <td>...</td>\n      <td>...</td>\n      <td>...</td>\n    </tr>\n    <tr>\n      <th>119595</th>\n      <td>O</td>\n      <td>Si</td>\n      <td>183</td>\n      <td>beta-quartz</td>\n      <td>67.595398</td>\n      <td>46.046864</td>\n      <td>14.139205</td>\n      <td>57.202844</td>\n      <td>287.417771</td>\n      <td>432.236954</td>\n      <td>...</td>\n      <td>0.000045</td>\n      <td>0.492458</td>\n      <td>35.681931</td>\n      <td>129.012637</td>\n      <td>212.490797</td>\n      <td>481.830431</td>\n      <td>644.409803</td>\n      <td>1007.681147</td>\n      <td>1145.688153</td>\n      <td>854.794908</td>\n    </tr>\n    <tr>\n      <th>119596</th>\n      <td>O</td>\n      <td>Si</td>\n      <td>183</td>\n      <td>beta-quartz</td>\n      <td>56.868232</td>\n      <td>56.457828</td>\n      <td>19.804917</td>\n      <td>56.399656</td>\n      <td>286.145887</td>\n      <td>435.700761</td>\n      <td>...</td>\n      <td>0.000002</td>\n      <td>0.156781</td>\n      <td>24.416329</td>\n      <td>122.712398</td>\n      <td>219.143573</td>\n      <td>492.688340</td>\n      <td>651.945322</td>\n      <td>1012.869028</td>\n      <td>1140.397398</td>\n      <td>848.478147</td>\n    </tr>\n    <tr>\n      <th>119597</th>\n      <td>O</td>\n      <td>Si</td>\n      <td>183</td>\n      <td>beta-quartz</td>\n      <td>61.657097</td>\n      <td>50.565191</td>\n      <td>16.745537</td>\n      <td>58.759397</td>\n      <td>293.375807</td>\n      <td>428.116155</td>\n      <td>...</td>\n      <td>0.000086</td>\n      <td>0.737294</td>\n      <td>38.041817</td>\n      <td>123.353757</td>\n      <td>220.178369</td>\n      <td>482.906086</td>\n      <td>631.860692</td>\n      <td>1006.568343</td>\n      <td>1142.330570</td>\n      <td>853.403631</td>\n    </tr>\n    <tr>\n      <th>119598</th>\n      <td>O</td>\n      <td>Si</td>\n      <td>183</td>\n      <td>beta-quartz</td>\n      <td>60.452455</td>\n      <td>50.406911</td>\n      <td>16.384585</td>\n      <td>54.491277</td>\n      <td>295.193373</td>\n      <td>431.532181</td>\n      <td>...</td>\n      <td>0.000044</td>\n      <td>0.445315</td>\n      <td>31.475839</td>\n      <td>125.658812</td>\n      <td>223.425072</td>\n      <td>480.239934</td>\n      <td>643.409909</td>\n      <td>1012.134466</td>\n      <td>1143.689557</td>\n      <td>850.332558</td>\n    </tr>\n    <tr>\n      <th>119599</th>\n      <td>O</td>\n      <td>Si</td>\n      <td>183</td>\n      <td>beta-quartz</td>\n      <td>56.379539</td>\n      <td>56.026473</td>\n      <td>19.777346</td>\n      <td>60.269053</td>\n      <td>293.141748</td>\n      <td>430.364421</td>\n      <td>...</td>\n      <td>0.000002</td>\n      <td>0.155034</td>\n      <td>24.227458</td>\n      <td>122.928713</td>\n      <td>226.869096</td>\n      <td>492.137674</td>\n      <td>643.708082</td>\n      <td>1012.214154</td>\n      <td>1145.843960</td>\n      <td>851.887748</td>\n    </tr>\n  </tbody>\n</table>\n<p>119600 rows × 24 columns</p>\n</div>"
     },
     "execution_count": 15,
     "metadata": {},
     "output_type": "execute_result"
    }
   ],
   "source": [
    "merge_csv\n"
   ],
   "metadata": {
    "collapsed": false,
    "pycharm": {
     "name": "#%%\n"
    }
   }
  },
  {
   "cell_type": "code",
   "execution_count": 16,
   "outputs": [],
   "source": [
    "merge_csv.to_csv('/Users/y1u0d2/Desktop/Lab/result/sf/sf_csv/atom/concat_atom/concat_Si.csv', index=False)\n"
   ],
   "metadata": {
    "collapsed": false,
    "pycharm": {
     "name": "#%%\n"
    }
   }
  },
  {
   "cell_type": "code",
   "execution_count": null,
   "outputs": [],
   "source": [],
   "metadata": {
    "collapsed": false,
    "pycharm": {
     "name": "#%%\n"
    }
   }
  }
 ],
 "metadata": {
  "kernelspec": {
   "display_name": "Python 3",
   "language": "python",
   "name": "python3"
  },
  "language_info": {
   "codemirror_mode": {
    "name": "ipython",
    "version": 2
   },
   "file_extension": ".py",
   "mimetype": "text/x-python",
   "name": "python",
   "nbconvert_exporter": "python",
   "pygments_lexer": "ipython2",
   "version": "2.7.6"
  }
 },
 "nbformat": 4,
 "nbformat_minor": 0
}