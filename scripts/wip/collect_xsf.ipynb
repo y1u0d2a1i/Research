{
 "cells": [
  {
   "cell_type": "code",
   "execution_count": 13,
   "metadata": {
    "collapsed": true
   },
   "outputs": [],
   "source": [
    "import glob\n",
    "from utils.constants.dir_path import DataDirPath\n",
    "from utils.constants.constants import Constants\n",
    "import pandas as pd\n",
    "import random\n",
    "import os\n",
    "import shutil"
   ]
  },
  {
   "cell_type": "code",
   "execution_count": 14,
   "outputs": [],
   "source": [
    "xsf = DataDirPath.xsf()\n",
    "structures = Constants.structures()"
   ],
   "metadata": {
    "collapsed": false,
    "pycharm": {
     "name": "#%%\n"
    }
   }
  },
  {
   "cell_type": "code",
   "execution_count": 16,
   "outputs": [],
   "source": [
    "path_to_root = '/Users/y1u0d2/desktop/Lab/result/lammps/structure-optimization/04/data'\n",
    "for structure in structures:\n",
    "    xsf_files = glob.glob(f'{xsf}/data_{structure}/*.xsf')\n",
    "    xsf_files = random.sample(xsf_files, 10)\n",
    "    path_to_target = f'{path_to_root}/{structure}'\n",
    "    if not os.path.exists(path_to_target):\n",
    "        os.mkdir(path_to_target)\n",
    "    for file in xsf_files:\n",
    "        shutil.copy(file, path_to_target)"
   ],
   "metadata": {
    "collapsed": false,
    "pycharm": {
     "name": "#%%\n"
    }
   }
  },
  {
   "cell_type": "code",
   "execution_count": null,
   "outputs": [],
   "source": [],
   "metadata": {
    "collapsed": false,
    "pycharm": {
     "name": "#%%\n"
    }
   }
  }
 ],
 "metadata": {
  "kernelspec": {
   "display_name": "Python 3",
   "language": "python",
   "name": "python3"
  },
  "language_info": {
   "codemirror_mode": {
    "name": "ipython",
    "version": 2
   },
   "file_extension": ".py",
   "mimetype": "text/x-python",
   "name": "python",
   "nbconvert_exporter": "python",
   "pygments_lexer": "ipython2",
   "version": "2.7.6"
  }
 },
 "nbformat": 4,
 "nbformat_minor": 0
}